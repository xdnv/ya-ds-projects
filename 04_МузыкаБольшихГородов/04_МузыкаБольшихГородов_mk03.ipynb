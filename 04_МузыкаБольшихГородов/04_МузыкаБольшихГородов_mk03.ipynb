{
 "cells": [
  {
   "cell_type": "markdown",
   "metadata": {
    "id": "E0vqbgi9ay0H"
   },
   "source": [
    "# Сравнение музыкальных предпочтений пользователей Москвы и Санкт-Петербурга"
   ]
  },
  {
   "cell_type": "markdown",
   "metadata": {
    "id": "VUC88oWjTJw2"
   },
   "source": [
    "Заказчиком предоставлена выгрузка данных из сервиса Яндекс.Музыка.\n",
    "\n",
    "Заказчик предполагает, что особенности городов (Москва как деловая столица и Петербург -- как культурная) влияют на предпочтения жителей и их поведение на сервисе Яндекс.Музыка.\n",
    "\n",
    "Качество и состав данных файла неизвестны, необходим их предварительный анализ.\n",
    "После анализа значимые ошибки и искажения необходимо исправить.\n",
    "\n",
    "**Цель исследования**\n",
    "\n",
    "Необходимо проверить следующие гипотезы:\n",
    "1. В разные дни недели активность Активность пользователей зависит от дня недели. Причём в Москве и Петербурге это проявляется по-разному.\n",
    "2. Предпочтения пользователей в начале (утро понедельника) и конце (вечер пятницы) различаются между двумя городами. \n",
    "3. В Москве и Петербурге пользователи предпочитают разные жанры музыки. В Москве лидирует поп-музыка, а в Петербурге — русский рэп.\n",
    "\n",
    "**План исследования**\n",
    " 1. Обзор данных.\n",
    " 2. Предобработка данных.\n",
    " 3. Проверка гипотез."
   ]
  },
  {
   "cell_type": "markdown",
   "metadata": {
    "id": "Ml1hmfXC_Zcs"
   },
   "source": [
    "## Обзор данных\n",
    "\n",
    "Составляем первое впечатление о предоставленных данных."
   ]
  },
  {
   "cell_type": "code",
   "execution_count": 1,
   "metadata": {
    "id": "AXN7PHPN_Zcs"
   },
   "outputs": [],
   "source": [
    "# импорт библиотеки pandas\n",
    "import pandas as pd"
   ]
  },
  {
   "cell_type": "code",
   "execution_count": 2,
   "metadata": {
    "id": "fFVu7vqh_Zct"
   },
   "outputs": [],
   "source": [
    "# чтение файла с данными и сохранение в df\n",
    "df = pd.read_csv('/datasets/yandex_music_project.csv')"
   ]
  },
  {
   "cell_type": "code",
   "execution_count": 3,
   "metadata": {
    "id": "oWTVX3gW_Zct"
   },
   "outputs": [
    {
     "data": {
      "text/html": [
       "<div>\n",
       "<style scoped>\n",
       "    .dataframe tbody tr th:only-of-type {\n",
       "        vertical-align: middle;\n",
       "    }\n",
       "\n",
       "    .dataframe tbody tr th {\n",
       "        vertical-align: top;\n",
       "    }\n",
       "\n",
       "    .dataframe thead th {\n",
       "        text-align: right;\n",
       "    }\n",
       "</style>\n",
       "<table border=\"1\" class=\"dataframe\">\n",
       "  <thead>\n",
       "    <tr style=\"text-align: right;\">\n",
       "      <th></th>\n",
       "      <th>userID</th>\n",
       "      <th>Track</th>\n",
       "      <th>artist</th>\n",
       "      <th>genre</th>\n",
       "      <th>City</th>\n",
       "      <th>time</th>\n",
       "      <th>Day</th>\n",
       "    </tr>\n",
       "  </thead>\n",
       "  <tbody>\n",
       "    <tr>\n",
       "      <td>0</td>\n",
       "      <td>FFB692EC</td>\n",
       "      <td>Kamigata To Boots</td>\n",
       "      <td>The Mass Missile</td>\n",
       "      <td>rock</td>\n",
       "      <td>Saint-Petersburg</td>\n",
       "      <td>20:28:33</td>\n",
       "      <td>Wednesday</td>\n",
       "    </tr>\n",
       "    <tr>\n",
       "      <td>1</td>\n",
       "      <td>55204538</td>\n",
       "      <td>Delayed Because of Accident</td>\n",
       "      <td>Andreas Rönnberg</td>\n",
       "      <td>rock</td>\n",
       "      <td>Moscow</td>\n",
       "      <td>14:07:09</td>\n",
       "      <td>Friday</td>\n",
       "    </tr>\n",
       "    <tr>\n",
       "      <td>2</td>\n",
       "      <td>20EC38</td>\n",
       "      <td>Funiculì funiculà</td>\n",
       "      <td>Mario Lanza</td>\n",
       "      <td>pop</td>\n",
       "      <td>Saint-Petersburg</td>\n",
       "      <td>20:58:07</td>\n",
       "      <td>Wednesday</td>\n",
       "    </tr>\n",
       "    <tr>\n",
       "      <td>3</td>\n",
       "      <td>A3DD03C9</td>\n",
       "      <td>Dragons in the Sunset</td>\n",
       "      <td>Fire + Ice</td>\n",
       "      <td>folk</td>\n",
       "      <td>Saint-Petersburg</td>\n",
       "      <td>08:37:09</td>\n",
       "      <td>Monday</td>\n",
       "    </tr>\n",
       "    <tr>\n",
       "      <td>4</td>\n",
       "      <td>E2DC1FAE</td>\n",
       "      <td>Soul People</td>\n",
       "      <td>Space Echo</td>\n",
       "      <td>dance</td>\n",
       "      <td>Moscow</td>\n",
       "      <td>08:34:34</td>\n",
       "      <td>Monday</td>\n",
       "    </tr>\n",
       "    <tr>\n",
       "      <td>5</td>\n",
       "      <td>842029A1</td>\n",
       "      <td>Преданная</td>\n",
       "      <td>IMPERVTOR</td>\n",
       "      <td>rusrap</td>\n",
       "      <td>Saint-Petersburg</td>\n",
       "      <td>13:09:41</td>\n",
       "      <td>Friday</td>\n",
       "    </tr>\n",
       "    <tr>\n",
       "      <td>6</td>\n",
       "      <td>4CB90AA5</td>\n",
       "      <td>True</td>\n",
       "      <td>Roman Messer</td>\n",
       "      <td>dance</td>\n",
       "      <td>Moscow</td>\n",
       "      <td>13:00:07</td>\n",
       "      <td>Wednesday</td>\n",
       "    </tr>\n",
       "    <tr>\n",
       "      <td>7</td>\n",
       "      <td>F03E1C1F</td>\n",
       "      <td>Feeling This Way</td>\n",
       "      <td>Polina Griffith</td>\n",
       "      <td>dance</td>\n",
       "      <td>Moscow</td>\n",
       "      <td>20:47:49</td>\n",
       "      <td>Wednesday</td>\n",
       "    </tr>\n",
       "    <tr>\n",
       "      <td>8</td>\n",
       "      <td>8FA1D3BE</td>\n",
       "      <td>И вновь продолжается бой</td>\n",
       "      <td>NaN</td>\n",
       "      <td>ruspop</td>\n",
       "      <td>Moscow</td>\n",
       "      <td>09:17:40</td>\n",
       "      <td>Friday</td>\n",
       "    </tr>\n",
       "    <tr>\n",
       "      <td>9</td>\n",
       "      <td>E772D5C0</td>\n",
       "      <td>Pessimist</td>\n",
       "      <td>NaN</td>\n",
       "      <td>dance</td>\n",
       "      <td>Saint-Petersburg</td>\n",
       "      <td>21:20:49</td>\n",
       "      <td>Wednesday</td>\n",
       "    </tr>\n",
       "  </tbody>\n",
       "</table>\n",
       "</div>"
      ],
      "text/plain": [
       "     userID                        Track            artist   genre  \\\n",
       "0  FFB692EC            Kamigata To Boots  The Mass Missile    rock   \n",
       "1  55204538  Delayed Because of Accident  Andreas Rönnberg    rock   \n",
       "2    20EC38            Funiculì funiculà       Mario Lanza     pop   \n",
       "3  A3DD03C9        Dragons in the Sunset        Fire + Ice    folk   \n",
       "4  E2DC1FAE                  Soul People        Space Echo   dance   \n",
       "5  842029A1                    Преданная         IMPERVTOR  rusrap   \n",
       "6  4CB90AA5                         True      Roman Messer   dance   \n",
       "7  F03E1C1F             Feeling This Way   Polina Griffith   dance   \n",
       "8  8FA1D3BE     И вновь продолжается бой               NaN  ruspop   \n",
       "9  E772D5C0                    Pessimist               NaN   dance   \n",
       "\n",
       "             City        time        Day  \n",
       "0  Saint-Petersburg  20:28:33  Wednesday  \n",
       "1            Moscow  14:07:09     Friday  \n",
       "2  Saint-Petersburg  20:58:07  Wednesday  \n",
       "3  Saint-Petersburg  08:37:09     Monday  \n",
       "4            Moscow  08:34:34     Monday  \n",
       "5  Saint-Petersburg  13:09:41     Friday  \n",
       "6            Moscow  13:00:07  Wednesday  \n",
       "7            Moscow  20:47:49  Wednesday  \n",
       "8            Moscow  09:17:40     Friday  \n",
       "9  Saint-Petersburg  21:20:49  Wednesday  "
      ]
     },
     "metadata": {},
     "output_type": "display_data"
    }
   ],
   "source": [
    "# получение первых 10 строк таблицы df\n",
    "display(df.head(10))"
   ]
  },
  {
   "cell_type": "code",
   "execution_count": 4,
   "metadata": {
    "id": "DSf2kIb-_Zct"
   },
   "outputs": [
    {
     "name": "stdout",
     "output_type": "stream",
     "text": [
      "<class 'pandas.core.frame.DataFrame'>\n",
      "RangeIndex: 65079 entries, 0 to 65078\n",
      "Data columns (total 7 columns):\n",
      "  userID    65079 non-null object\n",
      "Track       63848 non-null object\n",
      "artist      57876 non-null object\n",
      "genre       63881 non-null object\n",
      "  City      65079 non-null object\n",
      "time        65079 non-null object\n",
      "Day         65079 non-null object\n",
      "dtypes: object(7)\n",
      "memory usage: 3.5+ MB\n"
     ]
    }
   ],
   "source": [
    "# получение общей информации о данных в таблице df\n",
    "df.info()"
   ]
  },
  {
   "cell_type": "markdown",
   "metadata": {
    "id": "TaQ2Iwbr_Zct"
   },
   "source": [
    "Итак, в загруженной таблице - семь столбцов. Тип данных во всех столбцах — `object`, то есть они строковые.\n",
    "\n",
    "Согласно документации к данным:\n",
    "* `userID` — идентификатор пользователя;\n",
    "* `Track` — название трека;  \n",
    "* `artist` — имя исполнителя;\n",
    "* `genre` — название жанра;\n",
    "* `City` — город пользователя;\n",
    "* `time` — время начала прослушивания;\n",
    "* `Day` — день недели.\n",
    "\n",
    "В названиях колонок видны три нарушения стиля:\n",
    "* 1. Строчные буквы сочетаются с прописными в столбцах userID, Track, City, Day.\n",
    "* 2. Встречаются пробелы в столбцах userID и City\n",
    "* 3. Столбец 'userID' корректно назван в нотации Camel Case. Для работы в рамках проекта, при переводе в  неявно требуемую нотацию Snake Case, следует его переименвоать в 'user_id'.\n",
    "\n",
    "Количество значений в столбцах различается. Значит, в данных есть пропущенные значения."
   ]
  },
  {
   "cell_type": "markdown",
   "metadata": {
    "id": "MCB6-dXG_Zct"
   },
   "source": [
    "**Выводы**\n",
    "\n",
    "В каждой строке таблицы — данные о прослушанном треке. Часть колонок описывает саму композицию: название, исполнителя и жанр. Остальные данные рассказывают о пользователе: из какого он города, когда он слушал музыку. \n",
    "\n",
    "Предварительно можно утверждать, что, данных достаточно для проверки гипотез. Но встречаются пропуски в данных, а в названиях колонок — расхождения с хорошим стилем.\n",
    "\n",
    "Чтобы двигаться дальше, нужно устранить проблемы в данных."
   ]
  },
  {
   "cell_type": "markdown",
   "metadata": {
    "id": "SjYF6Ub9_Zct"
   },
   "source": [
    "## Предобработка данных\n",
    "Переименование столбцов, проверка на дубликаты."
   ]
  },
  {
   "cell_type": "markdown",
   "metadata": {
    "id": "dIaKXr29_Zct"
   },
   "source": [
    "### Стиль заголовков"
   ]
  },
  {
   "cell_type": "code",
   "execution_count": 5,
   "metadata": {
    "id": "oKOTdF_Q_Zct"
   },
   "outputs": [
    {
     "data": {
      "text/plain": [
       "Index(['  userID', 'Track', 'artist', 'genre', '  City  ', 'time', 'Day'], dtype='object')"
      ]
     },
     "metadata": {},
     "output_type": "display_data"
    }
   ],
   "source": [
    "# перечень названий столбцов таблицы df\n",
    "display(df.columns)"
   ]
  },
  {
   "cell_type": "code",
   "execution_count": 6,
   "metadata": {
    "id": "ISlFqs5y_Zct"
   },
   "outputs": [],
   "source": [
    "# переименование столбцов\n",
    "column_rename = {\n",
    "    '  userID': 'user_id',\n",
    "    'Track': 'track',\n",
    "    '  City  ': 'city',\n",
    "    'Day': 'day'\n",
    "}\n",
    "df = df.rename(columns=column_rename)"
   ]
  },
  {
   "cell_type": "code",
   "execution_count": 7,
   "metadata": {
    "id": "d4NOAmTW_Zct"
   },
   "outputs": [
    {
     "data": {
      "text/plain": [
       "Index(['user_id', 'track', 'artist', 'genre', 'city', 'time', 'day'], dtype='object')"
      ]
     },
     "metadata": {},
     "output_type": "display_data"
    }
   ],
   "source": [
    "# проверка результатов - перечень названий столбцов\n",
    "display(df.columns)"
   ]
  },
  {
   "cell_type": "markdown",
   "metadata": {
    "id": "5ISfbcfY_Zct"
   },
   "source": [
    "### Пропуски значений"
   ]
  },
  {
   "cell_type": "code",
   "execution_count": 8,
   "metadata": {
    "id": "RskX29qr_Zct"
   },
   "outputs": [
    {
     "data": {
      "text/plain": [
       "user_id       0\n",
       "track      1231\n",
       "artist     7203\n",
       "genre      1198\n",
       "city          0\n",
       "time          0\n",
       "day           0\n",
       "dtype: int64"
      ]
     },
     "metadata": {},
     "output_type": "display_data"
    }
   ],
   "source": [
    "# подсчёт пропусков\n",
    "display(df.isna().sum())"
   ]
  },
  {
   "cell_type": "markdown",
   "metadata": {
    "id": "qubhgnlO_Zct"
   },
   "source": [
    "Пропуски в столбцах `track` и `artist` не критичны для текущего исследования.\n",
    "\n",
    "Пропуски в `genre` будут влиять на результат анализа. Так как установить причину пропусков и восстановить данные с помощью заказчика невозможно, придётся:\n",
    "* заполнить и эти пропуски явными обозначениями,\n",
    "* оценить, насколько они повредят расчётам. "
   ]
  },
  {
   "cell_type": "markdown",
   "metadata": {
    "id": "fSv2laPA_Zct"
   },
   "source": [
    "Пропущенные значения в столбцах `track`, `artist` и `genre` заменим на строку `'unknown'`."
   ]
  },
  {
   "cell_type": "code",
   "execution_count": 9,
   "metadata": {
    "id": "KplB5qWs_Zct"
   },
   "outputs": [],
   "source": [
    "# перебор названий столбцов в цикле и замена пропущенных значений на 'unknown'\n",
    "columns_to_replace = ['track', 'artist', 'genre']\n",
    "for column in columns_to_replace:\n",
    "    df[column] = df[column].fillna('unknown')"
   ]
  },
  {
   "cell_type": "markdown",
   "metadata": {
    "id": "Ilsm-MZo_Zct"
   },
   "source": [
    "Повторно проверим наличие пропусков."
   ]
  },
  {
   "cell_type": "code",
   "execution_count": 10,
   "metadata": {
    "id": "Tq4nYRX4_Zct"
   },
   "outputs": [
    {
     "name": "stdout",
     "output_type": "stream",
     "text": [
      "user_id    0\n",
      "track      0\n",
      "artist     0\n",
      "genre      0\n",
      "city       0\n",
      "time       0\n",
      "day        0\n",
      "dtype: int64\n"
     ]
    }
   ],
   "source": [
    "# подсчёт пропусков\n",
    "print(df.isna().sum())"
   ]
  },
  {
   "cell_type": "markdown",
   "metadata": {
    "id": "BWKRtBJ3_Zct"
   },
   "source": [
    "### Дубликаты"
   ]
  },
  {
   "cell_type": "code",
   "execution_count": 11,
   "metadata": {
    "id": "36eES_S0_Zct"
   },
   "outputs": [
    {
     "data": {
      "text/plain": [
       "3826"
      ]
     },
     "metadata": {},
     "output_type": "display_data"
    }
   ],
   "source": [
    "# подсчёт явных дубликатов\n",
    "display(df.duplicated().sum())"
   ]
  },
  {
   "cell_type": "code",
   "execution_count": 12,
   "metadata": {
    "id": "exFHq6tt_Zct"
   },
   "outputs": [],
   "source": [
    "# удаление явных дубликатов (с удалением старых индексов и формированием новых)\n",
    "df = df.drop_duplicates().reset_index(drop=True)"
   ]
  },
  {
   "cell_type": "code",
   "execution_count": 13,
   "metadata": {
    "id": "-8PuNWQ0_Zct"
   },
   "outputs": [
    {
     "data": {
      "text/plain": [
       "0"
      ]
     },
     "metadata": {},
     "output_type": "display_data"
    }
   ],
   "source": [
    "# проверка на отсутствие дубликатов\n",
    "display(df.duplicated().sum())"
   ]
  },
  {
   "cell_type": "markdown",
   "metadata": {
    "id": "QlFBsxAr_Zct"
   },
   "source": [
    "Избавимся от неявных дубликатов в колонке `genre`.\n",
    "\n",
    "Выведем на экран список уникальных названий жанров, отсортированный в алфавитном порядке."
   ]
  },
  {
   "cell_type": "code",
   "execution_count": 14,
   "metadata": {
    "id": "JIUcqzZN_Zct"
   },
   "outputs": [
    {
     "data": {
      "text/plain": [
       "array(['acid', 'acoustic', 'action', 'adult', 'africa', 'afrikaans',\n",
       "       'alternative', 'alternativepunk', 'ambient', 'americana',\n",
       "       'animated', 'anime', 'arabesk', 'arabic', 'arena',\n",
       "       'argentinetango', 'art', 'audiobook', 'author', 'avantgarde',\n",
       "       'axé', 'baile', 'balkan', 'beats', 'bigroom', 'black', 'bluegrass',\n",
       "       'blues', 'bollywood', 'bossa', 'brazilian', 'breakbeat', 'breaks',\n",
       "       'broadway', 'cantautori', 'cantopop', 'canzone', 'caribbean',\n",
       "       'caucasian', 'celtic', 'chamber', 'chanson', 'children', 'chill',\n",
       "       'chinese', 'choral', 'christian', 'christmas', 'classical',\n",
       "       'classicmetal', 'club', 'colombian', 'comedy', 'conjazz',\n",
       "       'contemporary', 'country', 'cuban', 'dance', 'dancehall',\n",
       "       'dancepop', 'dark', 'death', 'deep', 'deutschrock', 'deutschspr',\n",
       "       'dirty', 'disco', 'dnb', 'documentary', 'downbeat', 'downtempo',\n",
       "       'drum', 'dub', 'dubstep', 'eastern', 'easy', 'electronic',\n",
       "       'electropop', 'emo', 'entehno', 'epicmetal', 'estrada', 'ethnic',\n",
       "       'eurofolk', 'european', 'experimental', 'extrememetal', 'fado',\n",
       "       'fairytail', 'film', 'fitness', 'flamenco', 'folk', 'folklore',\n",
       "       'folkmetal', 'folkrock', 'folktronica', 'forró', 'frankreich',\n",
       "       'französisch', 'french', 'funk', 'future', 'gangsta', 'garage',\n",
       "       'german', 'ghazal', 'gitarre', 'glitch', 'gospel', 'gothic',\n",
       "       'grime', 'grunge', 'gypsy', 'handsup', \"hard'n'heavy\", 'hardcore',\n",
       "       'hardstyle', 'hardtechno', 'hip', 'hip-hop', 'hiphop',\n",
       "       'historisch', 'holiday', 'hop', 'horror', 'house', 'hymn', 'idm',\n",
       "       'independent', 'indian', 'indie', 'indipop', 'industrial',\n",
       "       'inspirational', 'instrumental', 'international', 'irish', 'jam',\n",
       "       'japanese', 'jazz', 'jewish', 'jpop', 'jungle', 'k-pop',\n",
       "       'karadeniz', 'karaoke', 'kayokyoku', 'korean', 'laiko', 'latin',\n",
       "       'latino', 'leftfield', 'local', 'lounge', 'loungeelectronic',\n",
       "       'lovers', 'malaysian', 'mandopop', 'marschmusik', 'meditative',\n",
       "       'mediterranean', 'melodic', 'metal', 'metalcore', 'mexican',\n",
       "       'middle', 'minimal', 'miscellaneous', 'modern', 'mood', 'mpb',\n",
       "       'muslim', 'native', 'neoklassik', 'neue', 'new', 'newage',\n",
       "       'newwave', 'nu', 'nujazz', 'numetal', 'oceania', 'old', 'opera',\n",
       "       'orchestral', 'other', 'piano', 'podcasts', 'pop', 'popdance',\n",
       "       'popelectronic', 'popeurodance', 'poprussian', 'post',\n",
       "       'posthardcore', 'postrock', 'power', 'progmetal', 'progressive',\n",
       "       'psychedelic', 'punjabi', 'punk', 'quebecois', 'ragga', 'ram',\n",
       "       'rancheras', 'rap', 'rave', 'reggae', 'reggaeton', 'regional',\n",
       "       'relax', 'religious', 'retro', 'rhythm', 'rnb', 'rnr', 'rock',\n",
       "       'rockabilly', 'rockalternative', 'rockindie', 'rockother',\n",
       "       'romance', 'roots', 'ruspop', 'rusrap', 'rusrock', 'russian',\n",
       "       'salsa', 'samba', 'scenic', 'schlager', 'self', 'sertanejo',\n",
       "       'shanson', 'shoegazing', 'showtunes', 'singer', 'ska', 'skarock',\n",
       "       'slow', 'smooth', 'soft', 'soul', 'soulful', 'sound', 'soundtrack',\n",
       "       'southern', 'specialty', 'speech', 'spiritual', 'sport',\n",
       "       'stonerrock', 'surf', 'swing', 'synthpop', 'synthrock',\n",
       "       'sängerportrait', 'tango', 'tanzorchester', 'taraftar', 'tatar',\n",
       "       'tech', 'techno', 'teen', 'thrash', 'top', 'traditional',\n",
       "       'tradjazz', 'trance', 'tribal', 'trip', 'triphop', 'tropical',\n",
       "       'türk', 'türkçe', 'ukrrock', 'unknown', 'urban', 'uzbek',\n",
       "       'variété', 'vi', 'videogame', 'vocal', 'western', 'world',\n",
       "       'worldbeat', 'ïîï', 'электроника'], dtype=object)"
      ]
     },
     "metadata": {},
     "output_type": "display_data"
    }
   ],
   "source": [
    "# Просмотр уникальных названий жанров\n",
    "df_genre = df['genre'].sort_values()\n",
    "display(df_genre.unique())"
   ]
  },
  {
   "cell_type": "code",
   "execution_count": 15,
   "metadata": {
    "id": "ErNDkmns_Zct"
   },
   "outputs": [],
   "source": [
    "# Функция для замены неявных дубликатов\n",
    "def replace_wrong_genres(wrong_genres, correct_genre):\n",
    "    for value in wrong_genres:\n",
    "        df['genre'] = df['genre'].replace(value, correct_genre)"
   ]
  },
  {
   "cell_type": "code",
   "execution_count": 16,
   "metadata": {
    "id": "YN5i2hpmSo09"
   },
   "outputs": [],
   "source": [
    "# Устранение неявных дубликатов\n",
    "replace_wrong_genres(['hip', 'hop', 'hip-hop'], 'hiphop')\n",
    "# также можно заменить \"электронику\", но этого нет в условии задачи"
   ]
  },
  {
   "cell_type": "code",
   "execution_count": 17,
   "metadata": {
    "id": "wvixALnFG15m"
   },
   "outputs": [
    {
     "data": {
      "text/plain": [
       "array(['acid', 'acoustic', 'action', 'adult', 'africa', 'afrikaans',\n",
       "       'alternative', 'alternativepunk', 'ambient', 'americana',\n",
       "       'animated', 'anime', 'arabesk', 'arabic', 'arena',\n",
       "       'argentinetango', 'art', 'audiobook', 'author', 'avantgarde',\n",
       "       'axé', 'baile', 'balkan', 'beats', 'bigroom', 'black', 'bluegrass',\n",
       "       'blues', 'bollywood', 'bossa', 'brazilian', 'breakbeat', 'breaks',\n",
       "       'broadway', 'cantautori', 'cantopop', 'canzone', 'caribbean',\n",
       "       'caucasian', 'celtic', 'chamber', 'chanson', 'children', 'chill',\n",
       "       'chinese', 'choral', 'christian', 'christmas', 'classical',\n",
       "       'classicmetal', 'club', 'colombian', 'comedy', 'conjazz',\n",
       "       'contemporary', 'country', 'cuban', 'dance', 'dancehall',\n",
       "       'dancepop', 'dark', 'death', 'deep', 'deutschrock', 'deutschspr',\n",
       "       'dirty', 'disco', 'dnb', 'documentary', 'downbeat', 'downtempo',\n",
       "       'drum', 'dub', 'dubstep', 'eastern', 'easy', 'electronic',\n",
       "       'electropop', 'emo', 'entehno', 'epicmetal', 'estrada', 'ethnic',\n",
       "       'eurofolk', 'european', 'experimental', 'extrememetal', 'fado',\n",
       "       'fairytail', 'film', 'fitness', 'flamenco', 'folk', 'folklore',\n",
       "       'folkmetal', 'folkrock', 'folktronica', 'forró', 'frankreich',\n",
       "       'französisch', 'french', 'funk', 'future', 'gangsta', 'garage',\n",
       "       'german', 'ghazal', 'gitarre', 'glitch', 'gospel', 'gothic',\n",
       "       'grime', 'grunge', 'gypsy', 'handsup', \"hard'n'heavy\", 'hardcore',\n",
       "       'hardstyle', 'hardtechno', 'hiphop', 'historisch', 'holiday',\n",
       "       'horror', 'house', 'hymn', 'idm', 'independent', 'indian', 'indie',\n",
       "       'indipop', 'industrial', 'inspirational', 'instrumental',\n",
       "       'international', 'irish', 'jam', 'japanese', 'jazz', 'jewish',\n",
       "       'jpop', 'jungle', 'k-pop', 'karadeniz', 'karaoke', 'kayokyoku',\n",
       "       'korean', 'laiko', 'latin', 'latino', 'leftfield', 'local',\n",
       "       'lounge', 'loungeelectronic', 'lovers', 'malaysian', 'mandopop',\n",
       "       'marschmusik', 'meditative', 'mediterranean', 'melodic', 'metal',\n",
       "       'metalcore', 'mexican', 'middle', 'minimal', 'miscellaneous',\n",
       "       'modern', 'mood', 'mpb', 'muslim', 'native', 'neoklassik', 'neue',\n",
       "       'new', 'newage', 'newwave', 'nu', 'nujazz', 'numetal', 'oceania',\n",
       "       'old', 'opera', 'orchestral', 'other', 'piano', 'podcasts', 'pop',\n",
       "       'popdance', 'popelectronic', 'popeurodance', 'poprussian', 'post',\n",
       "       'posthardcore', 'postrock', 'power', 'progmetal', 'progressive',\n",
       "       'psychedelic', 'punjabi', 'punk', 'quebecois', 'ragga', 'ram',\n",
       "       'rancheras', 'rap', 'rave', 'reggae', 'reggaeton', 'regional',\n",
       "       'relax', 'religious', 'retro', 'rhythm', 'rnb', 'rnr', 'rock',\n",
       "       'rockabilly', 'rockalternative', 'rockindie', 'rockother',\n",
       "       'romance', 'roots', 'ruspop', 'rusrap', 'rusrock', 'russian',\n",
       "       'salsa', 'samba', 'scenic', 'schlager', 'self', 'sertanejo',\n",
       "       'shanson', 'shoegazing', 'showtunes', 'singer', 'ska', 'skarock',\n",
       "       'slow', 'smooth', 'soft', 'soul', 'soulful', 'sound', 'soundtrack',\n",
       "       'southern', 'specialty', 'speech', 'spiritual', 'sport',\n",
       "       'stonerrock', 'surf', 'swing', 'synthpop', 'synthrock',\n",
       "       'sängerportrait', 'tango', 'tanzorchester', 'taraftar', 'tatar',\n",
       "       'tech', 'techno', 'teen', 'thrash', 'top', 'traditional',\n",
       "       'tradjazz', 'trance', 'tribal', 'trip', 'triphop', 'tropical',\n",
       "       'türk', 'türkçe', 'ukrrock', 'unknown', 'urban', 'uzbek',\n",
       "       'variété', 'vi', 'videogame', 'vocal', 'western', 'world',\n",
       "       'worldbeat', 'ïîï', 'электроника'], dtype=object)"
      ]
     },
     "metadata": {},
     "output_type": "display_data"
    }
   ],
   "source": [
    "# Проверка на неявные дубликаты\n",
    "df_genre = df['genre'].sort_values()\n",
    "display(df_genre.unique())"
   ]
  },
  {
   "cell_type": "markdown",
   "metadata": {
    "id": "jz6a9-7HQUDd"
   },
   "source": [
    "**Выводы**\n",
    "\n",
    "Предобработка обнаружила три проблемы в данных:\n",
    "\n",
    "- нарушения в стиле заголовков,\n",
    "- пропущенные значения,\n",
    "- дубликаты — явные и неявные.\n",
    "\n",
    "Заголовки были исправлены для упрощения работы с таблицей.\n",
    "Дубликаты были удалены или скорректированы.\n",
    "\n",
    "Пропущенные значения заменены на `'unknown'`.\n",
    "\n",
    "Данный этап можно сичтать завершённым."
   ]
  },
  {
   "cell_type": "markdown",
   "metadata": {
    "id": "WttZHXH0SqKk"
   },
   "source": [
    "## Проверка гипотез"
   ]
  },
  {
   "cell_type": "markdown",
   "metadata": {
    "id": "Im936VVi_Zcu"
   },
   "source": [
    "### Сравнение поведения пользователей двух столиц"
   ]
  },
  {
   "cell_type": "markdown",
   "metadata": {
    "id": "nwt_MuaL_Zcu"
   },
   "source": [
    "Первая гипотеза утверждает, что пользователи по-разному слушают музыку в Москве и Санкт-Петербурге.\n",
    "Проверим это предположение по данным о трёх днях недели — понедельнике, среде и пятнице.\n",
    "\n",
    "Для этого:\n",
    "* Разделим пользователей Москвы и Санкт-Петербурга\n",
    "* Сравним, сколько треков послушала каждая выделенная группа пользователей в понедельник, среду и пятницу."
   ]
  },
  {
   "cell_type": "code",
   "execution_count": 18,
   "metadata": {
    "id": "0_Qs96oh_Zcu"
   },
   "outputs": [
    {
     "data": {
      "text/plain": [
       "city\n",
       "Moscow              42741\n",
       "Saint-Petersburg    18512\n",
       "Name: user_id, dtype: int64"
      ]
     },
     "execution_count": 18,
     "metadata": {},
     "output_type": "execute_result"
    }
   ],
   "source": [
    "# Подсчёт прослушиваний в каждом городе\n",
    "df.groupby('city')['user_id'].count()"
   ]
  },
  {
   "cell_type": "markdown",
   "metadata": {
    "id": "dzli3w8o_Zcu"
   },
   "source": [
    "В Москве прослушиваний больше, чем в Петербурге. Но и самих пользователей в Москве больше.\n",
    "\n",
    "Сгруппируем данные по дню недели и подсчитаем прослушивания в понедельник, среду и пятницу."
   ]
  },
  {
   "cell_type": "code",
   "execution_count": 19,
   "metadata": {
    "id": "uZMKjiJz_Zcu"
   },
   "outputs": [
    {
     "data": {
      "text/plain": [
       "day\n",
       "Friday       21840\n",
       "Monday       21354\n",
       "Wednesday    18059\n",
       "Name: user_id, dtype: int64"
      ]
     },
     "execution_count": 19,
     "metadata": {},
     "output_type": "execute_result"
    }
   ],
   "source": [
    "# Подсчёт прослушиваний в каждый из трёх дней\n",
    "df.groupby('day')['user_id'].count()"
   ]
  },
  {
   "cell_type": "markdown",
   "metadata": {
    "id": "cC2tNrlL_Zcu"
   },
   "source": [
    "В среднем, пользователи из двух городов менее активны по средам. Сравним пользователей из разных городов в эти дни."
   ]
  },
  {
   "cell_type": "code",
   "execution_count": 20,
   "metadata": {
    "id": "Nz3GdQB1_Zcu"
   },
   "outputs": [],
   "source": [
    "# <создание функции number_tracks()>\n",
    "def number_tracks(day, city):\n",
    "    df_filtered = df[df['day'] == day]\n",
    "    df_filtered = df_filtered[df_filtered['city'] == city]\n",
    "    track_list_count = df_filtered['user_id'].count()\n",
    "    return track_list_count"
   ]
  },
  {
   "cell_type": "code",
   "execution_count": 21,
   "metadata": {
    "id": "rJcRATNQ_Zcu"
   },
   "outputs": [
    {
     "name": "stdout",
     "output_type": "stream",
     "text": [
      "15740\n"
     ]
    }
   ],
   "source": [
    "# количество прослушиваний в Москве по понедельникам\n",
    "data_msk_monday = number_tracks('Monday', 'Moscow')\n",
    "print(data_msk_monday)"
   ]
  },
  {
   "cell_type": "code",
   "execution_count": 22,
   "metadata": {
    "id": "hq_ncZ5T_Zcu"
   },
   "outputs": [
    {
     "name": "stdout",
     "output_type": "stream",
     "text": [
      "5614\n"
     ]
    }
   ],
   "source": [
    "# количество прослушиваний в Санкт-Петербурге по понедельникам\n",
    "data_spb_monday = number_tracks('Monday', 'Saint-Petersburg')\n",
    "print(data_spb_monday)"
   ]
  },
  {
   "cell_type": "code",
   "execution_count": 23,
   "metadata": {
    "id": "_NTy2VPU_Zcu"
   },
   "outputs": [
    {
     "name": "stdout",
     "output_type": "stream",
     "text": [
      "11056\n"
     ]
    }
   ],
   "source": [
    "# количество прослушиваний в Москве по средам\n",
    "data_msk_wednesday = number_tracks('Wednesday', 'Moscow')\n",
    "print(data_msk_wednesday)"
   ]
  },
  {
   "cell_type": "code",
   "execution_count": 24,
   "metadata": {
    "id": "j2y3TAwo_Zcu"
   },
   "outputs": [
    {
     "name": "stdout",
     "output_type": "stream",
     "text": [
      "7003\n"
     ]
    }
   ],
   "source": [
    "# количество прослушиваний в Санкт-Петербурге по средам\n",
    "data_spb_wednesday = number_tracks('Wednesday', 'Saint-Petersburg')\n",
    "print(data_spb_wednesday)"
   ]
  },
  {
   "cell_type": "code",
   "execution_count": 25,
   "metadata": {
    "id": "vYDw5u_K_Zcu"
   },
   "outputs": [
    {
     "name": "stdout",
     "output_type": "stream",
     "text": [
      "15945\n"
     ]
    }
   ],
   "source": [
    "# количество прослушиваний в Москве по пятницам\n",
    "data_msk_friday = number_tracks('Friday', 'Moscow')\n",
    "print(data_msk_friday)"
   ]
  },
  {
   "cell_type": "code",
   "execution_count": 26,
   "metadata": {
    "id": "8_yzFtW3_Zcu"
   },
   "outputs": [
    {
     "name": "stdout",
     "output_type": "stream",
     "text": [
      "5895\n"
     ]
    }
   ],
   "source": [
    "# количество прослушиваний в Санкт-Петербурге по пятницам\n",
    "data_spb_friday = number_tracks('Friday', 'Saint-Petersburg')\n",
    "print(data_spb_friday)"
   ]
  },
  {
   "cell_type": "markdown",
   "metadata": {
    "id": "7QXffbO-_Zcu"
   },
   "source": [
    "Соберём данные в таблицу"
   ]
  },
  {
   "cell_type": "code",
   "execution_count": 27,
   "metadata": {
    "id": "APAcLpOr_Zcu"
   },
   "outputs": [
    {
     "data": {
      "text/html": [
       "<div>\n",
       "<style scoped>\n",
       "    .dataframe tbody tr th:only-of-type {\n",
       "        vertical-align: middle;\n",
       "    }\n",
       "\n",
       "    .dataframe tbody tr th {\n",
       "        vertical-align: top;\n",
       "    }\n",
       "\n",
       "    .dataframe thead th {\n",
       "        text-align: right;\n",
       "    }\n",
       "</style>\n",
       "<table border=\"1\" class=\"dataframe\">\n",
       "  <thead>\n",
       "    <tr style=\"text-align: right;\">\n",
       "      <th></th>\n",
       "      <th>city</th>\n",
       "      <th>monday</th>\n",
       "      <th>wednesday</th>\n",
       "      <th>friday</th>\n",
       "    </tr>\n",
       "  </thead>\n",
       "  <tbody>\n",
       "    <tr>\n",
       "      <td>0</td>\n",
       "      <td>Moscow</td>\n",
       "      <td>15740</td>\n",
       "      <td>11056</td>\n",
       "      <td>15945</td>\n",
       "    </tr>\n",
       "    <tr>\n",
       "      <td>1</td>\n",
       "      <td>Saint-Petersburg</td>\n",
       "      <td>5614</td>\n",
       "      <td>7003</td>\n",
       "      <td>5895</td>\n",
       "    </tr>\n",
       "  </tbody>\n",
       "</table>\n",
       "</div>"
      ],
      "text/plain": [
       "               city  monday  wednesday  friday\n",
       "0            Moscow   15740      11056   15945\n",
       "1  Saint-Petersburg    5614       7003    5895"
      ]
     },
     "metadata": {},
     "output_type": "display_data"
    }
   ],
   "source": [
    "# Таблица с результатами\n",
    "columns = ['city', 'monday', 'wednesday', 'friday']\n",
    "data = [\n",
    "    ['Moscow', data_msk_monday, data_msk_wednesday, data_msk_friday],\n",
    "    ['Saint-Petersburg', data_spb_monday, data_spb_wednesday, data_spb_friday]\n",
    "]\n",
    "df_result31 = pd.DataFrame(columns=columns, data=data)\n",
    "display(df_result31)"
   ]
  },
  {
   "cell_type": "markdown",
   "metadata": {
    "id": "-EgPIHYu_Zcu"
   },
   "source": [
    "**Выводы**\n",
    "\n",
    "Полученные данные иллюстрируют разницу в поведении пользователей двух городов:\n",
    "\n",
    "- В Москве пик прослушиваний приходится на понедельник и пятницу, а в среду заметен спад.\n",
    "- В Петербурге, наоборот, больше слушают музыку по средам. Активность в понедельник и пятницу здесь почти в равной мере уступает среде.\n",
    "\n",
    "Значит, данные говорят в пользу первой гипотезы."
   ]
  },
  {
   "cell_type": "markdown",
   "metadata": {
    "id": "atZAxtq4_Zcu"
   },
   "source": [
    "### Музыка в начале и в конце недели"
   ]
  },
  {
   "cell_type": "markdown",
   "metadata": {
    "id": "eXrQqXFH_Zcu"
   },
   "source": [
    "Согласно второй гипотезе, утром в понедельник в Москве преобладают одни жанры, а в Петербурге — другие. Так же и вечером пятницы преобладают разные жанры — в зависимости от города."
   ]
  },
  {
   "cell_type": "markdown",
   "metadata": {
    "id": "S8UcW6Hw_Zcu"
   },
   "source": [
    "Сохраним таблицы с данными в две переменные:\n",
    "* по Москве — в `moscow_general`;\n",
    "* по Санкт-Петербургу — в `spb_general`."
   ]
  },
  {
   "cell_type": "code",
   "execution_count": 28,
   "metadata": {
    "id": "qeaFfM_P_Zcu"
   },
   "outputs": [],
   "source": [
    "# получение таблицы moscow_general из тех строк таблицы df, \n",
    "# для которых значение в столбце 'city' равно 'Moscow'\n",
    "moscow_general = df[df['city'] == 'Moscow']\n"
   ]
  },
  {
   "cell_type": "code",
   "execution_count": 29,
   "metadata": {
    "id": "ORaVRKto_Zcu"
   },
   "outputs": [],
   "source": [
    "# получение таблицы spb_general из тех строк таблицы df,\n",
    "# для которых значение в столбце 'city' равно 'Saint-Petersburg'\n",
    "spb_general = df[df['city'] == 'Saint-Petersburg']\n"
   ]
  },
  {
   "cell_type": "markdown",
   "metadata": {
    "id": "MEJV-CX2_Zcu"
   },
   "source": [
    "Создадим функцию `genre_weekday()` с четырьмя параметрами:\n",
    "* таблица (датафрейм) с данными,\n",
    "* день недели,\n",
    "* начальная временная метка в формате 'hh:mm', \n",
    "* последняя временная метка в формате 'hh:mm'.\n",
    "\n",
    "Функция возвращает информацию о топ-10 жанров тех треков, которые прослушивали в указанный день, в промежутке между двумя отметками времени."
   ]
  },
  {
   "cell_type": "code",
   "execution_count": 30,
   "metadata": {
    "id": "laJT9BYl_Zcu"
   },
   "outputs": [],
   "source": [
    "def genre_weekday(table, day, time1, time2):\n",
    "    table_filtered = table[table['day'] == day]\n",
    "    table_filtered = table_filtered[table_filtered['time'] > time1]\n",
    "    genre_df = table_filtered[table_filtered['time'] < time2]\n",
    "    genre_df_count = genre_df.groupby('genre')['user_id'].count()\n",
    "    genre_df_count = genre_df_count.sort_values(ascending=False)\n",
    "    return genre_df_count[:10]"
   ]
  },
  {
   "cell_type": "markdown",
   "metadata": {
    "id": "la2s2_PF_Zcu"
   },
   "source": [
    "Cравним результаты функции `genre_weekday()` для Москвы и Санкт-Петербурга в понедельник утром (с 7:00 до 11:00) и в пятницу вечером (с 17:00 до 23:00):"
   ]
  },
  {
   "cell_type": "code",
   "execution_count": 31,
   "metadata": {
    "id": "yz7itPUQ_Zcu"
   },
   "outputs": [
    {
     "data": {
      "text/plain": [
       "genre\n",
       "pop            781\n",
       "dance          549\n",
       "electronic     480\n",
       "rock           474\n",
       "hiphop         286\n",
       "ruspop         186\n",
       "world          181\n",
       "rusrap         175\n",
       "alternative    164\n",
       "unknown        161\n",
       "Name: user_id, dtype: int64"
      ]
     },
     "execution_count": 31,
     "metadata": {},
     "output_type": "execute_result"
    }
   ],
   "source": [
    "# вызов функции для утра понедельника в Москве\n",
    "genre_weekday(moscow_general, 'Monday', '07:00', '11:00')"
   ]
  },
  {
   "cell_type": "code",
   "execution_count": 32,
   "metadata": {
    "id": "kwUcHPdy_Zcu"
   },
   "outputs": [
    {
     "data": {
      "text/plain": [
       "genre\n",
       "pop            218\n",
       "dance          182\n",
       "rock           162\n",
       "electronic     147\n",
       "hiphop          80\n",
       "ruspop          64\n",
       "alternative     58\n",
       "rusrap          55\n",
       "jazz            44\n",
       "classical       40\n",
       "Name: user_id, dtype: int64"
      ]
     },
     "execution_count": 32,
     "metadata": {},
     "output_type": "execute_result"
    }
   ],
   "source": [
    "# вызов функции для утра понедельника в Петербурге\n",
    "genre_weekday(spb_general, 'Monday', '07:00', '11:00')"
   ]
  },
  {
   "cell_type": "code",
   "execution_count": 33,
   "metadata": {
    "id": "EzXVRE1o_Zcu"
   },
   "outputs": [
    {
     "data": {
      "text/plain": [
       "genre\n",
       "pop            713\n",
       "rock           517\n",
       "dance          495\n",
       "electronic     482\n",
       "hiphop         273\n",
       "world          208\n",
       "ruspop         170\n",
       "alternative    163\n",
       "classical      163\n",
       "rusrap         142\n",
       "Name: user_id, dtype: int64"
      ]
     },
     "execution_count": 33,
     "metadata": {},
     "output_type": "execute_result"
    }
   ],
   "source": [
    "# вызов функции для вечера пятницы в Москве\n",
    "genre_weekday(moscow_general, 'Friday', '17:00', '23:00')"
   ]
  },
  {
   "cell_type": "code",
   "execution_count": 34,
   "metadata": {
    "id": "JZaEKu5v_Zcu"
   },
   "outputs": [
    {
     "data": {
      "text/plain": [
       "genre\n",
       "pop            256\n",
       "rock           216\n",
       "electronic     216\n",
       "dance          210\n",
       "hiphop          97\n",
       "alternative     63\n",
       "jazz            61\n",
       "classical       60\n",
       "rusrap          59\n",
       "world           54\n",
       "Name: user_id, dtype: int64"
      ]
     },
     "execution_count": 34,
     "metadata": {},
     "output_type": "execute_result"
    }
   ],
   "source": [
    "# вызов функции для вечера пятницы в Петербурге\n",
    "genre_weekday(spb_general, 'Friday', '17:00', '23:00')"
   ]
  },
  {
   "cell_type": "markdown",
   "metadata": {
    "id": "wrCe4MNX_Zcu"
   },
   "source": [
    "**Выводы**\n",
    "\n",
    "Если сравнить топ-10 жанров в понедельник утром, можно сделать такие выводы:\n",
    "\n",
    "1. В Москве и Петербурге слушают похожую музыку. Единственное отличие — в московский рейтинг вошёл жанр “world”, а в петербургский — джаз и классика.\n",
    "\n",
    "2. В Москве пропущенных значений оказалось так много, что значение `'unknown'` заняло десятое место среди самых популярных жанров. Значит, пропущенные значения занимают существенную долю в данных и угрожают достоверности исследования.\n",
    "\n",
    "Вечер пятницы не меняет эту картину. Некоторые жанры поднимаются немного выше, другие спускаются, но в целом топ-10 остаётся тем же самым.\n",
    "\n",
    "Таким образом, вторая гипотеза подтвердилась лишь частично:\n",
    "* Пользователи слушают похожую музыку в начале недели и в конце.\n",
    "* Разница между Москвой и Петербургом не слишком выражена. В Москве чаще слушают русскую популярную музыку, в Петербурге — джаз.\n",
    "\n",
    "Однако пропуски в данных ставят под сомнение этот результат. В Москве их так много, что рейтинг топ-10 мог бы выглядеть иначе, если бы не утерянные  данные о жанрах."
   ]
  },
  {
   "cell_type": "markdown",
   "metadata": {
    "id": "JolODAqr_Zcu"
   },
   "source": [
    "### Жанровые предпочтения в Москве и Петербурге\n",
    "\n",
    "Гипотеза: Петербург — столица рэпа, музыку этого жанра там слушают чаще, чем в Москве.  А Москва — город контрастов, в котором, тем не менее, преобладает поп-музыка."
   ]
  },
  {
   "cell_type": "markdown",
   "metadata": {
    "id": "DlegSvaT_Zcu"
   },
   "source": [
    "Сгруппируем таблицу `moscow_general` по жанру и посчитаем прослушивания треков каждого жанра методом `count()`. Затем отсортируем результат в порядке убывания и сохраним его в таблице `moscow_genres`."
   ]
  },
  {
   "cell_type": "code",
   "execution_count": 35,
   "metadata": {
    "id": "r19lIPke_Zcu"
   },
   "outputs": [],
   "source": [
    "moscow_genres = moscow_general.groupby('genre')['genre'].count().sort_values(ascending=False)"
   ]
  },
  {
   "cell_type": "code",
   "execution_count": 36,
   "metadata": {
    "id": "WhCSooF8_Zcv"
   },
   "outputs": [
    {
     "data": {
      "text/plain": [
       "genre\n",
       "pop            5892\n",
       "dance          4435\n",
       "rock           3965\n",
       "electronic     3786\n",
       "hiphop         2096\n",
       "classical      1616\n",
       "world          1432\n",
       "alternative    1379\n",
       "ruspop         1372\n",
       "rusrap         1161\n",
       "Name: genre, dtype: int64"
      ]
     },
     "execution_count": 36,
     "metadata": {},
     "output_type": "execute_result"
    }
   ],
   "source": [
    "# просмотр первых 10 строк moscow_genres\n",
    "moscow_genres.head(10)"
   ]
  },
  {
   "cell_type": "markdown",
   "metadata": {
    "id": "cnPG2vnN_Zcv"
   },
   "source": [
    "Повторим то же для Петербурга."
   ]
  },
  {
   "cell_type": "code",
   "execution_count": 37,
   "metadata": {
    "id": "gluLIpE7_Zcv"
   },
   "outputs": [],
   "source": [
    "spb_genres = spb_general.groupby('genre')['genre'].count().sort_values(ascending=False)"
   ]
  },
  {
   "cell_type": "code",
   "execution_count": 38,
   "metadata": {
    "id": "uaGJHjVU_Zcv"
   },
   "outputs": [
    {
     "data": {
      "text/plain": [
       "genre\n",
       "pop            2431\n",
       "dance          1932\n",
       "rock           1879\n",
       "electronic     1736\n",
       "hiphop          960\n",
       "alternative     649\n",
       "classical       646\n",
       "rusrap          564\n",
       "ruspop          538\n",
       "world           515\n",
       "Name: genre, dtype: int64"
      ]
     },
     "execution_count": 38,
     "metadata": {},
     "output_type": "execute_result"
    }
   ],
   "source": [
    "# просмотр первых 10 строк spb_genres\n",
    "spb_genres.head(10)"
   ]
  },
  {
   "cell_type": "markdown",
   "metadata": {
    "id": "RY51YJYu_Zcv"
   },
   "source": [
    "**Выводы**"
   ]
  },
  {
   "cell_type": "markdown",
   "metadata": {
    "id": "nVhnJEm__Zcv"
   },
   "source": [
    "Гипотеза частично подтвердилась:\n",
    "* Поп-музыка — самый популярный жанр в Москве, как и предполагала гипотеза. Более того, в топ-10 жанров встречается близкий жанр — русская популярная музыка.\n",
    "* Вопреки ожиданиям, рэп одинаково популярен в Москве и Петербурге. \n"
   ]
  },
  {
   "cell_type": "markdown",
   "metadata": {
    "id": "ykKQ0N65_Zcv"
   },
   "source": [
    "## Итоги исследования"
   ]
  },
  {
   "cell_type": "markdown",
   "metadata": {
    "id": "tjUwbHb3_Zcv"
   },
   "source": [
    "Было проверено три гипотезы:\n",
    "\n",
    "1. День недели по-разному влияет на активность пользователей в Москве и Петербурге. \n",
    "\n",
    "Первая гипотеза полностью подтвердилась.\n",
    "\n",
    "2. Музыкальные предпочтения не сильно меняются в течение недели — будь то Москва или Петербург. Небольшие различия заметны в начале недели, по понедельникам:\n",
    "* в Москве слушают музыку жанра “world”,\n",
    "* в Петербурге — джаз и классику.\n",
    "\n",
    "Таким образом, вторая гипотеза подтвердилась лишь отчасти. Этот результат мог оказаться иным, если бы не пропуски в данных.\n",
    "\n",
    "3. Во вкусах пользователей Москвы и Петербурга больше общего чем различий. Вопреки ожиданиям, предпочтения жанров в Петербурге напоминают московские.\n",
    "\n",
    "Третья гипотеза не подтвердилась. Если различия в предпочтениях и существуют, на основной массе пользователей они незаметны.\n",
    "\n",
    "**Задание данного исследования не предполагало проверку статистических гипотез.**"
   ]
  }
 ],
 "metadata": {
  "ExecuteTimeLog": [
   {
    "duration": 312,
    "start_time": "2022-02-18T09:53:29.323Z"
   },
   {
    "duration": 630,
    "start_time": "2022-02-18T09:53:37.923Z"
   },
   {
    "duration": 124,
    "start_time": "2022-02-18T09:53:41.475Z"
   },
   {
    "duration": 7,
    "start_time": "2022-02-18T09:54:03.437Z"
   },
   {
    "duration": 25,
    "start_time": "2022-02-18T09:55:01.024Z"
   },
   {
    "duration": 4,
    "start_time": "2022-02-18T09:55:47.210Z"
   },
   {
    "duration": 18,
    "start_time": "2022-02-18T09:58:17.884Z"
   },
   {
    "duration": 3,
    "start_time": "2022-02-18T09:58:38.765Z"
   },
   {
    "duration": 23,
    "start_time": "2022-02-18T09:59:24.613Z"
   },
   {
    "duration": 21,
    "start_time": "2022-02-18T09:59:52.735Z"
   },
   {
    "duration": 3,
    "start_time": "2022-02-18T10:01:07.415Z"
   },
   {
    "duration": 16,
    "start_time": "2022-02-18T10:02:08.206Z"
   },
   {
    "duration": 21,
    "start_time": "2022-02-18T10:02:14.735Z"
   },
   {
    "duration": 61,
    "start_time": "2022-02-18T10:03:07.325Z"
   },
   {
    "duration": 60,
    "start_time": "2022-02-18T10:03:54.346Z"
   },
   {
    "duration": 51,
    "start_time": "2022-02-18T10:04:03.084Z"
   },
   {
    "duration": 41,
    "start_time": "2022-02-18T10:07:49.246Z"
   },
   {
    "duration": 3,
    "start_time": "2022-02-18T10:10:35.298Z"
   },
   {
    "duration": 10,
    "start_time": "2022-02-18T10:12:24.439Z"
   },
   {
    "duration": 36,
    "start_time": "2022-02-18T10:12:45.754Z"
   },
   {
    "duration": 9,
    "start_time": "2022-02-18T10:13:04.955Z"
   },
   {
    "duration": 15,
    "start_time": "2022-02-18T10:21:15.213Z"
   },
   {
    "duration": 10,
    "start_time": "2022-02-18T10:22:03.468Z"
   },
   {
    "duration": 93,
    "start_time": "2022-02-18T10:25:52.333Z"
   },
   {
    "duration": 4,
    "start_time": "2022-02-18T10:26:04.391Z"
   },
   {
    "duration": 14,
    "start_time": "2022-02-18T10:28:57.212Z"
   },
   {
    "duration": 13,
    "start_time": "2022-02-18T10:29:22.767Z"
   },
   {
    "duration": 13,
    "start_time": "2022-02-18T10:29:47.643Z"
   },
   {
    "duration": 13,
    "start_time": "2022-02-18T10:30:06.444Z"
   },
   {
    "duration": 14,
    "start_time": "2022-02-18T10:30:40.488Z"
   },
   {
    "duration": 15,
    "start_time": "2022-02-18T10:30:43.528Z"
   },
   {
    "duration": 4,
    "start_time": "2022-02-18T10:34:34.931Z"
   },
   {
    "duration": 6,
    "start_time": "2022-02-18T10:34:50.302Z"
   },
   {
    "duration": 10,
    "start_time": "2022-02-18T10:37:03.773Z"
   },
   {
    "duration": 9,
    "start_time": "2022-02-18T10:37:06.493Z"
   },
   {
    "duration": 6,
    "start_time": "2022-02-18T10:39:36.719Z"
   },
   {
    "duration": 10,
    "start_time": "2022-02-18T10:50:47.406Z"
   },
   {
    "duration": 10,
    "start_time": "2022-02-18T10:50:57.671Z"
   },
   {
    "duration": 5,
    "start_time": "2022-02-18T10:53:07.622Z"
   },
   {
    "duration": 846,
    "start_time": "2022-02-18T10:53:43.370Z"
   },
   {
    "duration": 625,
    "start_time": "2022-02-18T10:54:04.493Z"
   },
   {
    "duration": 104,
    "start_time": "2022-02-18T10:55:20.710Z"
   },
   {
    "duration": 6,
    "start_time": "2022-02-18T10:55:27.919Z"
   },
   {
    "duration": 17,
    "start_time": "2022-02-18T10:55:36.400Z"
   },
   {
    "duration": 12,
    "start_time": "2022-02-18T10:55:55.770Z"
   },
   {
    "duration": 16,
    "start_time": "2022-02-18T10:56:29.445Z"
   },
   {
    "duration": 11,
    "start_time": "2022-02-18T10:56:32.695Z"
   },
   {
    "duration": 17,
    "start_time": "2022-02-18T10:57:17.588Z"
   },
   {
    "duration": 4,
    "start_time": "2022-02-18T10:57:40.269Z"
   },
   {
    "duration": 17,
    "start_time": "2022-02-18T10:57:43.750Z"
   },
   {
    "duration": 4,
    "start_time": "2022-02-18T10:58:06.521Z"
   },
   {
    "duration": 16,
    "start_time": "2022-02-18T10:58:09.200Z"
   },
   {
    "duration": 31,
    "start_time": "2022-02-18T10:58:19.452Z"
   },
   {
    "duration": 22,
    "start_time": "2022-02-18T10:58:22.604Z"
   },
   {
    "duration": 35,
    "start_time": "2022-02-18T10:58:27.805Z"
   },
   {
    "duration": 14,
    "start_time": "2022-02-18T10:58:31.301Z"
   },
   {
    "duration": 360,
    "start_time": "2022-02-18T11:02:21.823Z"
   },
   {
    "duration": 8,
    "start_time": "2022-02-18T11:02:39.729Z"
   },
   {
    "duration": 5,
    "start_time": "2022-02-18T11:02:57.259Z"
   },
   {
    "duration": 7,
    "start_time": "2022-02-18T11:03:40.305Z"
   },
   {
    "duration": 7,
    "start_time": "2022-02-18T11:03:52.730Z"
   },
   {
    "duration": 104,
    "start_time": "2022-02-27T19:08:50.835Z"
   },
   {
    "duration": 67,
    "start_time": "2022-02-27T19:15:40.247Z"
   },
   {
    "duration": 667,
    "start_time": "2022-02-27T19:23:08.268Z"
   },
   {
    "duration": 167,
    "start_time": "2022-02-27T19:23:08.938Z"
   },
   {
    "duration": 10,
    "start_time": "2022-02-27T19:23:09.109Z"
   },
   {
    "duration": 54,
    "start_time": "2022-02-27T19:23:09.122Z"
   },
   {
    "duration": 5,
    "start_time": "2022-02-27T19:23:09.178Z"
   },
   {
    "duration": 31,
    "start_time": "2022-02-27T19:23:09.186Z"
   },
   {
    "duration": 32,
    "start_time": "2022-02-27T19:23:09.219Z"
   },
   {
    "duration": 28,
    "start_time": "2022-02-27T19:23:09.254Z"
   },
   {
    "duration": 21,
    "start_time": "2022-02-27T19:23:09.284Z"
   },
   {
    "duration": 47,
    "start_time": "2022-02-27T19:23:09.307Z"
   },
   {
    "duration": 74,
    "start_time": "2022-02-27T19:23:09.356Z"
   },
   {
    "duration": 98,
    "start_time": "2022-02-27T19:23:12.185Z"
   },
   {
    "duration": 27,
    "start_time": "2022-02-27T19:23:19.926Z"
   },
   {
    "duration": 69,
    "start_time": "2022-02-27T19:24:38.469Z"
   },
   {
    "duration": 75,
    "start_time": "2022-02-27T19:26:47.122Z"
   },
   {
    "duration": 4,
    "start_time": "2022-02-27T19:27:07.229Z"
   },
   {
    "duration": 70,
    "start_time": "2022-02-27T19:28:21.469Z"
   },
   {
    "duration": 14,
    "start_time": "2022-02-27T19:28:54.425Z"
   },
   {
    "duration": 69,
    "start_time": "2022-02-27T19:41:58.169Z"
   },
   {
    "duration": 5,
    "start_time": "2022-02-27T19:46:15.014Z"
   },
   {
    "duration": 699,
    "start_time": "2022-02-27T19:46:43.674Z"
   },
   {
    "duration": 170,
    "start_time": "2022-02-27T19:46:44.375Z"
   },
   {
    "duration": 10,
    "start_time": "2022-02-27T19:46:44.551Z"
   },
   {
    "duration": 31,
    "start_time": "2022-02-27T19:46:44.564Z"
   },
   {
    "duration": 5,
    "start_time": "2022-02-27T19:46:44.597Z"
   },
   {
    "duration": 56,
    "start_time": "2022-02-27T19:46:44.604Z"
   },
   {
    "duration": 6,
    "start_time": "2022-02-27T19:46:44.663Z"
   },
   {
    "duration": 26,
    "start_time": "2022-02-27T19:46:44.673Z"
   },
   {
    "duration": 49,
    "start_time": "2022-02-27T19:46:44.703Z"
   },
   {
    "duration": 30,
    "start_time": "2022-02-27T19:46:44.754Z"
   },
   {
    "duration": 105,
    "start_time": "2022-02-27T19:46:44.787Z"
   },
   {
    "duration": 112,
    "start_time": "2022-02-27T19:46:44.895Z"
   },
   {
    "duration": 90,
    "start_time": "2022-02-27T19:46:45.010Z"
   },
   {
    "duration": 68,
    "start_time": "2022-02-27T19:46:45.103Z"
   },
   {
    "duration": 4,
    "start_time": "2022-02-27T19:46:45.174Z"
   },
   {
    "duration": 15,
    "start_time": "2022-02-27T19:46:45.181Z"
   },
   {
    "duration": 86,
    "start_time": "2022-02-27T19:46:45.198Z"
   },
   {
    "duration": 22,
    "start_time": "2022-02-27T19:46:45.286Z"
   },
   {
    "duration": 42,
    "start_time": "2022-02-27T19:46:45.311Z"
   },
   {
    "duration": 5,
    "start_time": "2022-02-27T19:46:45.355Z"
   },
   {
    "duration": 25,
    "start_time": "2022-02-27T19:46:45.362Z"
   },
   {
    "duration": 18,
    "start_time": "2022-02-27T19:46:45.389Z"
   },
   {
    "duration": 52,
    "start_time": "2022-02-27T19:46:45.412Z"
   },
   {
    "duration": 18,
    "start_time": "2022-02-27T19:46:45.467Z"
   },
   {
    "duration": 19,
    "start_time": "2022-02-27T19:46:45.487Z"
   },
   {
    "duration": 50,
    "start_time": "2022-02-27T19:46:45.509Z"
   },
   {
    "duration": 8,
    "start_time": "2022-02-27T19:46:45.561Z"
   },
   {
    "duration": 14,
    "start_time": "2022-02-27T19:46:45.572Z"
   },
   {
    "duration": 12,
    "start_time": "2022-02-27T19:46:45.589Z"
   },
   {
    "duration": 4,
    "start_time": "2022-02-27T19:46:45.604Z"
   },
   {
    "duration": 59,
    "start_time": "2022-02-27T19:46:45.610Z"
   },
   {
    "duration": 16,
    "start_time": "2022-02-27T19:46:45.672Z"
   },
   {
    "duration": 22,
    "start_time": "2022-02-27T19:46:45.691Z"
   },
   {
    "duration": 49,
    "start_time": "2022-02-27T19:46:45.715Z"
   },
   {
    "duration": 11,
    "start_time": "2022-02-27T19:46:45.766Z"
   },
   {
    "duration": 5,
    "start_time": "2022-02-27T19:46:45.779Z"
   },
   {
    "duration": 8,
    "start_time": "2022-02-27T19:46:45.787Z"
   },
   {
    "duration": 5,
    "start_time": "2022-02-27T19:46:45.797Z"
   },
   {
    "duration": 436,
    "start_time": "2022-03-08T01:01:01.030Z"
   },
   {
    "duration": 704,
    "start_time": "2022-03-08T01:01:19.272Z"
   },
   {
    "duration": 219,
    "start_time": "2022-03-08T01:01:22.978Z"
   },
   {
    "duration": 28,
    "start_time": "2022-03-08T01:01:26.648Z"
   },
   {
    "duration": 34,
    "start_time": "2022-03-08T01:01:33.634Z"
   },
   {
    "duration": 33,
    "start_time": "2022-03-08T01:08:05.240Z"
   },
   {
    "duration": 6,
    "start_time": "2022-03-08T01:08:10.160Z"
   },
   {
    "duration": 32,
    "start_time": "2022-03-08T01:08:15.185Z"
   },
   {
    "duration": 4,
    "start_time": "2022-03-08T01:08:18.857Z"
   },
   {
    "duration": 6,
    "start_time": "2022-03-08T01:08:39.652Z"
   },
   {
    "duration": 31,
    "start_time": "2022-03-08T01:08:42.428Z"
   },
   {
    "duration": 24,
    "start_time": "2022-03-08T01:08:49.389Z"
   },
   {
    "duration": 28,
    "start_time": "2022-03-08T01:08:51.700Z"
   },
   {
    "duration": 78,
    "start_time": "2022-03-08T01:08:55.030Z"
   },
   {
    "duration": 94,
    "start_time": "2022-03-08T01:08:58.150Z"
   },
   {
    "duration": 79,
    "start_time": "2022-03-08T01:09:00.974Z"
   },
   {
    "duration": 71,
    "start_time": "2022-03-08T01:09:10.576Z"
   },
   {
    "duration": 71,
    "start_time": "2022-03-08T01:09:18.968Z"
   },
   {
    "duration": 71,
    "start_time": "2022-03-08T01:09:28.057Z"
   },
   {
    "duration": 72,
    "start_time": "2022-03-08T01:09:35.130Z"
   },
   {
    "duration": 58,
    "start_time": "2022-03-08T01:09:43.602Z"
   },
   {
    "duration": 4,
    "start_time": "2022-03-08T01:09:56.668Z"
   },
   {
    "duration": 14,
    "start_time": "2022-03-08T01:10:09.182Z"
   },
   {
    "duration": 55,
    "start_time": "2022-03-08T01:10:17.215Z"
   },
   {
    "duration": 14,
    "start_time": "2022-03-08T01:10:43.938Z"
   },
   {
    "duration": 15,
    "start_time": "2022-03-08T01:10:47.029Z"
   },
   {
    "duration": 4,
    "start_time": "2022-03-08T01:10:52.779Z"
   },
   {
    "duration": 22,
    "start_time": "2022-03-08T01:10:57.530Z"
   },
   {
    "duration": 20,
    "start_time": "2022-03-08T01:11:00.076Z"
   },
   {
    "duration": 20,
    "start_time": "2022-03-08T01:11:01.332Z"
   },
   {
    "duration": 17,
    "start_time": "2022-03-08T01:11:01.957Z"
   },
   {
    "duration": 21,
    "start_time": "2022-03-08T01:11:02.548Z"
   },
   {
    "duration": 19,
    "start_time": "2022-03-08T01:11:03.116Z"
   },
   {
    "duration": 12,
    "start_time": "2022-03-08T01:11:13.760Z"
   },
   {
    "duration": 17,
    "start_time": "2022-03-08T01:11:19.285Z"
   },
   {
    "duration": 14,
    "start_time": "2022-03-08T01:11:21.399Z"
   },
   {
    "duration": 6,
    "start_time": "2022-03-08T01:11:29.744Z"
   },
   {
    "duration": 24,
    "start_time": "2022-03-08T01:11:33.296Z"
   },
   {
    "duration": 18,
    "start_time": "2022-03-08T01:11:36.336Z"
   },
   {
    "duration": 22,
    "start_time": "2022-03-08T01:11:39.569Z"
   },
   {
    "duration": 17,
    "start_time": "2022-03-08T01:11:40.161Z"
   },
   {
    "duration": 11,
    "start_time": "2022-03-08T01:11:45.185Z"
   },
   {
    "duration": 7,
    "start_time": "2022-03-08T01:11:48.601Z"
   },
   {
    "duration": 8,
    "start_time": "2022-03-08T01:11:52.202Z"
   },
   {
    "duration": 6,
    "start_time": "2022-03-08T01:11:54.819Z"
   },
   {
    "duration": 677,
    "start_time": "2022-03-08T08:43:40.377Z"
   },
   {
    "duration": 153,
    "start_time": "2022-03-08T08:43:41.056Z"
   },
   {
    "duration": 17,
    "start_time": "2022-03-08T08:43:41.211Z"
   },
   {
    "duration": 28,
    "start_time": "2022-03-08T08:43:41.230Z"
   },
   {
    "duration": 18,
    "start_time": "2022-03-08T08:43:41.260Z"
   },
   {
    "duration": 23,
    "start_time": "2022-03-08T08:43:41.280Z"
   },
   {
    "duration": 7,
    "start_time": "2022-03-08T08:43:41.305Z"
   },
   {
    "duration": 25,
    "start_time": "2022-03-08T08:43:41.314Z"
   },
   {
    "duration": 43,
    "start_time": "2022-03-08T08:43:41.342Z"
   },
   {
    "duration": 23,
    "start_time": "2022-03-08T08:43:41.387Z"
   },
   {
    "duration": 80,
    "start_time": "2022-03-08T08:43:41.412Z"
   },
   {
    "duration": 73,
    "start_time": "2022-03-08T08:43:41.494Z"
   },
   {
    "duration": 53,
    "start_time": "2022-03-08T08:43:41.576Z"
   },
   {
    "duration": 54,
    "start_time": "2022-03-08T08:43:41.631Z"
   },
   {
    "duration": 5,
    "start_time": "2022-03-08T08:43:41.687Z"
   },
   {
    "duration": 21,
    "start_time": "2022-03-08T08:43:41.694Z"
   },
   {
    "duration": 46,
    "start_time": "2022-03-08T08:43:41.717Z"
   },
   {
    "duration": 14,
    "start_time": "2022-03-08T08:43:41.777Z"
   },
   {
    "duration": 12,
    "start_time": "2022-03-08T08:43:41.792Z"
   },
   {
    "duration": 4,
    "start_time": "2022-03-08T08:43:41.806Z"
   },
   {
    "duration": 20,
    "start_time": "2022-03-08T08:43:41.813Z"
   },
   {
    "duration": 48,
    "start_time": "2022-03-08T08:43:41.835Z"
   },
   {
    "duration": 14,
    "start_time": "2022-03-08T08:43:41.885Z"
   },
   {
    "duration": 13,
    "start_time": "2022-03-08T08:43:41.901Z"
   },
   {
    "duration": 15,
    "start_time": "2022-03-08T08:43:41.915Z"
   },
   {
    "duration": 47,
    "start_time": "2022-03-08T08:43:41.932Z"
   },
   {
    "duration": 9,
    "start_time": "2022-03-08T08:43:41.982Z"
   },
   {
    "duration": 13,
    "start_time": "2022-03-08T08:43:41.993Z"
   },
   {
    "duration": 8,
    "start_time": "2022-03-08T08:43:42.008Z"
   },
   {
    "duration": 6,
    "start_time": "2022-03-08T08:43:42.018Z"
   },
   {
    "duration": 27,
    "start_time": "2022-03-08T08:43:42.026Z"
   },
   {
    "duration": 35,
    "start_time": "2022-03-08T08:43:42.054Z"
   },
   {
    "duration": 17,
    "start_time": "2022-03-08T08:43:42.091Z"
   },
   {
    "duration": 12,
    "start_time": "2022-03-08T08:43:42.110Z"
   },
   {
    "duration": 8,
    "start_time": "2022-03-08T08:43:42.124Z"
   },
   {
    "duration": 4,
    "start_time": "2022-03-08T08:43:42.134Z"
   },
   {
    "duration": 43,
    "start_time": "2022-03-08T08:43:42.139Z"
   },
   {
    "duration": 6,
    "start_time": "2022-03-08T08:43:42.183Z"
   },
   {
    "duration": 609,
    "start_time": "2022-03-08T08:46:59.547Z"
   },
   {
    "duration": 144,
    "start_time": "2022-03-08T08:47:00.158Z"
   },
   {
    "duration": 17,
    "start_time": "2022-03-08T08:47:00.304Z"
   },
   {
    "duration": 31,
    "start_time": "2022-03-08T08:47:00.324Z"
   },
   {
    "duration": 21,
    "start_time": "2022-03-08T08:47:00.357Z"
   },
   {
    "duration": 26,
    "start_time": "2022-03-08T08:47:00.380Z"
   },
   {
    "duration": 22,
    "start_time": "2022-03-08T08:47:00.408Z"
   },
   {
    "duration": 28,
    "start_time": "2022-03-08T08:47:00.432Z"
   },
   {
    "duration": 27,
    "start_time": "2022-03-08T08:47:00.463Z"
   },
   {
    "duration": 22,
    "start_time": "2022-03-08T08:47:00.492Z"
   },
   {
    "duration": 74,
    "start_time": "2022-03-08T08:47:00.515Z"
   },
   {
    "duration": 70,
    "start_time": "2022-03-08T08:47:00.591Z"
   },
   {
    "duration": 62,
    "start_time": "2022-03-08T08:47:00.663Z"
   },
   {
    "duration": 55,
    "start_time": "2022-03-08T08:47:00.727Z"
   },
   {
    "duration": 3,
    "start_time": "2022-03-08T08:47:00.784Z"
   },
   {
    "duration": 31,
    "start_time": "2022-03-08T08:47:00.789Z"
   },
   {
    "duration": 83,
    "start_time": "2022-03-08T08:47:00.821Z"
   },
   {
    "duration": 26,
    "start_time": "2022-03-08T08:47:00.906Z"
   },
   {
    "duration": 17,
    "start_time": "2022-03-08T08:47:00.934Z"
   },
   {
    "duration": 4,
    "start_time": "2022-03-08T08:47:00.953Z"
   },
   {
    "duration": 32,
    "start_time": "2022-03-08T08:47:00.959Z"
   },
   {
    "duration": 15,
    "start_time": "2022-03-08T08:47:00.993Z"
   },
   {
    "duration": 16,
    "start_time": "2022-03-08T08:47:01.010Z"
   },
   {
    "duration": 14,
    "start_time": "2022-03-08T08:47:01.029Z"
   },
   {
    "duration": 43,
    "start_time": "2022-03-08T08:47:01.045Z"
   },
   {
    "duration": 22,
    "start_time": "2022-03-08T08:47:01.090Z"
   },
   {
    "duration": 9,
    "start_time": "2022-03-08T08:47:01.115Z"
   },
   {
    "duration": 14,
    "start_time": "2022-03-08T08:47:01.127Z"
   },
   {
    "duration": 34,
    "start_time": "2022-03-08T08:47:01.143Z"
   },
   {
    "duration": 4,
    "start_time": "2022-03-08T08:47:01.179Z"
   },
   {
    "duration": 32,
    "start_time": "2022-03-08T08:47:01.185Z"
   },
   {
    "duration": 17,
    "start_time": "2022-03-08T08:47:01.219Z"
   },
   {
    "duration": 18,
    "start_time": "2022-03-08T08:47:01.237Z"
   },
   {
    "duration": 30,
    "start_time": "2022-03-08T08:47:01.257Z"
   },
   {
    "duration": 8,
    "start_time": "2022-03-08T08:47:01.288Z"
   },
   {
    "duration": 24,
    "start_time": "2022-03-08T08:47:01.298Z"
   },
   {
    "duration": 11,
    "start_time": "2022-03-08T08:47:01.324Z"
   },
   {
    "duration": 13,
    "start_time": "2022-03-08T08:47:01.337Z"
   },
   {
    "duration": 775,
    "start_time": "2022-03-09T12:17:43.869Z"
   },
   {
    "duration": 188,
    "start_time": "2022-03-09T12:17:44.647Z"
   },
   {
    "duration": 27,
    "start_time": "2022-03-09T12:17:44.839Z"
   },
   {
    "duration": 50,
    "start_time": "2022-03-09T12:17:44.869Z"
   },
   {
    "duration": 5,
    "start_time": "2022-03-09T12:17:44.922Z"
   },
   {
    "duration": 27,
    "start_time": "2022-03-09T12:17:44.929Z"
   },
   {
    "duration": 30,
    "start_time": "2022-03-09T12:17:44.959Z"
   },
   {
    "duration": 32,
    "start_time": "2022-03-09T12:17:44.993Z"
   },
   {
    "duration": 25,
    "start_time": "2022-03-09T12:17:45.028Z"
   },
   {
    "duration": 50,
    "start_time": "2022-03-09T12:17:45.056Z"
   },
   {
    "duration": 102,
    "start_time": "2022-03-09T12:17:45.109Z"
   },
   {
    "duration": 106,
    "start_time": "2022-03-09T12:17:45.214Z"
   },
   {
    "duration": 89,
    "start_time": "2022-03-09T12:17:45.322Z"
   },
   {
    "duration": 56,
    "start_time": "2022-03-09T12:17:45.414Z"
   },
   {
    "duration": 17,
    "start_time": "2022-03-09T12:17:45.473Z"
   },
   {
    "duration": 18,
    "start_time": "2022-03-09T12:17:45.492Z"
   },
   {
    "duration": 78,
    "start_time": "2022-03-09T12:17:45.512Z"
   },
   {
    "duration": 16,
    "start_time": "2022-03-09T12:17:45.592Z"
   },
   {
    "duration": 15,
    "start_time": "2022-03-09T12:17:45.610Z"
   },
   {
    "duration": 4,
    "start_time": "2022-03-09T12:17:45.627Z"
   },
   {
    "duration": 55,
    "start_time": "2022-03-09T12:17:45.633Z"
   },
   {
    "duration": 18,
    "start_time": "2022-03-09T12:17:45.690Z"
   },
   {
    "duration": 18,
    "start_time": "2022-03-09T12:17:45.713Z"
   },
   {
    "duration": 19,
    "start_time": "2022-03-09T12:17:45.734Z"
   },
   {
    "duration": 19,
    "start_time": "2022-03-09T12:17:45.788Z"
   },
   {
    "duration": 19,
    "start_time": "2022-03-09T12:17:45.809Z"
   },
   {
    "duration": 11,
    "start_time": "2022-03-09T12:17:45.830Z"
   },
   {
    "duration": 51,
    "start_time": "2022-03-09T12:17:45.844Z"
   },
   {
    "duration": 12,
    "start_time": "2022-03-09T12:17:45.897Z"
   },
   {
    "duration": 8,
    "start_time": "2022-03-09T12:17:45.912Z"
   },
   {
    "duration": 32,
    "start_time": "2022-03-09T12:17:45.922Z"
   },
   {
    "duration": 43,
    "start_time": "2022-03-09T12:17:45.957Z"
   },
   {
    "duration": 22,
    "start_time": "2022-03-09T12:17:46.003Z"
   },
   {
    "duration": 17,
    "start_time": "2022-03-09T12:17:46.028Z"
   },
   {
    "duration": 51,
    "start_time": "2022-03-09T12:17:46.047Z"
   },
   {
    "duration": 7,
    "start_time": "2022-03-09T12:17:46.100Z"
   },
   {
    "duration": 13,
    "start_time": "2022-03-09T12:17:46.109Z"
   },
   {
    "duration": 6,
    "start_time": "2022-03-09T12:17:46.124Z"
   }
  ],
  "colab": {
   "collapsed_sections": [
    "E0vqbgi9ay0H",
    "VUC88oWjTJw2"
   ],
   "name": "yandex_music_project_2021.2.ipynb",
   "provenance": []
  },
  "kernelspec": {
   "display_name": "Python 3 (ipykernel)",
   "language": "python",
   "name": "python3"
  },
  "language_info": {
   "codemirror_mode": {
    "name": "ipython",
    "version": 3
   },
   "file_extension": ".py",
   "mimetype": "text/x-python",
   "name": "python",
   "nbconvert_exporter": "python",
   "pygments_lexer": "ipython3",
   "version": "3.9.13"
  },
  "toc": {
   "base_numbering": 1,
   "nav_menu": {},
   "number_sections": true,
   "sideBar": true,
   "skip_h1_title": true,
   "title_cell": "Table of Contents",
   "title_sidebar": "Contents",
   "toc_cell": false,
   "toc_position": {},
   "toc_section_display": true,
   "toc_window_display": true
  }
 },
 "nbformat": 4,
 "nbformat_minor": 1
}
