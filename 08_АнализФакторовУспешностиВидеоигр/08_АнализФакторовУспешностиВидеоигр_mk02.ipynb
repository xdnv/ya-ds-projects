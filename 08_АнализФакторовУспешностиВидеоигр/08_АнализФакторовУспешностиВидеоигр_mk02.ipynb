{
 "cells": [
  {
   "cell_type": "markdown",
   "id": "55077c85-03b7-458f-bfb8-c962bae91a49",
   "metadata": {},
   "source": [
    "# Сборный проект №1\n",
    "\n",
    "Заказчик: интернет-магазин, продающий компьютерные игры по всему миру.\n",
    "\n",
    "Из открытых источников доступны исторические данные:\n",
    "* о продажах игр,\n",
    "* оценки пользователей и экспертов,\n",
    "* жанры и игровые платформы.\n",
    "\n",
    "Данные представлены до 2016 года, за 2016 год могут быть неполными.\n",
    "\n",
    "Необходимо выявить закономерности, определяющие успешность игры. Это позволит заказчику сделать ставку на потенциально популярный продукт и корректно спланировать рекламные кампании."
   ]
  },
  {
   "cell_type": "markdown",
   "id": "5f3b1fc2-d708-473f-8451-e13765a260db",
   "metadata": {},
   "source": [
    "## Описание данных\n",
    "* Name — название игры\n",
    "* Platform — платформа\n",
    "* Year_of_Release — год выпуска\n",
    "* Genre — жанр игры\n",
    "* NA_sales — продажи в Северной Америке (миллионы проданных копий)\n",
    "* EU_sales — продажи в Европе (миллионы проданных копий)\n",
    "* JP_sales — продажи в Японии (миллионы проданных копий)\n",
    "* Other_sales — продажи в других странах (миллионы проданных копий)\n",
    "* Critic_Score — оценка критиков (максимум 100)\n",
    "* User_Score — оценка пользователей (максимум 10)\n",
    "* Rating — рейтинг от организации ESRB (англ. Entertainment Software Rating Board). Эта ассоциация определяет рейтинг компьютерных игр и присваивает им подходящую возрастную категорию."
   ]
  },
  {
   "cell_type": "markdown",
   "id": "4918d76d-46d1-4af9-ac33-4a72ed85ad2f",
   "metadata": {},
   "source": [
    "## Шаг 1. Загрузка файла с данными и изучение общей информации"
   ]
  },
  {
   "cell_type": "code",
   "execution_count": 1,
   "id": "713c5eb4",
   "metadata": {},
   "outputs": [],
   "source": [
    "# загружаем необходимые библиотеки и определяем пространства имён\n",
    "import pandas as pd\n",
    "import math\n",
    "import seaborn as sns\n",
    "sns.set(color_codes=True)\n",
    "\n",
    "%matplotlib inline\n",
    "import matplotlib.pyplot as plt\n",
    "import matplotlib.ticker as plticker\n",
    "import numpy as np\n",
    "import scipy.stats as st\n",
    "from functools import reduce\n",
    "idx = pd.IndexSlice\n",
    "\n",
    "#включим отображение всех столбцов таблиц и округлим числа до сотых\n",
    "pd.set_option('display.max_columns', None)\n",
    "pd.options.display.float_format = '{:,.2f}'.format"
   ]
  },
  {
   "cell_type": "code",
   "execution_count": 2,
   "id": "6953b763-6615-45eb-9e45-619489f1b6fb",
   "metadata": {},
   "outputs": [
    {
     "name": "stdout",
     "output_type": "stream",
     "text": [
      "<class 'pandas.core.frame.DataFrame'>\n",
      "RangeIndex: 16715 entries, 0 to 16714\n",
      "Data columns (total 11 columns):\n",
      " #   Column           Non-Null Count  Dtype  \n",
      "---  ------           --------------  -----  \n",
      " 0   Name             16713 non-null  object \n",
      " 1   Platform         16715 non-null  object \n",
      " 2   Year_of_Release  16446 non-null  float64\n",
      " 3   Genre            16713 non-null  object \n",
      " 4   NA_sales         16715 non-null  float64\n",
      " 5   EU_sales         16715 non-null  float64\n",
      " 6   JP_sales         16715 non-null  float64\n",
      " 7   Other_sales      16715 non-null  float64\n",
      " 8   Critic_Score     8137 non-null   float64\n",
      " 9   User_Score       10014 non-null  object \n",
      " 10  Rating           9949 non-null   object \n",
      "dtypes: float64(6), object(5)\n",
      "memory usage: 1.4+ MB\n",
      "\n",
      "Число пропусков в данных:\n",
      " Name                  2\n",
      "Platform              0\n",
      "Year_of_Release     269\n",
      "Genre                 2\n",
      "NA_sales              0\n",
      "EU_sales              0\n",
      "JP_sales              0\n",
      "Other_sales           0\n",
      "Critic_Score       8578\n",
      "User_Score         6701\n",
      "Rating             6766\n",
      "dtype: int64\n"
     ]
    },
    {
     "data": {
      "text/html": [
       "<div>\n",
       "<style scoped>\n",
       "    .dataframe tbody tr th:only-of-type {\n",
       "        vertical-align: middle;\n",
       "    }\n",
       "\n",
       "    .dataframe tbody tr th {\n",
       "        vertical-align: top;\n",
       "    }\n",
       "\n",
       "    .dataframe thead th {\n",
       "        text-align: right;\n",
       "    }\n",
       "</style>\n",
       "<table border=\"1\" class=\"dataframe\">\n",
       "  <thead>\n",
       "    <tr style=\"text-align: right;\">\n",
       "      <th></th>\n",
       "      <th>Name</th>\n",
       "      <th>Platform</th>\n",
       "      <th>Year_of_Release</th>\n",
       "      <th>Genre</th>\n",
       "      <th>NA_sales</th>\n",
       "      <th>EU_sales</th>\n",
       "      <th>JP_sales</th>\n",
       "      <th>Other_sales</th>\n",
       "      <th>Critic_Score</th>\n",
       "      <th>User_Score</th>\n",
       "      <th>Rating</th>\n",
       "    </tr>\n",
       "  </thead>\n",
       "  <tbody>\n",
       "    <tr>\n",
       "      <th>2383</th>\n",
       "      <td>Sleeping Dogs</td>\n",
       "      <td>X360</td>\n",
       "      <td>2,012.00</td>\n",
       "      <td>Action</td>\n",
       "      <td>0.38</td>\n",
       "      <td>0.40</td>\n",
       "      <td>0.01</td>\n",
       "      <td>0.08</td>\n",
       "      <td>80.00</td>\n",
       "      <td>7.9</td>\n",
       "      <td>M</td>\n",
       "    </tr>\n",
       "    <tr>\n",
       "      <th>7425</th>\n",
       "      <td>UFC Undisputed 2010</td>\n",
       "      <td>PSP</td>\n",
       "      <td>2,010.00</td>\n",
       "      <td>Fighting</td>\n",
       "      <td>0.11</td>\n",
       "      <td>0.06</td>\n",
       "      <td>0.00</td>\n",
       "      <td>0.04</td>\n",
       "      <td>74.00</td>\n",
       "      <td>7</td>\n",
       "      <td>T</td>\n",
       "    </tr>\n",
       "    <tr>\n",
       "      <th>460</th>\n",
       "      <td>LEGO Batman: The Videogame</td>\n",
       "      <td>DS</td>\n",
       "      <td>2,008.00</td>\n",
       "      <td>Action</td>\n",
       "      <td>1.75</td>\n",
       "      <td>1.01</td>\n",
       "      <td>0.00</td>\n",
       "      <td>0.29</td>\n",
       "      <td>72.00</td>\n",
       "      <td>8</td>\n",
       "      <td>E10+</td>\n",
       "    </tr>\n",
       "    <tr>\n",
       "      <th>6278</th>\n",
       "      <td>Dead Rising 2: Off the Record</td>\n",
       "      <td>X360</td>\n",
       "      <td>2,011.00</td>\n",
       "      <td>Action</td>\n",
       "      <td>0.17</td>\n",
       "      <td>0.08</td>\n",
       "      <td>0.00</td>\n",
       "      <td>0.02</td>\n",
       "      <td>72.00</td>\n",
       "      <td>7.5</td>\n",
       "      <td>M</td>\n",
       "    </tr>\n",
       "    <tr>\n",
       "      <th>4102</th>\n",
       "      <td>Crash of the Titans</td>\n",
       "      <td>DS</td>\n",
       "      <td>2,007.00</td>\n",
       "      <td>Action</td>\n",
       "      <td>0.42</td>\n",
       "      <td>0.02</td>\n",
       "      <td>0.00</td>\n",
       "      <td>0.04</td>\n",
       "      <td>73.00</td>\n",
       "      <td>5.9</td>\n",
       "      <td>E</td>\n",
       "    </tr>\n",
       "    <tr>\n",
       "      <th>3341</th>\n",
       "      <td>Call of Juarez: Bound in Blood</td>\n",
       "      <td>X360</td>\n",
       "      <td>2,009.00</td>\n",
       "      <td>Shooter</td>\n",
       "      <td>0.30</td>\n",
       "      <td>0.24</td>\n",
       "      <td>0.00</td>\n",
       "      <td>0.06</td>\n",
       "      <td>77.00</td>\n",
       "      <td>7.6</td>\n",
       "      <td>M</td>\n",
       "    </tr>\n",
       "    <tr>\n",
       "      <th>8257</th>\n",
       "      <td>NHL 2K9</td>\n",
       "      <td>X360</td>\n",
       "      <td>2,008.00</td>\n",
       "      <td>Sports</td>\n",
       "      <td>0.15</td>\n",
       "      <td>0.01</td>\n",
       "      <td>0.00</td>\n",
       "      <td>0.01</td>\n",
       "      <td>69.00</td>\n",
       "      <td>6.7</td>\n",
       "      <td>E10+</td>\n",
       "    </tr>\n",
       "    <tr>\n",
       "      <th>13783</th>\n",
       "      <td>Hanaoni: Yume no Tsudzuki</td>\n",
       "      <td>PSP</td>\n",
       "      <td>2,012.00</td>\n",
       "      <td>Action</td>\n",
       "      <td>0.00</td>\n",
       "      <td>0.00</td>\n",
       "      <td>0.04</td>\n",
       "      <td>0.00</td>\n",
       "      <td>NaN</td>\n",
       "      <td>NaN</td>\n",
       "      <td>NaN</td>\n",
       "    </tr>\n",
       "    <tr>\n",
       "      <th>16238</th>\n",
       "      <td>Fernbus Simulator</td>\n",
       "      <td>PC</td>\n",
       "      <td>2,016.00</td>\n",
       "      <td>Simulation</td>\n",
       "      <td>0.00</td>\n",
       "      <td>0.01</td>\n",
       "      <td>0.00</td>\n",
       "      <td>0.00</td>\n",
       "      <td>NaN</td>\n",
       "      <td>tbd</td>\n",
       "      <td>NaN</td>\n",
       "    </tr>\n",
       "    <tr>\n",
       "      <th>1250</th>\n",
       "      <td>Monopoly</td>\n",
       "      <td>PS</td>\n",
       "      <td>1,997.00</td>\n",
       "      <td>Misc</td>\n",
       "      <td>1.18</td>\n",
       "      <td>0.27</td>\n",
       "      <td>0.00</td>\n",
       "      <td>0.05</td>\n",
       "      <td>NaN</td>\n",
       "      <td>NaN</td>\n",
       "      <td>NaN</td>\n",
       "    </tr>\n",
       "  </tbody>\n",
       "</table>\n",
       "</div>"
      ],
      "text/plain": [
       "                                 Name Platform  Year_of_Release       Genre  \\\n",
       "2383                    Sleeping Dogs     X360         2,012.00      Action   \n",
       "7425              UFC Undisputed 2010      PSP         2,010.00    Fighting   \n",
       "460        LEGO Batman: The Videogame       DS         2,008.00      Action   \n",
       "6278    Dead Rising 2: Off the Record     X360         2,011.00      Action   \n",
       "4102              Crash of the Titans       DS         2,007.00      Action   \n",
       "3341   Call of Juarez: Bound in Blood     X360         2,009.00     Shooter   \n",
       "8257                          NHL 2K9     X360         2,008.00      Sports   \n",
       "13783       Hanaoni: Yume no Tsudzuki      PSP         2,012.00      Action   \n",
       "16238               Fernbus Simulator       PC         2,016.00  Simulation   \n",
       "1250                         Monopoly       PS         1,997.00        Misc   \n",
       "\n",
       "       NA_sales  EU_sales  JP_sales  Other_sales  Critic_Score User_Score  \\\n",
       "2383       0.38      0.40      0.01         0.08         80.00        7.9   \n",
       "7425       0.11      0.06      0.00         0.04         74.00          7   \n",
       "460        1.75      1.01      0.00         0.29         72.00          8   \n",
       "6278       0.17      0.08      0.00         0.02         72.00        7.5   \n",
       "4102       0.42      0.02      0.00         0.04         73.00        5.9   \n",
       "3341       0.30      0.24      0.00         0.06         77.00        7.6   \n",
       "8257       0.15      0.01      0.00         0.01         69.00        6.7   \n",
       "13783      0.00      0.00      0.04         0.00           NaN        NaN   \n",
       "16238      0.00      0.01      0.00         0.00           NaN        tbd   \n",
       "1250       1.18      0.27      0.00         0.05           NaN        NaN   \n",
       "\n",
       "      Rating  \n",
       "2383       M  \n",
       "7425       T  \n",
       "460     E10+  \n",
       "6278       M  \n",
       "4102       E  \n",
       "3341       M  \n",
       "8257    E10+  \n",
       "13783    NaN  \n",
       "16238    NaN  \n",
       "1250     NaN  "
      ]
     },
     "metadata": {},
     "output_type": "display_data"
    }
   ],
   "source": [
    "# загружаем файл с данными\n",
    "try:\n",
    "    df = pd.read_csv('datasets/data_08/games.csv') # locally hosted datafile ## , sep='\\t'\n",
    "except:\n",
    "    df = pd.read_csv('/datasets/games.csv') # Yandex-hosted datafile  ## , sep='\\t'\n",
    "\n",
    "# общий анализ структуры и состава загруженного файла\n",
    "df.info()\n",
    "print(\"\\nЧисло пропусков в данных:\\n\", df.isna().sum())\n",
    "display(df.sample(10))"
   ]
  },
  {
   "cell_type": "code",
   "execution_count": 3,
   "id": "10e769ff-3c19-45e8-a988-65d96607b20d",
   "metadata": {},
   "outputs": [
    {
     "data": {
      "text/html": [
       "<div>\n",
       "<style scoped>\n",
       "    .dataframe tbody tr th:only-of-type {\n",
       "        vertical-align: middle;\n",
       "    }\n",
       "\n",
       "    .dataframe tbody tr th {\n",
       "        vertical-align: top;\n",
       "    }\n",
       "\n",
       "    .dataframe thead th {\n",
       "        text-align: right;\n",
       "    }\n",
       "</style>\n",
       "<table border=\"1\" class=\"dataframe\">\n",
       "  <thead>\n",
       "    <tr style=\"text-align: right;\">\n",
       "      <th></th>\n",
       "      <th>Name</th>\n",
       "      <th>Platform</th>\n",
       "      <th>Year_of_Release</th>\n",
       "      <th>Genre</th>\n",
       "      <th>NA_sales</th>\n",
       "      <th>EU_sales</th>\n",
       "      <th>JP_sales</th>\n",
       "      <th>Other_sales</th>\n",
       "      <th>Critic_Score</th>\n",
       "      <th>User_Score</th>\n",
       "      <th>Rating</th>\n",
       "    </tr>\n",
       "  </thead>\n",
       "  <tbody>\n",
       "    <tr>\n",
       "      <th>4959</th>\n",
       "      <td>Silent Hill: Homecoming</td>\n",
       "      <td>PS3</td>\n",
       "      <td>NaN</td>\n",
       "      <td>Action</td>\n",
       "      <td>0.18</td>\n",
       "      <td>0.14</td>\n",
       "      <td>0.00</td>\n",
       "      <td>0.06</td>\n",
       "      <td>71.00</td>\n",
       "      <td>6.9</td>\n",
       "      <td>M</td>\n",
       "    </tr>\n",
       "    <tr>\n",
       "      <th>6818</th>\n",
       "      <td>BioShock 2</td>\n",
       "      <td>PC</td>\n",
       "      <td>NaN</td>\n",
       "      <td>Shooter</td>\n",
       "      <td>0.02</td>\n",
       "      <td>0.19</td>\n",
       "      <td>0.00</td>\n",
       "      <td>0.04</td>\n",
       "      <td>88.00</td>\n",
       "      <td>8</td>\n",
       "      <td>M</td>\n",
       "    </tr>\n",
       "    <tr>\n",
       "      <th>15675</th>\n",
       "      <td>Cabela's Alaskan Adventure</td>\n",
       "      <td>PS2</td>\n",
       "      <td>NaN</td>\n",
       "      <td>Sports</td>\n",
       "      <td>0.01</td>\n",
       "      <td>0.01</td>\n",
       "      <td>0.00</td>\n",
       "      <td>0.00</td>\n",
       "      <td>NaN</td>\n",
       "      <td>NaN</td>\n",
       "      <td>NaN</td>\n",
       "    </tr>\n",
       "    <tr>\n",
       "      <th>6773</th>\n",
       "      <td>Mega Man X Collection</td>\n",
       "      <td>PS2</td>\n",
       "      <td>NaN</td>\n",
       "      <td>Misc</td>\n",
       "      <td>0.12</td>\n",
       "      <td>0.09</td>\n",
       "      <td>0.00</td>\n",
       "      <td>0.03</td>\n",
       "      <td>73.00</td>\n",
       "      <td>8.8</td>\n",
       "      <td>E</td>\n",
       "    </tr>\n",
       "    <tr>\n",
       "      <th>5889</th>\n",
       "      <td>NBA Live 2003</td>\n",
       "      <td>GC</td>\n",
       "      <td>NaN</td>\n",
       "      <td>Sports</td>\n",
       "      <td>0.23</td>\n",
       "      <td>0.06</td>\n",
       "      <td>0.00</td>\n",
       "      <td>0.01</td>\n",
       "      <td>82.00</td>\n",
       "      <td>8.2</td>\n",
       "      <td>E</td>\n",
       "    </tr>\n",
       "    <tr>\n",
       "      <th>11550</th>\n",
       "      <td>Get Fit with Mel B</td>\n",
       "      <td>X360</td>\n",
       "      <td>NaN</td>\n",
       "      <td>Sports</td>\n",
       "      <td>0.00</td>\n",
       "      <td>0.06</td>\n",
       "      <td>0.00</td>\n",
       "      <td>0.01</td>\n",
       "      <td>57.00</td>\n",
       "      <td>NaN</td>\n",
       "      <td>E</td>\n",
       "    </tr>\n",
       "    <tr>\n",
       "      <th>11455</th>\n",
       "      <td>The Hidden</td>\n",
       "      <td>3DS</td>\n",
       "      <td>NaN</td>\n",
       "      <td>Adventure</td>\n",
       "      <td>0.08</td>\n",
       "      <td>0.00</td>\n",
       "      <td>0.00</td>\n",
       "      <td>0.01</td>\n",
       "      <td>NaN</td>\n",
       "      <td>4.2</td>\n",
       "      <td>E10+</td>\n",
       "    </tr>\n",
       "    <tr>\n",
       "      <th>3024</th>\n",
       "      <td>The Chronicles of Narnia: The Lion, The Witch ...</td>\n",
       "      <td>GBA</td>\n",
       "      <td>NaN</td>\n",
       "      <td>Action</td>\n",
       "      <td>0.48</td>\n",
       "      <td>0.18</td>\n",
       "      <td>0.00</td>\n",
       "      <td>0.01</td>\n",
       "      <td>66.00</td>\n",
       "      <td>6.8</td>\n",
       "      <td>E</td>\n",
       "    </tr>\n",
       "    <tr>\n",
       "      <th>12568</th>\n",
       "      <td>Prinny: Can I Really Be The Hero? (US sales)</td>\n",
       "      <td>PSP</td>\n",
       "      <td>NaN</td>\n",
       "      <td>Action</td>\n",
       "      <td>0.06</td>\n",
       "      <td>0.00</td>\n",
       "      <td>0.00</td>\n",
       "      <td>0.00</td>\n",
       "      <td>NaN</td>\n",
       "      <td>NaN</td>\n",
       "      <td>NaN</td>\n",
       "    </tr>\n",
       "    <tr>\n",
       "      <th>9827</th>\n",
       "      <td>WRC: FIA World Rally Championship</td>\n",
       "      <td>X360</td>\n",
       "      <td>NaN</td>\n",
       "      <td>Racing</td>\n",
       "      <td>0.00</td>\n",
       "      <td>0.10</td>\n",
       "      <td>0.00</td>\n",
       "      <td>0.02</td>\n",
       "      <td>66.00</td>\n",
       "      <td>6</td>\n",
       "      <td>E10+</td>\n",
       "    </tr>\n",
       "  </tbody>\n",
       "</table>\n",
       "</div>"
      ],
      "text/plain": [
       "                                                    Name Platform  \\\n",
       "4959                             Silent Hill: Homecoming      PS3   \n",
       "6818                                          BioShock 2       PC   \n",
       "15675                         Cabela's Alaskan Adventure      PS2   \n",
       "6773                               Mega Man X Collection      PS2   \n",
       "5889                                       NBA Live 2003       GC   \n",
       "11550                                 Get Fit with Mel B     X360   \n",
       "11455                                         The Hidden      3DS   \n",
       "3024   The Chronicles of Narnia: The Lion, The Witch ...      GBA   \n",
       "12568       Prinny: Can I Really Be The Hero? (US sales)      PSP   \n",
       "9827                   WRC: FIA World Rally Championship     X360   \n",
       "\n",
       "       Year_of_Release      Genre  NA_sales  EU_sales  JP_sales  Other_sales  \\\n",
       "4959               NaN     Action      0.18      0.14      0.00         0.06   \n",
       "6818               NaN    Shooter      0.02      0.19      0.00         0.04   \n",
       "15675              NaN     Sports      0.01      0.01      0.00         0.00   \n",
       "6773               NaN       Misc      0.12      0.09      0.00         0.03   \n",
       "5889               NaN     Sports      0.23      0.06      0.00         0.01   \n",
       "11550              NaN     Sports      0.00      0.06      0.00         0.01   \n",
       "11455              NaN  Adventure      0.08      0.00      0.00         0.01   \n",
       "3024               NaN     Action      0.48      0.18      0.00         0.01   \n",
       "12568              NaN     Action      0.06      0.00      0.00         0.00   \n",
       "9827               NaN     Racing      0.00      0.10      0.00         0.02   \n",
       "\n",
       "       Critic_Score User_Score Rating  \n",
       "4959          71.00        6.9      M  \n",
       "6818          88.00          8      M  \n",
       "15675           NaN        NaN    NaN  \n",
       "6773          73.00        8.8      E  \n",
       "5889          82.00        8.2      E  \n",
       "11550         57.00        NaN      E  \n",
       "11455           NaN        4.2   E10+  \n",
       "3024          66.00        6.8      E  \n",
       "12568           NaN        NaN    NaN  \n",
       "9827          66.00          6   E10+  "
      ]
     },
     "metadata": {},
     "output_type": "display_data"
    },
    {
     "data": {
      "text/plain": [
       "array(['Wii', 'NES', 'GB', 'DS', 'X360', 'PS3', 'PS2', 'SNES', 'GBA',\n",
       "       'PS4', '3DS', 'N64', 'PS', 'XB', 'PC', '2600', 'PSP', 'XOne',\n",
       "       'WiiU', 'GC', 'GEN', 'DC', 'PSV', 'SAT', 'SCD', 'WS', 'NG', 'TG16',\n",
       "       '3DO', 'GG', 'PCFX'], dtype=object)"
      ]
     },
     "metadata": {},
     "output_type": "display_data"
    },
    {
     "data": {
      "text/plain": [
       "array(['Sports', 'Platform', 'Racing', 'Role-Playing', 'Puzzle', 'Misc',\n",
       "       'Shooter', 'Simulation', 'Action', 'Fighting', 'Adventure',\n",
       "       'Strategy', nan], dtype=object)"
      ]
     },
     "metadata": {},
     "output_type": "display_data"
    },
    {
     "data": {
      "text/plain": [
       "array([76., nan, 82., 80., 89., 58., 87., 91., 61., 97., 95., 77., 88.,\n",
       "       83., 94., 93., 85., 86., 98., 96., 90., 84., 73., 74., 78., 92.,\n",
       "       71., 72., 68., 62., 49., 67., 81., 66., 56., 79., 70., 59., 64.,\n",
       "       75., 60., 63., 69., 50., 25., 42., 44., 55., 48., 57., 29., 47.,\n",
       "       65., 54., 20., 53., 37., 38., 33., 52., 30., 32., 43., 45., 51.,\n",
       "       40., 46., 39., 34., 35., 41., 36., 28., 31., 27., 26., 19., 23.,\n",
       "       24., 21., 17., 22., 13.])"
      ]
     },
     "metadata": {},
     "output_type": "display_data"
    },
    {
     "data": {
      "text/plain": [
       "array(['8', nan, '8.3', '8.5', '6.6', '8.4', '8.6', '7.7', '6.3', '7.4',\n",
       "       '8.2', '9', '7.9', '8.1', '8.7', '7.1', '3.4', '5.3', '4.8', '3.2',\n",
       "       '8.9', '6.4', '7.8', '7.5', '2.6', '7.2', '9.2', '7', '7.3', '4.3',\n",
       "       '7.6', '5.7', '5', '9.1', '6.5', 'tbd', '8.8', '6.9', '9.4', '6.8',\n",
       "       '6.1', '6.7', '5.4', '4', '4.9', '4.5', '9.3', '6.2', '4.2', '6',\n",
       "       '3.7', '4.1', '5.8', '5.6', '5.5', '4.4', '4.6', '5.9', '3.9',\n",
       "       '3.1', '2.9', '5.2', '3.3', '4.7', '5.1', '3.5', '2.5', '1.9', '3',\n",
       "       '2.7', '2.2', '2', '9.5', '2.1', '3.6', '2.8', '1.8', '3.8', '0',\n",
       "       '1.6', '9.6', '2.4', '1.7', '1.1', '0.3', '1.5', '0.7', '1.2',\n",
       "       '2.3', '0.5', '1.3', '0.2', '0.6', '1.4', '0.9', '1', '9.7'],\n",
       "      dtype=object)"
      ]
     },
     "metadata": {},
     "output_type": "display_data"
    },
    {
     "data": {
      "text/html": [
       "<div>\n",
       "<style scoped>\n",
       "    .dataframe tbody tr th:only-of-type {\n",
       "        vertical-align: middle;\n",
       "    }\n",
       "\n",
       "    .dataframe tbody tr th {\n",
       "        vertical-align: top;\n",
       "    }\n",
       "\n",
       "    .dataframe thead th {\n",
       "        text-align: right;\n",
       "    }\n",
       "</style>\n",
       "<table border=\"1\" class=\"dataframe\">\n",
       "  <thead>\n",
       "    <tr style=\"text-align: right;\">\n",
       "      <th></th>\n",
       "      <th>Name</th>\n",
       "      <th>Platform</th>\n",
       "      <th>Year_of_Release</th>\n",
       "      <th>Genre</th>\n",
       "      <th>NA_sales</th>\n",
       "      <th>EU_sales</th>\n",
       "      <th>JP_sales</th>\n",
       "      <th>Other_sales</th>\n",
       "      <th>Critic_Score</th>\n",
       "      <th>User_Score</th>\n",
       "      <th>Rating</th>\n",
       "    </tr>\n",
       "  </thead>\n",
       "  <tbody>\n",
       "    <tr>\n",
       "      <th>119</th>\n",
       "      <td>Zumba Fitness</td>\n",
       "      <td>Wii</td>\n",
       "      <td>2,010.00</td>\n",
       "      <td>Sports</td>\n",
       "      <td>3.45</td>\n",
       "      <td>2.59</td>\n",
       "      <td>0.00</td>\n",
       "      <td>0.66</td>\n",
       "      <td>NaN</td>\n",
       "      <td>tbd</td>\n",
       "      <td>E</td>\n",
       "    </tr>\n",
       "    <tr>\n",
       "      <th>301</th>\n",
       "      <td>Namco Museum: 50th Anniversary</td>\n",
       "      <td>PS2</td>\n",
       "      <td>2,005.00</td>\n",
       "      <td>Misc</td>\n",
       "      <td>2.08</td>\n",
       "      <td>1.35</td>\n",
       "      <td>0.00</td>\n",
       "      <td>0.54</td>\n",
       "      <td>61.00</td>\n",
       "      <td>tbd</td>\n",
       "      <td>E10+</td>\n",
       "    </tr>\n",
       "    <tr>\n",
       "      <th>520</th>\n",
       "      <td>Zumba Fitness 2</td>\n",
       "      <td>Wii</td>\n",
       "      <td>2,011.00</td>\n",
       "      <td>Sports</td>\n",
       "      <td>1.51</td>\n",
       "      <td>1.03</td>\n",
       "      <td>0.00</td>\n",
       "      <td>0.27</td>\n",
       "      <td>NaN</td>\n",
       "      <td>tbd</td>\n",
       "      <td>T</td>\n",
       "    </tr>\n",
       "    <tr>\n",
       "      <th>645</th>\n",
       "      <td>uDraw Studio</td>\n",
       "      <td>Wii</td>\n",
       "      <td>2,010.00</td>\n",
       "      <td>Misc</td>\n",
       "      <td>1.65</td>\n",
       "      <td>0.57</td>\n",
       "      <td>0.00</td>\n",
       "      <td>0.20</td>\n",
       "      <td>71.00</td>\n",
       "      <td>tbd</td>\n",
       "      <td>E</td>\n",
       "    </tr>\n",
       "    <tr>\n",
       "      <th>657</th>\n",
       "      <td>Frogger's Adventures: Temple of the Frog</td>\n",
       "      <td>GBA</td>\n",
       "      <td>NaN</td>\n",
       "      <td>Adventure</td>\n",
       "      <td>2.15</td>\n",
       "      <td>0.18</td>\n",
       "      <td>0.00</td>\n",
       "      <td>0.07</td>\n",
       "      <td>73.00</td>\n",
       "      <td>tbd</td>\n",
       "      <td>E</td>\n",
       "    </tr>\n",
       "    <tr>\n",
       "      <th>...</th>\n",
       "      <td>...</td>\n",
       "      <td>...</td>\n",
       "      <td>...</td>\n",
       "      <td>...</td>\n",
       "      <td>...</td>\n",
       "      <td>...</td>\n",
       "      <td>...</td>\n",
       "      <td>...</td>\n",
       "      <td>...</td>\n",
       "      <td>...</td>\n",
       "      <td>...</td>\n",
       "    </tr>\n",
       "    <tr>\n",
       "      <th>16695</th>\n",
       "      <td>Planet Monsters</td>\n",
       "      <td>GBA</td>\n",
       "      <td>2,001.00</td>\n",
       "      <td>Action</td>\n",
       "      <td>0.01</td>\n",
       "      <td>0.00</td>\n",
       "      <td>0.00</td>\n",
       "      <td>0.00</td>\n",
       "      <td>67.00</td>\n",
       "      <td>tbd</td>\n",
       "      <td>E</td>\n",
       "    </tr>\n",
       "    <tr>\n",
       "      <th>16697</th>\n",
       "      <td>Bust-A-Move 3000</td>\n",
       "      <td>GC</td>\n",
       "      <td>2,003.00</td>\n",
       "      <td>Puzzle</td>\n",
       "      <td>0.01</td>\n",
       "      <td>0.00</td>\n",
       "      <td>0.00</td>\n",
       "      <td>0.00</td>\n",
       "      <td>53.00</td>\n",
       "      <td>tbd</td>\n",
       "      <td>E</td>\n",
       "    </tr>\n",
       "    <tr>\n",
       "      <th>16698</th>\n",
       "      <td>Mega Brain Boost</td>\n",
       "      <td>DS</td>\n",
       "      <td>2,008.00</td>\n",
       "      <td>Puzzle</td>\n",
       "      <td>0.01</td>\n",
       "      <td>0.00</td>\n",
       "      <td>0.00</td>\n",
       "      <td>0.00</td>\n",
       "      <td>48.00</td>\n",
       "      <td>tbd</td>\n",
       "      <td>E</td>\n",
       "    </tr>\n",
       "    <tr>\n",
       "      <th>16704</th>\n",
       "      <td>Plushees</td>\n",
       "      <td>DS</td>\n",
       "      <td>2,008.00</td>\n",
       "      <td>Simulation</td>\n",
       "      <td>0.01</td>\n",
       "      <td>0.00</td>\n",
       "      <td>0.00</td>\n",
       "      <td>0.00</td>\n",
       "      <td>NaN</td>\n",
       "      <td>tbd</td>\n",
       "      <td>E</td>\n",
       "    </tr>\n",
       "    <tr>\n",
       "      <th>16706</th>\n",
       "      <td>Men in Black II: Alien Escape</td>\n",
       "      <td>GC</td>\n",
       "      <td>2,003.00</td>\n",
       "      <td>Shooter</td>\n",
       "      <td>0.01</td>\n",
       "      <td>0.00</td>\n",
       "      <td>0.00</td>\n",
       "      <td>0.00</td>\n",
       "      <td>NaN</td>\n",
       "      <td>tbd</td>\n",
       "      <td>T</td>\n",
       "    </tr>\n",
       "  </tbody>\n",
       "</table>\n",
       "<p>2424 rows × 11 columns</p>\n",
       "</div>"
      ],
      "text/plain": [
       "                                           Name Platform  Year_of_Release  \\\n",
       "119                               Zumba Fitness      Wii         2,010.00   \n",
       "301              Namco Museum: 50th Anniversary      PS2         2,005.00   \n",
       "520                             Zumba Fitness 2      Wii         2,011.00   \n",
       "645                                uDraw Studio      Wii         2,010.00   \n",
       "657    Frogger's Adventures: Temple of the Frog      GBA              NaN   \n",
       "...                                         ...      ...              ...   \n",
       "16695                           Planet Monsters      GBA         2,001.00   \n",
       "16697                          Bust-A-Move 3000       GC         2,003.00   \n",
       "16698                          Mega Brain Boost       DS         2,008.00   \n",
       "16704                                  Plushees       DS         2,008.00   \n",
       "16706             Men in Black II: Alien Escape       GC         2,003.00   \n",
       "\n",
       "            Genre  NA_sales  EU_sales  JP_sales  Other_sales  Critic_Score  \\\n",
       "119        Sports      3.45      2.59      0.00         0.66           NaN   \n",
       "301          Misc      2.08      1.35      0.00         0.54         61.00   \n",
       "520        Sports      1.51      1.03      0.00         0.27           NaN   \n",
       "645          Misc      1.65      0.57      0.00         0.20         71.00   \n",
       "657     Adventure      2.15      0.18      0.00         0.07         73.00   \n",
       "...           ...       ...       ...       ...          ...           ...   \n",
       "16695      Action      0.01      0.00      0.00         0.00         67.00   \n",
       "16697      Puzzle      0.01      0.00      0.00         0.00         53.00   \n",
       "16698      Puzzle      0.01      0.00      0.00         0.00         48.00   \n",
       "16704  Simulation      0.01      0.00      0.00         0.00           NaN   \n",
       "16706     Shooter      0.01      0.00      0.00         0.00           NaN   \n",
       "\n",
       "      User_Score Rating  \n",
       "119          tbd      E  \n",
       "301          tbd   E10+  \n",
       "520          tbd      T  \n",
       "645          tbd      E  \n",
       "657          tbd      E  \n",
       "...          ...    ...  \n",
       "16695        tbd      E  \n",
       "16697        tbd      E  \n",
       "16698        tbd      E  \n",
       "16704        tbd      E  \n",
       "16706        tbd      T  \n",
       "\n",
       "[2424 rows x 11 columns]"
      ]
     },
     "metadata": {},
     "output_type": "display_data"
    },
    {
     "data": {
      "text/plain": [
       "array(['E', nan, 'M', 'T', 'E10+', 'K-A', 'AO', 'EC', 'RP'], dtype=object)"
      ]
     },
     "metadata": {},
     "output_type": "display_data"
    },
    {
     "data": {
      "text/plain": [
       "E       3990\n",
       "T       2961\n",
       "M       1563\n",
       "E10+    1420\n",
       "EC         8\n",
       "RP         3\n",
       "K-A        3\n",
       "AO         1\n",
       "Name: Rating, dtype: int64"
      ]
     },
     "metadata": {},
     "output_type": "display_data"
    },
    {
     "data": {
      "text/html": [
       "<div>\n",
       "<style scoped>\n",
       "    .dataframe tbody tr th:only-of-type {\n",
       "        vertical-align: middle;\n",
       "    }\n",
       "\n",
       "    .dataframe tbody tr th {\n",
       "        vertical-align: top;\n",
       "    }\n",
       "\n",
       "    .dataframe thead th {\n",
       "        text-align: right;\n",
       "    }\n",
       "</style>\n",
       "<table border=\"1\" class=\"dataframe\">\n",
       "  <thead>\n",
       "    <tr style=\"text-align: right;\">\n",
       "      <th></th>\n",
       "      <th>Name</th>\n",
       "      <th>Platform</th>\n",
       "      <th>Year_of_Release</th>\n",
       "      <th>Genre</th>\n",
       "      <th>NA_sales</th>\n",
       "      <th>EU_sales</th>\n",
       "      <th>JP_sales</th>\n",
       "      <th>Other_sales</th>\n",
       "      <th>Critic_Score</th>\n",
       "      <th>User_Score</th>\n",
       "      <th>Rating</th>\n",
       "    </tr>\n",
       "  </thead>\n",
       "  <tbody>\n",
       "    <tr>\n",
       "      <th>13672</th>\n",
       "      <td>Clockwork Empires</td>\n",
       "      <td>PC</td>\n",
       "      <td>NaN</td>\n",
       "      <td>Strategy</td>\n",
       "      <td>0.00</td>\n",
       "      <td>0.04</td>\n",
       "      <td>0.00</td>\n",
       "      <td>0.00</td>\n",
       "      <td>58.00</td>\n",
       "      <td>3.8</td>\n",
       "      <td>RP</td>\n",
       "    </tr>\n",
       "    <tr>\n",
       "      <th>14270</th>\n",
       "      <td>Supreme Ruler: Cold War</td>\n",
       "      <td>PC</td>\n",
       "      <td>2,011.00</td>\n",
       "      <td>Strategy</td>\n",
       "      <td>0.00</td>\n",
       "      <td>0.03</td>\n",
       "      <td>0.00</td>\n",
       "      <td>0.01</td>\n",
       "      <td>63.00</td>\n",
       "      <td>6.8</td>\n",
       "      <td>RP</td>\n",
       "    </tr>\n",
       "    <tr>\n",
       "      <th>16180</th>\n",
       "      <td>WRC: FIA World Rally Championship</td>\n",
       "      <td>PC</td>\n",
       "      <td>NaN</td>\n",
       "      <td>Racing</td>\n",
       "      <td>0.00</td>\n",
       "      <td>0.01</td>\n",
       "      <td>0.00</td>\n",
       "      <td>0.00</td>\n",
       "      <td>65.00</td>\n",
       "      <td>NaN</td>\n",
       "      <td>RP</td>\n",
       "    </tr>\n",
       "  </tbody>\n",
       "</table>\n",
       "</div>"
      ],
      "text/plain": [
       "                                    Name Platform  Year_of_Release     Genre  \\\n",
       "13672                  Clockwork Empires       PC              NaN  Strategy   \n",
       "14270            Supreme Ruler: Cold War       PC         2,011.00  Strategy   \n",
       "16180  WRC: FIA World Rally Championship       PC              NaN    Racing   \n",
       "\n",
       "       NA_sales  EU_sales  JP_sales  Other_sales  Critic_Score User_Score  \\\n",
       "13672      0.00      0.04      0.00         0.00         58.00        3.8   \n",
       "14270      0.00      0.03      0.00         0.01         63.00        6.8   \n",
       "16180      0.00      0.01      0.00         0.00         65.00        NaN   \n",
       "\n",
       "      Rating  \n",
       "13672     RP  \n",
       "14270     RP  \n",
       "16180     RP  "
      ]
     },
     "metadata": {},
     "output_type": "display_data"
    },
    {
     "data": {
      "text/html": [
       "<div>\n",
       "<style scoped>\n",
       "    .dataframe tbody tr th:only-of-type {\n",
       "        vertical-align: middle;\n",
       "    }\n",
       "\n",
       "    .dataframe tbody tr th {\n",
       "        vertical-align: top;\n",
       "    }\n",
       "\n",
       "    .dataframe thead th {\n",
       "        text-align: right;\n",
       "    }\n",
       "</style>\n",
       "<table border=\"1\" class=\"dataframe\">\n",
       "  <thead>\n",
       "    <tr style=\"text-align: right;\">\n",
       "      <th></th>\n",
       "      <th>Name</th>\n",
       "      <th>Platform</th>\n",
       "      <th>Year_of_Release</th>\n",
       "      <th>Genre</th>\n",
       "      <th>NA_sales</th>\n",
       "      <th>EU_sales</th>\n",
       "      <th>JP_sales</th>\n",
       "      <th>Other_sales</th>\n",
       "      <th>Critic_Score</th>\n",
       "      <th>User_Score</th>\n",
       "      <th>Rating</th>\n",
       "    </tr>\n",
       "  </thead>\n",
       "  <tbody>\n",
       "    <tr>\n",
       "      <th>875</th>\n",
       "      <td>Grand Theft Auto: San Andreas</td>\n",
       "      <td>XB</td>\n",
       "      <td>2,005.00</td>\n",
       "      <td>Action</td>\n",
       "      <td>1.26</td>\n",
       "      <td>0.61</td>\n",
       "      <td>0.00</td>\n",
       "      <td>0.09</td>\n",
       "      <td>93.00</td>\n",
       "      <td>8.6</td>\n",
       "      <td>AO</td>\n",
       "    </tr>\n",
       "  </tbody>\n",
       "</table>\n",
       "</div>"
      ],
      "text/plain": [
       "                              Name Platform  Year_of_Release   Genre  \\\n",
       "875  Grand Theft Auto: San Andreas       XB         2,005.00  Action   \n",
       "\n",
       "     NA_sales  EU_sales  JP_sales  Other_sales  Critic_Score User_Score Rating  \n",
       "875      1.26      0.61      0.00         0.09         93.00        8.6     AO  "
      ]
     },
     "metadata": {},
     "output_type": "display_data"
    }
   ],
   "source": [
    "# сразу посмотрим некоторые странности\n",
    "display(df.query('Year_of_Release.isna()').sample(10))\n",
    "\n",
    "display(df.Platform.unique())\n",
    "\n",
    "display(df.Genre.unique())\n",
    "\n",
    "display(df.Critic_Score.unique())\n",
    "\n",
    "display(df.User_Score.unique())\n",
    "display(df.query(\"User_Score == 'tbd'\"))\n",
    "\n",
    "display(df.Rating.unique())\n",
    "display(df.Rating.value_counts())\n",
    "display(df.query(\"Rating == 'RP'\"))\n",
    "display(df.query(\"Rating == 'AO'\"))\n",
    "#Everyone (E) 1994–1998 (as K-A) 1998–present (as E)\n",
    "#EC (Early Childhood) 3+ --> E"
   ]
  },
  {
   "cell_type": "markdown",
   "id": "b88599cc-a50e-4cc6-91c4-0c8bb11e7574",
   "metadata": {},
   "source": [
    "## Выводы по шагу 1\n",
    "\n",
    "<div class=\"alert alert-block alert-info\">\n",
    "    <b class=\"alert-heading\"></b>\n",
    "</div>\n",
    "\n",
    "* В классификаторах дубли не выявлены\n",
    "* В данных есть пропуски: в колонках Name, Year_of_Release, Genre, Critic_Score, User_Score, Rating. Необходимо будет удалить строки или обработать пропуски.\n",
    "* Колонки названы в смешанном регистре, их необходимо будет переименовать.\n",
    "* Необходимо преобразовать тип данных колонок года выпуска, оценки критиков и пользователей\n",
    "* Колонка User_Score содержит 2424 значений 'tbd' - to be determined. Необходимо учитывать это при расчётах.\n",
    "* необходима дедупликация неявных значений колонки 'rating' и замена в ней пустых значений на специальное непустое"
   ]
  },
  {
   "cell_type": "markdown",
   "id": "a6140c12-a7b2-4569-870f-33d2149728b8",
   "metadata": {},
   "source": [
    "## Шаг 2. Подготовка данных\n",
    "План действий:\n",
    "* Оптимизировать названия столбцов.\n",
    "* Преобразовать данные в нужные типы и объяснить принцип замены.\n",
    "* Обработать пропуски.\n",
    "* Посчитать суммарные продажи во всех регионах в отдельном столбце."
   ]
  },
  {
   "cell_type": "code",
   "execution_count": 4,
   "id": "431f5766-7478-48c1-8451-595cc4b1b625",
   "metadata": {},
   "outputs": [
    {
     "data": {
      "text/plain": [
       "Index(['name', 'platform', 'year_of_release', 'genre', 'na_sales', 'eu_sales',\n",
       "       'jp_sales', 'other_sales', 'critic_score', 'user_score', 'rating'],\n",
       "      dtype='object')"
      ]
     },
     "execution_count": 4,
     "metadata": {},
     "output_type": "execute_result"
    }
   ],
   "source": [
    "#приведем названия стобцов к нижнем регистру\n",
    "###df.columns = ['name', 'platform', 'year_of_release', 'genre', 'na_sales', \n",
    "###                'eu_sales', 'jp_sales', 'other_sales', 'critic_score', 'user_score', 'rating']\n",
    "###df.head(2)\n",
    "\n",
    "df.columns = df.columns.str.lower()\n",
    "df.columns"
   ]
  },
  {
   "cell_type": "markdown",
   "id": "3ecfbb24-2502-4815-8336-aa0a6880b182",
   "metadata": {},
   "source": [
    "Игр с пустым названием и жанром всего две. Название и жанр являются ключевыми в анализе, восстановить пропущенные значения невозможно. В масштабах выборки это несущественный объём, поэтому - удалим их."
   ]
  },
  {
   "cell_type": "code",
   "execution_count": 5,
   "id": "83604a29-f352-446a-bf16-18d6f071e811",
   "metadata": {
    "tags": []
   },
   "outputs": [
    {
     "data": {
      "text/html": [
       "<div>\n",
       "<style scoped>\n",
       "    .dataframe tbody tr th:only-of-type {\n",
       "        vertical-align: middle;\n",
       "    }\n",
       "\n",
       "    .dataframe tbody tr th {\n",
       "        vertical-align: top;\n",
       "    }\n",
       "\n",
       "    .dataframe thead th {\n",
       "        text-align: right;\n",
       "    }\n",
       "</style>\n",
       "<table border=\"1\" class=\"dataframe\">\n",
       "  <thead>\n",
       "    <tr style=\"text-align: right;\">\n",
       "      <th></th>\n",
       "      <th>name</th>\n",
       "      <th>platform</th>\n",
       "      <th>year_of_release</th>\n",
       "      <th>genre</th>\n",
       "      <th>na_sales</th>\n",
       "      <th>eu_sales</th>\n",
       "      <th>jp_sales</th>\n",
       "      <th>other_sales</th>\n",
       "      <th>critic_score</th>\n",
       "      <th>user_score</th>\n",
       "      <th>rating</th>\n",
       "    </tr>\n",
       "  </thead>\n",
       "  <tbody>\n",
       "    <tr>\n",
       "      <th>659</th>\n",
       "      <td>NaN</td>\n",
       "      <td>GEN</td>\n",
       "      <td>1,993.00</td>\n",
       "      <td>NaN</td>\n",
       "      <td>1.78</td>\n",
       "      <td>0.53</td>\n",
       "      <td>0.00</td>\n",
       "      <td>0.08</td>\n",
       "      <td>NaN</td>\n",
       "      <td>NaN</td>\n",
       "      <td>NaN</td>\n",
       "    </tr>\n",
       "    <tr>\n",
       "      <th>14244</th>\n",
       "      <td>NaN</td>\n",
       "      <td>GEN</td>\n",
       "      <td>1,993.00</td>\n",
       "      <td>NaN</td>\n",
       "      <td>0.00</td>\n",
       "      <td>0.00</td>\n",
       "      <td>0.03</td>\n",
       "      <td>0.00</td>\n",
       "      <td>NaN</td>\n",
       "      <td>NaN</td>\n",
       "      <td>NaN</td>\n",
       "    </tr>\n",
       "  </tbody>\n",
       "</table>\n",
       "</div>"
      ],
      "text/plain": [
       "      name platform  year_of_release genre  na_sales  eu_sales  jp_sales  \\\n",
       "659    NaN      GEN         1,993.00   NaN      1.78      0.53      0.00   \n",
       "14244  NaN      GEN         1,993.00   NaN      0.00      0.00      0.03   \n",
       "\n",
       "       other_sales  critic_score user_score rating  \n",
       "659           0.08           NaN        NaN    NaN  \n",
       "14244         0.00           NaN        NaN    NaN  "
      ]
     },
     "metadata": {},
     "output_type": "display_data"
    }
   ],
   "source": [
    "# игры с пустым названием и жанром\n",
    "display(df.query('name.isna()'))\n",
    "df.dropna(subset=['name'], inplace=True)"
   ]
  },
  {
   "cell_type": "markdown",
   "id": "53babcb6-072d-4057-ae79-6d4461f87981",
   "metadata": {},
   "source": [
    "Столбцы year_of_release и critic_score необходимо преобразовать в Int, т.к. в них содержатся целочисленные данные.\n",
    "\n",
    "Отсутсвующий год игры можно попробовать восстановить из аналогичной игры для другой платформы. В этом случае большого разброса по годам быть не должно, для задач анализа это подходит.\n",
    "\n",
    "Остальные имеющиеся пропуски можно было бы восстановить из соответсвующих игровых онлайн-каталогов (вручную или через парсинг). \n",
    "Но, т.к. такие задачи в текущем проекте не ставятся, примем восстановление как невозможное в разумный срок с разумными трудозатратами.\n",
    "\n",
    "Заполнение пропусков с помощью средних/медианных значений в целом или по жанрам, или иных синтетических значений, выглядит методически неподходящей: по иеющейся аналитике  невозможно предсказать рейтинг игр, он может быть любым.\n",
    "Так как пустые значений np.NaN и pd.NA успешно игнорируются большинством инструментов pandas, оствим пропуски \"как есть\".\n",
    "\n",
    "Отдельно стоит сказать про значение 'tbd' в user_score. Так как это тоже отсутсвующий рейтинг, его необходимо будет преобразовать в NaN, после чего преобразовать тип колонки в вещественное число."
   ]
  },
  {
   "cell_type": "code",
   "execution_count": 6,
   "id": "2a6ad87d-11fa-444e-9ae8-57580638e746",
   "metadata": {},
   "outputs": [
    {
     "name": "stdout",
     "output_type": "stream",
     "text": [
      "Осталось игр без указания года:  146 \n",
      "\n"
     ]
    },
    {
     "data": {
      "text/plain": [
       "unk     6701\n",
       "E       3969\n",
       "T       2930\n",
       "M       1555\n",
       "E10+    1412\n",
       "Name: rating, dtype: int64"
      ]
     },
     "metadata": {},
     "output_type": "display_data"
    },
    {
     "data": {
      "text/plain": [
       "array([8. , nan, 8.3, 8.5, 6.6, 8.4, 8.6, 7.7, 6.3, 7.4, 8.2, 9. , 7.9,\n",
       "       8.1, 8.7, 7.1, 3.4, 5.3, 4.8, 3.2, 8.9, 6.4, 7.8, 7.5, 2.6, 7.2,\n",
       "       9.2, 7. , 7.3, 4.3, 7.6, 5.7, 5. , 9.1, 6.5, 8.8, 6.9, 9.4, 6.8,\n",
       "       6.1, 6.7, 5.4, 4. , 4.9, 4.5, 9.3, 6.2, 4.2, 6. , 3.7, 4.1, 5.8,\n",
       "       5.6, 5.5, 4.4, 4.6, 5.9, 3.9, 3.1, 2.9, 5.2, 3.3, 4.7, 5.1, 3.5,\n",
       "       2.5, 1.9, 3. , 2.7, 2.2, 2. , 9.5, 2.1, 3.6, 2.8, 1.8, 3.8, 0. ,\n",
       "       1.6, 9.6, 2.4, 1.7, 1.1, 0.3, 1.5, 0.7, 1.2, 2.3, 0.5, 1.3, 0.2,\n",
       "       0.6, 1.4, 0.9, 1. , 9.7])"
      ]
     },
     "metadata": {},
     "output_type": "display_data"
    },
    {
     "data": {
      "text/html": [
       "<div>\n",
       "<style scoped>\n",
       "    .dataframe tbody tr th:only-of-type {\n",
       "        vertical-align: middle;\n",
       "    }\n",
       "\n",
       "    .dataframe tbody tr th {\n",
       "        vertical-align: top;\n",
       "    }\n",
       "\n",
       "    .dataframe thead th {\n",
       "        text-align: right;\n",
       "    }\n",
       "</style>\n",
       "<table border=\"1\" class=\"dataframe\">\n",
       "  <thead>\n",
       "    <tr style=\"text-align: right;\">\n",
       "      <th></th>\n",
       "      <th>name</th>\n",
       "      <th>platform</th>\n",
       "      <th>year_of_release</th>\n",
       "      <th>genre</th>\n",
       "      <th>na_sales</th>\n",
       "      <th>eu_sales</th>\n",
       "      <th>jp_sales</th>\n",
       "      <th>other_sales</th>\n",
       "      <th>critic_score</th>\n",
       "      <th>user_score</th>\n",
       "      <th>rating</th>\n",
       "      <th>sales_total</th>\n",
       "      <th>user_score_10x</th>\n",
       "    </tr>\n",
       "  </thead>\n",
       "  <tbody>\n",
       "    <tr>\n",
       "      <th>5630</th>\n",
       "      <td>Persona 4: Dancing All Night</td>\n",
       "      <td>PSV</td>\n",
       "      <td>2015</td>\n",
       "      <td>Misc</td>\n",
       "      <td>0.09</td>\n",
       "      <td>0.04</td>\n",
       "      <td>0.15</td>\n",
       "      <td>0.04</td>\n",
       "      <td>76</td>\n",
       "      <td>8.60</td>\n",
       "      <td>T</td>\n",
       "      <td>0.32</td>\n",
       "      <td>86.00</td>\n",
       "    </tr>\n",
       "    <tr>\n",
       "      <th>8532</th>\n",
       "      <td>Dr. Muto</td>\n",
       "      <td>PS2</td>\n",
       "      <td>2002</td>\n",
       "      <td>Platform</td>\n",
       "      <td>0.08</td>\n",
       "      <td>0.06</td>\n",
       "      <td>0.00</td>\n",
       "      <td>0.02</td>\n",
       "      <td>&lt;NA&gt;</td>\n",
       "      <td>NaN</td>\n",
       "      <td>unk</td>\n",
       "      <td>0.16</td>\n",
       "      <td>NaN</td>\n",
       "    </tr>\n",
       "    <tr>\n",
       "      <th>1006</th>\n",
       "      <td>Pro Evolution Soccer</td>\n",
       "      <td>PS2</td>\n",
       "      <td>2001</td>\n",
       "      <td>Sports</td>\n",
       "      <td>0.06</td>\n",
       "      <td>0.90</td>\n",
       "      <td>0.53</td>\n",
       "      <td>0.27</td>\n",
       "      <td>&lt;NA&gt;</td>\n",
       "      <td>NaN</td>\n",
       "      <td>unk</td>\n",
       "      <td>1.76</td>\n",
       "      <td>NaN</td>\n",
       "    </tr>\n",
       "    <tr>\n",
       "      <th>599</th>\n",
       "      <td>Ratchet &amp; Clank Future: Tools of Destruction</td>\n",
       "      <td>PS3</td>\n",
       "      <td>2007</td>\n",
       "      <td>Platform</td>\n",
       "      <td>0.93</td>\n",
       "      <td>1.10</td>\n",
       "      <td>0.08</td>\n",
       "      <td>0.45</td>\n",
       "      <td>&lt;NA&gt;</td>\n",
       "      <td>NaN</td>\n",
       "      <td>unk</td>\n",
       "      <td>2.56</td>\n",
       "      <td>NaN</td>\n",
       "    </tr>\n",
       "    <tr>\n",
       "      <th>8111</th>\n",
       "      <td>Sing4: The Hits Edition</td>\n",
       "      <td>Wii</td>\n",
       "      <td>2011</td>\n",
       "      <td>Misc</td>\n",
       "      <td>0.17</td>\n",
       "      <td>0.00</td>\n",
       "      <td>0.00</td>\n",
       "      <td>0.01</td>\n",
       "      <td>&lt;NA&gt;</td>\n",
       "      <td>NaN</td>\n",
       "      <td>T</td>\n",
       "      <td>0.18</td>\n",
       "      <td>NaN</td>\n",
       "    </tr>\n",
       "    <tr>\n",
       "      <th>12981</th>\n",
       "      <td>Domino Rally</td>\n",
       "      <td>Wii</td>\n",
       "      <td>2007</td>\n",
       "      <td>Action</td>\n",
       "      <td>0.05</td>\n",
       "      <td>0.00</td>\n",
       "      <td>0.00</td>\n",
       "      <td>0.00</td>\n",
       "      <td>57</td>\n",
       "      <td>NaN</td>\n",
       "      <td>E</td>\n",
       "      <td>0.05</td>\n",
       "      <td>NaN</td>\n",
       "    </tr>\n",
       "    <tr>\n",
       "      <th>15668</th>\n",
       "      <td>Entaku no Seito: The Eternal Legend</td>\n",
       "      <td>PSP</td>\n",
       "      <td>2012</td>\n",
       "      <td>Role-Playing</td>\n",
       "      <td>0.00</td>\n",
       "      <td>0.00</td>\n",
       "      <td>0.02</td>\n",
       "      <td>0.00</td>\n",
       "      <td>&lt;NA&gt;</td>\n",
       "      <td>NaN</td>\n",
       "      <td>unk</td>\n",
       "      <td>0.02</td>\n",
       "      <td>NaN</td>\n",
       "    </tr>\n",
       "    <tr>\n",
       "      <th>11196</th>\n",
       "      <td>Henry Hatsworth in the Puzzling Adventure</td>\n",
       "      <td>DS</td>\n",
       "      <td>2009</td>\n",
       "      <td>Puzzle</td>\n",
       "      <td>0.08</td>\n",
       "      <td>0.00</td>\n",
       "      <td>0.00</td>\n",
       "      <td>0.01</td>\n",
       "      <td>82</td>\n",
       "      <td>8.00</td>\n",
       "      <td>E</td>\n",
       "      <td>0.09</td>\n",
       "      <td>80.00</td>\n",
       "    </tr>\n",
       "    <tr>\n",
       "      <th>1425</th>\n",
       "      <td>Dragon Quest III: Soshite Densetsu e...</td>\n",
       "      <td>SNES</td>\n",
       "      <td>1996</td>\n",
       "      <td>Role-Playing</td>\n",
       "      <td>0.00</td>\n",
       "      <td>0.00</td>\n",
       "      <td>1.36</td>\n",
       "      <td>0.00</td>\n",
       "      <td>&lt;NA&gt;</td>\n",
       "      <td>NaN</td>\n",
       "      <td>unk</td>\n",
       "      <td>1.36</td>\n",
       "      <td>NaN</td>\n",
       "    </tr>\n",
       "    <tr>\n",
       "      <th>16669</th>\n",
       "      <td>Super Robot Taisen: Original Generation</td>\n",
       "      <td>GBA</td>\n",
       "      <td>2002</td>\n",
       "      <td>Role-Playing</td>\n",
       "      <td>0.01</td>\n",
       "      <td>0.00</td>\n",
       "      <td>0.00</td>\n",
       "      <td>0.00</td>\n",
       "      <td>72</td>\n",
       "      <td>NaN</td>\n",
       "      <td>T</td>\n",
       "      <td>0.01</td>\n",
       "      <td>NaN</td>\n",
       "    </tr>\n",
       "  </tbody>\n",
       "</table>\n",
       "</div>"
      ],
      "text/plain": [
       "                                               name platform  year_of_release  \\\n",
       "5630                   Persona 4: Dancing All Night      PSV             2015   \n",
       "8532                                       Dr. Muto      PS2             2002   \n",
       "1006                           Pro Evolution Soccer      PS2             2001   \n",
       "599    Ratchet & Clank Future: Tools of Destruction      PS3             2007   \n",
       "8111                        Sing4: The Hits Edition      Wii             2011   \n",
       "12981                                  Domino Rally      Wii             2007   \n",
       "15668           Entaku no Seito: The Eternal Legend      PSP             2012   \n",
       "11196     Henry Hatsworth in the Puzzling Adventure       DS             2009   \n",
       "1425        Dragon Quest III: Soshite Densetsu e...     SNES             1996   \n",
       "16669       Super Robot Taisen: Original Generation      GBA             2002   \n",
       "\n",
       "              genre  na_sales  eu_sales  jp_sales  other_sales  critic_score  \\\n",
       "5630           Misc      0.09      0.04      0.15         0.04            76   \n",
       "8532       Platform      0.08      0.06      0.00         0.02          <NA>   \n",
       "1006         Sports      0.06      0.90      0.53         0.27          <NA>   \n",
       "599        Platform      0.93      1.10      0.08         0.45          <NA>   \n",
       "8111           Misc      0.17      0.00      0.00         0.01          <NA>   \n",
       "12981        Action      0.05      0.00      0.00         0.00            57   \n",
       "15668  Role-Playing      0.00      0.00      0.02         0.00          <NA>   \n",
       "11196        Puzzle      0.08      0.00      0.00         0.01            82   \n",
       "1425   Role-Playing      0.00      0.00      1.36         0.00          <NA>   \n",
       "16669  Role-Playing      0.01      0.00      0.00         0.00            72   \n",
       "\n",
       "       user_score rating  sales_total  user_score_10x  \n",
       "5630         8.60      T         0.32           86.00  \n",
       "8532          NaN    unk         0.16             NaN  \n",
       "1006          NaN    unk         1.76             NaN  \n",
       "599           NaN    unk         2.56             NaN  \n",
       "8111          NaN      T         0.18             NaN  \n",
       "12981         NaN      E         0.05             NaN  \n",
       "15668         NaN    unk         0.02             NaN  \n",
       "11196        8.00      E         0.09           80.00  \n",
       "1425          NaN    unk         1.36             NaN  \n",
       "16669         NaN      T         0.01             NaN  "
      ]
     },
     "metadata": {},
     "output_type": "display_data"
    },
    {
     "data": {
      "text/html": [
       "<div>\n",
       "<style scoped>\n",
       "    .dataframe tbody tr th:only-of-type {\n",
       "        vertical-align: middle;\n",
       "    }\n",
       "\n",
       "    .dataframe tbody tr th {\n",
       "        vertical-align: top;\n",
       "    }\n",
       "\n",
       "    .dataframe thead th {\n",
       "        text-align: right;\n",
       "    }\n",
       "</style>\n",
       "<table border=\"1\" class=\"dataframe\">\n",
       "  <thead>\n",
       "    <tr style=\"text-align: right;\">\n",
       "      <th></th>\n",
       "      <th>year_of_release</th>\n",
       "      <th>na_sales</th>\n",
       "      <th>eu_sales</th>\n",
       "      <th>jp_sales</th>\n",
       "      <th>other_sales</th>\n",
       "      <th>critic_score</th>\n",
       "      <th>user_score</th>\n",
       "      <th>sales_total</th>\n",
       "      <th>user_score_10x</th>\n",
       "    </tr>\n",
       "  </thead>\n",
       "  <tbody>\n",
       "    <tr>\n",
       "      <th>count</th>\n",
       "      <td>16,567.00</td>\n",
       "      <td>16,567.00</td>\n",
       "      <td>16,567.00</td>\n",
       "      <td>16,567.00</td>\n",
       "      <td>16,567.00</td>\n",
       "      <td>8,075.00</td>\n",
       "      <td>7,540.00</td>\n",
       "      <td>16,567.00</td>\n",
       "      <td>7,540.00</td>\n",
       "    </tr>\n",
       "    <tr>\n",
       "      <th>mean</th>\n",
       "      <td>2,006.49</td>\n",
       "      <td>0.26</td>\n",
       "      <td>0.15</td>\n",
       "      <td>0.08</td>\n",
       "      <td>0.05</td>\n",
       "      <td>68.99</td>\n",
       "      <td>7.13</td>\n",
       "      <td>0.54</td>\n",
       "      <td>71.25</td>\n",
       "    </tr>\n",
       "    <tr>\n",
       "      <th>std</th>\n",
       "      <td>5.86</td>\n",
       "      <td>0.82</td>\n",
       "      <td>0.51</td>\n",
       "      <td>0.31</td>\n",
       "      <td>0.19</td>\n",
       "      <td>13.92</td>\n",
       "      <td>1.50</td>\n",
       "      <td>1.55</td>\n",
       "      <td>14.98</td>\n",
       "    </tr>\n",
       "    <tr>\n",
       "      <th>min</th>\n",
       "      <td>1,980.00</td>\n",
       "      <td>0.00</td>\n",
       "      <td>0.00</td>\n",
       "      <td>0.00</td>\n",
       "      <td>0.00</td>\n",
       "      <td>13.00</td>\n",
       "      <td>0.00</td>\n",
       "      <td>0.00</td>\n",
       "      <td>0.00</td>\n",
       "    </tr>\n",
       "    <tr>\n",
       "      <th>25%</th>\n",
       "      <td>2,003.00</td>\n",
       "      <td>0.00</td>\n",
       "      <td>0.00</td>\n",
       "      <td>0.00</td>\n",
       "      <td>0.00</td>\n",
       "      <td>60.00</td>\n",
       "      <td>6.40</td>\n",
       "      <td>0.06</td>\n",
       "      <td>64.00</td>\n",
       "    </tr>\n",
       "    <tr>\n",
       "      <th>50%</th>\n",
       "      <td>2,007.00</td>\n",
       "      <td>0.08</td>\n",
       "      <td>0.02</td>\n",
       "      <td>0.00</td>\n",
       "      <td>0.01</td>\n",
       "      <td>71.00</td>\n",
       "      <td>7.50</td>\n",
       "      <td>0.17</td>\n",
       "      <td>75.00</td>\n",
       "    </tr>\n",
       "    <tr>\n",
       "      <th>75%</th>\n",
       "      <td>2,010.00</td>\n",
       "      <td>0.24</td>\n",
       "      <td>0.11</td>\n",
       "      <td>0.04</td>\n",
       "      <td>0.03</td>\n",
       "      <td>79.00</td>\n",
       "      <td>8.20</td>\n",
       "      <td>0.47</td>\n",
       "      <td>82.00</td>\n",
       "    </tr>\n",
       "    <tr>\n",
       "      <th>max</th>\n",
       "      <td>2,016.00</td>\n",
       "      <td>41.36</td>\n",
       "      <td>28.96</td>\n",
       "      <td>10.22</td>\n",
       "      <td>10.57</td>\n",
       "      <td>98.00</td>\n",
       "      <td>9.70</td>\n",
       "      <td>82.54</td>\n",
       "      <td>97.00</td>\n",
       "    </tr>\n",
       "  </tbody>\n",
       "</table>\n",
       "</div>"
      ],
      "text/plain": [
       "       year_of_release  na_sales  eu_sales  jp_sales  other_sales  \\\n",
       "count        16,567.00 16,567.00 16,567.00 16,567.00    16,567.00   \n",
       "mean          2,006.49      0.26      0.15      0.08         0.05   \n",
       "std               5.86      0.82      0.51      0.31         0.19   \n",
       "min           1,980.00      0.00      0.00      0.00         0.00   \n",
       "25%           2,003.00      0.00      0.00      0.00         0.00   \n",
       "50%           2,007.00      0.08      0.02      0.00         0.01   \n",
       "75%           2,010.00      0.24      0.11      0.04         0.03   \n",
       "max           2,016.00     41.36     28.96     10.22        10.57   \n",
       "\n",
       "       critic_score  user_score  sales_total  user_score_10x  \n",
       "count      8,075.00    7,540.00    16,567.00        7,540.00  \n",
       "mean          68.99        7.13         0.54           71.25  \n",
       "std           13.92        1.50         1.55           14.98  \n",
       "min           13.00        0.00         0.00            0.00  \n",
       "25%           60.00        6.40         0.06           64.00  \n",
       "50%           71.00        7.50         0.17           75.00  \n",
       "75%           79.00        8.20         0.47           82.00  \n",
       "max           98.00        9.70        82.54           97.00  "
      ]
     },
     "metadata": {},
     "output_type": "display_data"
    },
    {
     "name": "stdout",
     "output_type": "stream",
     "text": [
      "<class 'pandas.core.frame.DataFrame'>\n",
      "Int64Index: 16567 entries, 0 to 16714\n",
      "Data columns (total 13 columns):\n",
      " #   Column           Non-Null Count  Dtype  \n",
      "---  ------           --------------  -----  \n",
      " 0   name             16567 non-null  object \n",
      " 1   platform         16567 non-null  object \n",
      " 2   year_of_release  16567 non-null  Int64  \n",
      " 3   genre            16567 non-null  object \n",
      " 4   na_sales         16567 non-null  float64\n",
      " 5   eu_sales         16567 non-null  float64\n",
      " 6   jp_sales         16567 non-null  float64\n",
      " 7   other_sales      16567 non-null  float64\n",
      " 8   critic_score     8075 non-null   Int64  \n",
      " 9   user_score       7540 non-null   float64\n",
      " 10  rating           16567 non-null  object \n",
      " 11  sales_total      16567 non-null  float64\n",
      " 12  user_score_10x   7540 non-null   float64\n",
      "dtypes: Int64(2), float64(7), object(4)\n",
      "memory usage: 1.8+ MB\n"
     ]
    }
   ],
   "source": [
    "# преобразование типов данных колонок\n",
    "##df_games.year_of_release = df_games.year_of_release.astype(np.int64)\n",
    "df.year_of_release = df.year_of_release.astype('Int64')\n",
    "df.critic_score = df.critic_score.astype('Int64')\n",
    "\n",
    "\n",
    "# сделаем установку года игр с совпадающим названием\n",
    "for i in df[df['year_of_release'].isnull() == True].index:  \n",
    "    df['year_of_release'][i] = df.loc[df['name'] == df['name'][i], 'year_of_release'].max()\n",
    "    \n",
    "#Посмотрим сколько удалось заполнить пустых значений\n",
    "print(\"Осталось игр без указания года: \", df['year_of_release'].isna().sum(), \"\\n\")\n",
    "\n",
    "## удалим оставшиеся игры без указания года - это менее 1% от объёма выборки\n",
    "df.dropna(subset=['year_of_release'], inplace=True)\n",
    "\n",
    "# приведём все неизвестные значения рейтинга к NaN\n",
    "df.loc[df['user_score'] == \"tbd\",'user_score'] = np.NaN\n",
    "df.user_score = df.user_score.astype('float64')\n",
    "\n",
    "### обработаем рейтинг:\n",
    "# в рамках проекта нет смысла хранить целую одну запись с рейтингом AO. Объедимим с наиболее близким по сути -- Mature.\n",
    "df.loc[df['rating'] == \"AO\",'rating'] = \"M\"\n",
    "df.loc[df['rating'] == \"EC\",'rating'] = \"E\"\n",
    "df.loc[df['rating'] == \"K-A\",'rating'] = \"E\"\n",
    "df.loc[df['rating'] == \"RP\",'rating'] = np.NaN\n",
    "\n",
    "### Заменим пропуски в рейтинге на специальное \"магическое\" строковое значение\n",
    "df.loc[df['rating'].isna(),'rating'] = \"unk\"\n",
    "\n",
    "display(df.rating.value_counts())\n",
    "\n",
    "# считаем суммарные продажи во всех регионах и запишите их в отдельный столбец.\n",
    "###df['sales_total'] = df.na_sales + df.eu_sales + df.jp_sales + df.other_sales\n",
    "df['sales_total'] = df[['na_sales','eu_sales','jp_sales', 'other_sales']].sum(axis = 1)\n",
    "\n",
    "# пользовательский коэффициент оценки - 10-балльный. Для отображения на одной оси с оценками критиков умножим его на 10\n",
    "df.loc[:,'user_score_10x'] = (df['user_score'] * 10)\n",
    "\n",
    "# объективный контроль изменений\n",
    "display(df.user_score.unique())\n",
    "display(df.sample(10))\n",
    "display(df.describe())\n",
    "df.info()"
   ]
  },
  {
   "cell_type": "code",
   "execution_count": 7,
   "id": "6a3d120b-3402-4cc6-8770-f2740c474df8",
   "metadata": {},
   "outputs": [
    {
     "data": {
      "text/plain": [
       "0"
      ]
     },
     "execution_count": 7,
     "metadata": {},
     "output_type": "execute_result"
    }
   ],
   "source": [
    "#прверим данные на наличие полных дубликатов\n",
    "df.duplicated().sum()"
   ]
  },
  {
   "cell_type": "markdown",
   "id": "dacb2813-a404-45ff-b65e-59867a9ff554",
   "metadata": {},
   "source": [
    "## Выводы по шагу 2\n",
    "\n",
    "<div class=\"alert alert-block alert-info\">\n",
    "    <b class=\"alert-heading\"></b>\n",
    "</div>\n",
    "\n",
    "* Все колонки переименованы в нижний регистр.\n",
    "* Удалены две строки с пустым названием и жанром.\n",
    "* Пропуски года релиза частично восстановлены по аналогичным играм для друих платформ. Остальные восстановить невозможно, поэтому они оставлены как незаполненные. Большинство инструментов pandas будут их игнорировать.\n",
    "* Колонки year_of_release, critic_score преобразованы в Int64 с сохранением пропусков.\n",
    "* В колонке user_score значение 'tbd' приведено к общему значению пропусков - np.NaN.\n",
    "* Добавлена колонка sales_total с суммарными продажами по всем регионам\n",
    "* проведена дедупликация неявных значений колонки 'rating', пустые значения заменены на 'unk'"
   ]
  },
  {
   "cell_type": "markdown",
   "id": "7aa4fe22-0f15-4c25-a443-a127d754313b",
   "metadata": {},
   "source": [
    "## Шаг 3. Исследовательский анализ данных\n",
    "План:\n",
    "* Определить максимальную глубину анализа данных.\n",
    "* Оценить изменение продаж по платформам.\n",
    "* Выбрать платформы с наибольшими суммарными продажами и оценить их жизненный цикл.\n",
    "* Определить актуальный период данных для прогноза на 2017 год.\n",
    "* Выбрать несколько потенциально прибыльных платформ.\n",
    "* Построить график «ящик с усами» по глобальным продажам игр в разбивке по платформам.\n",
    "* Оценить влияние на продажи отзывов пользователей и критиков внутри одной популярной платформы.\n",
    "* Оценить общее распределение игр по жанрам. Дать характеристику самым прибыльных жанрам."
   ]
  },
  {
   "cell_type": "code",
   "execution_count": 8,
   "id": "25f2d458-b742-4ba8-b25b-42efcbce9a13",
   "metadata": {},
   "outputs": [
    {
     "data": {
      "text/plain": [
       "Text(0.5, 1.0, 'График выпущенных игр по годам')"
      ]
     },
     "execution_count": 8,
     "metadata": {},
     "output_type": "execute_result"
    },
    {
     "data": {
      "image/png": "[encoded data removed]",
      "text/plain": [
       "<Figure size 1440x576 with 1 Axes>"
      ]
     },
     "metadata": {
      "needs_background": "light"
     },
     "output_type": "display_data"
    }
   ],
   "source": [
    "#создадим сводную таблицу\n",
    "year_of_release = df.pivot_table(index='year_of_release', values='sales_total', aggfunc='count')\n",
    "year_of_release.columns = ['count']\n",
    "\n",
    "#потроим график\n",
    "f, ax = plt.subplots(figsize=(20, 8))\n",
    "ax = sns.barplot(x=year_of_release.index, y=\"count\", data=year_of_release, palette=\"Blues_d\")\n",
    "plt.title('График выпущенных игр по годам')"
   ]
  },
  {
   "cell_type": "markdown",
   "id": "3230df8b-4c49-4ac4-8d39-e8c6edd43188",
   "metadata": {},
   "source": [
    "* Данными до 1994 года можно пренебречь.\n",
    "* С 2001 года наблюдается бурный рост, связанный с резким ростом технологических возможностей и распространённости компьютеров и игровых систем.\n",
    "* Пик приходится на 2007-2011 годы. Далее можно говорить о появлении такого мощного игрока, как мобильные игры, тенденции к переходу рынка на игры-сервисы и общему кризису в стане производителей AAA-игр."
   ]
  },
  {
   "cell_type": "code",
   "execution_count": 9,
   "id": "9d443cbb-913e-4c76-85e0-488cb214f5ba",
   "metadata": {},
   "outputs": [
    {
     "data": {
      "text/plain": [
       "Text(0, 0.5, 'Объём продаж (млн. копий)')"
      ]
     },
     "execution_count": 9,
     "metadata": {},
     "output_type": "execute_result"
    },
    {
     "data": {
      "image/png": "[encoded data removed]",
      "text/plain": [
       "<Figure size 1440x576 with 1 Axes>"
      ]
     },
     "metadata": {
      "needs_background": "light"
     },
     "output_type": "display_data"
    }
   ],
   "source": [
    "# Посмотрите, как менялись продажи по платформам.\n",
    "# Выберите платформы с наибольшими суммарными продажами и постройте распределение по годам.\n",
    "# За какой характерный срок появляются новые и исчезают старые платформы?\n",
    "\n",
    "total_platform_sales = df.pivot_table(index='platform', values='sales_total', aggfunc='sum').sort_values(by='sales_total', ascending=False)\n",
    "\n",
    "plt.figure(figsize=(20,8))\n",
    "sns.barplot(x=total_platform_sales.index,y=total_platform_sales['sales_total'])\n",
    "plt.title(\"Продажи по платформам\")\n",
    "plt.xlabel(\"Платформа\")\n",
    "plt.ylabel(\"Объём продаж (млн. копий)\")"
   ]
  },
  {
   "cell_type": "markdown",
   "id": "e55ccd95-b491-4046-bb94-397a342325b7",
   "metadata": {},
   "source": [
    "С большим отрывом по объёму проданных копий лидируют шесть игровых платформ: PS2, X360, PS3, WII, DS, PS.\n",
    "\n",
    "Но это по данным за весь период, для построения длинных графиков.\n",
    "\n",
    "Позже будет отдельный отбор по актуальным для анализа данным."
   ]
  },
  {
   "cell_type": "code",
   "execution_count": 10,
   "id": "d664a460-b24e-4380-8a26-0ecad073c0a2",
   "metadata": {},
   "outputs": [
    {
     "data": {
      "text/html": [
       "<div>\n",
       "<style scoped>\n",
       "    .dataframe tbody tr th:only-of-type {\n",
       "        vertical-align: middle;\n",
       "    }\n",
       "\n",
       "    .dataframe tbody tr th {\n",
       "        vertical-align: top;\n",
       "    }\n",
       "\n",
       "    .dataframe thead th {\n",
       "        text-align: right;\n",
       "    }\n",
       "</style>\n",
       "<table border=\"1\" class=\"dataframe\">\n",
       "  <thead>\n",
       "    <tr style=\"text-align: right;\">\n",
       "      <th></th>\n",
       "      <th>platform</th>\n",
       "      <th>sales_total</th>\n",
       "    </tr>\n",
       "  </thead>\n",
       "  <tbody>\n",
       "    <tr>\n",
       "      <th>0</th>\n",
       "      <td>PS2</td>\n",
       "      <td>1,247.16</td>\n",
       "    </tr>\n",
       "    <tr>\n",
       "      <th>1</th>\n",
       "      <td>X360</td>\n",
       "      <td>966.61</td>\n",
       "    </tr>\n",
       "    <tr>\n",
       "      <th>2</th>\n",
       "      <td>PS3</td>\n",
       "      <td>935.19</td>\n",
       "    </tr>\n",
       "    <tr>\n",
       "      <th>3</th>\n",
       "      <td>Wii</td>\n",
       "      <td>903.31</td>\n",
       "    </tr>\n",
       "    <tr>\n",
       "      <th>4</th>\n",
       "      <td>DS</td>\n",
       "      <td>804.28</td>\n",
       "    </tr>\n",
       "    <tr>\n",
       "      <th>5</th>\n",
       "      <td>PS</td>\n",
       "      <td>727.58</td>\n",
       "    </tr>\n",
       "    <tr>\n",
       "      <th>6</th>\n",
       "      <td>PS4</td>\n",
       "      <td>314.14</td>\n",
       "    </tr>\n",
       "    <tr>\n",
       "      <th>7</th>\n",
       "      <td>GBA</td>\n",
       "      <td>313.73</td>\n",
       "    </tr>\n",
       "    <tr>\n",
       "      <th>8</th>\n",
       "      <td>PSP</td>\n",
       "      <td>293.57</td>\n",
       "    </tr>\n",
       "    <tr>\n",
       "      <th>9</th>\n",
       "      <td>PC</td>\n",
       "      <td>258.86</td>\n",
       "    </tr>\n",
       "  </tbody>\n",
       "</table>\n",
       "</div>"
      ],
      "text/plain": [
       "  platform  sales_total\n",
       "0      PS2     1,247.16\n",
       "1     X360       966.61\n",
       "2      PS3       935.19\n",
       "3      Wii       903.31\n",
       "4       DS       804.28\n",
       "5       PS       727.58\n",
       "6      PS4       314.14\n",
       "7      GBA       313.73\n",
       "8      PSP       293.57\n",
       "9       PC       258.86"
      ]
     },
     "metadata": {},
     "output_type": "display_data"
    }
   ],
   "source": [
    "# функция возвращает сводную таблицу и выводит данные с 2005 года\n",
    "def platform_yts(platform_name, data):\n",
    "    return data[(data['platform'] == platform_name) & (data['year_of_release'] > 1994)].pivot_table(\n",
    "        index='year_of_release', values='sales_total', aggfunc='sum').sort_values('year_of_release', ascending=False)\n",
    "\n",
    "# таблица по топ-платформам и их сводным продажам\n",
    "top_platforms = df.pivot_table(\n",
    "    index='platform', values='sales_total', aggfunc='sum').sort_values(by='sales_total', ascending=False).head(10)\n",
    "top_platforms = top_platforms.reset_index().rename_axis(None, axis=1)\n",
    "\n",
    "display(top_platforms)"
   ]
  },
  {
   "cell_type": "code",
   "execution_count": 11,
   "id": "a022cefd-d263-4d5d-a9a8-d33b596f499c",
   "metadata": {},
   "outputs": [
    {
     "data": {
      "image/png": "[encoded data removed]",
      "text/plain": [
       "<Figure size 1440x576 with 1 Axes>"
      ]
     },
     "metadata": {
      "needs_background": "light"
     },
     "output_type": "display_data"
    }
   ],
   "source": [
    "#выведем топ-платформы и динамику их разивия за последние десять лет\n",
    "plt.figure(figsize=(20,8))\n",
    "plt.title('Продажи по популярным платформам')\n",
    "plt.xlabel('Год релиза')\n",
    "plt.ylabel('Объём продаж (млн. копий)')\n",
    "\n",
    "for i in list(top_platforms['platform']):\n",
    "    loc_x = plticker.MultipleLocator(base=1.0)\n",
    "    loc_y = plticker.MultipleLocator(base=20.0)\n",
    "    axes = sns.lineplot(data=platform_yts(i,df)['sales_total'], label=i, estimator=None)\n",
    "    axes.xaxis.set_major_locator(loc_x)\n",
    "    axes.yaxis.set_major_locator(loc_y)\n",
    "    plt.legend()"
   ]
  },
  {
   "cell_type": "markdown",
   "id": "79ed3d79-f0f2-40d8-946c-e8f26a454add",
   "metadata": {},
   "source": [
    "На первый взгляд график может показаться плохо читаемым. Исходно были выбраны первые пять платформ, но они все уже завершили свой жизненный цикл. \n",
    "\n",
    "Данный график позволяет взглянуть на значимых игроков практически за весь период существования игр.\n",
    "\n",
    "Первичный вывод неутешителен: практически все весомые платформы закончили свой жизненный цикл, а PS4 уже находится на спаде. Персональные компьютеры традиционно находятся в диапазоне до 20 млн. проданных копий.\n",
    "\n",
    "В целом, выход платформы на пиковые показатели занимает 3-5 лет, далее идёт спад 3-7 лет. А общий жизненный цикл составляет от семи до одиннадцати лет.\n",
    "\n",
    "Глядя на график PS4 можно сделать предположение, что жизненный цикл современных платформ может ускоряться на фоне снижения общего количества сильных конкурентов. Хотя, именно PS4 может быть и просто неудачным проектом.\n",
    "\n",
    "Что касается периода актуальных данных - выберем его равным максимальному циклу жизни консоли, т.е. 11 годам. Будем отбирать данные с 2005 года."
   ]
  },
  {
   "cell_type": "code",
   "execution_count": 12,
   "id": "08c402e7-1ef6-4eb6-a078-c55a63f90982",
   "metadata": {},
   "outputs": [
    {
     "data": {
      "text/html": [
       "<div>\n",
       "<style scoped>\n",
       "    .dataframe tbody tr th:only-of-type {\n",
       "        vertical-align: middle;\n",
       "    }\n",
       "\n",
       "    .dataframe tbody tr th {\n",
       "        vertical-align: top;\n",
       "    }\n",
       "\n",
       "    .dataframe thead th {\n",
       "        text-align: right;\n",
       "    }\n",
       "</style>\n",
       "<table border=\"1\" class=\"dataframe\">\n",
       "  <thead>\n",
       "    <tr style=\"text-align: right;\">\n",
       "      <th></th>\n",
       "      <th>platform</th>\n",
       "      <th>sales_total</th>\n",
       "    </tr>\n",
       "  </thead>\n",
       "  <tbody>\n",
       "    <tr>\n",
       "      <th>0</th>\n",
       "      <td>PS4</td>\n",
       "      <td>314.14</td>\n",
       "    </tr>\n",
       "    <tr>\n",
       "      <th>1</th>\n",
       "      <td>PS3</td>\n",
       "      <td>181.43</td>\n",
       "    </tr>\n",
       "    <tr>\n",
       "      <th>2</th>\n",
       "      <td>XOne</td>\n",
       "      <td>159.32</td>\n",
       "    </tr>\n",
       "    <tr>\n",
       "      <th>3</th>\n",
       "      <td>3DS</td>\n",
       "      <td>143.25</td>\n",
       "    </tr>\n",
       "    <tr>\n",
       "      <th>4</th>\n",
       "      <td>X360</td>\n",
       "      <td>136.80</td>\n",
       "    </tr>\n",
       "  </tbody>\n",
       "</table>\n",
       "</div>"
      ],
      "text/plain": [
       "  platform  sales_total\n",
       "0      PS4       314.14\n",
       "1      PS3       181.43\n",
       "2     XOne       159.32\n",
       "3      3DS       143.25\n",
       "4     X360       136.80"
      ]
     },
     "metadata": {},
     "output_type": "display_data"
    },
    {
     "data": {
      "text/plain": [
       "count   1,302.00\n",
       "mean        0.26\n",
       "std         0.31\n",
       "min         0.01\n",
       "25%         0.04\n",
       "50%         0.12\n",
       "75%         0.36\n",
       "max         1.39\n",
       "Name: sales_total, dtype: float64"
      ]
     },
     "execution_count": 12,
     "metadata": {},
     "output_type": "execute_result"
    }
   ],
   "source": [
    "# период актуальных данных - выберем его равным максимальному циклу жизни консоли, т.е. 11 годам. Будем отбирать данные с 2005 года.\n",
    "df_actual = df[df['year_of_release'] >= 2013]\n",
    "\n",
    "# для дальнейшего анализа выберем первые пять платформ: \n",
    "# * ПК не является полноценной игровой платформой,\n",
    "# * GBA и PSP являются портативными системами,\n",
    "# * а по PS4 представлены неполные данные.\n",
    "top_platforms = df_actual.pivot_table(\n",
    "    index='platform', values='sales_total', aggfunc='sum').sort_values(by='sales_total', ascending=False).head(5)\n",
    "top_platforms = top_platforms.reset_index().rename_axis(None, axis=1)\n",
    "display(top_platforms)\n",
    "\n",
    "\n",
    "top_platform_list = ['PS4','PS3','XOne','3DS','X360']\n",
    "df_top_platforms = df_actual[df_actual['platform'].isin(top_platform_list)]\n",
    "df_top_platforms = df_top_platforms[df_top_platforms['sales_total']<1.4]\n",
    "df_top_platforms['sales_total'].describe()"
   ]
  },
  {
   "cell_type": "markdown",
   "id": "22241206",
   "metadata": {},
   "source": []
  },
  {
   "cell_type": "code",
   "execution_count": 13,
   "id": "69575e46-e3e3-4706-a1ba-9d8961a3f684",
   "metadata": {},
   "outputs": [
    {
     "data": {
      "text/plain": [
       "Text(0, 0.5, 'Объём продаж (млн. копий)')"
      ]
     },
     "execution_count": 13,
     "metadata": {},
     "output_type": "execute_result"
    },
    {
     "data": {
      "image/png": "[encoded data removed]",
      "text/plain": [
       "<Figure size 1440x576 with 1 Axes>"
      ]
     },
     "metadata": {
      "needs_background": "light"
     },
     "output_type": "display_data"
    }
   ],
   "source": [
    "#выведем boxplot по платформам\n",
    "plt.figure(figsize=(20,8))\n",
    "sns.boxplot(data=df_top_platforms, x='platform', y='sales_total')\n",
    "sns.stripplot(data=df_top_platforms, x='platform', y='sales_total', color = 'orange')\n",
    "plt.title('Блочная диаграмма по ведущим игровым платформам', fontsize=15)\n",
    "plt.xlabel('Платформа', fontsize=12)\n",
    "plt.ylabel('Объём продаж (млн. копий)',fontsize=12)"
   ]
  },
  {
   "cell_type": "markdown",
   "id": "0db91988-6521-4148-8fa1-dfe0315b2302",
   "metadata": {},
   "source": [
    "Медианные объёмы продаж по убыванию: X360, XOne, PS4, PS3 и 3DS."
   ]
  },
  {
   "cell_type": "markdown",
   "id": "e5552930-e135-4c33-8562-92f9b4b494bc",
   "metadata": {},
   "source": [
    "Далее проанализируем влияние отзывов пользователей и критиков на продажи популярной платформы."
   ]
  },
  {
   "cell_type": "code",
   "execution_count": 14,
   "id": "e3218138-47bd-44e5-8af9-7f3b56c02e41",
   "metadata": {},
   "outputs": [],
   "source": [
    "#функция оценки корреляции отзывов по выбранным для анализа платформам\n",
    "def platform_review_correlations(platform_name):\n",
    "    \n",
    "    print('\\nАнализ платформы ', platform_name, '\\n')\n",
    "    \n",
    "    # корреляции\n",
    "    df_current_platform = df_actual.loc[df['platform'] == platform_name]\n",
    "\n",
    "    corr_user = df_current_platform['user_score'].corr(df_current_platform['sales_total'], method='spearman')\n",
    "    corr_critic = df_current_platform['critic_score'].corr(df_current_platform['sales_total'], method='spearman')\n",
    "    \n",
    "               \n",
    "    corr_user_strength = ''\n",
    "        \n",
    "    if corr_user >= 0:\n",
    "        corr_user_sign = ''\n",
    "    else:\n",
    "        corr_user_sign = ' отрицательная'\n",
    "    \n",
    "    if 0.3 >= abs(corr_user) >= 0.1:\n",
    "        corr_user_strength = '[cлабая'+corr_user_sign+']'\n",
    "    if 0.5 >= abs(corr_user) >= 0.3:\n",
    "        corr_user_strength = '[умеренная'+corr_user_sign+']'\n",
    "    if 0.7 >= abs(corr_user) >= 0.5:\n",
    "        corr_user_strength = '[высокая'+corr_user_sign+']'\n",
    "    if 0.9 >= abs(corr_user) >= 0.7:\n",
    "        corr_user_strength = '[очень высокая'+corr_user_sign+']'\n",
    "    if 1 >= abs(corr_user) >= 0.9:\n",
    "        corr_user_strength = '[сильная'+corr_user_sign+']'\n",
    "    \n",
    "    corr_critic_strength = ''\n",
    "    \n",
    "    if corr_critic >= 0:\n",
    "        corr_critic_sign = ''\n",
    "    else:\n",
    "        corr_critic_sign = ' отрицательная'\n",
    "    \n",
    "    if 0.3 >= abs(corr_critic) >= 0.1:\n",
    "        corr_critic_strength = '[cлабая'+corr_critic_sign+']'\n",
    "    if 0.5 >= abs(corr_critic) >= 0.3:\n",
    "        corr_critic_strength = '[умеренная'+corr_critic_sign+']'\n",
    "    if 0.7 >= abs(corr_critic) >= 0.5:\n",
    "        corr_critic_strength = '[высокая'+corr_critic_sign+']'\n",
    "    if 0.9 >= abs(corr_critic) >= 0.7:\n",
    "        corr_critic_strength = '[очень высокая'+corr_critic_sign+']'\n",
    "    if 1 >= abs(corr_critic) >= 0.9:\n",
    "        corr_critic_strength = '[сильная'+corr_critic_sign+']'\n",
    "    \n",
    "    print(\"Корреляция между оценками пользователей и продажами:\", corr_user_strength, corr_user)\n",
    "    print(\"Корреляция между оценками критиков и продажами:\", corr_critic_strength, corr_critic)\n",
    "    print('\\n')\n",
    "    \n",
    "    display(df_current_platform[['user_score','critic_score']].describe())\n",
    "    \n",
    "    #Построим диаграмму рассеяния\n",
    "    ax1 = df_current_platform.plot(y='sales_total',x='user_score_10x',kind='scatter', figsize=(20,8), c='C1', label='Оценки пользователей')\n",
    "    df_current_platform.plot(y='sales_total',x='critic_score',kind='scatter', figsize=(20,8), c='C0', ax=ax1, label='Оценки критиков')\n",
    "    plt.title('Корреляция оценок пользователей и критиков с общим объёмом продаж игр на платформе ' + platform_name, fontsize=15)\n",
    "    \n",
    "    plt.show()\n",
    "    sns.set()\n",
    "    \n",
    "    print('\\n')"
   ]
  },
  {
   "cell_type": "code",
   "execution_count": 15,
   "id": "9cff33f8-e599-4fba-ac80-91e44785a27d",
   "metadata": {
    "scrolled": false
   },
   "outputs": [
    {
     "name": "stdout",
     "output_type": "stream",
     "text": [
      "\n",
      "Анализ платформы  PS4 \n",
      "\n",
      "Корреляция между оценками пользователей и продажами:  -0.028340257414850134\n",
      "Корреляция между оценками критиков и продажами: [высокая] 0.508238095708577\n",
      "\n",
      "\n"
     ]
    },
    {
     "data": {
      "text/html": [
       "<div>\n",
       "<style scoped>\n",
       "    .dataframe tbody tr th:only-of-type {\n",
       "        vertical-align: middle;\n",
       "    }\n",
       "\n",
       "    .dataframe tbody tr th {\n",
       "        vertical-align: top;\n",
       "    }\n",
       "\n",
       "    .dataframe thead th {\n",
       "        text-align: right;\n",
       "    }\n",
       "</style>\n",
       "<table border=\"1\" class=\"dataframe\">\n",
       "  <thead>\n",
       "    <tr style=\"text-align: right;\">\n",
       "      <th></th>\n",
       "      <th>user_score</th>\n",
       "      <th>critic_score</th>\n",
       "    </tr>\n",
       "  </thead>\n",
       "  <tbody>\n",
       "    <tr>\n",
       "      <th>count</th>\n",
       "      <td>257.00</td>\n",
       "      <td>252.00</td>\n",
       "    </tr>\n",
       "    <tr>\n",
       "      <th>mean</th>\n",
       "      <td>6.75</td>\n",
       "      <td>72.09</td>\n",
       "    </tr>\n",
       "    <tr>\n",
       "      <th>std</th>\n",
       "      <td>1.46</td>\n",
       "      <td>12.49</td>\n",
       "    </tr>\n",
       "    <tr>\n",
       "      <th>min</th>\n",
       "      <td>1.50</td>\n",
       "      <td>19.00</td>\n",
       "    </tr>\n",
       "    <tr>\n",
       "      <th>25%</th>\n",
       "      <td>6.10</td>\n",
       "      <td>66.00</td>\n",
       "    </tr>\n",
       "    <tr>\n",
       "      <th>50%</th>\n",
       "      <td>7.00</td>\n",
       "      <td>73.00</td>\n",
       "    </tr>\n",
       "    <tr>\n",
       "      <th>75%</th>\n",
       "      <td>7.80</td>\n",
       "      <td>80.00</td>\n",
       "    </tr>\n",
       "    <tr>\n",
       "      <th>max</th>\n",
       "      <td>9.20</td>\n",
       "      <td>97.00</td>\n",
       "    </tr>\n",
       "  </tbody>\n",
       "</table>\n",
       "</div>"
      ],
      "text/plain": [
       "       user_score  critic_score\n",
       "count      257.00        252.00\n",
       "mean         6.75         72.09\n",
       "std          1.46         12.49\n",
       "min          1.50         19.00\n",
       "25%          6.10         66.00\n",
       "50%          7.00         73.00\n",
       "75%          7.80         80.00\n",
       "max          9.20         97.00"
      ]
     },
     "metadata": {},
     "output_type": "display_data"
    },
    {
     "data": {
      "image/png": "[encoded data removed]",
      "text/plain": [
       "<Figure size 1440x576 with 1 Axes>"
      ]
     },
     "metadata": {
      "needs_background": "light"
     },
     "output_type": "display_data"
    },
    {
     "name": "stdout",
     "output_type": "stream",
     "text": [
      "\n",
      "\n",
      "\n",
      "Анализ платформы  PS3 \n",
      "\n",
      "Корреляция между оценками пользователей и продажами:  0.030801172290379656\n",
      "Корреляция между оценками критиков и продажами: [высокая] 0.5899941148852291\n",
      "\n",
      "\n"
     ]
    },
    {
     "data": {
      "text/html": [
       "<div>\n",
       "<style scoped>\n",
       "    .dataframe tbody tr th:only-of-type {\n",
       "        vertical-align: middle;\n",
       "    }\n",
       "\n",
       "    .dataframe tbody tr th {\n",
       "        vertical-align: top;\n",
       "    }\n",
       "\n",
       "    .dataframe thead th {\n",
       "        text-align: right;\n",
       "    }\n",
       "</style>\n",
       "<table border=\"1\" class=\"dataframe\">\n",
       "  <thead>\n",
       "    <tr style=\"text-align: right;\">\n",
       "      <th></th>\n",
       "      <th>user_score</th>\n",
       "      <th>critic_score</th>\n",
       "    </tr>\n",
       "  </thead>\n",
       "  <tbody>\n",
       "    <tr>\n",
       "      <th>count</th>\n",
       "      <td>186.00</td>\n",
       "      <td>121.00</td>\n",
       "    </tr>\n",
       "    <tr>\n",
       "      <th>mean</th>\n",
       "      <td>6.35</td>\n",
       "      <td>70.20</td>\n",
       "    </tr>\n",
       "    <tr>\n",
       "      <th>std</th>\n",
       "      <td>1.80</td>\n",
       "      <td>14.33</td>\n",
       "    </tr>\n",
       "    <tr>\n",
       "      <th>min</th>\n",
       "      <td>0.20</td>\n",
       "      <td>13.00</td>\n",
       "    </tr>\n",
       "    <tr>\n",
       "      <th>25%</th>\n",
       "      <td>5.12</td>\n",
       "      <td>63.00</td>\n",
       "    </tr>\n",
       "    <tr>\n",
       "      <th>50%</th>\n",
       "      <td>6.90</td>\n",
       "      <td>73.00</td>\n",
       "    </tr>\n",
       "    <tr>\n",
       "      <th>75%</th>\n",
       "      <td>7.80</td>\n",
       "      <td>80.00</td>\n",
       "    </tr>\n",
       "    <tr>\n",
       "      <th>max</th>\n",
       "      <td>9.10</td>\n",
       "      <td>97.00</td>\n",
       "    </tr>\n",
       "  </tbody>\n",
       "</table>\n",
       "</div>"
      ],
      "text/plain": [
       "       user_score  critic_score\n",
       "count      186.00        121.00\n",
       "mean         6.35         70.20\n",
       "std          1.80         14.33\n",
       "min          0.20         13.00\n",
       "25%          5.12         63.00\n",
       "50%          6.90         73.00\n",
       "75%          7.80         80.00\n",
       "max          9.10         97.00"
      ]
     },
     "metadata": {},
     "output_type": "display_data"
    },
    {
     "data": {
      "image/png": "[encoded data removed]",
      "text/plain": [
       "<Figure size 1440x576 with 1 Axes>"
      ]
     },
     "metadata": {},
     "output_type": "display_data"
    },
    {
     "name": "stdout",
     "output_type": "stream",
     "text": [
      "\n",
      "\n",
      "\n",
      "Анализ платформы  XOne \n",
      "\n",
      "Корреляция между оценками пользователей и продажами: [cлабая отрицательная] -0.10004846026194926\n",
      "Корреляция между оценками критиков и продажами: [высокая] 0.5315784768367893\n",
      "\n",
      "\n"
     ]
    },
    {
     "data": {
      "text/html": [
       "<div>\n",
       "<style scoped>\n",
       "    .dataframe tbody tr th:only-of-type {\n",
       "        vertical-align: middle;\n",
       "    }\n",
       "\n",
       "    .dataframe tbody tr th {\n",
       "        vertical-align: top;\n",
       "    }\n",
       "\n",
       "    .dataframe thead th {\n",
       "        text-align: right;\n",
       "    }\n",
       "</style>\n",
       "<table border=\"1\" class=\"dataframe\">\n",
       "  <thead>\n",
       "    <tr style=\"text-align: right;\">\n",
       "      <th></th>\n",
       "      <th>user_score</th>\n",
       "      <th>critic_score</th>\n",
       "    </tr>\n",
       "  </thead>\n",
       "  <tbody>\n",
       "    <tr>\n",
       "      <th>count</th>\n",
       "      <td>182.00</td>\n",
       "      <td>169.00</td>\n",
       "    </tr>\n",
       "    <tr>\n",
       "      <th>mean</th>\n",
       "      <td>6.52</td>\n",
       "      <td>73.33</td>\n",
       "    </tr>\n",
       "    <tr>\n",
       "      <th>std</th>\n",
       "      <td>1.38</td>\n",
       "      <td>12.95</td>\n",
       "    </tr>\n",
       "    <tr>\n",
       "      <th>min</th>\n",
       "      <td>1.60</td>\n",
       "      <td>20.00</td>\n",
       "    </tr>\n",
       "    <tr>\n",
       "      <th>25%</th>\n",
       "      <td>5.80</td>\n",
       "      <td>66.00</td>\n",
       "    </tr>\n",
       "    <tr>\n",
       "      <th>50%</th>\n",
       "      <td>6.80</td>\n",
       "      <td>76.00</td>\n",
       "    </tr>\n",
       "    <tr>\n",
       "      <th>75%</th>\n",
       "      <td>7.50</td>\n",
       "      <td>82.00</td>\n",
       "    </tr>\n",
       "    <tr>\n",
       "      <th>max</th>\n",
       "      <td>9.20</td>\n",
       "      <td>97.00</td>\n",
       "    </tr>\n",
       "  </tbody>\n",
       "</table>\n",
       "</div>"
      ],
      "text/plain": [
       "       user_score  critic_score\n",
       "count      182.00        169.00\n",
       "mean         6.52         73.33\n",
       "std          1.38         12.95\n",
       "min          1.60         20.00\n",
       "25%          5.80         66.00\n",
       "50%          6.80         76.00\n",
       "75%          7.50         82.00\n",
       "max          9.20         97.00"
      ]
     },
     "metadata": {},
     "output_type": "display_data"
    },
    {
     "data": {
      "image/png": "[encoded data removed]",
      "text/plain": [
       "<Figure size 1440x576 with 1 Axes>"
      ]
     },
     "metadata": {},
     "output_type": "display_data"
    },
    {
     "name": "stdout",
     "output_type": "stream",
     "text": [
      "\n",
      "\n",
      "\n",
      "Анализ платформы  3DS \n",
      "\n",
      "Корреляция между оценками пользователей и продажами: [cлабая] 0.14271299090786274\n",
      "Корреляция между оценками критиков и продажами: [умеренная] 0.3649373878956536\n",
      "\n",
      "\n"
     ]
    },
    {
     "data": {
      "text/html": [
       "<div>\n",
       "<style scoped>\n",
       "    .dataframe tbody tr th:only-of-type {\n",
       "        vertical-align: middle;\n",
       "    }\n",
       "\n",
       "    .dataframe tbody tr th {\n",
       "        vertical-align: top;\n",
       "    }\n",
       "\n",
       "    .dataframe thead th {\n",
       "        text-align: right;\n",
       "    }\n",
       "</style>\n",
       "<table border=\"1\" class=\"dataframe\">\n",
       "  <thead>\n",
       "    <tr style=\"text-align: right;\">\n",
       "      <th></th>\n",
       "      <th>user_score</th>\n",
       "      <th>critic_score</th>\n",
       "    </tr>\n",
       "  </thead>\n",
       "  <tbody>\n",
       "    <tr>\n",
       "      <th>count</th>\n",
       "      <td>80.00</td>\n",
       "      <td>71.00</td>\n",
       "    </tr>\n",
       "    <tr>\n",
       "      <th>mean</th>\n",
       "      <td>6.98</td>\n",
       "      <td>68.34</td>\n",
       "    </tr>\n",
       "    <tr>\n",
       "      <th>std</th>\n",
       "      <td>1.54</td>\n",
       "      <td>13.09</td>\n",
       "    </tr>\n",
       "    <tr>\n",
       "      <th>min</th>\n",
       "      <td>2.40</td>\n",
       "      <td>26.00</td>\n",
       "    </tr>\n",
       "    <tr>\n",
       "      <th>25%</th>\n",
       "      <td>6.30</td>\n",
       "      <td>61.00</td>\n",
       "    </tr>\n",
       "    <tr>\n",
       "      <th>50%</th>\n",
       "      <td>7.30</td>\n",
       "      <td>69.00</td>\n",
       "    </tr>\n",
       "    <tr>\n",
       "      <th>75%</th>\n",
       "      <td>8.20</td>\n",
       "      <td>78.50</td>\n",
       "    </tr>\n",
       "    <tr>\n",
       "      <th>max</th>\n",
       "      <td>9.00</td>\n",
       "      <td>91.00</td>\n",
       "    </tr>\n",
       "  </tbody>\n",
       "</table>\n",
       "</div>"
      ],
      "text/plain": [
       "       user_score  critic_score\n",
       "count       80.00         71.00\n",
       "mean         6.98         68.34\n",
       "std          1.54         13.09\n",
       "min          2.40         26.00\n",
       "25%          6.30         61.00\n",
       "50%          7.30         69.00\n",
       "75%          8.20         78.50\n",
       "max          9.00         91.00"
      ]
     },
     "metadata": {},
     "output_type": "display_data"
    },
    {
     "data": {
      "image/png": "[encoded data removed]",
      "text/plain": [
       "<Figure size 1440x576 with 1 Axes>"
      ]
     },
     "metadata": {},
     "output_type": "display_data"
    },
    {
     "name": "stdout",
     "output_type": "stream",
     "text": [
      "\n",
      "\n",
      "\n",
      "Анализ платформы  X360 \n",
      "\n",
      "Корреляция между оценками пользователей и продажами:  0.034303758976979494\n",
      "Корреляция между оценками критиков и продажами: [высокая] 0.6258142624817032\n",
      "\n",
      "\n"
     ]
    },
    {
     "data": {
      "text/html": [
       "<div>\n",
       "<style scoped>\n",
       "    .dataframe tbody tr th:only-of-type {\n",
       "        vertical-align: middle;\n",
       "    }\n",
       "\n",
       "    .dataframe tbody tr th {\n",
       "        vertical-align: top;\n",
       "    }\n",
       "\n",
       "    .dataframe thead th {\n",
       "        text-align: right;\n",
       "    }\n",
       "</style>\n",
       "<table border=\"1\" class=\"dataframe\">\n",
       "  <thead>\n",
       "    <tr style=\"text-align: right;\">\n",
       "      <th></th>\n",
       "      <th>user_score</th>\n",
       "      <th>critic_score</th>\n",
       "    </tr>\n",
       "  </thead>\n",
       "  <tbody>\n",
       "    <tr>\n",
       "      <th>count</th>\n",
       "      <td>143.00</td>\n",
       "      <td>81.00</td>\n",
       "    </tr>\n",
       "    <tr>\n",
       "      <th>mean</th>\n",
       "      <td>5.99</td>\n",
       "      <td>69.23</td>\n",
       "    </tr>\n",
       "    <tr>\n",
       "      <th>std</th>\n",
       "      <td>1.61</td>\n",
       "      <td>15.51</td>\n",
       "    </tr>\n",
       "    <tr>\n",
       "      <th>min</th>\n",
       "      <td>0.70</td>\n",
       "      <td>19.00</td>\n",
       "    </tr>\n",
       "    <tr>\n",
       "      <th>25%</th>\n",
       "      <td>5.10</td>\n",
       "      <td>60.00</td>\n",
       "    </tr>\n",
       "    <tr>\n",
       "      <th>50%</th>\n",
       "      <td>6.20</td>\n",
       "      <td>74.00</td>\n",
       "    </tr>\n",
       "    <tr>\n",
       "      <th>75%</th>\n",
       "      <td>7.25</td>\n",
       "      <td>80.00</td>\n",
       "    </tr>\n",
       "    <tr>\n",
       "      <th>max</th>\n",
       "      <td>8.70</td>\n",
       "      <td>97.00</td>\n",
       "    </tr>\n",
       "  </tbody>\n",
       "</table>\n",
       "</div>"
      ],
      "text/plain": [
       "       user_score  critic_score\n",
       "count      143.00         81.00\n",
       "mean         5.99         69.23\n",
       "std          1.61         15.51\n",
       "min          0.70         19.00\n",
       "25%          5.10         60.00\n",
       "50%          6.20         74.00\n",
       "75%          7.25         80.00\n",
       "max          8.70         97.00"
      ]
     },
     "metadata": {},
     "output_type": "display_data"
    },
    {
     "data": {
      "image/png": "[encoded data removed]",
      "text/plain": [
       "<Figure size 1440x576 with 1 Axes>"
      ]
     },
     "metadata": {},
     "output_type": "display_data"
    },
    {
     "name": "stdout",
     "output_type": "stream",
     "text": [
      "\n",
      "\n"
     ]
    }
   ],
   "source": [
    "# выведем все платформы\n",
    "for platform in top_platform_list:\n",
    "    platform_review_correlations(platform)"
   ]
  },
  {
   "cell_type": "markdown",
   "id": "275b223b-cb40-4be0-a107-9a61016ffe89",
   "metadata": {},
   "source": [
    "* У всех выбранных платформ присутствует корреляция между объёмом продаж и оценками пользователей и критиков.\n",
    "* При этом оценка критиков коррелирует с объёмами продаж на уровнях от умеренного до высокого. Оценки покупателей с объёмом продаж взаимосвязаны намного слабее."
   ]
  },
  {
   "cell_type": "code",
   "execution_count": null,
   "id": "3f2df93a-030a-4acd-9560-b2f146d2f7e4",
   "metadata": {},
   "outputs": [],
   "source": [
    "#определим наиболее продаваемые жанры\n",
    "df_genres = df_actual.pivot_table(index='genre', values=['sales_total', 'name'], aggfunc={'sales_total':'sum','name': 'count'}).sort_values(by='sales_total', ascending=False)\n",
    "df_genres = df_genres.reset_index().rename_axis(None, axis=1)\n",
    "df_genres.loc[:,]['genre_ratio'] = df_genres['sales_total'] / df_genres['name'] \n",
    "\n",
    "df_genres_by_ratio = df_genres.sort_values(by='genre_ratio', ascending=False)\n",
    "\n",
    "plt.figure(figsize=(20,8))\n",
    "plt.title('Распределение игр по наиболее продаваемым жанрам',fontsize=15)\n",
    "sns.barplot(data=df_genres, x='genre', y='sales_total')\n",
    "plt.xlabel('Жанры игр',fontsize=12)\n",
    "plt.ylabel('Объём продаж (млн. копий)',fontsize=12)\n",
    "\n",
    "plt.figure(figsize=(20,8))\n",
    "plt.title('Распределение игр по наиболее продаваемым жанрам (средние продажи)',fontsize=15)\n",
    "sns.barplot(data=df_genres_by_ratio, x='genre', y='genre_ratio')\n",
    "plt.xlabel('Жанры игр',fontsize=12)\n",
    "plt.ylabel('Средние продажи (млн. копий) по жанру',fontsize=12)\n",
    "\n"
   ]
  },
  {
   "cell_type": "code",
   "execution_count": null,
   "id": "14309749-3af3-4120-b9fd-37615afee16d",
   "metadata": {},
   "outputs": [],
   "source": [
    "display(df_genres)\n",
    "display(df_genres_by_ratio)"
   ]
  },
  {
   "cell_type": "markdown",
   "id": "bd1b2829-48f6-4185-b47d-0fdc3590bb3b",
   "metadata": {},
   "source": [
    "## Выводы по шагу 3\n",
    "\n",
    "<div class=\"alert alert-block alert-info\">\n",
    "    <b class=\"alert-heading\"></b>\n",
    "</div>\n",
    "\n",
    "Общий анализ игр по годам:\n",
    "* С 2001 года наблюдается бурный рост, связанный с резким ростом технологических возможностей и распространённости компьютеров и игровых систем.\n",
    "* Пик приходится на 2007-2011 годы. Далее можно говорить о появлении такого мощного игрока, как мобильные игры, тенденции к переходу рынка на игры-сервисы и общему кризису в стане производителей AAA-игр.\n",
    "\n",
    "Цикл жизни платформ:\n",
    "* Выделено шесть значимых игроков (PS2, X360, PS3, WII, DS, PS), при этом практически все они закончили свой жизненный цикл. А новая платформа PS4, ещё не успев набрать объёмы продаж, уже находится на спаде.\n",
    "* Персональные компьютеры традиционно находятся в диапазоне до 20 млн. проданных копий, на игры для ПК есть постоянный, пусть и не такой высокий, спрос.\n",
    "* Выход платформы на пиковые показатели занимает 3-5 лет, далее идёт спад 3-7 лет. А общий жизненный цикл составляет от семи до одиннадцати лет.\n",
    "* Глядя на график PS4 можно сделать предположение, что жизненный цикл современных платформ может ускоряться на фоне снижения общего количества сильных конкурентов. Хотя, именно PS4 может быть и просто неудачным проектом.\n",
    "* Период актуальных данных выбран равным трём годам, Данные отбираются с 2013 года.\n",
    "* Рейтинг платформ по медианным объёмам продаж (по убыванию): X360, XOne, PS4, PS3 и 3DS.\n",
    "\n",
    "Оценки пользователей и критиков:\n",
    "* У всех выбранных платформ присутствует корреляция между объёмом продаж и оценками пользователей и критиков.\n",
    "* При этом оценка критиков коррелирует с объёмами продаж на уровнях от умеренного до сильного. А оценки покупателей с продажами взаимосвязаны намного слабее. То есть новые покупатели чаще прислушиваются к оценкам критиков и реже - к уже купившим игры.\n",
    "\n",
    "Наиболее востребованные жанры:\n",
    "* Топ 3 жанров: \n",
    "    * Shooter (1.25 млн. копий на игру),\n",
    "    * Sports (700 тыс. копий на игру),\n",
    "    * Platform (580 тыс. копий на игру)\n",
    "* Action лидирует по валовому объёму проданных копий, но в этом жанре много недорогих игр.\n",
    "* Головоломки, стратегии и приключения наименее востребованы и замыкают рейтинг жанров."
   ]
  },
  {
   "cell_type": "markdown",
   "id": "981d0dff-76a8-4275-a469-f93d2b3c2452",
   "metadata": {},
   "source": [
    "## Шаг 4. Составление портрета пользователя каждого региона\n",
    "Для типичного пользователя каждого региона (NA, EU, JP) необходимо определить:\n",
    "* Самые популярные платформы (топ-5).\n",
    "* Самые популярные жанры (топ-5).\n",
    "* Влияет ли рейтинг ESRB на продажи в отдельном регионе?"
   ]
  },
  {
   "cell_type": "code",
   "execution_count": null,
   "id": "4e5ddd08-9c45-4780-9dd1-49df2c9b091a",
   "metadata": {},
   "outputs": [],
   "source": [
    "#функция анализа \n",
    "\n",
    "#Функция для создания сводбных таблиц за весь период\n",
    "def display_region_data(data_column, title):\n",
    "    print('\\n', title, '\\n')\n",
    "    \n",
    "    df_last_year = df_actual[df_actual['year_of_release']>2015]\n",
    "        \n",
    "    fig, axes = plt.subplots(1, 3, figsize=(20, 5))\n",
    "    for pivot, ax in zip(list(['platform','genre','rating']),axes.flatten()[:3]):\n",
    "        ppivot = df_actual.pivot_table(\n",
    "            index=pivot, values=data_column, aggfunc='sum').sort_values(by=data_column, ascending=False).reset_index().rename_axis(None, axis=1).head(5)\n",
    "        \n",
    "        ppivot_last_year = df_last_year.pivot_table(\n",
    "            index=pivot, values=data_column, aggfunc='sum').sort_values(by=data_column, ascending=False).reset_index().rename_axis(None, axis=1).head(5)\n",
    "        \n",
    "        ppivot[pivot + '_last_year'] = ppivot_last_year[pivot]\n",
    "        ppivot[data_column+'_last_year'] = ppivot_last_year[data_column]\n",
    "        \n",
    "        display(ppivot)\n",
    "        print('\\n') \n",
    "        sns.set_palette(\"Blues\")\n",
    "        sns.barplot(data=ppivot, x=pivot, y=data_column, ax=ax)\n",
    "        fig.suptitle(title, fontsize=15)\n",
    " \n",
    "    plt.show()\n",
    "    sns.set()\n",
    "    \n",
    "    fig, axes = plt.subplots(1, 3, figsize=(20, 5))\n",
    "    for pivot, ax in zip(list(['platform','genre','rating']), axes.flatten()[:3]):        \n",
    "        \n",
    "        ppivot_last_year = df_last_year.pivot_table(\n",
    "            index=pivot, values=data_column, aggfunc='sum').sort_values(by=data_column, ascending=False).reset_index().rename_axis(None, axis=1).head(5)\n",
    "        \n",
    "        sns.set_palette(\"Oranges\")\n",
    "        sns.barplot(data=ppivot_last_year, x=pivot, y=data_column, ax=ax)\n",
    "        fig.suptitle(title, fontsize=15)\n",
    "        \n",
    "    plt.show()\n",
    "    sns.set()\n",
    "    \n",
    "# выведем топ-5 платформ, жанров и рейтингов\n",
    "display_region_data('na_sales','ТОП-5 платформ, жанров и рейтингов за весь период и за последний год по региону NA')"
   ]
  },
  {
   "cell_type": "markdown",
   "id": "c8daef57-25c9-44e1-8714-e816346772bc",
   "metadata": {},
   "source": [
    "Вывод по региону NA (Северная Америка):\n",
    "* Топ-5 игровых платформ за всё время: X360, Wii, PS3, DS, PS2.\n",
    "* Топ-5 жанров за всё время: Action, Sports, Shooter, Misc, Role-Playing.\n",
    "* Топ-5 рейтингов: E (everyone, \"для всех\"), M (mature, 17+), T (teen, 13+), E10+ (для всех 10+), без рейтинга (японские игры).\n",
    "* Топ-5 игровых платформ за последний год: PS4, XOne, 3DS, WiiU, PC. Цифры отображают весьм масштаб падения спроса. Также в Топ-5 вошли игры для ПК, что тоже подтверждает идею о начале заката игровых консолей.\n",
    "* Топ-5 жанров за последний год: Shooter, Action, Sports, Role-Playing, Fighting. \n",
    "* Топ-5 рейтингов: M (mature, 17+), T (teen, 13+), без рейтинга (японские игры), E (everyone, \"для всех\"), E10+ (для всех 10+). Лидирует спрос на жёсткие игры с насилием и взрослой речью.  Игры стали жёстче, также на рынок серьёзно пришли японцы."
   ]
  },
  {
   "cell_type": "code",
   "execution_count": null,
   "id": "c8c9e08f-e73f-4abc-8437-e66c4e94a6e7",
   "metadata": {},
   "outputs": [],
   "source": [
    "# выведем топ-5 платформ, жанров и рейтингов\n",
    "display_region_data('eu_sales','ТОП-5 платформ, жанров и рейтингов за весь период и за последний год по региону EU')"
   ]
  },
  {
   "cell_type": "markdown",
   "id": "d3775d59-87f8-4095-bcd4-65a40ebd2dbb",
   "metadata": {},
   "source": [
    "Вывод по региону EU (Европа):\n",
    "* Топ-5 игровых платформ за всё время: PS3, X360, Wii, DS, PS4. Европейцы предпочитают Sony консолям от Microsoft.\n",
    "* Топ-5 жанров за всё время: Action, Sports, Shooter, Misc, Racing. В отличие от играющих в ролевые игры американцев, европейцы любят погонять.\n",
    "* Топ-5 рейтингов: E (everyone, \"для всех\"), M (mature, 17+), T (teen, 13+), без рейтинга (японские игры), E10+ (для всех 10+). Расклад примерно такой же, как с США, не считая экзотических пятых пунктов.\n",
    "* Топ-5 игровых платформ за последний год: PS4, XOne, PC, 3DS, WiiU. В Европе игры для ПК существенно более востребованы. Перечень платформ - тот же.\n",
    "* Топ-5 жанров за последний год: Shooter, Sports, Action, Role-Playing, Racing. В отличие от дерущихся американцев, европейцы всё ещё любят погонять.\n",
    "* Топ-5 рейтингов: M (mature, 17+), E (everyone, \"для всех\"), T (teen, 13+), без рейтинга (японские игры), E10+ (для всех 10+). В европе также лидирует спрос на жёсткие игры."
   ]
  },
  {
   "cell_type": "code",
   "execution_count": null,
   "id": "e110a64e-b029-4275-a02d-7d39ce6432ba",
   "metadata": {},
   "outputs": [],
   "source": [
    "# выведем топ-5 платформ, жанров и рейтингов\n",
    "display_region_data('jp_sales','ТОП-5 платформ, жанров и рейтингов за весь период и за последний год по региону JP')"
   ]
  },
  {
   "cell_type": "markdown",
   "id": "be58cff4-82f1-454b-b782-b5108b3b5a38",
   "metadata": {},
   "source": [
    "Вывод по региону JP (Япония):\n",
    "* Топ-5 игровых платформ за всё время: DS, 3DS, PS3, PSP, Wii. В Японии лидируют японцы. Без шансов.\n",
    "* Топ-5 жанров за всё время: Role-Playing, Action, Misc, Sports, Platform. Японцы известны любовью к J-RPG и прочей самобытной экзотике. Тоже подтверждается.\n",
    "* Топ-5 рейтингов: без рейтинга, E (everyone, \"для всех\"), T (teen, 13+), M (mature, 17+), E10+ (для всех 10+). С разгромным счётом побеждает  \"без рейтинга\". А всё потому, что речь, скорее всего, идёт о японских же играх. которые не оцениваются ESRB. Для \"западных\" игр уровень насилия в играх существенно ниже, популярен подростковый и общедоступный контент.\n",
    "* Топ-5 игровых платформ за последний год: 3DS, PS4, PSV, PS3, WiiU. Японцы не играют на ПК. изменение отражает смену поколений японских консолей.\n",
    "* Топ-5 жанров за последний год: Action, Role-Playing, Adventure, Shooter, Misc. Из последнего года выпал спорт. И, в целом, наблюдается культурное смещение ближе к США и Европе.\n",
    "* Топ-5 рейтингов: локальные японские игры (без рейтинга), T (teen, 13+), M (mature, 17+), E (everyone, \"для всех\"),  E10+ (для всех 10+)."
   ]
  },
  {
   "cell_type": "markdown",
   "id": "fa621c97-04bd-4277-91c9-84db3804fc23",
   "metadata": {},
   "source": [
    "## Выводы по шагу 4\n",
    "\n",
    "<div class=\"alert alert-block alert-info\">\n",
    "    <b class=\"alert-heading\"></b>\n",
    "</div>\n",
    "\n",
    "Вывод по региону NA (Северная Америка):\n",
    "* Топ-5 игровых платформ за всё время: X360, Wii, PS3, DS, PS2.\n",
    "* Топ-5 жанров за всё время: Action, Sports, Shooter, Misc, Role-Playing.\n",
    "* Топ-5 рейтингов: E (everyone, \"для всех\"), M (mature, 17+), T (teen, 13+), E10+ (для всех 10+), без рейтинга (японские игры).\n",
    "* Топ-5 игровых платформ за последний год: PS4, XOne, 3DS, WiiU, PC. Цифры отображают весьм масштаб падения спроса. Также в Топ-5 вошли игры для ПК, что тоже подтверждает идею о начале заката игровых консолей.\n",
    "* Топ-5 жанров за последний год: Shooter, Action, Sports, Role-Playing, Fighting. \n",
    "* Топ-5 рейтингов: M (mature, 17+), T (teen, 13+), без рейтинга (японские игры), E (everyone, \"для всех\"), E10+ (для всех 10+). Лидирует спрос на жёсткие игры с насилием и взрослой речью.  Игры стали жёстче, также на рынок серьёзно пришли японцы.\n",
    "\n",
    "Вывод по региону EU (Европа):\n",
    "* Топ-5 игровых платформ за всё время: PS3, X360, Wii, DS, PS4. Европейцы предпочитают Sony консолям от Microsoft.\n",
    "* Топ-5 жанров за всё время: Action, Sports, Shooter, Misc, Racing. В отличие от играющих в ролевые игры американцев, европейцы любят погонять.\n",
    "* Топ-5 рейтингов: E (everyone, \"для всех\"), M (mature, 17+), T (teen, 13+), без рейтинга (японские игры), E10+ (для всех 10+). Расклад примерно такой же, как с США, не считая экзотических пятых пунктов.\n",
    "* Топ-5 игровых платформ за последний год: PS4, XOne, PC, 3DS, WiiU. В Европе игры для ПК существенно более востребованы. Перечень платформ - тот же.\n",
    "* Топ-5 жанров за последний год: Shooter, Sports, Action, Role-Playing, Racing. В отличие от дерущихся американцев, европейцы всё ещё любят погонять.\n",
    "* Топ-5 рейтингов: M (mature, 17+), E (everyone, \"для всех\"), T (teen, 13+), без рейтинга (японские игры), E10+ (для всех 10+). В европе также лидирует спрос на жёсткие игры.\n",
    "\n",
    "Вывод по региону JP (Япония):\n",
    "* Топ-5 игровых платформ за всё время: DS, 3DS, PS3, PSP, Wii. В Японии лидируют японцы. Без шансов.\n",
    "* Топ-5 жанров за всё время: Role-Playing, Action, Misc, Sports, Platform. Японцы известны любовью к J-RPG и прочей самобытной экзотике. Тоже подтверждается.\n",
    "* Топ-5 рейтингов: без рейтинга, E (everyone, \"для всех\"), T (teen, 13+), M (mature, 17+), E10+ (для всех 10+). С разгромным счётом побеждает  \"без рейтинга\". А всё потому, что речь, скорее всего, идёт о японских же играх. которые не оцениваются ESRB. Для \"западных\" игр уровень насилия в играх существенно ниже, популярен подростковый и общедоступный контент.\n",
    "* Топ-5 игровых платформ за последний год: 3DS, PS4, PSV, PS3, WiiU. Японцы не играют на ПК. изменение отражает смену поколений японских консолей.\n",
    "* Топ-5 жанров за последний год: Action, Role-Playing, Adventure, Shooter, Misc. Из последнего года выпал спорт. И, в целом, наблюдается культурное смещение ближе к США и Европе.\n",
    "* Топ-5 рейтингов: локальные японские игры (без рейтинга), T (teen, 13+), M (mature, 17+), E (everyone, \"для всех\"),  E10+ (для всех 10+).\n",
    "\n",
    "\n",
    "Прогноз продаж на 2017 год:\n",
    "Изменение технологий ускоряется, плюс меняются потребительские предпочтения пользователей. Поэтому для прогноза лучше взять максимально свежие данные. В качестве платформы по всем регионам бесспорно лидирует Sony PS4. Будут востребованы игры жанров (в порядке убывания) Shooter, Sports, Action, рейтинги Mature (Европа/США) и Everyone/Teen для Японии."
   ]
  },
  {
   "cell_type": "markdown",
   "id": "5a381082-3513-4838-81b6-74042710f297",
   "metadata": {},
   "source": [
    "## Шаг 5. Проверка гипотез\n",
    "* Средние пользовательские рейтинги платформ Xbox One и PC одинаковые;\n",
    "* Средние пользовательские рейтинги жанров Action (англ. «действие», экшен-игры) и Sports (англ. «спортивные соревнования») разные."
   ]
  },
  {
   "cell_type": "markdown",
   "id": "1ebd67c7-a8ac-45ae-8ed5-832f266877b5",
   "metadata": {
    "tags": []
   },
   "source": [
    "### Проверка гипотез 1. Средние пользовательские рейтинги платформ Xbox One и PC одинаковые\n",
    "\n",
    "Гипотезы:\n",
    "* H₁: Средние пользовательские рейтинги платформ Xbox One и PC значимо различаются\n",
    "* H₀: Средние пользовательские рейтинги платформ Xbox One и PC значимо не различаются"
   ]
  },
  {
   "cell_type": "code",
   "execution_count": null,
   "id": "d6b75359-ae29-48b4-a773-3f6b4398ead1",
   "metadata": {},
   "outputs": [],
   "source": [
    "# всё ещё используем только актуальные данные\n",
    "xone_user_score = df_actual[df_actual['platform']=='XOne']['user_score']\n",
    "pc_user_score = df_actual[df_actual['platform']=='PC']['user_score']\n",
    "\n",
    "print('средний рейтинг пользователя для XOne: ', xone_user_score.mean())\n",
    "print('средний рейтинг пользователя для PC: ', pc_user_score.mean())"
   ]
  },
  {
   "cell_type": "code",
   "execution_count": null,
   "id": "72b277c0-84ca-4c7f-bf00-747de62a07c1",
   "metadata": {},
   "outputs": [],
   "source": [
    "#проверка гипотезы H0\n",
    "\n",
    "alpha = .01\n",
    "\n",
    "result = st.ttest_ind(xone_user_score.dropna(), pc_user_score.dropna(), equal_var=False)\n",
    "\n",
    "print('p-значение:', result.pvalue)\n",
    "\n",
    "\n",
    "if (result.pvalue < alpha):\n",
    "    print(\"Нулевая гипотеза отвергается\")\n",
    "else:\n",
    "    print(\"Не получилось отвергнуть нулевую гипотезу\")"
   ]
  },
  {
   "cell_type": "markdown",
   "id": "70d03244-d186-4345-bb16-5da255a65035",
   "metadata": {},
   "source": [
    "Вывод: Средние пользовательские рейтинги платформ Xbox One и PC статистически значимо не различаются"
   ]
  },
  {
   "cell_type": "markdown",
   "id": "c38a0075-6497-4d9d-bad8-ff5e0e4da21f",
   "metadata": {},
   "source": [
    "### Проверка гипотез 2. Средние пользовательские рейтинги жанров Action (англ. «действие», экшен-игры) и Sports (англ. «спортивные соревнования») разные\n",
    "\n",
    "Гипотезы:\n",
    "* H₁: Средние пользовательские рейтинги жанров Action и Sports значимо различаются\n",
    "* H₀: Средние пользовательские рейтинги жанров Action и Sports значимо не различаются"
   ]
  },
  {
   "cell_type": "code",
   "execution_count": null,
   "id": "a9356dca-be19-4faa-8435-7ac1dc7d1acd",
   "metadata": {},
   "outputs": [],
   "source": [
    "# всё ещё используем только актуальные данные\n",
    "action_user_score = df_actual[df_actual['genre']=='Action']['user_score']\n",
    "sports_user_score = df_actual[df_actual['genre']=='Sports']['user_score']\n",
    "\n",
    "print('средний рейтинг пользователя для жанра Action: ', action_user_score.mean())\n",
    "print('средний рейтинг пользователя для жанра Sports: ', sports_user_score.mean())"
   ]
  },
  {
   "cell_type": "code",
   "execution_count": null,
   "id": "67011161-b9cc-4f69-89b7-870b04c196f2",
   "metadata": {},
   "outputs": [],
   "source": [
    "#проверка гипотезы H0\n",
    "\n",
    "alpha = .01\n",
    "\n",
    "result = st.ttest_ind(action_user_score.dropna(), sports_user_score.dropna(), equal_var=False)\n",
    "\n",
    "print('p-значение:', result.pvalue)\n",
    "\n",
    "\n",
    "if (result.pvalue < alpha):\n",
    "    print(\"Нулевая гипотеза отвергается\")\n",
    "else:\n",
    "    print(\"Не получилось отвергнуть нулевую гипотезу\")"
   ]
  },
  {
   "cell_type": "markdown",
   "id": "d035c775-e6e2-4f15-90c2-e5fafcc3256a",
   "metadata": {},
   "source": [
    "Вывод: Средние пользовательские рейтинги жанров Action и Sports значимо различаются"
   ]
  },
  {
   "cell_type": "markdown",
   "id": "45365bea-177f-486a-b8b1-ea5edb1394bb",
   "metadata": {},
   "source": [
    "## Вывод по шагу 5\n",
    "\n",
    "<div class=\"alert alert-block alert-info\">\n",
    "    <b class=\"alert-heading\"></b>\n",
    "</div>\n",
    "\n",
    "* Средние пользовательские рейтинги платформ Xbox One и PC статистически значимо не различаются. Игры и подписки у Microsoft обычно одинаково доступны на обеих платформах.\n",
    "* Средние пользовательские рейтинги жанров Action и Sports статистически значимо различаются. Это действительно разные по сути жанры."
   ]
  },
  {
   "cell_type": "markdown",
   "id": "e14c2e69-3262-4d1c-8362-8172430db6fb",
   "metadata": {},
   "source": [
    "## Шаг 6. Общий вывод"
   ]
  },
  {
   "cell_type": "markdown",
   "id": "cf7fe9ad-d460-4449-9872-916a5b69b7e6",
   "metadata": {},
   "source": [
    "## Общий вывод\n",
    "\n",
    "<div class=\"alert alert-block alert-info\">\n",
    "    <b class=\"alert-heading\"></b>\n",
    "</div>\n",
    "\n",
    "Данные преобразованы для дальнейшей работы:\n",
    "* Дубли не выявлены, выявлены пропуски колонок.\n",
    "* Колонки датасета переименованы в нижний регистр.\n",
    "* Преобразованы типы колонок года выпуска, оценки критиков и пользователей.\n",
    "* Удалены строки с пустым названием и жанром.\n",
    "* Пропуски года релиза частично восстановлены по аналогичным играм для друих платформ. Остальные пропуски оставлены как есть.\n",
    "* Добавлена колонка sales_total с суммарными продажами по всем регионам\n",
    "* проведена дедупликация неявных значений колонки 'rating', пустые значения заменены на 'unk'\n",
    "\n",
    "Общий анализ игр и цикла жизни консолей:\n",
    "* Пик консолей, похоже, проходит из-за массового распространения мощных смартфонов и мобильных сетевых игр.\n",
    "* Выделено шесть значимых игроков (PS2, X360, PS3, WII, DS, PS), при этом практически все они закончили свой жизненный цикл. А новая платформа PS4, ещё не успев набрать объёмы продаж, уже находится на спаде.\n",
    "* Персональные компьютеры дают невысокий, но стабильный спрос на игры.\n",
    "* Общий жизненный цикл составляет от семи до одиннадцати лет, наблюдается его ускорение.\n",
    "\n",
    "Оценки пользователей и критиков:\n",
    "* Оценки важны при принятии решения о покупке, при этом оценки критиков более весомы.\n",
    "\n",
    "Топ-5 платформ по данным о продажах за последние три года:\n",
    "* PS4, PS3, XOne, 3DS, X360.\n",
    "* Платформы фокусируются на относительно малом числе популярных эксклюзивов, предлагая также большой ассортимент \"второстепенных\" игр с невысокими продажами.\n",
    "\n",
    "Наиболее востребованные жанры:\n",
    "* Топ 3 жанров, составляющих более четырёх миллардов проданных копий:\n",
    "    * Shooter (1.25 млн. копий на игру),\n",
    "    * Sports (700 тыс. копий на игру),\n",
    "    * Platform (580 тыс. копий на игру)\n",
    "* Action лидирует по валовому объёму проданных копий, но в этом жанре много недорогих игр.\n",
    "* Головоломки, стратегии и приключения наименее востребованы.\n",
    "\n",
    "Вывод по региону NA (США):\n",
    "* Топ-5 игровых платформ: PS4, XOne, 3DS, WiiU, PC. В США лидируют Японцы, появился значимый спрос на ПК-игры.\n",
    "* Топ-5 жанров: Shooter, Action, Sports, Role-Playing, Fighting. Бои заместили жанр Misc.\n",
    "* Топ-5 рейтингов: M, T, без рейтинга (японские игры), E, E10+. Лидирует спрос на жёсткие игры с насилием и взрослой речью. Игры стали жёстче, также на рынок серьёзно пришли японцы.\n",
    "\n",
    "Вывод по региону EU (Европа):\n",
    "* Топ-5 игровых платформ: PS4, XOne, PC, 3DS, WiiU. В Европе игры для ПК существенно более востребованы. Японцы также лидируют.\n",
    "* Топ-5 жанров за последний год: Shooter, Sports, Action, Role-Playing, Racing. Европейцы любят погонять.\n",
    "* Топ-5 рейтингов: M, E, T, без рейтинга (японские игры), E10+. В европе также лидирует спрос на жёсткие игры.\n",
    "\n",
    "Вывод по региону JP (Япония):\n",
    "* Топ-5 игровых платформ: 3DS, PS4, PSV, PS3, WiiU. Японцы не играют на ПК. Рынок занят японскими консолями.\n",
    "* Топ-5 жанров: Action, Role-Playing, Adventure, Shooter, Misc. Снизился интерес к спорту. И, в целом, наблюдается культурное смещение ближе к США и Европе.\n",
    "* Топ-5 рейтингов: японские игры (без рейтинга), T, M, E, E10+. Большой спрос на подростковые игры, сильнее проявляются \"взрослые\" игры.\n",
    "\n",
    "Прогноз продаж на 2017 год:\n",
    "* Технологический прогресс ускоряется, меняются потребительские предпочтения пользователей. Для прогноза лучше взять максимально свежие данные.\n",
    "* В качестве платформы по всем регионам бесспорно лидирует Sony PS4. Будут востребованы игры Shooter, Sports, Action, рейтинги Mature (Европа/США) и локальные игры для Японии.\n",
    "\n",
    "Различие пользовательских рейтингов:\n",
    "* Средние пользовательские рейтинги платформ Xbox One и PC статистически значимо не различаются. Игры и подписки у Microsoft обычно одинаково доступны на обеих платформах.\n",
    "* Средние пользовательские рейтинги жанров Action и Sports статистически значимо различаются. Это действительно разные по сути жанры."
   ]
  }
 ],
 "metadata": {
  "ExecuteTimeLog": [
   {
    "duration": 184,
    "start_time": "2022-05-10T05:41:19.438Z"
   },
   {
    "duration": 168,
    "start_time": "2022-05-10T05:52:52.598Z"
   },
   {
    "duration": 167,
    "start_time": "2022-05-10T05:58:41.554Z"
   },
   {
    "duration": 1402,
    "start_time": "2022-05-10T06:07:02.921Z"
   },
   {
    "duration": 46,
    "start_time": "2022-05-10T06:07:04.325Z"
   },
   {
    "duration": 13,
    "start_time": "2022-05-10T06:07:04.373Z"
   },
   {
    "duration": 45,
    "start_time": "2022-05-10T06:07:04.388Z"
   },
   {
    "duration": 439,
    "start_time": "2022-05-10T06:07:04.436Z"
   },
   {
    "duration": 16,
    "start_time": "2022-05-10T06:07:04.877Z"
   },
   {
    "duration": 517,
    "start_time": "2022-05-10T06:07:04.895Z"
   },
   {
    "duration": 424,
    "start_time": "2022-05-10T06:07:05.413Z"
   },
   {
    "duration": 17,
    "start_time": "2022-05-10T06:07:05.838Z"
   },
   {
    "duration": 688,
    "start_time": "2022-05-10T06:07:05.858Z"
   },
   {
    "duration": 25,
    "start_time": "2022-05-10T06:07:06.548Z"
   },
   {
    "duration": 261,
    "start_time": "2022-05-10T06:07:06.575Z"
   },
   {
    "duration": 80,
    "start_time": "2022-05-10T06:07:06.838Z"
   },
   {
    "duration": 1608,
    "start_time": "2022-05-10T06:07:06.920Z"
   },
   {
    "duration": 276,
    "start_time": "2022-05-10T06:07:08.533Z"
   },
   {
    "duration": 8,
    "start_time": "2022-05-10T06:07:08.811Z"
   },
   {
    "duration": 877,
    "start_time": "2022-05-10T06:07:08.834Z"
   },
   {
    "duration": 995,
    "start_time": "2022-05-10T06:07:09.714Z"
   },
   {
    "duration": 895,
    "start_time": "2022-05-10T06:07:10.712Z"
   },
   {
    "duration": 11,
    "start_time": "2022-05-10T06:07:11.609Z"
   },
   {
    "duration": 7,
    "start_time": "2022-05-10T06:07:11.634Z"
   },
   {
    "duration": 12,
    "start_time": "2022-05-10T06:07:11.643Z"
   },
   {
    "duration": 6,
    "start_time": "2022-05-10T06:07:11.656Z"
   },
   {
    "duration": 182,
    "start_time": "2022-05-10T06:57:27.732Z"
   },
   {
    "duration": 44,
    "start_time": "2022-05-10T06:57:27.916Z"
   },
   {
    "duration": 11,
    "start_time": "2022-05-10T06:57:27.962Z"
   },
   {
    "duration": 31,
    "start_time": "2022-05-10T06:57:27.975Z"
   },
   {
    "duration": 470,
    "start_time": "2022-05-10T06:57:28.008Z"
   },
   {
    "duration": 15,
    "start_time": "2022-05-10T06:57:28.480Z"
   },
   {
    "duration": 487,
    "start_time": "2022-05-10T06:57:28.497Z"
   },
   {
    "duration": 517,
    "start_time": "2022-05-10T06:57:28.985Z"
   },
   {
    "duration": 18,
    "start_time": "2022-05-10T06:57:29.504Z"
   },
   {
    "duration": 664,
    "start_time": "2022-05-10T06:57:29.535Z"
   },
   {
    "duration": 34,
    "start_time": "2022-05-10T06:57:30.200Z"
   },
   {
    "duration": 262,
    "start_time": "2022-05-10T06:57:30.236Z"
   },
   {
    "duration": 9,
    "start_time": "2022-05-10T06:57:30.499Z"
   },
   {
    "duration": 1625,
    "start_time": "2022-05-10T06:57:30.510Z"
   },
   {
    "duration": 285,
    "start_time": "2022-05-10T06:57:32.137Z"
   },
   {
    "duration": 13,
    "start_time": "2022-05-10T06:57:32.423Z"
   },
   {
    "duration": 999,
    "start_time": "2022-05-10T06:57:32.437Z"
   },
   {
    "duration": 891,
    "start_time": "2022-05-10T06:57:33.439Z"
   },
   {
    "duration": 918,
    "start_time": "2022-05-10T06:57:34.331Z"
   },
   {
    "duration": 10,
    "start_time": "2022-05-10T06:57:35.251Z"
   },
   {
    "duration": 8,
    "start_time": "2022-05-10T06:57:35.262Z"
   },
   {
    "duration": 13,
    "start_time": "2022-05-10T06:57:35.271Z"
   },
   {
    "duration": 5,
    "start_time": "2022-05-10T06:57:35.286Z"
   },
   {
    "duration": 1465,
    "start_time": "2022-05-10T06:58:09.422Z"
   },
   {
    "duration": 61,
    "start_time": "2022-05-10T06:58:10.889Z"
   },
   {
    "duration": 11,
    "start_time": "2022-05-10T06:58:10.952Z"
   },
   {
    "duration": 28,
    "start_time": "2022-05-10T06:58:10.966Z"
   },
   {
    "duration": 452,
    "start_time": "2022-05-10T06:58:10.996Z"
   },
   {
    "duration": 17,
    "start_time": "2022-05-10T06:58:11.450Z"
   },
   {
    "duration": 517,
    "start_time": "2022-05-10T06:58:11.469Z"
   },
   {
    "duration": 436,
    "start_time": "2022-05-10T06:58:11.988Z"
   },
   {
    "duration": 22,
    "start_time": "2022-05-10T06:58:12.426Z"
   },
   {
    "duration": 691,
    "start_time": "2022-05-10T06:58:12.451Z"
   },
   {
    "duration": 24,
    "start_time": "2022-05-10T06:58:13.144Z"
   },
   {
    "duration": 263,
    "start_time": "2022-05-10T06:58:13.170Z"
   },
   {
    "duration": 77,
    "start_time": "2022-05-10T06:58:13.435Z"
   },
   {
    "duration": 1612,
    "start_time": "2022-05-10T06:58:13.513Z"
   },
   {
    "duration": 284,
    "start_time": "2022-05-10T06:58:15.127Z"
   },
   {
    "duration": 8,
    "start_time": "2022-05-10T06:58:15.413Z"
   },
   {
    "duration": 897,
    "start_time": "2022-05-10T06:58:15.423Z"
   },
   {
    "duration": 1014,
    "start_time": "2022-05-10T06:58:16.322Z"
   },
   {
    "duration": 902,
    "start_time": "2022-05-10T06:58:17.338Z"
   },
   {
    "duration": 9,
    "start_time": "2022-05-10T06:58:18.242Z"
   },
   {
    "duration": 7,
    "start_time": "2022-05-10T06:58:18.253Z"
   },
   {
    "duration": 10,
    "start_time": "2022-05-10T06:58:18.262Z"
   },
   {
    "duration": 6,
    "start_time": "2022-05-10T06:58:18.274Z"
   },
   {
    "duration": 1438,
    "start_time": "2022-05-10T22:02:23.461Z"
   },
   {
    "duration": 118,
    "start_time": "2022-05-10T22:02:24.902Z"
   },
   {
    "duration": 71,
    "start_time": "2022-05-10T22:02:25.022Z"
   },
   {
    "duration": 12,
    "start_time": "2022-05-10T22:02:25.096Z"
   },
   {
    "duration": 22,
    "start_time": "2022-05-10T22:02:25.110Z"
   },
   {
    "duration": 454,
    "start_time": "2022-05-10T22:02:25.134Z"
   },
   {
    "duration": 15,
    "start_time": "2022-05-10T22:02:25.591Z"
   },
   {
    "duration": 471,
    "start_time": "2022-05-10T22:02:25.608Z"
   },
   {
    "duration": 436,
    "start_time": "2022-05-10T22:02:26.081Z"
   },
   {
    "duration": 18,
    "start_time": "2022-05-10T22:02:26.521Z"
   },
   {
    "duration": 697,
    "start_time": "2022-05-10T22:02:26.541Z"
   },
   {
    "duration": 23,
    "start_time": "2022-05-10T22:02:27.240Z"
   },
   {
    "duration": 244,
    "start_time": "2022-05-10T22:02:27.266Z"
   },
   {
    "duration": 101,
    "start_time": "2022-05-10T22:02:27.512Z"
   },
   {
    "duration": 1648,
    "start_time": "2022-05-10T22:02:27.616Z"
   },
   {
    "duration": 298,
    "start_time": "2022-05-10T22:02:29.267Z"
   },
   {
    "duration": 10,
    "start_time": "2022-05-10T22:02:29.567Z"
   },
   {
    "duration": 960,
    "start_time": "2022-05-10T22:02:29.580Z"
   },
   {
    "duration": 983,
    "start_time": "2022-05-10T22:02:30.542Z"
   },
   {
    "duration": 877,
    "start_time": "2022-05-10T22:02:31.527Z"
   },
   {
    "duration": 10,
    "start_time": "2022-05-10T22:02:32.406Z"
   },
   {
    "duration": 8,
    "start_time": "2022-05-10T22:02:32.418Z"
   },
   {
    "duration": 16,
    "start_time": "2022-05-10T22:02:32.428Z"
   },
   {
    "duration": 28,
    "start_time": "2022-05-10T22:02:32.446Z"
   },
   {
    "duration": 106,
    "start_time": "2022-05-10T22:04:28.306Z"
   },
   {
    "duration": 6,
    "start_time": "2022-05-10T22:04:47.731Z"
   },
   {
    "duration": 123,
    "start_time": "2022-05-10T22:07:49.810Z"
   },
   {
    "duration": 8,
    "start_time": "2022-05-10T22:08:09.491Z"
   },
   {
    "duration": 137,
    "start_time": "2022-05-10T22:08:09.501Z"
   },
   {
    "duration": 70,
    "start_time": "2022-05-10T22:08:09.639Z"
   },
   {
    "duration": 5,
    "start_time": "2022-05-10T22:08:09.711Z"
   },
   {
    "duration": 22,
    "start_time": "2022-05-10T22:08:09.718Z"
   },
   {
    "duration": 493,
    "start_time": "2022-05-10T22:08:09.741Z"
   },
   {
    "duration": 15,
    "start_time": "2022-05-10T22:08:10.237Z"
   },
   {
    "duration": 485,
    "start_time": "2022-05-10T22:08:10.253Z"
   },
   {
    "duration": 542,
    "start_time": "2022-05-10T22:08:10.741Z"
   },
   {
    "duration": 18,
    "start_time": "2022-05-10T22:08:11.284Z"
   },
   {
    "duration": 713,
    "start_time": "2022-05-10T22:08:11.304Z"
   },
   {
    "duration": 24,
    "start_time": "2022-05-10T22:08:12.019Z"
   },
   {
    "duration": 257,
    "start_time": "2022-05-10T22:08:12.044Z"
   },
   {
    "duration": 8,
    "start_time": "2022-05-10T22:08:12.303Z"
   },
   {
    "duration": 1597,
    "start_time": "2022-05-10T22:08:12.312Z"
   },
   {
    "duration": 303,
    "start_time": "2022-05-10T22:08:13.911Z"
   },
   {
    "duration": 8,
    "start_time": "2022-05-10T22:08:14.215Z"
   },
   {
    "duration": 1024,
    "start_time": "2022-05-10T22:08:14.225Z"
   },
   {
    "duration": 878,
    "start_time": "2022-05-10T22:08:15.251Z"
   },
   {
    "duration": 922,
    "start_time": "2022-05-10T22:08:16.132Z"
   },
   {
    "duration": 20,
    "start_time": "2022-05-10T22:08:17.056Z"
   },
   {
    "duration": 13,
    "start_time": "2022-05-10T22:08:17.077Z"
   },
   {
    "duration": 15,
    "start_time": "2022-05-10T22:08:17.092Z"
   },
   {
    "duration": 7,
    "start_time": "2022-05-10T22:08:17.111Z"
   },
   {
    "duration": 28,
    "start_time": "2022-05-10T22:14:52.749Z"
   },
   {
    "duration": 6,
    "start_time": "2022-05-10T22:15:02.339Z"
   },
   {
    "duration": 267,
    "start_time": "2022-05-10T22:15:02.347Z"
   },
   {
    "duration": 79,
    "start_time": "2022-05-10T22:15:02.615Z"
   },
   {
    "duration": 5,
    "start_time": "2022-05-10T22:15:02.696Z"
   },
   {
    "duration": 21,
    "start_time": "2022-05-10T22:15:02.703Z"
   },
   {
    "duration": 451,
    "start_time": "2022-05-10T22:15:02.726Z"
   },
   {
    "duration": 16,
    "start_time": "2022-05-10T22:15:03.179Z"
   },
   {
    "duration": 607,
    "start_time": "2022-05-10T22:15:03.196Z"
   },
   {
    "duration": 406,
    "start_time": "2022-05-10T22:15:03.806Z"
   },
   {
    "duration": 18,
    "start_time": "2022-05-10T22:15:04.214Z"
   },
   {
    "duration": 624,
    "start_time": "2022-05-10T22:15:04.234Z"
   },
   {
    "duration": 28,
    "start_time": "2022-05-10T22:15:04.860Z"
   },
   {
    "duration": 255,
    "start_time": "2022-05-10T22:15:04.889Z"
   },
   {
    "duration": 7,
    "start_time": "2022-05-10T22:15:05.146Z"
   },
   {
    "duration": 1500,
    "start_time": "2022-05-10T22:15:05.154Z"
   },
   {
    "duration": 259,
    "start_time": "2022-05-10T22:15:06.656Z"
   },
   {
    "duration": 8,
    "start_time": "2022-05-10T22:15:06.917Z"
   },
   {
    "duration": 969,
    "start_time": "2022-05-10T22:15:06.927Z"
   },
   {
    "duration": 826,
    "start_time": "2022-05-10T22:15:07.897Z"
   },
   {
    "duration": 836,
    "start_time": "2022-05-10T22:15:08.724Z"
   },
   {
    "duration": 14,
    "start_time": "2022-05-10T22:15:09.562Z"
   },
   {
    "duration": 10,
    "start_time": "2022-05-10T22:15:09.578Z"
   },
   {
    "duration": 11,
    "start_time": "2022-05-10T22:15:09.590Z"
   },
   {
    "duration": 6,
    "start_time": "2022-05-10T22:15:09.603Z"
   },
   {
    "duration": 30,
    "start_time": "2022-05-10T22:15:29.017Z"
   },
   {
    "duration": 7,
    "start_time": "2022-05-10T22:15:34.590Z"
   },
   {
    "duration": 109,
    "start_time": "2022-05-10T22:15:34.600Z"
   },
   {
    "duration": 69,
    "start_time": "2022-05-10T22:15:34.711Z"
   },
   {
    "duration": 6,
    "start_time": "2022-05-10T22:15:34.782Z"
   },
   {
    "duration": 21,
    "start_time": "2022-05-10T22:15:34.789Z"
   },
   {
    "duration": 426,
    "start_time": "2022-05-10T22:15:34.812Z"
   },
   {
    "duration": 15,
    "start_time": "2022-05-10T22:15:35.239Z"
   },
   {
    "duration": 612,
    "start_time": "2022-05-10T22:15:35.255Z"
   },
   {
    "duration": 393,
    "start_time": "2022-05-10T22:15:35.872Z"
   },
   {
    "duration": 24,
    "start_time": "2022-05-10T22:15:36.266Z"
   },
   {
    "duration": 621,
    "start_time": "2022-05-10T22:15:36.292Z"
   },
   {
    "duration": 26,
    "start_time": "2022-05-10T22:15:36.915Z"
   },
   {
    "duration": 254,
    "start_time": "2022-05-10T22:15:36.943Z"
   },
   {
    "duration": 8,
    "start_time": "2022-05-10T22:15:37.199Z"
   },
   {
    "duration": 1469,
    "start_time": "2022-05-10T22:15:37.210Z"
   },
   {
    "duration": 248,
    "start_time": "2022-05-10T22:15:38.681Z"
   },
   {
    "duration": 7,
    "start_time": "2022-05-10T22:15:38.931Z"
   },
   {
    "duration": 954,
    "start_time": "2022-05-10T22:15:38.939Z"
   },
   {
    "duration": 819,
    "start_time": "2022-05-10T22:15:39.895Z"
   },
   {
    "duration": 838,
    "start_time": "2022-05-10T22:15:40.716Z"
   },
   {
    "duration": 19,
    "start_time": "2022-05-10T22:15:41.555Z"
   },
   {
    "duration": 5,
    "start_time": "2022-05-10T22:15:41.576Z"
   },
   {
    "duration": 11,
    "start_time": "2022-05-10T22:15:41.583Z"
   },
   {
    "duration": 6,
    "start_time": "2022-05-10T22:15:41.597Z"
   },
   {
    "duration": 6,
    "start_time": "2022-05-10T22:17:35.677Z"
   },
   {
    "duration": 106,
    "start_time": "2022-05-10T22:17:35.685Z"
   },
   {
    "duration": 87,
    "start_time": "2022-05-10T22:17:35.793Z"
   },
   {
    "duration": 6,
    "start_time": "2022-05-10T22:17:35.882Z"
   },
   {
    "duration": 26,
    "start_time": "2022-05-10T22:17:35.889Z"
   },
   {
    "duration": 428,
    "start_time": "2022-05-10T22:17:35.917Z"
   },
   {
    "duration": 27,
    "start_time": "2022-05-10T22:17:36.347Z"
   },
   {
    "duration": 441,
    "start_time": "2022-05-10T22:17:36.376Z"
   },
   {
    "duration": 570,
    "start_time": "2022-05-10T22:17:36.820Z"
   },
   {
    "duration": 18,
    "start_time": "2022-05-10T22:17:37.392Z"
   },
   {
    "duration": 627,
    "start_time": "2022-05-10T22:17:37.411Z"
   },
   {
    "duration": 34,
    "start_time": "2022-05-10T22:17:38.040Z"
   },
   {
    "duration": 241,
    "start_time": "2022-05-10T22:17:38.076Z"
   },
   {
    "duration": 8,
    "start_time": "2022-05-10T22:17:38.319Z"
   },
   {
    "duration": 1499,
    "start_time": "2022-05-10T22:17:38.329Z"
   },
   {
    "duration": 275,
    "start_time": "2022-05-10T22:17:39.829Z"
   },
   {
    "duration": 8,
    "start_time": "2022-05-10T22:17:40.106Z"
   },
   {
    "duration": 838,
    "start_time": "2022-05-10T22:17:40.116Z"
   },
   {
    "duration": 1078,
    "start_time": "2022-05-10T22:17:40.956Z"
   },
   {
    "duration": 846,
    "start_time": "2022-05-10T22:17:42.036Z"
   },
   {
    "duration": 9,
    "start_time": "2022-05-10T22:17:42.884Z"
   },
   {
    "duration": 7,
    "start_time": "2022-05-10T22:17:42.895Z"
   },
   {
    "duration": 14,
    "start_time": "2022-05-10T22:17:42.904Z"
   },
   {
    "duration": 5,
    "start_time": "2022-05-10T22:17:42.921Z"
   },
   {
    "duration": 273,
    "start_time": "2022-05-10T22:25:38.855Z"
   },
   {
    "duration": 297,
    "start_time": "2022-05-10T22:27:27.108Z"
   },
   {
    "duration": 279,
    "start_time": "2022-05-10T22:27:54.611Z"
   },
   {
    "duration": 272,
    "start_time": "2022-05-10T22:30:14.553Z"
   },
   {
    "duration": 7,
    "start_time": "2022-05-10T22:33:17.428Z"
   },
   {
    "duration": 107,
    "start_time": "2022-05-10T22:33:17.436Z"
   },
   {
    "duration": 64,
    "start_time": "2022-05-10T22:33:17.545Z"
   },
   {
    "duration": 5,
    "start_time": "2022-05-10T22:33:17.611Z"
   },
   {
    "duration": 23,
    "start_time": "2022-05-10T22:33:17.617Z"
   },
   {
    "duration": 464,
    "start_time": "2022-05-10T22:33:17.641Z"
   },
   {
    "duration": 16,
    "start_time": "2022-05-10T22:33:18.106Z"
   },
   {
    "duration": 463,
    "start_time": "2022-05-10T22:33:18.123Z"
   },
   {
    "duration": 392,
    "start_time": "2022-05-10T22:33:18.589Z"
   },
   {
    "duration": 18,
    "start_time": "2022-05-10T22:33:18.983Z"
   },
   {
    "duration": 627,
    "start_time": "2022-05-10T22:33:19.003Z"
   },
   {
    "duration": 25,
    "start_time": "2022-05-10T22:33:19.631Z"
   },
   {
    "duration": 245,
    "start_time": "2022-05-10T22:33:19.672Z"
   },
   {
    "duration": 8,
    "start_time": "2022-05-10T22:33:19.919Z"
   },
   {
    "duration": 1537,
    "start_time": "2022-05-10T22:33:19.928Z"
   },
   {
    "duration": 463,
    "start_time": "2022-05-10T22:33:21.467Z"
   },
   {
    "duration": 45,
    "start_time": "2022-05-10T22:33:21.932Z"
   },
   {
    "duration": 860,
    "start_time": "2022-05-10T22:33:21.979Z"
   },
   {
    "duration": 847,
    "start_time": "2022-05-10T22:33:22.841Z"
   },
   {
    "duration": 852,
    "start_time": "2022-05-10T22:33:23.690Z"
   },
   {
    "duration": 9,
    "start_time": "2022-05-10T22:33:24.544Z"
   },
   {
    "duration": 20,
    "start_time": "2022-05-10T22:33:24.554Z"
   },
   {
    "duration": 9,
    "start_time": "2022-05-10T22:33:24.576Z"
   },
   {
    "duration": 5,
    "start_time": "2022-05-10T22:33:24.589Z"
   },
   {
    "duration": 103,
    "start_time": "2022-05-10T22:55:49.891Z"
   },
   {
    "duration": 7,
    "start_time": "2022-05-10T22:56:05.070Z"
   },
   {
    "duration": 122,
    "start_time": "2022-05-10T22:56:05.079Z"
   },
   {
    "duration": 93,
    "start_time": "2022-05-10T22:56:05.202Z"
   },
   {
    "duration": 5,
    "start_time": "2022-05-10T22:56:05.297Z"
   },
   {
    "duration": 21,
    "start_time": "2022-05-10T22:56:05.304Z"
   },
   {
    "duration": 464,
    "start_time": "2022-05-10T22:56:05.327Z"
   },
   {
    "duration": 15,
    "start_time": "2022-05-10T22:56:05.793Z"
   },
   {
    "duration": 471,
    "start_time": "2022-05-10T22:56:05.809Z"
   },
   {
    "duration": 658,
    "start_time": "2022-05-10T22:56:06.283Z"
   },
   {
    "duration": 17,
    "start_time": "2022-05-10T22:56:06.943Z"
   },
   {
    "duration": 623,
    "start_time": "2022-05-10T22:56:06.974Z"
   },
   {
    "duration": 28,
    "start_time": "2022-05-10T22:56:07.599Z"
   },
   {
    "duration": 232,
    "start_time": "2022-05-10T22:56:07.629Z"
   },
   {
    "duration": 13,
    "start_time": "2022-05-10T22:56:07.862Z"
   },
   {
    "duration": 1415,
    "start_time": "2022-05-10T22:56:07.877Z"
   },
   {
    "duration": 255,
    "start_time": "2022-05-10T22:56:09.294Z"
   },
   {
    "duration": 8,
    "start_time": "2022-05-10T22:56:09.551Z"
   },
   {
    "duration": 860,
    "start_time": "2022-05-10T22:56:09.561Z"
   },
   {
    "duration": 850,
    "start_time": "2022-05-10T22:56:10.423Z"
   },
   {
    "duration": 1085,
    "start_time": "2022-05-10T22:56:11.275Z"
   },
   {
    "duration": 17,
    "start_time": "2022-05-10T22:56:12.361Z"
   },
   {
    "duration": 9,
    "start_time": "2022-05-10T22:56:12.380Z"
   },
   {
    "duration": 10,
    "start_time": "2022-05-10T22:56:12.391Z"
   },
   {
    "duration": 6,
    "start_time": "2022-05-10T22:56:12.404Z"
   },
   {
    "duration": 23,
    "start_time": "2022-05-10T23:04:08.182Z"
   },
   {
    "duration": 25,
    "start_time": "2022-05-10T23:04:49.731Z"
   },
   {
    "duration": 224,
    "start_time": "2022-05-10T23:04:54.268Z"
   },
   {
    "duration": 9,
    "start_time": "2022-05-10T23:05:00.739Z"
   },
   {
    "duration": 6,
    "start_time": "2022-05-10T23:05:29.432Z"
   },
   {
    "duration": 111,
    "start_time": "2022-05-10T23:05:29.442Z"
   },
   {
    "duration": 68,
    "start_time": "2022-05-10T23:05:29.555Z"
   },
   {
    "duration": 6,
    "start_time": "2022-05-10T23:05:29.624Z"
   },
   {
    "duration": 46,
    "start_time": "2022-05-10T23:05:29.631Z"
   },
   {
    "duration": 462,
    "start_time": "2022-05-10T23:05:29.679Z"
   },
   {
    "duration": 32,
    "start_time": "2022-05-10T23:05:30.143Z"
   },
   {
    "duration": 435,
    "start_time": "2022-05-10T23:05:30.176Z"
   },
   {
    "duration": 397,
    "start_time": "2022-05-10T23:05:30.613Z"
   },
   {
    "duration": 17,
    "start_time": "2022-05-10T23:05:31.012Z"
   },
   {
    "duration": 626,
    "start_time": "2022-05-10T23:05:31.032Z"
   },
   {
    "duration": 34,
    "start_time": "2022-05-10T23:05:31.660Z"
   },
   {
    "duration": 241,
    "start_time": "2022-05-10T23:05:31.696Z"
   },
   {
    "duration": 8,
    "start_time": "2022-05-10T23:05:31.938Z"
   },
   {
    "duration": 1430,
    "start_time": "2022-05-10T23:05:31.948Z"
   },
   {
    "duration": 259,
    "start_time": "2022-05-10T23:05:33.379Z"
   },
   {
    "duration": 8,
    "start_time": "2022-05-10T23:05:33.639Z"
   },
   {
    "duration": 1059,
    "start_time": "2022-05-10T23:05:33.648Z"
   },
   {
    "duration": 823,
    "start_time": "2022-05-10T23:05:34.709Z"
   },
   {
    "duration": 812,
    "start_time": "2022-05-10T23:05:35.533Z"
   },
   {
    "duration": 7,
    "start_time": "2022-05-10T23:05:36.347Z"
   },
   {
    "duration": 18,
    "start_time": "2022-05-10T23:05:36.355Z"
   },
   {
    "duration": 10,
    "start_time": "2022-05-10T23:05:36.375Z"
   },
   {
    "duration": 9,
    "start_time": "2022-05-10T23:05:36.387Z"
   },
   {
    "duration": 107,
    "start_time": "2022-05-10T23:09:54.840Z"
   },
   {
    "duration": 8,
    "start_time": "2022-05-10T23:11:24.705Z"
   },
   {
    "duration": 14,
    "start_time": "2022-05-10T23:13:37.751Z"
   },
   {
    "duration": 14,
    "start_time": "2022-05-10T23:14:22.302Z"
   },
   {
    "duration": 14,
    "start_time": "2022-05-10T23:15:06.124Z"
   },
   {
    "duration": 107,
    "start_time": "2022-05-10T23:15:48.792Z"
   },
   {
    "duration": 106,
    "start_time": "2022-05-10T23:15:59.227Z"
   },
   {
    "duration": 107,
    "start_time": "2022-05-10T23:16:32.373Z"
   },
   {
    "duration": 9,
    "start_time": "2022-05-10T23:16:49.959Z"
   },
   {
    "duration": 9,
    "start_time": "2022-05-10T23:18:00.343Z"
   },
   {
    "duration": 9,
    "start_time": "2022-05-10T23:18:25.362Z"
   },
   {
    "duration": 6,
    "start_time": "2022-05-10T23:18:31.218Z"
   },
   {
    "duration": 118,
    "start_time": "2022-05-10T23:18:31.226Z"
   },
   {
    "duration": 62,
    "start_time": "2022-05-10T23:18:31.346Z"
   },
   {
    "duration": 5,
    "start_time": "2022-05-10T23:18:31.410Z"
   },
   {
    "duration": 33,
    "start_time": "2022-05-10T23:18:31.416Z"
   },
   {
    "duration": 438,
    "start_time": "2022-05-10T23:18:31.451Z"
   },
   {
    "duration": 15,
    "start_time": "2022-05-10T23:18:31.891Z"
   },
   {
    "duration": 471,
    "start_time": "2022-05-10T23:18:31.908Z"
   },
   {
    "duration": 416,
    "start_time": "2022-05-10T23:18:32.384Z"
   },
   {
    "duration": 19,
    "start_time": "2022-05-10T23:18:32.802Z"
   },
   {
    "duration": 649,
    "start_time": "2022-05-10T23:18:32.823Z"
   },
   {
    "duration": 26,
    "start_time": "2022-05-10T23:18:33.474Z"
   },
   {
    "duration": 312,
    "start_time": "2022-05-10T23:18:33.501Z"
   },
   {
    "duration": 9,
    "start_time": "2022-05-10T23:18:33.814Z"
   },
   {
    "duration": 26,
    "start_time": "2022-05-10T23:18:33.825Z"
   },
   {
    "duration": 0,
    "start_time": "2022-05-10T23:18:33.852Z"
   },
   {
    "duration": 0,
    "start_time": "2022-05-10T23:18:33.854Z"
   },
   {
    "duration": 0,
    "start_time": "2022-05-10T23:18:33.855Z"
   },
   {
    "duration": 0,
    "start_time": "2022-05-10T23:18:33.873Z"
   },
   {
    "duration": 0,
    "start_time": "2022-05-10T23:18:33.874Z"
   },
   {
    "duration": 0,
    "start_time": "2022-05-10T23:18:33.876Z"
   },
   {
    "duration": 0,
    "start_time": "2022-05-10T23:18:33.877Z"
   },
   {
    "duration": 0,
    "start_time": "2022-05-10T23:18:33.878Z"
   },
   {
    "duration": 0,
    "start_time": "2022-05-10T23:18:33.879Z"
   },
   {
    "duration": 10,
    "start_time": "2022-05-10T23:19:45.755Z"
   },
   {
    "duration": 9,
    "start_time": "2022-05-10T23:20:04.181Z"
   },
   {
    "duration": 7,
    "start_time": "2022-05-10T23:20:08.214Z"
   },
   {
    "duration": 117,
    "start_time": "2022-05-10T23:20:08.223Z"
   },
   {
    "duration": 65,
    "start_time": "2022-05-10T23:20:08.342Z"
   },
   {
    "duration": 6,
    "start_time": "2022-05-10T23:20:08.409Z"
   },
   {
    "duration": 21,
    "start_time": "2022-05-10T23:20:08.417Z"
   },
   {
    "duration": 459,
    "start_time": "2022-05-10T23:20:08.440Z"
   },
   {
    "duration": 14,
    "start_time": "2022-05-10T23:20:08.901Z"
   },
   {
    "duration": 762,
    "start_time": "2022-05-10T23:20:08.917Z"
   },
   {
    "duration": 389,
    "start_time": "2022-05-10T23:20:09.681Z"
   },
   {
    "duration": 17,
    "start_time": "2022-05-10T23:20:10.072Z"
   },
   {
    "duration": 635,
    "start_time": "2022-05-10T23:20:10.091Z"
   },
   {
    "duration": 24,
    "start_time": "2022-05-10T23:20:10.728Z"
   },
   {
    "duration": 253,
    "start_time": "2022-05-10T23:20:10.754Z"
   },
   {
    "duration": 9,
    "start_time": "2022-05-10T23:20:11.009Z"
   },
   {
    "duration": 24,
    "start_time": "2022-05-10T23:20:11.020Z"
   },
   {
    "duration": 0,
    "start_time": "2022-05-10T23:20:11.045Z"
   },
   {
    "duration": 0,
    "start_time": "2022-05-10T23:20:11.046Z"
   },
   {
    "duration": 0,
    "start_time": "2022-05-10T23:20:11.048Z"
   },
   {
    "duration": 0,
    "start_time": "2022-05-10T23:20:11.049Z"
   },
   {
    "duration": 0,
    "start_time": "2022-05-10T23:20:11.050Z"
   },
   {
    "duration": 0,
    "start_time": "2022-05-10T23:20:11.051Z"
   },
   {
    "duration": 0,
    "start_time": "2022-05-10T23:20:11.074Z"
   },
   {
    "duration": 0,
    "start_time": "2022-05-10T23:20:11.075Z"
   },
   {
    "duration": 0,
    "start_time": "2022-05-10T23:20:11.076Z"
   },
   {
    "duration": 107,
    "start_time": "2022-05-10T23:21:09.534Z"
   },
   {
    "duration": 10,
    "start_time": "2022-05-10T23:21:46.354Z"
   },
   {
    "duration": 9,
    "start_time": "2022-05-10T23:22:19.294Z"
   },
   {
    "duration": 9,
    "start_time": "2022-05-10T23:22:52.735Z"
   },
   {
    "duration": 9,
    "start_time": "2022-05-10T23:22:57.746Z"
   },
   {
    "duration": 7,
    "start_time": "2022-05-10T23:23:02.002Z"
   },
   {
    "duration": 141,
    "start_time": "2022-05-10T23:23:02.011Z"
   },
   {
    "duration": 68,
    "start_time": "2022-05-10T23:23:02.153Z"
   },
   {
    "duration": 5,
    "start_time": "2022-05-10T23:23:02.223Z"
   },
   {
    "duration": 51,
    "start_time": "2022-05-10T23:23:02.230Z"
   },
   {
    "duration": 457,
    "start_time": "2022-05-10T23:23:02.283Z"
   },
   {
    "duration": 33,
    "start_time": "2022-05-10T23:23:02.742Z"
   },
   {
    "duration": 449,
    "start_time": "2022-05-10T23:23:02.777Z"
   },
   {
    "duration": 389,
    "start_time": "2022-05-10T23:23:03.229Z"
   },
   {
    "duration": 17,
    "start_time": "2022-05-10T23:23:03.620Z"
   },
   {
    "duration": 629,
    "start_time": "2022-05-10T23:23:03.639Z"
   },
   {
    "duration": 25,
    "start_time": "2022-05-10T23:23:04.270Z"
   },
   {
    "duration": 243,
    "start_time": "2022-05-10T23:23:04.296Z"
   },
   {
    "duration": 9,
    "start_time": "2022-05-10T23:23:04.541Z"
   },
   {
    "duration": 1439,
    "start_time": "2022-05-10T23:23:04.552Z"
   },
   {
    "duration": 262,
    "start_time": "2022-05-10T23:23:05.993Z"
   },
   {
    "duration": 8,
    "start_time": "2022-05-10T23:23:06.257Z"
   },
   {
    "duration": 1146,
    "start_time": "2022-05-10T23:23:06.274Z"
   },
   {
    "duration": 825,
    "start_time": "2022-05-10T23:23:07.421Z"
   },
   {
    "duration": 831,
    "start_time": "2022-05-10T23:23:08.248Z"
   },
   {
    "duration": 8,
    "start_time": "2022-05-10T23:23:09.081Z"
   },
   {
    "duration": 10,
    "start_time": "2022-05-10T23:23:09.090Z"
   },
   {
    "duration": 12,
    "start_time": "2022-05-10T23:23:09.101Z"
   },
   {
    "duration": 10,
    "start_time": "2022-05-10T23:23:09.116Z"
   },
   {
    "duration": 259,
    "start_time": "2022-05-11T00:37:47.747Z"
   },
   {
    "duration": 13,
    "start_time": "2022-05-11T00:40:18.154Z"
   },
   {
    "duration": 254,
    "start_time": "2022-05-11T00:43:24.569Z"
   },
   {
    "duration": 245,
    "start_time": "2022-05-11T00:43:55.750Z"
   },
   {
    "duration": 244,
    "start_time": "2022-05-11T00:44:14.394Z"
   },
   {
    "duration": 267,
    "start_time": "2022-05-11T00:44:35.569Z"
   },
   {
    "duration": 259,
    "start_time": "2022-05-11T00:45:04.800Z"
   },
   {
    "duration": 268,
    "start_time": "2022-05-11T00:45:19.155Z"
   },
   {
    "duration": 266,
    "start_time": "2022-05-11T00:46:36.401Z"
   },
   {
    "duration": 258,
    "start_time": "2022-05-11T00:48:24.766Z"
   },
   {
    "duration": 255,
    "start_time": "2022-05-11T00:48:39.679Z"
   },
   {
    "duration": 7,
    "start_time": "2022-05-11T00:48:50.191Z"
   },
   {
    "duration": 131,
    "start_time": "2022-05-11T00:48:50.200Z"
   },
   {
    "duration": 89,
    "start_time": "2022-05-11T00:48:50.333Z"
   },
   {
    "duration": 5,
    "start_time": "2022-05-11T00:48:50.425Z"
   },
   {
    "duration": 41,
    "start_time": "2022-05-11T00:48:50.432Z"
   },
   {
    "duration": 429,
    "start_time": "2022-05-11T00:48:50.475Z"
   },
   {
    "duration": 13,
    "start_time": "2022-05-11T00:48:50.906Z"
   },
   {
    "duration": 460,
    "start_time": "2022-05-11T00:48:50.920Z"
   },
   {
    "duration": 698,
    "start_time": "2022-05-11T00:48:51.383Z"
   },
   {
    "duration": 17,
    "start_time": "2022-05-11T00:48:52.082Z"
   },
   {
    "duration": 627,
    "start_time": "2022-05-11T00:48:52.101Z"
   },
   {
    "duration": 24,
    "start_time": "2022-05-11T00:48:52.729Z"
   },
   {
    "duration": 262,
    "start_time": "2022-05-11T00:48:52.755Z"
   },
   {
    "duration": 9,
    "start_time": "2022-05-11T00:48:53.019Z"
   },
   {
    "duration": 1460,
    "start_time": "2022-05-11T00:48:53.030Z"
   },
   {
    "duration": 15,
    "start_time": "2022-05-11T00:48:54.492Z"
   },
   {
    "duration": 0,
    "start_time": "2022-05-11T00:48:54.508Z"
   },
   {
    "duration": 0,
    "start_time": "2022-05-11T00:48:54.510Z"
   },
   {
    "duration": 0,
    "start_time": "2022-05-11T00:48:54.511Z"
   },
   {
    "duration": 0,
    "start_time": "2022-05-11T00:48:54.512Z"
   },
   {
    "duration": 0,
    "start_time": "2022-05-11T00:48:54.513Z"
   },
   {
    "duration": 0,
    "start_time": "2022-05-11T00:48:54.514Z"
   },
   {
    "duration": 0,
    "start_time": "2022-05-11T00:48:54.515Z"
   },
   {
    "duration": 0,
    "start_time": "2022-05-11T00:48:54.516Z"
   },
   {
    "duration": 14,
    "start_time": "2022-05-11T00:49:29.444Z"
   },
   {
    "duration": 14,
    "start_time": "2022-05-11T00:49:58.424Z"
   },
   {
    "duration": 31,
    "start_time": "2022-05-11T00:50:22.815Z"
   },
   {
    "duration": 31,
    "start_time": "2022-05-11T00:50:31.997Z"
   },
   {
    "duration": 7,
    "start_time": "2022-05-11T00:51:14.760Z"
   },
   {
    "duration": 136,
    "start_time": "2022-05-11T00:51:14.771Z"
   },
   {
    "duration": 89,
    "start_time": "2022-05-11T00:51:14.909Z"
   },
   {
    "duration": 6,
    "start_time": "2022-05-11T00:51:14.999Z"
   },
   {
    "duration": 34,
    "start_time": "2022-05-11T00:51:15.007Z"
   },
   {
    "duration": 457,
    "start_time": "2022-05-11T00:51:15.044Z"
   },
   {
    "duration": 15,
    "start_time": "2022-05-11T00:51:15.503Z"
   },
   {
    "duration": 453,
    "start_time": "2022-05-11T00:51:15.520Z"
   },
   {
    "duration": 385,
    "start_time": "2022-05-11T00:51:15.975Z"
   },
   {
    "duration": 27,
    "start_time": "2022-05-11T00:51:16.362Z"
   },
   {
    "duration": 608,
    "start_time": "2022-05-11T00:51:16.390Z"
   },
   {
    "duration": 24,
    "start_time": "2022-05-11T00:51:17.000Z"
   },
   {
    "duration": 256,
    "start_time": "2022-05-11T00:51:17.026Z"
   },
   {
    "duration": 10,
    "start_time": "2022-05-11T00:51:17.284Z"
   },
   {
    "duration": 1428,
    "start_time": "2022-05-11T00:51:17.297Z"
   },
   {
    "duration": 47,
    "start_time": "2022-05-11T00:51:18.727Z"
   },
   {
    "duration": 0,
    "start_time": "2022-05-11T00:51:18.776Z"
   },
   {
    "duration": 0,
    "start_time": "2022-05-11T00:51:18.777Z"
   },
   {
    "duration": 0,
    "start_time": "2022-05-11T00:51:18.779Z"
   },
   {
    "duration": 0,
    "start_time": "2022-05-11T00:51:18.779Z"
   },
   {
    "duration": 0,
    "start_time": "2022-05-11T00:51:18.780Z"
   },
   {
    "duration": 0,
    "start_time": "2022-05-11T00:51:18.782Z"
   },
   {
    "duration": 0,
    "start_time": "2022-05-11T00:51:18.782Z"
   },
   {
    "duration": 0,
    "start_time": "2022-05-11T00:51:18.783Z"
   },
   {
    "duration": 294,
    "start_time": "2022-05-11T00:54:23.897Z"
   },
   {
    "duration": 279,
    "start_time": "2022-05-11T00:54:38.139Z"
   },
   {
    "duration": 50,
    "start_time": "2022-05-11T00:57:08.741Z"
   },
   {
    "duration": 277,
    "start_time": "2022-05-11T00:59:20.196Z"
   },
   {
    "duration": 272,
    "start_time": "2022-05-11T00:59:59.106Z"
   },
   {
    "duration": 278,
    "start_time": "2022-05-11T01:00:12.834Z"
   },
   {
    "duration": 6,
    "start_time": "2022-05-11T01:00:24.218Z"
   },
   {
    "duration": 120,
    "start_time": "2022-05-11T01:00:24.226Z"
   },
   {
    "duration": 63,
    "start_time": "2022-05-11T01:00:24.348Z"
   },
   {
    "duration": 4,
    "start_time": "2022-05-11T01:00:24.413Z"
   },
   {
    "duration": 22,
    "start_time": "2022-05-11T01:00:24.419Z"
   },
   {
    "duration": 795,
    "start_time": "2022-05-11T01:00:24.442Z"
   },
   {
    "duration": 15,
    "start_time": "2022-05-11T01:00:25.239Z"
   },
   {
    "duration": 444,
    "start_time": "2022-05-11T01:00:25.274Z"
   },
   {
    "duration": 404,
    "start_time": "2022-05-11T01:00:25.722Z"
   },
   {
    "duration": 20,
    "start_time": "2022-05-11T01:00:26.129Z"
   },
   {
    "duration": 671,
    "start_time": "2022-05-11T01:00:26.151Z"
   },
   {
    "duration": 26,
    "start_time": "2022-05-11T01:00:26.824Z"
   },
   {
    "duration": 260,
    "start_time": "2022-05-11T01:00:26.852Z"
   },
   {
    "duration": 9,
    "start_time": "2022-05-11T01:00:27.115Z"
   },
   {
    "duration": 1507,
    "start_time": "2022-05-11T01:00:27.126Z"
   },
   {
    "duration": 309,
    "start_time": "2022-05-11T01:00:28.635Z"
   },
   {
    "duration": 8,
    "start_time": "2022-05-11T01:00:28.946Z"
   },
   {
    "duration": 898,
    "start_time": "2022-05-11T01:00:28.956Z"
   },
   {
    "duration": 866,
    "start_time": "2022-05-11T01:00:29.856Z"
   },
   {
    "duration": 925,
    "start_time": "2022-05-11T01:00:30.725Z"
   },
   {
    "duration": 8,
    "start_time": "2022-05-11T01:00:31.652Z"
   },
   {
    "duration": 13,
    "start_time": "2022-05-11T01:00:31.661Z"
   },
   {
    "duration": 16,
    "start_time": "2022-05-11T01:00:31.676Z"
   },
   {
    "duration": 20,
    "start_time": "2022-05-11T01:00:31.695Z"
   },
   {
    "duration": 1756,
    "start_time": "2022-05-11T01:00:56.671Z"
   },
   {
    "duration": 274,
    "start_time": "2022-05-11T01:01:15.345Z"
   },
   {
    "duration": 267,
    "start_time": "2022-05-11T01:03:24.504Z"
   },
   {
    "duration": 510,
    "start_time": "2022-05-11T01:04:09.900Z"
   },
   {
    "duration": 952,
    "start_time": "2022-05-11T01:06:45.079Z"
   },
   {
    "duration": 14,
    "start_time": "2022-05-11T01:08:22.137Z"
   },
   {
    "duration": 280,
    "start_time": "2022-05-11T01:39:53.752Z"
   },
   {
    "duration": 258,
    "start_time": "2022-05-11T01:40:06.587Z"
   },
   {
    "duration": 230,
    "start_time": "2022-05-11T01:40:25.789Z"
   },
   {
    "duration": 225,
    "start_time": "2022-05-11T01:40:30.797Z"
   },
   {
    "duration": 267,
    "start_time": "2022-05-11T01:40:35.991Z"
   },
   {
    "duration": 65,
    "start_time": "2022-05-11T03:43:04.336Z"
   },
   {
    "duration": 69,
    "start_time": "2022-05-11T03:49:37.675Z"
   },
   {
    "duration": 1403,
    "start_time": "2022-05-11T03:53:16.064Z"
   },
   {
    "duration": 110,
    "start_time": "2022-05-11T03:53:17.469Z"
   },
   {
    "duration": 77,
    "start_time": "2022-05-11T03:53:17.582Z"
   },
   {
    "duration": 5,
    "start_time": "2022-05-11T03:53:17.662Z"
   },
   {
    "duration": 53,
    "start_time": "2022-05-11T03:53:17.670Z"
   },
   {
    "duration": 487,
    "start_time": "2022-05-11T03:53:17.725Z"
   },
   {
    "duration": 16,
    "start_time": "2022-05-11T03:53:18.214Z"
   },
   {
    "duration": 525,
    "start_time": "2022-05-11T03:53:18.231Z"
   },
   {
    "duration": 437,
    "start_time": "2022-05-11T03:53:18.758Z"
   },
   {
    "duration": 20,
    "start_time": "2022-05-11T03:53:19.198Z"
   },
   {
    "duration": 693,
    "start_time": "2022-05-11T03:53:19.219Z"
   },
   {
    "duration": 24,
    "start_time": "2022-05-11T03:53:19.914Z"
   },
   {
    "duration": 317,
    "start_time": "2022-05-11T03:53:19.939Z"
   },
   {
    "duration": 89,
    "start_time": "2022-05-11T03:53:20.258Z"
   },
   {
    "duration": 1553,
    "start_time": "2022-05-11T03:53:20.349Z"
   },
   {
    "duration": 61,
    "start_time": "2022-05-11T03:53:21.904Z"
   },
   {
    "duration": 0,
    "start_time": "2022-05-11T03:53:21.967Z"
   },
   {
    "duration": 0,
    "start_time": "2022-05-11T03:53:21.969Z"
   },
   {
    "duration": 0,
    "start_time": "2022-05-11T03:53:21.970Z"
   },
   {
    "duration": 0,
    "start_time": "2022-05-11T03:53:21.971Z"
   },
   {
    "duration": 0,
    "start_time": "2022-05-11T03:53:21.972Z"
   },
   {
    "duration": 0,
    "start_time": "2022-05-11T03:53:21.973Z"
   },
   {
    "duration": 0,
    "start_time": "2022-05-11T03:53:21.975Z"
   },
   {
    "duration": 0,
    "start_time": "2022-05-11T03:53:21.975Z"
   },
   {
    "duration": 0,
    "start_time": "2022-05-11T03:53:21.976Z"
   }
  ],
  "kernelspec": {
   "display_name": "Python 3 (ipykernel)",
   "language": "python",
   "name": "python3"
  },
  "language_info": {
   "codemirror_mode": {
    "name": "ipython",
    "version": 3
   },
   "file_extension": ".py",
   "mimetype": "text/x-python",
   "name": "python",
   "nbconvert_exporter": "python",
   "pygments_lexer": "ipython3",
   "version": "3.9.13"
  },
  "toc": {
   "base_numbering": 1,
   "nav_menu": {},
   "number_sections": true,
   "sideBar": true,
   "skip_h1_title": true,
   "title_cell": "Table of Contents",
   "title_sidebar": "Contents",
   "toc_cell": false,
   "toc_position": {},
   "toc_section_display": true,
   "toc_window_display": false
  }
 },
 "nbformat": 4,
 "nbformat_minor": 5
}
