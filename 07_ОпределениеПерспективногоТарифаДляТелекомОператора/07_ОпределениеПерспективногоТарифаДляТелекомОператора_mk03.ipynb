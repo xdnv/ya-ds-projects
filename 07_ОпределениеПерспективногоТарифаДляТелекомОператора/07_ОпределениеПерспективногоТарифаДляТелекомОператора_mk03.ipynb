{
 "cells": [
  {
   "cell_type": "markdown",
   "id": "fa119b26-5414-40a5-b03c-4fa8d6d3d458",
   "metadata": {},
   "source": [
    "# Определение перспективного тарифа для телеком-компании\n",
    "\n",
    "Заказчик - федеральный оператор сотовой связи.\n",
    "\n",
    "Он предлагает клиентам два тарифных плана: «Смарт» и «Ультра».\n",
    "\n",
    "Коммерческий департамент планирует скорректировать рекламный бюджет и хочет понять, какой тариф приносит больше денег.\n",
    "\n",
    "Необходимо провести предварительный анализ тарифов на выборке из пятисот клиентов за 2018 год: проанализировать их поведение и сделать вывод о более подходящем тарифе."
   ]
  },
  {
   "cell_type": "markdown",
   "id": "fa63cca0-e6c0-46aa-b746-ce6494959294",
   "metadata": {},
   "source": [
    "## Описание тарифов\n",
    "\n",
    "Тариф «Смарт»\n",
    "* Ежемесячная плата: 550 рублей\n",
    "* Включено 500 минут разговора, 50 сообщений и 15 Гб интернет-трафика\n",
    "* Стоимость услуг сверх тарифного пакета: \n",
    "    *\tминута разговора: 3 рубля\n",
    "    *\tсообщение: 3 рубля\n",
    "    *\t1 Гб интернет-трафика: 200 рублей\n",
    "    \n",
    "Тариф «Ультра»\n",
    "* Ежемесячная плата: 1950 рублей\n",
    "* Включено 3000 минут разговора, 1000 сообщений и 30 Гб интернет-трафика\n",
    "* Стоимость услуг сверх тарифного пакета: \n",
    "    *\tминута разговора: 1 рубль\n",
    "    *\tсообщение: 1 рубль\n",
    "    *\t1 Гб интернет-трафика: 150 рублей\n",
    "    \n",
    "Примечание: \n",
    "* Тарифы предполагают округление секунд до минут, а мегабайтов — до гигабайт.\n",
    "* Каждый звонок округляется отдельно, даже если он длился всего 1 секунду, будет засчитан как 1 минута.\n",
    "* Для веб-трафика отдельные сессии не считаются. Вместо этого общая сумма за месяц округляется в бо́льшую сторону. Если абонент использует 1025 мегабайт в этом месяце, с него возьмут плату за 2 гигабайта."
   ]
  },
  {
   "cell_type": "markdown",
   "id": "c5902e30-0970-4628-87cf-14651787c77f",
   "metadata": {},
   "source": [
    "## Описание данных\n",
    "Таблица users (информация о пользователях):\n",
    "* user_id — уникальный идентификатор пользователя\n",
    "* first_name — имя пользователя\n",
    "* last_name — фамилия пользователя\n",
    "* age — возраст пользователя (годы)\n",
    "* reg_date — дата подключения тарифа (день, месяц, год)\n",
    "* churn_date — дата прекращения пользования тарифом (если значение пропущено, то тариф ещё действовал на момент выгрузки данных)\n",
    "* city — город проживания пользователя\n",
    "* tariff — название тарифного плана\n",
    "\n",
    "Таблица calls (информация о звонках):\n",
    "* id — уникальный номер звонка\n",
    "* call_date — дата звонка\n",
    "* duration — длительность звонка в минутах\n",
    "* user_id — идентификатор пользователя, сделавшего звонок\n",
    "\n",
    "Таблица messages (информация о сообщениях):\n",
    "* id — уникальный номер сообщения\n",
    "* message_date — дата сообщения\n",
    "* user_id — идентификатор пользователя, отправившего сообщение\n",
    "\n",
    "Таблица internet (информация об интернет-сессиях):\n",
    "* id — уникальный номер сессии\n",
    "* mb_used — объём потраченного за сессию интернет-трафика (в мегабайтах)\n",
    "* session_date — дата интернет-сессии\n",
    "* user_id — идентификатор пользователя\n",
    "\n",
    "Таблица tariffs (информация о тарифах):\n",
    "* tariff_name — название тарифа\n",
    "* rub_monthly_fee — ежемесячная абонентская плата в рублях\n",
    "* minutes_included — количество минут разговора в месяц, включённых в абонентскую плату\n",
    "* messages_included — количество сообщений в месяц, включённых в абонентскую плату\n",
    "* mb_per_month_included — объём интернет-трафика, включённого в абонентскую плату (в мегабайтах)\n",
    "* rub_per_minute — стоимость минуты разговора сверх тарифного пакета (например, если в тарифе 100 минут разговора в месяц, то со 101 минуты будет взиматься плата)\n",
    "* rub_per_message — стоимость отправки сообщения сверх тарифного пакета\n",
    "* rub_per_gb — стоимость дополнительного гигабайта интернет-трафика сверх тарифного пакета (1 гигабайт = 1024 мегабайта)\n",
    "\n",
    "Примечание. Если объединение таблиц командой merge приводит к ошибке dead kernell, примените join."
   ]
  },
  {
   "cell_type": "markdown",
   "id": "67b98855-bba7-4744-b845-d49bcb130cc9",
   "metadata": {},
   "source": [
    "## Шаг 1. Загрузка файлов с данными и изучение общей информации"
   ]
  },
  {
   "cell_type": "code",
   "execution_count": 1,
   "id": "6522221e-fc92-4ef4-95c0-68b423cb71b1",
   "metadata": {},
   "outputs": [
    {
     "name": "stdout",
     "output_type": "stream",
     "text": [
      "<class 'pandas.core.frame.DataFrame'>\n",
      "RangeIndex: 202607 entries, 0 to 202606\n",
      "Data columns (total 4 columns):\n",
      " #   Column     Non-Null Count   Dtype  \n",
      "---  ------     --------------   -----  \n",
      " 0   id         202607 non-null  object \n",
      " 1   call_date  202607 non-null  object \n",
      " 2   duration   202607 non-null  float64\n",
      " 3   user_id    202607 non-null  int64  \n",
      "dtypes: float64(1), int64(1), object(2)\n",
      "memory usage: 6.2+ MB\n"
     ]
    },
    {
     "data": {
      "text/html": [
       "<div>\n",
       "<style scoped>\n",
       "    .dataframe tbody tr th:only-of-type {\n",
       "        vertical-align: middle;\n",
       "    }\n",
       "\n",
       "    .dataframe tbody tr th {\n",
       "        vertical-align: top;\n",
       "    }\n",
       "\n",
       "    .dataframe thead th {\n",
       "        text-align: right;\n",
       "    }\n",
       "</style>\n",
       "<table border=\"1\" class=\"dataframe\">\n",
       "  <thead>\n",
       "    <tr style=\"text-align: right;\">\n",
       "      <th></th>\n",
       "      <th>id</th>\n",
       "      <th>call_date</th>\n",
       "      <th>duration</th>\n",
       "      <th>user_id</th>\n",
       "    </tr>\n",
       "  </thead>\n",
       "  <tbody>\n",
       "    <tr>\n",
       "      <th>37043</th>\n",
       "      <td>1093_321</td>\n",
       "      <td>2018-11-17</td>\n",
       "      <td>1.53</td>\n",
       "      <td>1093</td>\n",
       "    </tr>\n",
       "    <tr>\n",
       "      <th>168999</th>\n",
       "      <td>1416_166</td>\n",
       "      <td>2018-11-19</td>\n",
       "      <td>5.18</td>\n",
       "      <td>1416</td>\n",
       "    </tr>\n",
       "    <tr>\n",
       "      <th>59640</th>\n",
       "      <td>1149_158</td>\n",
       "      <td>2018-06-02</td>\n",
       "      <td>16.47</td>\n",
       "      <td>1149</td>\n",
       "    </tr>\n",
       "    <tr>\n",
       "      <th>193848</th>\n",
       "      <td>1476_145</td>\n",
       "      <td>2018-09-24</td>\n",
       "      <td>17.34</td>\n",
       "      <td>1476</td>\n",
       "    </tr>\n",
       "    <tr>\n",
       "      <th>41026</th>\n",
       "      <td>1101_69</td>\n",
       "      <td>2018-12-04</td>\n",
       "      <td>2.97</td>\n",
       "      <td>1101</td>\n",
       "    </tr>\n",
       "    <tr>\n",
       "      <th>173424</th>\n",
       "      <td>1428_113</td>\n",
       "      <td>2018-10-21</td>\n",
       "      <td>1.82</td>\n",
       "      <td>1428</td>\n",
       "    </tr>\n",
       "    <tr>\n",
       "      <th>46278</th>\n",
       "      <td>1116_8</td>\n",
       "      <td>2018-06-25</td>\n",
       "      <td>4.01</td>\n",
       "      <td>1116</td>\n",
       "    </tr>\n",
       "    <tr>\n",
       "      <th>72893</th>\n",
       "      <td>1183_257</td>\n",
       "      <td>2018-10-21</td>\n",
       "      <td>10.56</td>\n",
       "      <td>1183</td>\n",
       "    </tr>\n",
       "    <tr>\n",
       "      <th>155055</th>\n",
       "      <td>1382_838</td>\n",
       "      <td>2018-11-15</td>\n",
       "      <td>0.00</td>\n",
       "      <td>1382</td>\n",
       "    </tr>\n",
       "    <tr>\n",
       "      <th>178086</th>\n",
       "      <td>1441_33</td>\n",
       "      <td>2018-12-05</td>\n",
       "      <td>4.88</td>\n",
       "      <td>1441</td>\n",
       "    </tr>\n",
       "  </tbody>\n",
       "</table>\n",
       "</div>"
      ],
      "text/plain": [
       "              id   call_date  duration  user_id\n",
       "37043   1093_321  2018-11-17      1.53     1093\n",
       "168999  1416_166  2018-11-19      5.18     1416\n",
       "59640   1149_158  2018-06-02     16.47     1149\n",
       "193848  1476_145  2018-09-24     17.34     1476\n",
       "41026    1101_69  2018-12-04      2.97     1101\n",
       "173424  1428_113  2018-10-21      1.82     1428\n",
       "46278     1116_8  2018-06-25      4.01     1116\n",
       "72893   1183_257  2018-10-21     10.56     1183\n",
       "155055  1382_838  2018-11-15      0.00     1382\n",
       "178086   1441_33  2018-12-05      4.88     1441"
      ]
     },
     "metadata": {},
     "output_type": "display_data"
    },
    {
     "data": {
      "text/html": [
       "<div>\n",
       "<style scoped>\n",
       "    .dataframe tbody tr th:only-of-type {\n",
       "        vertical-align: middle;\n",
       "    }\n",
       "\n",
       "    .dataframe tbody tr th {\n",
       "        vertical-align: top;\n",
       "    }\n",
       "\n",
       "    .dataframe thead th {\n",
       "        text-align: right;\n",
       "    }\n",
       "</style>\n",
       "<table border=\"1\" class=\"dataframe\">\n",
       "  <thead>\n",
       "    <tr style=\"text-align: right;\">\n",
       "      <th></th>\n",
       "      <th>duration</th>\n",
       "      <th>user_id</th>\n",
       "    </tr>\n",
       "  </thead>\n",
       "  <tbody>\n",
       "    <tr>\n",
       "      <th>count</th>\n",
       "      <td>202,607.00</td>\n",
       "      <td>202,607.00</td>\n",
       "    </tr>\n",
       "    <tr>\n",
       "      <th>mean</th>\n",
       "      <td>6.76</td>\n",
       "      <td>1,253.94</td>\n",
       "    </tr>\n",
       "    <tr>\n",
       "      <th>std</th>\n",
       "      <td>5.84</td>\n",
       "      <td>144.72</td>\n",
       "    </tr>\n",
       "    <tr>\n",
       "      <th>min</th>\n",
       "      <td>0.00</td>\n",
       "      <td>1,000.00</td>\n",
       "    </tr>\n",
       "    <tr>\n",
       "      <th>25%</th>\n",
       "      <td>1.30</td>\n",
       "      <td>1,126.00</td>\n",
       "    </tr>\n",
       "    <tr>\n",
       "      <th>50%</th>\n",
       "      <td>6.00</td>\n",
       "      <td>1,260.00</td>\n",
       "    </tr>\n",
       "    <tr>\n",
       "      <th>75%</th>\n",
       "      <td>10.70</td>\n",
       "      <td>1,379.00</td>\n",
       "    </tr>\n",
       "    <tr>\n",
       "      <th>max</th>\n",
       "      <td>38.00</td>\n",
       "      <td>1,499.00</td>\n",
       "    </tr>\n",
       "  </tbody>\n",
       "</table>\n",
       "</div>"
      ],
      "text/plain": [
       "        duration    user_id\n",
       "count 202,607.00 202,607.00\n",
       "mean        6.76   1,253.94\n",
       "std         5.84     144.72\n",
       "min         0.00   1,000.00\n",
       "25%         1.30   1,126.00\n",
       "50%         6.00   1,260.00\n",
       "75%        10.70   1,379.00\n",
       "max        38.00   1,499.00"
      ]
     },
     "metadata": {},
     "output_type": "display_data"
    }
   ],
   "source": [
    "# загружаем необходимые библиотеки и определяем пространства имён\n",
    "import pandas as pd\n",
    "import math\n",
    "import seaborn as sns\n",
    "sns.set(color_codes=True)\n",
    "\n",
    "%matplotlib inline\n",
    "import matplotlib.pyplot as plt\n",
    "import numpy as np\n",
    "import scipy.stats as st\n",
    "from functools import reduce\n",
    "idx = pd.IndexSlice\n",
    "\n",
    "#включим отображение всех столбцов таблиц и округлим числа до сотых\n",
    "pd.set_option('display.max_columns', None)\n",
    "pd.options.display.float_format = '{:,.2f}'.format\n",
    "\n",
    "# загружаем файл с данными\n",
    "try:\n",
    "    df_calls = pd.read_csv('datasets/data_07/calls.csv') # locally hosted datafile ## , sep='\\t'\n",
    "except:\n",
    "    df_calls = pd.read_csv('/datasets/calls.csv') # Yandex-hosted datafile  ## , sep='\\t'\n",
    "\n",
    "# общий анализ структуры и состава загруженного файла\n",
    "df_calls.info()\n",
    "display(df_calls.sample(10))\n",
    "display(df_calls.describe())"
   ]
  },
  {
   "cell_type": "code",
   "execution_count": 2,
   "id": "fcd45380-4297-42fa-8e1a-5b7be15e16c1",
   "metadata": {
    "tags": []
   },
   "outputs": [
    {
     "name": "stdout",
     "output_type": "stream",
     "text": [
      "<class 'pandas.core.frame.DataFrame'>\n",
      "RangeIndex: 149396 entries, 0 to 149395\n",
      "Data columns (total 5 columns):\n",
      " #   Column        Non-Null Count   Dtype  \n",
      "---  ------        --------------   -----  \n",
      " 0   Unnamed: 0    149396 non-null  int64  \n",
      " 1   id            149396 non-null  object \n",
      " 2   mb_used       149396 non-null  float64\n",
      " 3   session_date  149396 non-null  object \n",
      " 4   user_id       149396 non-null  int64  \n",
      "dtypes: float64(1), int64(2), object(2)\n",
      "memory usage: 5.7+ MB\n"
     ]
    },
    {
     "data": {
      "text/html": [
       "<div>\n",
       "<style scoped>\n",
       "    .dataframe tbody tr th:only-of-type {\n",
       "        vertical-align: middle;\n",
       "    }\n",
       "\n",
       "    .dataframe tbody tr th {\n",
       "        vertical-align: top;\n",
       "    }\n",
       "\n",
       "    .dataframe thead th {\n",
       "        text-align: right;\n",
       "    }\n",
       "</style>\n",
       "<table border=\"1\" class=\"dataframe\">\n",
       "  <thead>\n",
       "    <tr style=\"text-align: right;\">\n",
       "      <th></th>\n",
       "      <th>Unnamed: 0</th>\n",
       "      <th>id</th>\n",
       "      <th>mb_used</th>\n",
       "      <th>session_date</th>\n",
       "      <th>user_id</th>\n",
       "    </tr>\n",
       "  </thead>\n",
       "  <tbody>\n",
       "    <tr>\n",
       "      <th>83848</th>\n",
       "      <td>83848</td>\n",
       "      <td>1284_202</td>\n",
       "      <td>576.81</td>\n",
       "      <td>2018-05-11</td>\n",
       "      <td>1284</td>\n",
       "    </tr>\n",
       "    <tr>\n",
       "      <th>107391</th>\n",
       "      <td>107391</td>\n",
       "      <td>1364_89</td>\n",
       "      <td>348.34</td>\n",
       "      <td>2018-12-19</td>\n",
       "      <td>1364</td>\n",
       "    </tr>\n",
       "    <tr>\n",
       "      <th>56379</th>\n",
       "      <td>56379</td>\n",
       "      <td>1188_185</td>\n",
       "      <td>256.11</td>\n",
       "      <td>2018-10-12</td>\n",
       "      <td>1188</td>\n",
       "    </tr>\n",
       "    <tr>\n",
       "      <th>84630</th>\n",
       "      <td>84630</td>\n",
       "      <td>1287_185</td>\n",
       "      <td>349.36</td>\n",
       "      <td>2018-11-11</td>\n",
       "      <td>1287</td>\n",
       "    </tr>\n",
       "    <tr>\n",
       "      <th>7703</th>\n",
       "      <td>7703</td>\n",
       "      <td>1027_30</td>\n",
       "      <td>394.92</td>\n",
       "      <td>2018-09-07</td>\n",
       "      <td>1027</td>\n",
       "    </tr>\n",
       "    <tr>\n",
       "      <th>124033</th>\n",
       "      <td>124033</td>\n",
       "      <td>1417_67</td>\n",
       "      <td>417.76</td>\n",
       "      <td>2018-12-01</td>\n",
       "      <td>1417</td>\n",
       "    </tr>\n",
       "    <tr>\n",
       "      <th>30029</th>\n",
       "      <td>30029</td>\n",
       "      <td>1105_97</td>\n",
       "      <td>837.54</td>\n",
       "      <td>2018-12-04</td>\n",
       "      <td>1105</td>\n",
       "    </tr>\n",
       "    <tr>\n",
       "      <th>58276</th>\n",
       "      <td>58276</td>\n",
       "      <td>1196_274</td>\n",
       "      <td>855.19</td>\n",
       "      <td>2018-06-07</td>\n",
       "      <td>1196</td>\n",
       "    </tr>\n",
       "    <tr>\n",
       "      <th>120577</th>\n",
       "      <td>120577</td>\n",
       "      <td>1407_109</td>\n",
       "      <td>525.39</td>\n",
       "      <td>2018-09-11</td>\n",
       "      <td>1407</td>\n",
       "    </tr>\n",
       "    <tr>\n",
       "      <th>73817</th>\n",
       "      <td>73817</td>\n",
       "      <td>1248_386</td>\n",
       "      <td>403.61</td>\n",
       "      <td>2018-09-23</td>\n",
       "      <td>1248</td>\n",
       "    </tr>\n",
       "  </tbody>\n",
       "</table>\n",
       "</div>"
      ],
      "text/plain": [
       "        Unnamed: 0        id  mb_used session_date  user_id\n",
       "83848        83848  1284_202   576.81   2018-05-11     1284\n",
       "107391      107391   1364_89   348.34   2018-12-19     1364\n",
       "56379        56379  1188_185   256.11   2018-10-12     1188\n",
       "84630        84630  1287_185   349.36   2018-11-11     1287\n",
       "7703          7703   1027_30   394.92   2018-09-07     1027\n",
       "124033      124033   1417_67   417.76   2018-12-01     1417\n",
       "30029        30029   1105_97   837.54   2018-12-04     1105\n",
       "58276        58276  1196_274   855.19   2018-06-07     1196\n",
       "120577      120577  1407_109   525.39   2018-09-11     1407\n",
       "73817        73817  1248_386   403.61   2018-09-23     1248"
      ]
     },
     "metadata": {},
     "output_type": "display_data"
    },
    {
     "data": {
      "text/html": [
       "<div>\n",
       "<style scoped>\n",
       "    .dataframe tbody tr th:only-of-type {\n",
       "        vertical-align: middle;\n",
       "    }\n",
       "\n",
       "    .dataframe tbody tr th {\n",
       "        vertical-align: top;\n",
       "    }\n",
       "\n",
       "    .dataframe thead th {\n",
       "        text-align: right;\n",
       "    }\n",
       "</style>\n",
       "<table border=\"1\" class=\"dataframe\">\n",
       "  <thead>\n",
       "    <tr style=\"text-align: right;\">\n",
       "      <th></th>\n",
       "      <th>Unnamed: 0</th>\n",
       "      <th>mb_used</th>\n",
       "      <th>user_id</th>\n",
       "    </tr>\n",
       "  </thead>\n",
       "  <tbody>\n",
       "    <tr>\n",
       "      <th>count</th>\n",
       "      <td>149,396.00</td>\n",
       "      <td>149,396.00</td>\n",
       "      <td>149,396.00</td>\n",
       "    </tr>\n",
       "    <tr>\n",
       "      <th>mean</th>\n",
       "      <td>74,697.50</td>\n",
       "      <td>370.19</td>\n",
       "      <td>1,252.10</td>\n",
       "    </tr>\n",
       "    <tr>\n",
       "      <th>std</th>\n",
       "      <td>43,127.05</td>\n",
       "      <td>278.30</td>\n",
       "      <td>144.05</td>\n",
       "    </tr>\n",
       "    <tr>\n",
       "      <th>min</th>\n",
       "      <td>0.00</td>\n",
       "      <td>0.00</td>\n",
       "      <td>1,000.00</td>\n",
       "    </tr>\n",
       "    <tr>\n",
       "      <th>25%</th>\n",
       "      <td>37,348.75</td>\n",
       "      <td>138.19</td>\n",
       "      <td>1,130.00</td>\n",
       "    </tr>\n",
       "    <tr>\n",
       "      <th>50%</th>\n",
       "      <td>74,697.50</td>\n",
       "      <td>348.01</td>\n",
       "      <td>1,251.00</td>\n",
       "    </tr>\n",
       "    <tr>\n",
       "      <th>75%</th>\n",
       "      <td>112,046.25</td>\n",
       "      <td>559.55</td>\n",
       "      <td>1,380.00</td>\n",
       "    </tr>\n",
       "    <tr>\n",
       "      <th>max</th>\n",
       "      <td>149,395.00</td>\n",
       "      <td>1,724.83</td>\n",
       "      <td>1,499.00</td>\n",
       "    </tr>\n",
       "  </tbody>\n",
       "</table>\n",
       "</div>"
      ],
      "text/plain": [
       "       Unnamed: 0    mb_used    user_id\n",
       "count  149,396.00 149,396.00 149,396.00\n",
       "mean    74,697.50     370.19   1,252.10\n",
       "std     43,127.05     278.30     144.05\n",
       "min          0.00       0.00   1,000.00\n",
       "25%     37,348.75     138.19   1,130.00\n",
       "50%     74,697.50     348.01   1,251.00\n",
       "75%    112,046.25     559.55   1,380.00\n",
       "max    149,395.00   1,724.83   1,499.00"
      ]
     },
     "metadata": {},
     "output_type": "display_data"
    }
   ],
   "source": [
    "# загружаем файл с данными\n",
    "try:\n",
    "    df_internet = pd.read_csv('datasets/data_07/internet.csv') # locally hosted datafile ## , sep='\\t'\n",
    "except:\n",
    "    df_internet = pd.read_csv('/datasets/internet.csv') # Yandex-hosted datafile  ## , sep='\\t'\n",
    "\n",
    "# общий анализ структуры и состава загруженного файла\n",
    "df_internet.info()\n",
    "display(df_internet.sample(10))\n",
    "display(df_internet.describe())"
   ]
  },
  {
   "cell_type": "code",
   "execution_count": 3,
   "id": "9a10974a-6936-4093-beca-ce51dd53d0aa",
   "metadata": {},
   "outputs": [
    {
     "name": "stdout",
     "output_type": "stream",
     "text": [
      "<class 'pandas.core.frame.DataFrame'>\n",
      "RangeIndex: 123036 entries, 0 to 123035\n",
      "Data columns (total 3 columns):\n",
      " #   Column        Non-Null Count   Dtype \n",
      "---  ------        --------------   ----- \n",
      " 0   id            123036 non-null  object\n",
      " 1   message_date  123036 non-null  object\n",
      " 2   user_id       123036 non-null  int64 \n",
      "dtypes: int64(1), object(2)\n",
      "memory usage: 2.8+ MB\n"
     ]
    },
    {
     "data": {
      "text/html": [
       "<div>\n",
       "<style scoped>\n",
       "    .dataframe tbody tr th:only-of-type {\n",
       "        vertical-align: middle;\n",
       "    }\n",
       "\n",
       "    .dataframe tbody tr th {\n",
       "        vertical-align: top;\n",
       "    }\n",
       "\n",
       "    .dataframe thead th {\n",
       "        text-align: right;\n",
       "    }\n",
       "</style>\n",
       "<table border=\"1\" class=\"dataframe\">\n",
       "  <thead>\n",
       "    <tr style=\"text-align: right;\">\n",
       "      <th></th>\n",
       "      <th>id</th>\n",
       "      <th>message_date</th>\n",
       "      <th>user_id</th>\n",
       "    </tr>\n",
       "  </thead>\n",
       "  <tbody>\n",
       "    <tr>\n",
       "      <th>19904</th>\n",
       "      <td>1088_194</td>\n",
       "      <td>2018-06-11</td>\n",
       "      <td>1088</td>\n",
       "    </tr>\n",
       "    <tr>\n",
       "      <th>41129</th>\n",
       "      <td>1174_474</td>\n",
       "      <td>2018-11-24</td>\n",
       "      <td>1174</td>\n",
       "    </tr>\n",
       "    <tr>\n",
       "      <th>111671</th>\n",
       "      <td>1452_60</td>\n",
       "      <td>2018-07-29</td>\n",
       "      <td>1452</td>\n",
       "    </tr>\n",
       "    <tr>\n",
       "      <th>37499</th>\n",
       "      <td>1164_168</td>\n",
       "      <td>2018-09-17</td>\n",
       "      <td>1164</td>\n",
       "    </tr>\n",
       "    <tr>\n",
       "      <th>91385</th>\n",
       "      <td>1379_71</td>\n",
       "      <td>2018-11-18</td>\n",
       "      <td>1379</td>\n",
       "    </tr>\n",
       "    <tr>\n",
       "      <th>63577</th>\n",
       "      <td>1277_254</td>\n",
       "      <td>2018-09-05</td>\n",
       "      <td>1277</td>\n",
       "    </tr>\n",
       "    <tr>\n",
       "      <th>15339</th>\n",
       "      <td>1066_81</td>\n",
       "      <td>2018-09-12</td>\n",
       "      <td>1066</td>\n",
       "    </tr>\n",
       "    <tr>\n",
       "      <th>29951</th>\n",
       "      <td>1130_326</td>\n",
       "      <td>2018-12-30</td>\n",
       "      <td>1130</td>\n",
       "    </tr>\n",
       "    <tr>\n",
       "      <th>109532</th>\n",
       "      <td>1440_473</td>\n",
       "      <td>2018-09-10</td>\n",
       "      <td>1440</td>\n",
       "    </tr>\n",
       "    <tr>\n",
       "      <th>17255</th>\n",
       "      <td>1076_404</td>\n",
       "      <td>2018-03-26</td>\n",
       "      <td>1076</td>\n",
       "    </tr>\n",
       "  </tbody>\n",
       "</table>\n",
       "</div>"
      ],
      "text/plain": [
       "              id message_date  user_id\n",
       "19904   1088_194   2018-06-11     1088\n",
       "41129   1174_474   2018-11-24     1174\n",
       "111671   1452_60   2018-07-29     1452\n",
       "37499   1164_168   2018-09-17     1164\n",
       "91385    1379_71   2018-11-18     1379\n",
       "63577   1277_254   2018-09-05     1277\n",
       "15339    1066_81   2018-09-12     1066\n",
       "29951   1130_326   2018-12-30     1130\n",
       "109532  1440_473   2018-09-10     1440\n",
       "17255   1076_404   2018-03-26     1076"
      ]
     },
     "metadata": {},
     "output_type": "display_data"
    },
    {
     "data": {
      "text/html": [
       "<div>\n",
       "<style scoped>\n",
       "    .dataframe tbody tr th:only-of-type {\n",
       "        vertical-align: middle;\n",
       "    }\n",
       "\n",
       "    .dataframe tbody tr th {\n",
       "        vertical-align: top;\n",
       "    }\n",
       "\n",
       "    .dataframe thead th {\n",
       "        text-align: right;\n",
       "    }\n",
       "</style>\n",
       "<table border=\"1\" class=\"dataframe\">\n",
       "  <thead>\n",
       "    <tr style=\"text-align: right;\">\n",
       "      <th></th>\n",
       "      <th>user_id</th>\n",
       "    </tr>\n",
       "  </thead>\n",
       "  <tbody>\n",
       "    <tr>\n",
       "      <th>count</th>\n",
       "      <td>123,036.00</td>\n",
       "    </tr>\n",
       "    <tr>\n",
       "      <th>mean</th>\n",
       "      <td>1,256.99</td>\n",
       "    </tr>\n",
       "    <tr>\n",
       "      <th>std</th>\n",
       "      <td>143.52</td>\n",
       "    </tr>\n",
       "    <tr>\n",
       "      <th>min</th>\n",
       "      <td>1,000.00</td>\n",
       "    </tr>\n",
       "    <tr>\n",
       "      <th>25%</th>\n",
       "      <td>1,134.00</td>\n",
       "    </tr>\n",
       "    <tr>\n",
       "      <th>50%</th>\n",
       "      <td>1,271.00</td>\n",
       "    </tr>\n",
       "    <tr>\n",
       "      <th>75%</th>\n",
       "      <td>1,381.00</td>\n",
       "    </tr>\n",
       "    <tr>\n",
       "      <th>max</th>\n",
       "      <td>1,499.00</td>\n",
       "    </tr>\n",
       "  </tbody>\n",
       "</table>\n",
       "</div>"
      ],
      "text/plain": [
       "         user_id\n",
       "count 123,036.00\n",
       "mean    1,256.99\n",
       "std       143.52\n",
       "min     1,000.00\n",
       "25%     1,134.00\n",
       "50%     1,271.00\n",
       "75%     1,381.00\n",
       "max     1,499.00"
      ]
     },
     "metadata": {},
     "output_type": "display_data"
    }
   ],
   "source": [
    "# загружаем файл с данными\n",
    "try:\n",
    "    df_messages = pd.read_csv('datasets/data_07/messages.csv') # locally hosted datafile ## , sep='\\t'\n",
    "except:\n",
    "    df_messages = pd.read_csv('/datasets/messages.csv') # Yandex-hosted datafile  ## , sep='\\t'\n",
    "\n",
    "# общий анализ структуры и состава загруженного файла\n",
    "df_messages.info()\n",
    "display(df_messages.sample(10))\n",
    "display(df_messages.describe())"
   ]
  },
  {
   "cell_type": "code",
   "execution_count": 4,
   "id": "d62d22d1-bafa-4ed2-8dfa-79e4f5c82153",
   "metadata": {},
   "outputs": [
    {
     "data": {
      "text/html": [
       "<div>\n",
       "<style scoped>\n",
       "    .dataframe tbody tr th:only-of-type {\n",
       "        vertical-align: middle;\n",
       "    }\n",
       "\n",
       "    .dataframe tbody tr th {\n",
       "        vertical-align: top;\n",
       "    }\n",
       "\n",
       "    .dataframe thead th {\n",
       "        text-align: right;\n",
       "    }\n",
       "</style>\n",
       "<table border=\"1\" class=\"dataframe\">\n",
       "  <thead>\n",
       "    <tr style=\"text-align: right;\">\n",
       "      <th></th>\n",
       "      <th>messages_included</th>\n",
       "      <th>mb_per_month_included</th>\n",
       "      <th>minutes_included</th>\n",
       "      <th>rub_monthly_fee</th>\n",
       "      <th>rub_per_gb</th>\n",
       "      <th>rub_per_message</th>\n",
       "      <th>rub_per_minute</th>\n",
       "      <th>tariff_name</th>\n",
       "    </tr>\n",
       "  </thead>\n",
       "  <tbody>\n",
       "    <tr>\n",
       "      <th>0</th>\n",
       "      <td>50</td>\n",
       "      <td>15360</td>\n",
       "      <td>500</td>\n",
       "      <td>550</td>\n",
       "      <td>200</td>\n",
       "      <td>3</td>\n",
       "      <td>3</td>\n",
       "      <td>smart</td>\n",
       "    </tr>\n",
       "    <tr>\n",
       "      <th>1</th>\n",
       "      <td>1000</td>\n",
       "      <td>30720</td>\n",
       "      <td>3000</td>\n",
       "      <td>1950</td>\n",
       "      <td>150</td>\n",
       "      <td>1</td>\n",
       "      <td>1</td>\n",
       "      <td>ultra</td>\n",
       "    </tr>\n",
       "  </tbody>\n",
       "</table>\n",
       "</div>"
      ],
      "text/plain": [
       "   messages_included  mb_per_month_included  minutes_included  \\\n",
       "0                 50                  15360               500   \n",
       "1               1000                  30720              3000   \n",
       "\n",
       "   rub_monthly_fee  rub_per_gb  rub_per_message  rub_per_minute tariff_name  \n",
       "0              550         200                3               3       smart  \n",
       "1             1950         150                1               1       ultra  "
      ]
     },
     "execution_count": 4,
     "metadata": {},
     "output_type": "execute_result"
    }
   ],
   "source": [
    "# загружаем файл с данными\n",
    "try:\n",
    "    df_tariffs = pd.read_csv('datasets/data_07/tariffs.csv') # locally hosted datafile ## , sep='\\t'\n",
    "except:\n",
    "    df_tariffs = pd.read_csv('/datasets/tariffs.csv') # Yandex-hosted datafile  ## , sep='\\t'\n",
    "\n",
    "# общий анализ структуры и состава загруженного файла\n",
    "df_tariffs.head()"
   ]
  },
  {
   "cell_type": "code",
   "execution_count": 5,
   "id": "cb7150a0-c448-421a-ac7c-b47839c1bad4",
   "metadata": {},
   "outputs": [
    {
     "name": "stdout",
     "output_type": "stream",
     "text": [
      "<class 'pandas.core.frame.DataFrame'>\n",
      "RangeIndex: 500 entries, 0 to 499\n",
      "Data columns (total 8 columns):\n",
      " #   Column      Non-Null Count  Dtype \n",
      "---  ------      --------------  ----- \n",
      " 0   user_id     500 non-null    int64 \n",
      " 1   age         500 non-null    int64 \n",
      " 2   churn_date  38 non-null     object\n",
      " 3   city        500 non-null    object\n",
      " 4   first_name  500 non-null    object\n",
      " 5   last_name   500 non-null    object\n",
      " 6   reg_date    500 non-null    object\n",
      " 7   tariff      500 non-null    object\n",
      "dtypes: int64(2), object(6)\n",
      "memory usage: 31.4+ KB\n"
     ]
    },
    {
     "data": {
      "text/html": [
       "<div>\n",
       "<style scoped>\n",
       "    .dataframe tbody tr th:only-of-type {\n",
       "        vertical-align: middle;\n",
       "    }\n",
       "\n",
       "    .dataframe tbody tr th {\n",
       "        vertical-align: top;\n",
       "    }\n",
       "\n",
       "    .dataframe thead th {\n",
       "        text-align: right;\n",
       "    }\n",
       "</style>\n",
       "<table border=\"1\" class=\"dataframe\">\n",
       "  <thead>\n",
       "    <tr style=\"text-align: right;\">\n",
       "      <th></th>\n",
       "      <th>user_id</th>\n",
       "      <th>age</th>\n",
       "      <th>churn_date</th>\n",
       "      <th>city</th>\n",
       "      <th>first_name</th>\n",
       "      <th>last_name</th>\n",
       "      <th>reg_date</th>\n",
       "      <th>tariff</th>\n",
       "    </tr>\n",
       "  </thead>\n",
       "  <tbody>\n",
       "    <tr>\n",
       "      <th>381</th>\n",
       "      <td>1381</td>\n",
       "      <td>64</td>\n",
       "      <td>NaN</td>\n",
       "      <td>Москва</td>\n",
       "      <td>Тамара</td>\n",
       "      <td>Серебрякова</td>\n",
       "      <td>2018-01-13</td>\n",
       "      <td>ultra</td>\n",
       "    </tr>\n",
       "    <tr>\n",
       "      <th>425</th>\n",
       "      <td>1425</td>\n",
       "      <td>51</td>\n",
       "      <td>NaN</td>\n",
       "      <td>Пермь</td>\n",
       "      <td>Вадим</td>\n",
       "      <td>Фомин</td>\n",
       "      <td>2018-02-27</td>\n",
       "      <td>smart</td>\n",
       "    </tr>\n",
       "    <tr>\n",
       "      <th>93</th>\n",
       "      <td>1093</td>\n",
       "      <td>73</td>\n",
       "      <td>NaN</td>\n",
       "      <td>Санкт-Петербург</td>\n",
       "      <td>Вероника</td>\n",
       "      <td>Лапина</td>\n",
       "      <td>2018-06-29</td>\n",
       "      <td>smart</td>\n",
       "    </tr>\n",
       "    <tr>\n",
       "      <th>309</th>\n",
       "      <td>1309</td>\n",
       "      <td>28</td>\n",
       "      <td>NaN</td>\n",
       "      <td>Казань</td>\n",
       "      <td>Юлия</td>\n",
       "      <td>Касьянова</td>\n",
       "      <td>2018-10-05</td>\n",
       "      <td>ultra</td>\n",
       "    </tr>\n",
       "    <tr>\n",
       "      <th>467</th>\n",
       "      <td>1467</td>\n",
       "      <td>66</td>\n",
       "      <td>NaN</td>\n",
       "      <td>Киров</td>\n",
       "      <td>Исак</td>\n",
       "      <td>Александрюк</td>\n",
       "      <td>2018-11-24</td>\n",
       "      <td>ultra</td>\n",
       "    </tr>\n",
       "    <tr>\n",
       "      <th>146</th>\n",
       "      <td>1146</td>\n",
       "      <td>72</td>\n",
       "      <td>NaN</td>\n",
       "      <td>Санкт-Петербург</td>\n",
       "      <td>Владислав</td>\n",
       "      <td>Никонов</td>\n",
       "      <td>2018-05-25</td>\n",
       "      <td>smart</td>\n",
       "    </tr>\n",
       "    <tr>\n",
       "      <th>475</th>\n",
       "      <td>1475</td>\n",
       "      <td>40</td>\n",
       "      <td>NaN</td>\n",
       "      <td>Новокузнецк</td>\n",
       "      <td>Лидия</td>\n",
       "      <td>Фадеева</td>\n",
       "      <td>2018-01-09</td>\n",
       "      <td>smart</td>\n",
       "    </tr>\n",
       "    <tr>\n",
       "      <th>413</th>\n",
       "      <td>1413</td>\n",
       "      <td>37</td>\n",
       "      <td>NaN</td>\n",
       "      <td>Новосибирск</td>\n",
       "      <td>Леон</td>\n",
       "      <td>Фролов</td>\n",
       "      <td>2018-08-19</td>\n",
       "      <td>smart</td>\n",
       "    </tr>\n",
       "    <tr>\n",
       "      <th>287</th>\n",
       "      <td>1287</td>\n",
       "      <td>39</td>\n",
       "      <td>NaN</td>\n",
       "      <td>Севастополь</td>\n",
       "      <td>Вениамин</td>\n",
       "      <td>Мишин</td>\n",
       "      <td>2018-09-23</td>\n",
       "      <td>smart</td>\n",
       "    </tr>\n",
       "    <tr>\n",
       "      <th>113</th>\n",
       "      <td>1113</td>\n",
       "      <td>52</td>\n",
       "      <td>NaN</td>\n",
       "      <td>Чита</td>\n",
       "      <td>Харитон</td>\n",
       "      <td>Булгаков</td>\n",
       "      <td>2018-01-24</td>\n",
       "      <td>smart</td>\n",
       "    </tr>\n",
       "  </tbody>\n",
       "</table>\n",
       "</div>"
      ],
      "text/plain": [
       "     user_id  age churn_date             city first_name    last_name  \\\n",
       "381     1381   64        NaN           Москва     Тамара  Серебрякова   \n",
       "425     1425   51        NaN            Пермь      Вадим        Фомин   \n",
       "93      1093   73        NaN  Санкт-Петербург   Вероника       Лапина   \n",
       "309     1309   28        NaN           Казань       Юлия    Касьянова   \n",
       "467     1467   66        NaN            Киров       Исак  Александрюк   \n",
       "146     1146   72        NaN  Санкт-Петербург  Владислав      Никонов   \n",
       "475     1475   40        NaN      Новокузнецк      Лидия      Фадеева   \n",
       "413     1413   37        NaN      Новосибирск       Леон       Фролов   \n",
       "287     1287   39        NaN      Севастополь   Вениамин        Мишин   \n",
       "113     1113   52        NaN             Чита    Харитон     Булгаков   \n",
       "\n",
       "       reg_date tariff  \n",
       "381  2018-01-13  ultra  \n",
       "425  2018-02-27  smart  \n",
       "93   2018-06-29  smart  \n",
       "309  2018-10-05  ultra  \n",
       "467  2018-11-24  ultra  \n",
       "146  2018-05-25  smart  \n",
       "475  2018-01-09  smart  \n",
       "413  2018-08-19  smart  \n",
       "287  2018-09-23  smart  \n",
       "113  2018-01-24  smart  "
      ]
     },
     "metadata": {},
     "output_type": "display_data"
    },
    {
     "data": {
      "text/html": [
       "<div>\n",
       "<style scoped>\n",
       "    .dataframe tbody tr th:only-of-type {\n",
       "        vertical-align: middle;\n",
       "    }\n",
       "\n",
       "    .dataframe tbody tr th {\n",
       "        vertical-align: top;\n",
       "    }\n",
       "\n",
       "    .dataframe thead th {\n",
       "        text-align: right;\n",
       "    }\n",
       "</style>\n",
       "<table border=\"1\" class=\"dataframe\">\n",
       "  <thead>\n",
       "    <tr style=\"text-align: right;\">\n",
       "      <th></th>\n",
       "      <th>user_id</th>\n",
       "      <th>age</th>\n",
       "    </tr>\n",
       "  </thead>\n",
       "  <tbody>\n",
       "    <tr>\n",
       "      <th>count</th>\n",
       "      <td>500.00</td>\n",
       "      <td>500.00</td>\n",
       "    </tr>\n",
       "    <tr>\n",
       "      <th>mean</th>\n",
       "      <td>1,249.50</td>\n",
       "      <td>46.59</td>\n",
       "    </tr>\n",
       "    <tr>\n",
       "      <th>std</th>\n",
       "      <td>144.48</td>\n",
       "      <td>16.67</td>\n",
       "    </tr>\n",
       "    <tr>\n",
       "      <th>min</th>\n",
       "      <td>1,000.00</td>\n",
       "      <td>18.00</td>\n",
       "    </tr>\n",
       "    <tr>\n",
       "      <th>25%</th>\n",
       "      <td>1,124.75</td>\n",
       "      <td>32.00</td>\n",
       "    </tr>\n",
       "    <tr>\n",
       "      <th>50%</th>\n",
       "      <td>1,249.50</td>\n",
       "      <td>46.00</td>\n",
       "    </tr>\n",
       "    <tr>\n",
       "      <th>75%</th>\n",
       "      <td>1,374.25</td>\n",
       "      <td>62.00</td>\n",
       "    </tr>\n",
       "    <tr>\n",
       "      <th>max</th>\n",
       "      <td>1,499.00</td>\n",
       "      <td>75.00</td>\n",
       "    </tr>\n",
       "  </tbody>\n",
       "</table>\n",
       "</div>"
      ],
      "text/plain": [
       "       user_id    age\n",
       "count   500.00 500.00\n",
       "mean  1,249.50  46.59\n",
       "std     144.48  16.67\n",
       "min   1,000.00  18.00\n",
       "25%   1,124.75  32.00\n",
       "50%   1,249.50  46.00\n",
       "75%   1,374.25  62.00\n",
       "max   1,499.00  75.00"
      ]
     },
     "metadata": {},
     "output_type": "display_data"
    },
    {
     "name": "stdout",
     "output_type": "stream",
     "text": [
      "Москва             99\n",
      "Санкт-Петербург    39\n",
      "Новосибирск        16\n",
      "Омск               14\n",
      "Казань             14\n",
      "                   ..\n",
      "Нижневартовск       1\n",
      "Архангельск         1\n",
      "Химки               1\n",
      "Подольск            1\n",
      "Иваново             1\n",
      "Name: city, Length: 76, dtype: int64\n"
     ]
    }
   ],
   "source": [
    "# загружаем файл с данными\n",
    "try:\n",
    "    df_users = pd.read_csv('datasets/data_07/users.csv') # locally hosted datafile ## , sep='\\t'\n",
    "except:\n",
    "    df_users = pd.read_csv('/datasets/users.csv') # Yandex-hosted datafile  ## , sep='\\t'\n",
    "\n",
    "# общий анализ структуры и состава загруженного файла\n",
    "df_users.info()\n",
    "display(df_users.sample(10))\n",
    "display(df_users.describe())\n",
    "print(df_users['city'].value_counts())"
   ]
  },
  {
   "cell_type": "markdown",
   "id": "bcb55600-c5fa-450e-a3d0-786f3c20e2df",
   "metadata": {},
   "source": [
    "## Выводы по шагу 1\n",
    "\n",
    "<div class=\"alert alert-block alert-info\">\n",
    "</div>\n",
    "\n",
    "* Все таблицы успешно загружены, разделители и ключи понятны\n",
    "* В данных нет пропусков (единственная неполная колонка - users.churn_date, т.е. дата завершения пользования тарифом. его логика понятна).\n",
    "* Очевидных искажений и выбросов в данных не наблюдается\n",
    "* Необходимо преобразовать тип данных у столбцов с датой\n",
    "* Необходимо округлить значения минут разговора и мегабайт использованного трафика в большую сторону, так как тарифы считаются по минутам и мегабайтам.\n",
    "* После создания сводной таблицы по звонкам, сообщениям и интернет-трафику клиентов необходимо проверить появление пропущенных значений и заменить их на нули."
   ]
  },
  {
   "cell_type": "markdown",
   "id": "be3eadb3-fe9e-45ad-81fd-3794f38af90c",
   "metadata": {},
   "source": [
    "## Шаг 2. Подготовка данных\n",
    "Необходимо выполнить:\n",
    "* Приведение данных к нужным типам;\n",
    "* Поиск и исправление ошибок в данных, если они есть.\n",
    "\n",
    "Нулевую продолжительность имеют пропущенные звонки, их не нужно удалять. \n",
    "\n",
    "Для каждого пользователя вычислить:\n",
    "* количество сделанных звонков и израсходованных минут разговора по месяцам;\n",
    "* количество отправленных сообщений по месяцам;\n",
    "* объем израсходованного интернет-трафика по месяцам;\n",
    "* помесячную выручку с каждого пользователя (вычесть бесплатный лимит из суммарного количества звонков, сообщений и интернет-трафика; остаток умножить на значение из тарифного плана; прибавить абонентскую плату, соответствующую тарифному плану)."
   ]
  },
  {
   "cell_type": "markdown",
   "id": "f8fb7eb6-301d-40b4-b127-101fbdf88c27",
   "metadata": {},
   "source": [
    "### 2.1 Приведение данных к нужным типам"
   ]
  },
  {
   "cell_type": "code",
   "execution_count": 6,
   "id": "4b665b68-4579-4e3e-945b-844c2dcfbda0",
   "metadata": {},
   "outputs": [
    {
     "data": {
      "text/html": [
       "<div>\n",
       "<style scoped>\n",
       "    .dataframe tbody tr th:only-of-type {\n",
       "        vertical-align: middle;\n",
       "    }\n",
       "\n",
       "    .dataframe tbody tr th {\n",
       "        vertical-align: top;\n",
       "    }\n",
       "\n",
       "    .dataframe thead th {\n",
       "        text-align: right;\n",
       "    }\n",
       "</style>\n",
       "<table border=\"1\" class=\"dataframe\">\n",
       "  <thead>\n",
       "    <tr style=\"text-align: right;\">\n",
       "      <th></th>\n",
       "      <th>user_id</th>\n",
       "      <th>month</th>\n",
       "      <th>mb_used</th>\n",
       "    </tr>\n",
       "  </thead>\n",
       "  <tbody>\n",
       "    <tr>\n",
       "      <th>0</th>\n",
       "      <td>1000</td>\n",
       "      <td>5</td>\n",
       "      <td>3,072.00</td>\n",
       "    </tr>\n",
       "    <tr>\n",
       "      <th>1</th>\n",
       "      <td>1000</td>\n",
       "      <td>6</td>\n",
       "      <td>23,552.00</td>\n",
       "    </tr>\n",
       "    <tr>\n",
       "      <th>2</th>\n",
       "      <td>1000</td>\n",
       "      <td>7</td>\n",
       "      <td>14,336.00</td>\n",
       "    </tr>\n",
       "    <tr>\n",
       "      <th>3</th>\n",
       "      <td>1000</td>\n",
       "      <td>8</td>\n",
       "      <td>14,336.00</td>\n",
       "    </tr>\n",
       "    <tr>\n",
       "      <th>4</th>\n",
       "      <td>1000</td>\n",
       "      <td>9</td>\n",
       "      <td>15,360.00</td>\n",
       "    </tr>\n",
       "    <tr>\n",
       "      <th>...</th>\n",
       "      <td>...</td>\n",
       "      <td>...</td>\n",
       "      <td>...</td>\n",
       "    </tr>\n",
       "    <tr>\n",
       "      <th>3198</th>\n",
       "      <td>1498</td>\n",
       "      <td>10</td>\n",
       "      <td>21,504.00</td>\n",
       "    </tr>\n",
       "    <tr>\n",
       "      <th>3199</th>\n",
       "      <td>1499</td>\n",
       "      <td>9</td>\n",
       "      <td>2,048.00</td>\n",
       "    </tr>\n",
       "    <tr>\n",
       "      <th>3200</th>\n",
       "      <td>1499</td>\n",
       "      <td>10</td>\n",
       "      <td>18,432.00</td>\n",
       "    </tr>\n",
       "    <tr>\n",
       "      <th>3201</th>\n",
       "      <td>1499</td>\n",
       "      <td>11</td>\n",
       "      <td>18,432.00</td>\n",
       "    </tr>\n",
       "    <tr>\n",
       "      <th>3202</th>\n",
       "      <td>1499</td>\n",
       "      <td>12</td>\n",
       "      <td>13,312.00</td>\n",
       "    </tr>\n",
       "  </tbody>\n",
       "</table>\n",
       "<p>3203 rows × 3 columns</p>\n",
       "</div>"
      ],
      "text/plain": [
       "      user_id  month   mb_used\n",
       "0        1000      5  3,072.00\n",
       "1        1000      6 23,552.00\n",
       "2        1000      7 14,336.00\n",
       "3        1000      8 14,336.00\n",
       "4        1000      9 15,360.00\n",
       "...       ...    ...       ...\n",
       "3198     1498     10 21,504.00\n",
       "3199     1499      9  2,048.00\n",
       "3200     1499     10 18,432.00\n",
       "3201     1499     11 18,432.00\n",
       "3202     1499     12 13,312.00\n",
       "\n",
       "[3203 rows x 3 columns]"
      ]
     },
     "metadata": {},
     "output_type": "display_data"
    }
   ],
   "source": [
    "#заменим тип данных дат со строкового на datetime там, где это необходимо\n",
    "df_users['churn_date'] = pd.to_datetime(df_users['churn_date'], format='%Y-%m-%d')\n",
    "df_users['reg_date'] = pd.to_datetime(df_users['reg_date'], format='%Y-%m-%d')\n",
    "\n",
    "df_calls['call_date'] = pd.to_datetime(df_calls['call_date'], format='%Y-%m-%d')\n",
    "df_internet['session_date'] = pd.to_datetime(df_internet['session_date'], format='%Y-%m-%d')\n",
    "df_messages['message_date'] = pd.to_datetime(df_messages['message_date'], format='%Y-%m-%d')\n",
    "\n",
    "###===================================================\n",
    "### Перенесено из 2.2.1 для округления интернета v2\n",
    "#добавим столбец со значением месяца к звонкам, сообщениям и траффику\n",
    "df_calls['month'] = df_calls['call_date'].dt.month\n",
    "df_messages['month'] = df_messages['message_date'].dt.month\n",
    "df_internet['month'] = df_internet['session_date'].dt.month\n",
    "\n",
    "\n",
    "### Округление по тарифам v2\n",
    "#округлим значения в большую сторону по логике расчёта тарифа (тариф - поминутный с округлением в большую сторону с первой секунды)\n",
    "df_calls['duration'] = df_calls['duration'].apply(np.ceil)\n",
    "\n",
    "#Для веб-трафика отдельные сессии не считаются. Вместо этого общая сумма за месяц округляется в бо́льшую сторону. Если абонент использует 1025 мегабайт в этом месяце, с него возьмут плату за 2 гигабайта.\n",
    "#Перед округлением будем укрупнять до месяца+пользователя с максимальным сохранением остальной структуры данных\n",
    "# [user_id][month][mb_used]\n",
    "\n",
    "### создадим сгруппирвоанную копию таблицы для сборки общей таблицы и анализа\n",
    "dfg_internet = df_internet.groupby(by=[\"user_id\", \"month\"], as_index=False)[\"mb_used\"].sum()\n",
    "\n",
    "###display(dfg_internet)\n",
    "\n",
    "#округлим значения в большую сторону по логике расчёта тарифа (тариф - поГИГАбайтный с округлением в большую сторону с первого байта)\n",
    "##dfg_internet['mb_used'] = dfg_internet['mb_used'].apply(np.ceil)\n",
    "# получаем гигабайты и округляем их вверх\n",
    "# расчёт будем вести в округлённых мегабайтах - чтобы не переписывать весь код расчётов ниже\n",
    "dfg_internet[\"mb_used\"] = np.ceil(dfg_internet[\"mb_used\"]/1024)*1024\n",
    "\n",
    "display(dfg_internet)\n",
    "\n",
    "###===================================================\n",
    "\n",
    "\n",
    "#заменим тип полей на целочисленный там, где это необходимо\n",
    "df_calls['id'] = df_calls['id'].astype('int')\n",
    "df_calls['duration'] = df_calls['duration'].astype('int')\n",
    "df_messages['id'] = df_messages['id'].astype('int')\n",
    "df_internet['id'] = df_internet['id'].astype('int')\n",
    "df_internet['mb_used'] = df_internet['mb_used'].astype('int')\n",
    "dfg_internet['mb_used'] = dfg_internet['mb_used'].astype('int')"
   ]
  },
  {
   "cell_type": "markdown",
   "id": "39885920-5822-4ba6-8493-7b402b6dc8af",
   "metadata": {},
   "source": [
    "### 2.2 Анализ данных и исправление ошибок"
   ]
  },
  {
   "cell_type": "markdown",
   "id": "fdf768d7-08e9-4f85-92df-fa1e53f30b46",
   "metadata": {},
   "source": [
    "#### 2.2.1 Звонки"
   ]
  },
  {
   "cell_type": "code",
   "execution_count": 7,
   "id": "2066e805-79c4-41aa-a0e4-ee2c7f12d562",
   "metadata": {},
   "outputs": [
    {
     "name": "stdout",
     "output_type": "stream",
     "text": [
      "Число звонков с нулевой длительностью: 39613\n"
     ]
    }
   ],
   "source": [
    "#выведем число звонков с нулевой длительностью\n",
    "print('Число звонков с нулевой длительностью:', df_calls.loc[df_calls['duration'] == 0, 'duration'].value_counts()[0])"
   ]
  },
  {
   "cell_type": "code",
   "execution_count": 8,
   "id": "8870a3ff-5ad3-4742-9aa2-80b29ceaf9db",
   "metadata": {},
   "outputs": [
    {
     "data": {
      "image/png": "[encoded data removed]",
      "text/plain": [
       "<Figure size 360x360 with 1 Axes>"
      ]
     },
     "metadata": {
      "needs_background": "light"
     },
     "output_type": "display_data"
    }
   ],
   "source": [
    "### Заремарил --> перенос в 2.1 для округления интернета v2\n",
    "#добавим столбец со значением месяца к звонкам и сообщениям\n",
    "###df_calls['month'] = df_calls['call_date'].dt.month\n",
    "###df_messages['month'] = df_messages['message_date'].dt.month\n",
    "\n",
    "#построим график зависимости количества нулевых значений от общего числа звонков за каждый месяц\n",
    "df_calls.loc[df_calls['duration'] == 0, 'zero_count'] = 1\n",
    "zero_calls = df_calls.pivot_table(index='month', values=['id', 'zero_count'], aggfunc='count')\n",
    "zero_calls['zero_ratio'] = round(zero_calls['zero_count'] / zero_calls['id'], 3)\n",
    "\n",
    "sns.relplot(x='id', y='zero_count', data=zero_calls, color='C0')\n",
    "plt.xlabel('Общее число звонков по месяцам')\n",
    "plt.ylabel('Число звонков с нулевой длительностью')\n",
    "_ = plt.title('Зависимость количества нулевых значений от общего числа звонков по месяцам')"
   ]
  },
  {
   "cell_type": "markdown",
   "id": "ce9f6894-2a6e-4d8c-ba23-07168b32e3a8",
   "metadata": {},
   "source": [
    "Число звонков с нулевой длительностью линейно растёт со временем, что соответсвует методической сути явления.\n",
    "\n",
    "Какая-либо обработка или замена нулевых значений не требуется."
   ]
  },
  {
   "cell_type": "markdown",
   "id": "c4303fa9-bcc9-4683-ab57-23962c85548b",
   "metadata": {},
   "source": [
    "#### 2.2.1 Интернет-сессии"
   ]
  },
  {
   "cell_type": "code",
   "execution_count": 10,
   "id": "05b8bd3a-98f6-4d5f-8a41-9bf0e2b8cb5b",
   "metadata": {},
   "outputs": [
    {
     "data": {
      "image/png": "[encoded data removed]",
      "text/plain": [
       "<Figure size 360x360 with 1 Axes>"
      ]
     },
     "metadata": {
      "needs_background": "light"
     },
     "output_type": "display_data"
    }
   ],
   "source": [
    "### Заремарил --> перенос в 2.1 для округления интернета v2\n",
    "#добавим столбец со значением месяца\n",
    "###df_internet['month'] = df_internet['session_date'].dt.month\n",
    "\n",
    "#построим график зависимости количества нулевых значений от общего числа Интернет-сессий за каждый месяц\n",
    "df_internet.loc[df_internet['mb_used'] == 0, 'zero_count'] = 1\n",
    "zero_mb = df_internet.pivot_table(index='month', values=['id', 'zero_count'], aggfunc='count')\n",
    "zero_mb['zero_ratio'] = round(zero_mb['zero_count'] / zero_mb['id'], 3)\n",
    "\n",
    "sns.relplot(x='id', y='zero_count', data=zero_mb,  color='C1')\n",
    "plt.xlabel('Общее число интернет-сессий по месяцам')\n",
    "plt.ylabel('Число интернет-сессий с нулевым трафиком')\n",
    "_ = plt.title('Зависимость количества нулевых значений от общего числа интернет-сессий по месяцам')"
   ]
  },
  {
   "cell_type": "markdown",
   "id": "568a7c79-1e53-4669-a6fa-95f08b1442eb",
   "metadata": {},
   "source": [
    "Объём нулевого траффика также линейно растёт со временем, что соответсвует методической сути явления.\n",
    "\n",
    "Какая-либо обработка или замена нулевых значений не требуется."
   ]
  },
  {
   "cell_type": "markdown",
   "id": "137a6d9f-5aad-4a36-a403-4b2d923c2302",
   "metadata": {},
   "source": [
    "### 2.3 Расчёт дополнительных данных по пользователям\n",
    "* количество сделанных звонков и израсходованных минут разговора по месяцам;\n",
    "* количество отправленных сообщений по месяцам;\n",
    "* объем израсходованного интернет-трафика по месяцам;\n",
    "* помесячную выручку с каждого пользователя (вычтите бесплатный лимит из суммарного количества звонков, сообщений и интернет-трафика; остаток умножьте на значение из тарифного плана; прибавьте абонентскую плату, соответствующую тарифному плану)."
   ]
  },
  {
   "cell_type": "code",
   "execution_count": 12,
   "id": "654a834c-9cce-4135-a3d3-7a809972f427",
   "metadata": {},
   "outputs": [
    {
     "data": {
      "text/html": [
       "<div>\n",
       "<style scoped>\n",
       "    .dataframe tbody tr th:only-of-type {\n",
       "        vertical-align: middle;\n",
       "    }\n",
       "\n",
       "    .dataframe tbody tr th {\n",
       "        vertical-align: top;\n",
       "    }\n",
       "\n",
       "    .dataframe thead th {\n",
       "        text-align: right;\n",
       "    }\n",
       "</style>\n",
       "<table border=\"1\" class=\"dataframe\">\n",
       "  <thead>\n",
       "    <tr style=\"text-align: right;\">\n",
       "      <th></th>\n",
       "      <th></th>\n",
       "      <th>duration</th>\n",
       "      <th>calls</th>\n",
       "      <th>messages</th>\n",
       "      <th>mb_used</th>\n",
       "    </tr>\n",
       "    <tr>\n",
       "      <th>user_id</th>\n",
       "      <th>month</th>\n",
       "      <th></th>\n",
       "      <th></th>\n",
       "      <th></th>\n",
       "      <th></th>\n",
       "    </tr>\n",
       "  </thead>\n",
       "  <tbody>\n",
       "    <tr>\n",
       "      <th rowspan=\"8\" valign=\"top\">1000</th>\n",
       "      <th>5</th>\n",
       "      <td>159.00</td>\n",
       "      <td>22.00</td>\n",
       "      <td>22.00</td>\n",
       "      <td>3,072.00</td>\n",
       "    </tr>\n",
       "    <tr>\n",
       "      <th>6</th>\n",
       "      <td>172.00</td>\n",
       "      <td>43.00</td>\n",
       "      <td>60.00</td>\n",
       "      <td>23,552.00</td>\n",
       "    </tr>\n",
       "    <tr>\n",
       "      <th>7</th>\n",
       "      <td>340.00</td>\n",
       "      <td>47.00</td>\n",
       "      <td>75.00</td>\n",
       "      <td>14,336.00</td>\n",
       "    </tr>\n",
       "    <tr>\n",
       "      <th>8</th>\n",
       "      <td>408.00</td>\n",
       "      <td>52.00</td>\n",
       "      <td>81.00</td>\n",
       "      <td>14,336.00</td>\n",
       "    </tr>\n",
       "    <tr>\n",
       "      <th>9</th>\n",
       "      <td>466.00</td>\n",
       "      <td>58.00</td>\n",
       "      <td>57.00</td>\n",
       "      <td>15,360.00</td>\n",
       "    </tr>\n",
       "    <tr>\n",
       "      <th>10</th>\n",
       "      <td>350.00</td>\n",
       "      <td>57.00</td>\n",
       "      <td>73.00</td>\n",
       "      <td>15,360.00</td>\n",
       "    </tr>\n",
       "    <tr>\n",
       "      <th>11</th>\n",
       "      <td>338.00</td>\n",
       "      <td>43.00</td>\n",
       "      <td>58.00</td>\n",
       "      <td>15,360.00</td>\n",
       "    </tr>\n",
       "    <tr>\n",
       "      <th>12</th>\n",
       "      <td>333.00</td>\n",
       "      <td>46.00</td>\n",
       "      <td>70.00</td>\n",
       "      <td>10,240.00</td>\n",
       "    </tr>\n",
       "    <tr>\n",
       "      <th rowspan=\"2\" valign=\"top\">1001</th>\n",
       "      <th>11</th>\n",
       "      <td>430.00</td>\n",
       "      <td>59.00</td>\n",
       "      <td>NaN</td>\n",
       "      <td>18,432.00</td>\n",
       "    </tr>\n",
       "    <tr>\n",
       "      <th>12</th>\n",
       "      <td>414.00</td>\n",
       "      <td>63.00</td>\n",
       "      <td>NaN</td>\n",
       "      <td>14,336.00</td>\n",
       "    </tr>\n",
       "  </tbody>\n",
       "</table>\n",
       "</div>"
      ],
      "text/plain": [
       "               duration  calls  messages   mb_used\n",
       "user_id month                                     \n",
       "1000    5        159.00  22.00     22.00  3,072.00\n",
       "        6        172.00  43.00     60.00 23,552.00\n",
       "        7        340.00  47.00     75.00 14,336.00\n",
       "        8        408.00  52.00     81.00 14,336.00\n",
       "        9        466.00  58.00     57.00 15,360.00\n",
       "        10       350.00  57.00     73.00 15,360.00\n",
       "        11       338.00  43.00     58.00 15,360.00\n",
       "        12       333.00  46.00     70.00 10,240.00\n",
       "1001    11       430.00  59.00       NaN 18,432.00\n",
       "        12       414.00  63.00       NaN 14,336.00"
      ]
     },
     "metadata": {},
     "output_type": "display_data"
    }
   ],
   "source": [
    "#сводная таблица по звонкам\n",
    "df_calls_grouped = df_calls.pivot_table(values=['id', 'duration'], \n",
    "                       index=['user_id', 'month'], \n",
    "                       aggfunc={'id': lambda x: len(x.unique()), 'duration': 'sum'})\n",
    "df_calls_grouped.columns = ['duration', 'calls']\n",
    "\n",
    "#сводная таблица по сообщениям\n",
    "df_messages_grouped = df_messages.pivot_table(values='id', \n",
    "                       index=['user_id', 'month'], \n",
    "                       aggfunc={'id': lambda x: len(x.unique())})\n",
    "df_messages_grouped.columns = ['messages']\n",
    "\n",
    "#сводная таблица по интернет-трафику\n",
    "df_internet_grouped = dfg_internet.pivot_table(values='mb_used', \n",
    "                       index=['user_id', 'month'], \n",
    "                       aggfunc={'mb_used': 'sum'})\n",
    "df_internet_grouped.columns = ['mb_used']\n",
    "\n",
    "#объединим три сводные таблицы в одну\n",
    "dataframes = [df_calls_grouped, df_messages_grouped, df_internet_grouped]\n",
    "df_grouped_data = reduce(lambda left,right: pd.merge(left,right,on=['user_id', 'month'], how='outer'), dataframes)\n",
    "display(df_grouped_data.head(10))"
   ]
  },
  {
   "cell_type": "code",
   "execution_count": 13,
   "id": "3dd2950f-bc72-4804-8e9c-6f53e0e2c8f4",
   "metadata": {},
   "outputs": [
    {
     "data": {
      "text/html": [
       "<div>\n",
       "<style scoped>\n",
       "    .dataframe tbody tr th:only-of-type {\n",
       "        vertical-align: middle;\n",
       "    }\n",
       "\n",
       "    .dataframe tbody tr th {\n",
       "        vertical-align: top;\n",
       "    }\n",
       "\n",
       "    .dataframe thead th {\n",
       "        text-align: right;\n",
       "    }\n",
       "</style>\n",
       "<table border=\"1\" class=\"dataframe\">\n",
       "  <thead>\n",
       "    <tr style=\"text-align: right;\">\n",
       "      <th></th>\n",
       "      <th></th>\n",
       "      <th>duration</th>\n",
       "      <th>calls</th>\n",
       "      <th>messages</th>\n",
       "      <th>mb_used</th>\n",
       "      <th>tariff</th>\n",
       "      <th>city</th>\n",
       "      <th>revenue</th>\n",
       "    </tr>\n",
       "    <tr>\n",
       "      <th>user_id</th>\n",
       "      <th>month</th>\n",
       "      <th></th>\n",
       "      <th></th>\n",
       "      <th></th>\n",
       "      <th></th>\n",
       "      <th></th>\n",
       "      <th></th>\n",
       "      <th></th>\n",
       "    </tr>\n",
       "  </thead>\n",
       "  <tbody>\n",
       "    <tr>\n",
       "      <th rowspan=\"8\" valign=\"top\">1000</th>\n",
       "      <th>5</th>\n",
       "      <td>159.00</td>\n",
       "      <td>22.00</td>\n",
       "      <td>22.00</td>\n",
       "      <td>3,072.00</td>\n",
       "      <td>ultra</td>\n",
       "      <td>Краснодар</td>\n",
       "      <td>1,950.00</td>\n",
       "    </tr>\n",
       "    <tr>\n",
       "      <th>6</th>\n",
       "      <td>172.00</td>\n",
       "      <td>43.00</td>\n",
       "      <td>60.00</td>\n",
       "      <td>23,552.00</td>\n",
       "      <td>ultra</td>\n",
       "      <td>Краснодар</td>\n",
       "      <td>1,950.00</td>\n",
       "    </tr>\n",
       "    <tr>\n",
       "      <th>7</th>\n",
       "      <td>340.00</td>\n",
       "      <td>47.00</td>\n",
       "      <td>75.00</td>\n",
       "      <td>14,336.00</td>\n",
       "      <td>ultra</td>\n",
       "      <td>Краснодар</td>\n",
       "      <td>1,950.00</td>\n",
       "    </tr>\n",
       "    <tr>\n",
       "      <th>8</th>\n",
       "      <td>408.00</td>\n",
       "      <td>52.00</td>\n",
       "      <td>81.00</td>\n",
       "      <td>14,336.00</td>\n",
       "      <td>ultra</td>\n",
       "      <td>Краснодар</td>\n",
       "      <td>1,950.00</td>\n",
       "    </tr>\n",
       "    <tr>\n",
       "      <th>9</th>\n",
       "      <td>466.00</td>\n",
       "      <td>58.00</td>\n",
       "      <td>57.00</td>\n",
       "      <td>15,360.00</td>\n",
       "      <td>ultra</td>\n",
       "      <td>Краснодар</td>\n",
       "      <td>1,950.00</td>\n",
       "    </tr>\n",
       "    <tr>\n",
       "      <th>10</th>\n",
       "      <td>350.00</td>\n",
       "      <td>57.00</td>\n",
       "      <td>73.00</td>\n",
       "      <td>15,360.00</td>\n",
       "      <td>ultra</td>\n",
       "      <td>Краснодар</td>\n",
       "      <td>1,950.00</td>\n",
       "    </tr>\n",
       "    <tr>\n",
       "      <th>11</th>\n",
       "      <td>338.00</td>\n",
       "      <td>43.00</td>\n",
       "      <td>58.00</td>\n",
       "      <td>15,360.00</td>\n",
       "      <td>ultra</td>\n",
       "      <td>Краснодар</td>\n",
       "      <td>1,950.00</td>\n",
       "    </tr>\n",
       "    <tr>\n",
       "      <th>12</th>\n",
       "      <td>333.00</td>\n",
       "      <td>46.00</td>\n",
       "      <td>70.00</td>\n",
       "      <td>10,240.00</td>\n",
       "      <td>ultra</td>\n",
       "      <td>Краснодар</td>\n",
       "      <td>1,950.00</td>\n",
       "    </tr>\n",
       "    <tr>\n",
       "      <th rowspan=\"2\" valign=\"top\">1001</th>\n",
       "      <th>11</th>\n",
       "      <td>430.00</td>\n",
       "      <td>59.00</td>\n",
       "      <td>0.00</td>\n",
       "      <td>18,432.00</td>\n",
       "      <td>smart</td>\n",
       "      <td>Москва</td>\n",
       "      <td>1,150.00</td>\n",
       "    </tr>\n",
       "    <tr>\n",
       "      <th>12</th>\n",
       "      <td>414.00</td>\n",
       "      <td>63.00</td>\n",
       "      <td>0.00</td>\n",
       "      <td>14,336.00</td>\n",
       "      <td>smart</td>\n",
       "      <td>Москва</td>\n",
       "      <td>550.00</td>\n",
       "    </tr>\n",
       "  </tbody>\n",
       "</table>\n",
       "</div>"
      ],
      "text/plain": [
       "               duration  calls  messages   mb_used tariff       city  revenue\n",
       "user_id month                                                                \n",
       "1000    5        159.00  22.00     22.00  3,072.00  ultra  Краснодар 1,950.00\n",
       "        6        172.00  43.00     60.00 23,552.00  ultra  Краснодар 1,950.00\n",
       "        7        340.00  47.00     75.00 14,336.00  ultra  Краснодар 1,950.00\n",
       "        8        408.00  52.00     81.00 14,336.00  ultra  Краснодар 1,950.00\n",
       "        9        466.00  58.00     57.00 15,360.00  ultra  Краснодар 1,950.00\n",
       "        10       350.00  57.00     73.00 15,360.00  ultra  Краснодар 1,950.00\n",
       "        11       338.00  43.00     58.00 15,360.00  ultra  Краснодар 1,950.00\n",
       "        12       333.00  46.00     70.00 10,240.00  ultra  Краснодар 1,950.00\n",
       "1001    11       430.00  59.00      0.00 18,432.00  smart     Москва 1,150.00\n",
       "        12       414.00  63.00      0.00 14,336.00  smart     Москва   550.00"
      ]
     },
     "metadata": {},
     "output_type": "display_data"
    }
   ],
   "source": [
    "#добавим каждому пользователю наименование используемого им тарифа\n",
    "for user in df_grouped_data.index:\n",
    "    user_data = df_users.loc[df_users[\"user_id\"] == user[0], ['city','tariff']]\n",
    "    #print(user_data)\n",
    "    df_grouped_data.loc[user, 'tariff'] = user_data['tariff'].iat[0]\n",
    "    df_grouped_data.loc[user, 'city'] = user_data['city'].iat[0]\n",
    "    \n",
    "#display(df_grouped_data)\n",
    "\n",
    "## Копируем в таблицу сразу тариф и город\n",
    "#dfu_data = df_users[['user_id','city','tariff']]\n",
    "\n",
    "#df_grouped_data = df_grouped_data.merge(dfu_data ,how='left', on='user_id', suffixes=('', ''))\n",
    "#display(df_grouped_data)\n",
    "\n",
    "#заменим пропущенные значения на нули\n",
    "df_grouped_data.loc[df_grouped_data['duration'].isna(), 'duration'] = 0\n",
    "df_grouped_data.loc[df_grouped_data['messages'].isna(), 'messages'] = 0\n",
    "df_grouped_data.loc[df_grouped_data['mb_used'].isna(), 'mb_used'] = 0\n",
    "\n",
    "#напишем функцию подсчета выручки с каждого пользователя в месяц\n",
    "def get_user_revenue(row):\n",
    "    messages = row['messages']\n",
    "    mb_used = row['mb_used']\n",
    "    tariff = row['tariff']\n",
    "    duration = row['duration']\n",
    "    calls = row['calls']\n",
    "    \n",
    "    if tariff == 'smart':\n",
    "        extra_duration = duration - df_tariffs.loc[0, 'minutes_included']\n",
    "        extra_mb = mb_used - df_tariffs.loc[0, 'mb_per_month_included']\n",
    "        extra_messages = messages - df_tariffs.loc[0, 'messages_included']\n",
    "        \n",
    "        if extra_duration < 0: extra_duration = 0\n",
    "        if extra_mb < 0: extra_mb = 0\n",
    "        if extra_messages < 0: extra_messages = 0\n",
    "        \n",
    "        return (df_tariffs.loc[0, 'rub_per_message'] * extra_messages + \n",
    "                   (df_tariffs.loc[0, 'rub_per_gb'] / 1024) * extra_mb + \n",
    "                   df_tariffs.loc[0, 'rub_per_minute'] * extra_duration + \n",
    "                   df_tariffs.loc[0, 'rub_monthly_fee']\n",
    "                  ) \n",
    "    else:\n",
    "        extra_duration = duration - df_tariffs.loc[1, 'minutes_included']\n",
    "        extra_mb = mb_used - df_tariffs.loc[1, 'mb_per_month_included']\n",
    "        extra_messages = messages - df_tariffs.loc[1, 'messages_included']\n",
    "        \n",
    "        if extra_duration < 0: extra_duration = 0\n",
    "        if extra_mb < 0: extra_mb = 0\n",
    "        if extra_messages < 0: extra_messages = 0\n",
    "        \n",
    "        return (df_tariffs.loc[1, 'rub_per_message'] * extra_messages + \n",
    "                   (df_tariffs.loc[1, 'rub_per_gb'] / 1024) * extra_mb + \n",
    "                   df_tariffs.loc[1, 'rub_per_minute'] * extra_duration + \n",
    "                   df_tariffs.loc[1, 'rub_monthly_fee']\n",
    "                  )\n",
    "\n",
    "df_grouped_data['revenue'] = df_grouped_data.apply(get_user_revenue, axis=1)\n",
    "display(df_grouped_data.head(10))"
   ]
  },
  {
   "cell_type": "markdown",
   "id": "7bbd1f28-8e41-40f3-a1fd-512b7d7764b1",
   "metadata": {},
   "source": [
    "## Выводы по шагу 2\n",
    "\n",
    "<div class=\"alert alert-block alert-info\">\n",
    "</div>\n",
    "\n",
    "* Данные по пропущенным звонкам и нулевым сессиям данных соответсвуют методической сути явления и не требуют дополнительной обработки.\n",
    "* В таблицы с данными по звонкам и интернет-траффику добавлена колонка с месяцем - требуется на последующих этапах.\n",
    "* Проведено округление длительности звонков и интернет-траффика в большую сторону по логике тарифов.\n",
    "* Для каждого пользователя вычислены:\n",
    "    * количество сделанных звонков и израсходованных минут разговора по месяцам;\n",
    "    * количество отправленных сообщений по месяцам;\n",
    "    * объем израсходованного интернет-трафика по месяцам;\n",
    "    * помесячная выручка с каждого пользователя (вычтите бесплатный лимит из суммарного количества звонков, сообщений и интернет-трафика; остаток умножьте на значение из тарифного плана; прибавьте абонентскую плату, соответствующую тарифному плану)."
   ]
  },
  {
   "cell_type": "markdown",
   "id": "a836ed6c-202b-453b-86a7-3ecc28660b56",
   "metadata": {},
   "source": [
    "## Шаг 3. Анализ данных\n",
    "Необходимо описать поведение клиентов оператора исходя из выборки:\n",
    "* Сколько минут разговора, сколько сообщений и какой объём интернет-трафика требуется пользователям каждого тарифа в месяц.\n",
    "* Вычислить среднее количество, дисперсию и стандартное отклонение.\n",
    "* Построить гистограммы, описать распределения."
   ]
  },
  {
   "cell_type": "markdown",
   "id": "1b200143-3f03-4240-999c-62647301cb8c",
   "metadata": {},
   "source": [
    "### 3.1 Анализ поведения клиентов оператора по данным выборки"
   ]
  },
  {
   "cell_type": "code",
   "execution_count": 15,
   "id": "bb84e44d-8692-418b-874f-aab51194a25d",
   "metadata": {},
   "outputs": [
    {
     "name": "stdout",
     "output_type": "stream",
     "text": [
      "smart    2229\n",
      "ultra     985\n",
      "Name: tariff, dtype: int64\n"
     ]
    },
    {
     "data": {
      "image/png": "[encoded data removed]",
      "text/plain": [
       "<Figure size 720x720 with 1 Axes>"
      ]
     },
     "metadata": {
      "needs_background": "light"
     },
     "output_type": "display_data"
    }
   ],
   "source": [
    "#посмотрим данные по тарифам\n",
    "print(df_grouped_data['tariff'].value_counts())\n",
    "\n",
    "#построим диаграмму размаха дохода на пользователя по тарифам\n",
    "df_grouped_data.boxplot('revenue', by='tariff', figsize=(10,10)).set_ylim(0,7000)\n",
    "plt.title('Диаграмма размаха дохода на пользователя по тарифам')\n",
    "plt.show()"
   ]
  },
  {
   "cell_type": "markdown",
   "id": "13e8f967-0a4e-409b-b175-58ca8a454c7d",
   "metadata": {},
   "source": [
    "### 3.2 Сколько минут разговора, сколько сообщений и какой объём интернет-трафика требуется пользователям каждого тарифа в месяц?"
   ]
  },
  {
   "cell_type": "code",
   "execution_count": 16,
   "id": "20c70f4b-7742-4177-890d-812bd129db9b",
   "metadata": {},
   "outputs": [
    {
     "data": {
      "text/html": [
       "<div>\n",
       "<style scoped>\n",
       "    .dataframe tbody tr th:only-of-type {\n",
       "        vertical-align: middle;\n",
       "    }\n",
       "\n",
       "    .dataframe tbody tr th {\n",
       "        vertical-align: top;\n",
       "    }\n",
       "\n",
       "    .dataframe thead th {\n",
       "        text-align: right;\n",
       "    }\n",
       "</style>\n",
       "<table border=\"1\" class=\"dataframe\">\n",
       "  <thead>\n",
       "    <tr style=\"text-align: right;\">\n",
       "      <th></th>\n",
       "      <th>duration</th>\n",
       "      <th>mb_used</th>\n",
       "      <th>messages</th>\n",
       "      <th>revenue</th>\n",
       "      <th>tariff</th>\n",
       "    </tr>\n",
       "    <tr>\n",
       "      <th>user_id</th>\n",
       "      <th></th>\n",
       "      <th></th>\n",
       "      <th></th>\n",
       "      <th></th>\n",
       "      <th></th>\n",
       "    </tr>\n",
       "  </thead>\n",
       "  <tbody>\n",
       "    <tr>\n",
       "      <th>1000</th>\n",
       "      <td>339.00</td>\n",
       "      <td>14,848.00</td>\n",
       "      <td>65.00</td>\n",
       "      <td>1,950.00</td>\n",
       "      <td>ultra</td>\n",
       "    </tr>\n",
       "    <tr>\n",
       "      <th>1001</th>\n",
       "      <td>422.00</td>\n",
       "      <td>16,384.00</td>\n",
       "      <td>0.00</td>\n",
       "      <td>850.00</td>\n",
       "      <td>ultra</td>\n",
       "    </tr>\n",
       "    <tr>\n",
       "      <th>1002</th>\n",
       "      <td>214.00</td>\n",
       "      <td>18,432.00</td>\n",
       "      <td>11.00</td>\n",
       "      <td>1,150.00</td>\n",
       "      <td>ultra</td>\n",
       "    </tr>\n",
       "    <tr>\n",
       "      <th>1003</th>\n",
       "      <td>824.00</td>\n",
       "      <td>12,288.00</td>\n",
       "      <td>83.00</td>\n",
       "      <td>1,950.00</td>\n",
       "      <td>ultra</td>\n",
       "    </tr>\n",
       "    <tr>\n",
       "      <th>1004</th>\n",
       "      <td>132.50</td>\n",
       "      <td>18,432.00</td>\n",
       "      <td>154.50</td>\n",
       "      <td>1,950.00</td>\n",
       "      <td>ultra</td>\n",
       "    </tr>\n",
       "  </tbody>\n",
       "</table>\n",
       "</div>"
      ],
      "text/plain": [
       "         duration   mb_used  messages  revenue tariff\n",
       "user_id                                              \n",
       "1000       339.00 14,848.00     65.00 1,950.00  ultra\n",
       "1001       422.00 16,384.00      0.00   850.00  ultra\n",
       "1002       214.00 18,432.00     11.00 1,150.00  ultra\n",
       "1003       824.00 12,288.00     83.00 1,950.00  ultra\n",
       "1004       132.50 18,432.00    154.50 1,950.00  ultra"
      ]
     },
     "metadata": {},
     "output_type": "display_data"
    }
   ],
   "source": [
    "#найдем медианные значения\n",
    "median_data = df_grouped_data.pivot_table(index='user_id', values=['duration', 'messages', 'mb_used', 'revenue'], aggfunc='median')\n",
    "for user_id in df_users['user_id']:\n",
    "    median_data.loc[user_id, 'tariff'] = df_users.loc[df_users[\"user_id\"] == user[0], 'tariff'].iat[0]\n",
    "    \n",
    "display(median_data.head())"
   ]
  },
  {
   "cell_type": "markdown",
   "id": "c0024fcf-77da-4fd3-81cc-36b8aff9dd9b",
   "metadata": {},
   "source": [
    "### 3.3 Среднее количество, дисперсия и стандартное отклонение"
   ]
  },
  {
   "cell_type": "code",
   "execution_count": 17,
   "id": "c6c693f9-2943-4d39-8042-0c3d25b125cb",
   "metadata": {},
   "outputs": [
    {
     "data": {
      "text/html": [
       "<div>\n",
       "<style scoped>\n",
       "    .dataframe tbody tr th:only-of-type {\n",
       "        vertical-align: middle;\n",
       "    }\n",
       "\n",
       "    .dataframe tbody tr th {\n",
       "        vertical-align: top;\n",
       "    }\n",
       "\n",
       "    .dataframe thead tr th {\n",
       "        text-align: left;\n",
       "    }\n",
       "\n",
       "    .dataframe thead tr:last-of-type th {\n",
       "        text-align: right;\n",
       "    }\n",
       "</style>\n",
       "<table border=\"1\" class=\"dataframe\">\n",
       "  <thead>\n",
       "    <tr>\n",
       "      <th></th>\n",
       "      <th colspan=\"4\" halign=\"left\">duration</th>\n",
       "      <th colspan=\"4\" halign=\"left\">mb_used</th>\n",
       "      <th colspan=\"4\" halign=\"left\">messages</th>\n",
       "      <th colspan=\"4\" halign=\"left\">revenue</th>\n",
       "    </tr>\n",
       "    <tr>\n",
       "      <th></th>\n",
       "      <th>mean</th>\n",
       "      <th>median</th>\n",
       "      <th>std</th>\n",
       "      <th>var</th>\n",
       "      <th>mean</th>\n",
       "      <th>median</th>\n",
       "      <th>std</th>\n",
       "      <th>var</th>\n",
       "      <th>mean</th>\n",
       "      <th>median</th>\n",
       "      <th>std</th>\n",
       "      <th>var</th>\n",
       "      <th>mean</th>\n",
       "      <th>median</th>\n",
       "      <th>std</th>\n",
       "      <th>var</th>\n",
       "    </tr>\n",
       "    <tr>\n",
       "      <th>tariff</th>\n",
       "      <th></th>\n",
       "      <th></th>\n",
       "      <th></th>\n",
       "      <th></th>\n",
       "      <th></th>\n",
       "      <th></th>\n",
       "      <th></th>\n",
       "      <th></th>\n",
       "      <th></th>\n",
       "      <th></th>\n",
       "      <th></th>\n",
       "      <th></th>\n",
       "      <th></th>\n",
       "      <th></th>\n",
       "      <th></th>\n",
       "      <th></th>\n",
       "    </tr>\n",
       "  </thead>\n",
       "  <tbody>\n",
       "    <tr>\n",
       "      <th>smart</th>\n",
       "      <td>417.93</td>\n",
       "      <td>422.00</td>\n",
       "      <td>190.31</td>\n",
       "      <td>36,219.32</td>\n",
       "      <td>16,720.74</td>\n",
       "      <td>17,408.00</td>\n",
       "      <td>5,884.99</td>\n",
       "      <td>34,633,107.56</td>\n",
       "      <td>33.38</td>\n",
       "      <td>28.00</td>\n",
       "      <td>28.23</td>\n",
       "      <td>796.81</td>\n",
       "      <td>1,289.97</td>\n",
       "      <td>1,023.00</td>\n",
       "      <td>818.40</td>\n",
       "      <td>669,785.71</td>\n",
       "    </tr>\n",
       "    <tr>\n",
       "      <th>ultra</th>\n",
       "      <td>526.62</td>\n",
       "      <td>518.00</td>\n",
       "      <td>317.61</td>\n",
       "      <td>100,873.63</td>\n",
       "      <td>19,962.28</td>\n",
       "      <td>19,456.00</td>\n",
       "      <td>10,090.00</td>\n",
       "      <td>101,808,012.02</td>\n",
       "      <td>49.36</td>\n",
       "      <td>38.00</td>\n",
       "      <td>47.80</td>\n",
       "      <td>2,285.27</td>\n",
       "      <td>2,070.15</td>\n",
       "      <td>1,950.00</td>\n",
       "      <td>376.19</td>\n",
       "      <td>141,516.75</td>\n",
       "    </tr>\n",
       "  </tbody>\n",
       "</table>\n",
       "</div>"
      ],
      "text/plain": [
       "       duration                            mb_used                      \\\n",
       "           mean median    std        var      mean    median       std   \n",
       "tariff                                                                   \n",
       "smart    417.93 422.00 190.31  36,219.32 16,720.74 17,408.00  5,884.99   \n",
       "ultra    526.62 518.00 317.61 100,873.63 19,962.28 19,456.00 10,090.00   \n",
       "\n",
       "                      messages                        revenue                  \\\n",
       "                  var     mean median   std      var     mean   median    std   \n",
       "tariff                                                                          \n",
       "smart   34,633,107.56    33.38  28.00 28.23   796.81 1,289.97 1,023.00 818.40   \n",
       "ultra  101,808,012.02    49.36  38.00 47.80 2,285.27 2,070.15 1,950.00 376.19   \n",
       "\n",
       "                   \n",
       "              var  \n",
       "tariff             \n",
       "smart  669,785.71  \n",
       "ultra  141,516.75  "
      ]
     },
     "metadata": {},
     "output_type": "display_data"
    }
   ],
   "source": [
    "#найдем медиану, дисперсию и стандартное отклонение\n",
    "median_data.dropna(subset=['duration'], inplace=True)\n",
    "descriptive_data = df_grouped_data.pivot_table(index=['tariff'], values=['revenue', 'duration', 'mb_used', 'messages'], \n",
    "                    aggfunc={'duration': [np.mean, np.median, np.var, np.std], \n",
    "                             'mb_used': [np.mean, np.median, np.var, np.std], \n",
    "                             'messages': [np.mean, np.median, np.var, np.std],\n",
    "                             'revenue': [np.mean, np.median, np.var, np.std]})\n",
    "display(descriptive_data)"
   ]
  },
  {
   "cell_type": "markdown",
   "id": "5f6f40ef-8d7f-4282-a1cc-28d0a4ab93cd",
   "metadata": {},
   "source": [
    "### 3.4 Гистограммы доходов и их распределения"
   ]
  },
  {
   "cell_type": "markdown",
   "id": "8401789f-1e5b-443a-9d0c-c38d9e3cf388",
   "metadata": {},
   "source": [
    "#### 3.4.1 Анализ звонков и общей доходности"
   ]
  },
  {
   "cell_type": "code",
   "execution_count": 18,
   "id": "f7305bae-69d4-4ece-9abf-a7ae9986b4cf",
   "metadata": {},
   "outputs": [
    {
     "data": {
      "text/plain": [
       "Text(0.5, 1.0, 'Гистограмма дохода на пользователя по тарифам Smart и Ultra')"
      ]
     },
     "execution_count": 18,
     "metadata": {},
     "output_type": "execute_result"
    },
    {
     "data": {
      "image/png": "[encoded data removed]",
      "text/plain": [
       "<Figure size 1080x720 with 1 Axes>"
      ]
     },
     "metadata": {
      "needs_background": "light"
     },
     "output_type": "display_data"
    }
   ],
   "source": [
    "#гистограммы по тарифам\n",
    "colors = {'ultra':'C0', 'smart':'C1'}\n",
    "plt.figure(figsize=(15,10))\n",
    "for tariff in ['ultra', 'smart']:\n",
    "    sns.histplot(df_grouped_data.query('tariff == @tariff')['revenue'], kde=False, label=tariff, color=colors[tariff], element=\"step\")\n",
    "_ = plt.legend(['ultra', 'smart'])\n",
    "plt.title('Гистограмма дохода на пользователя по тарифам Smart и Ultra')"
   ]
  },
  {
   "cell_type": "code",
   "execution_count": 19,
   "id": "b92bc8c6-f174-4d6a-88e5-883af190c52e",
   "metadata": {},
   "outputs": [
    {
     "name": "stdout",
     "output_type": "stream",
     "text": [
      "Общий доход на тарифе Smart: 2875351.0\n",
      "Общий доход на тарифе Ultra: 2039100.0\n"
     ]
    }
   ],
   "source": [
    "#общий доход на тарифе Smart\n",
    "total_revenue_smart = df_grouped_data[df_grouped_data['tariff'] == 'smart'].revenue.sum()\n",
    "print(\"Общий доход на тарифе Smart:\", total_revenue_smart)\n",
    "\n",
    "#общий доход на тарифе Ultra\n",
    "total_revenue_ultra = df_grouped_data[df_grouped_data['tariff'] == 'ultra'].revenue.sum()\n",
    "print(\"Общий доход на тарифе Ultra:\", total_revenue_ultra)"
   ]
  },
  {
   "cell_type": "code",
   "execution_count": 20,
   "id": "7c34edfc-7b1f-4e13-8fcb-83c63dc2771d",
   "metadata": {},
   "outputs": [
    {
     "data": {
      "text/plain": [
       "Text(0.5, 1.0, 'Гистограмма распределения длительности разговоров по тарифам Smart и Ultra')"
      ]
     },
     "execution_count": 20,
     "metadata": {},
     "output_type": "execute_result"
    },
    {
     "data": {
      "image/png": "[encoded data removed]",
      "text/plain": [
       "<Figure size 1080x720 with 1 Axes>"
      ]
     },
     "metadata": {
      "needs_background": "light"
     },
     "output_type": "display_data"
    }
   ],
   "source": [
    "#гистограммы по тарифам\n",
    "colors = {'ultra':'C0', 'smart':'C1'}\n",
    "plt.figure(figsize=(15,10))\n",
    "for tariff in ['ultra', 'smart']:\n",
    "    sns.histplot(df_grouped_data.query('tariff == @tariff')['duration'], kde=False, label=tariff, color=colors[tariff], element=\"step\")\n",
    "_ = plt.legend(['ultra', 'smart'])\n",
    "plt.title('Гистограмма распределения длительности разговоров по тарифам Smart и Ultra')"
   ]
  },
  {
   "cell_type": "markdown",
   "id": "e40200f7-0ea3-4867-8e67-619e65dc42b6",
   "metadata": {},
   "source": [
    "Пользователи тарифа Smart в среднем за месяц говорят порядка 390 минут, а на Ультре - 495 минут в месяц.\n",
    "Для Smart это близко к месячному лимиту, а на Ультре у них остается огромный запас почти в 2500 минут. \n",
    "Распределение тарифа Smart скошено влево (там чаще общаются меньше среднего значения), Ultra - вправо. Люди позволяют себе поговорить."
   ]
  },
  {
   "cell_type": "code",
   "execution_count": 21,
   "id": "4b705a43-942b-4474-ba5f-6cf14364a432",
   "metadata": {},
   "outputs": [
    {
     "data": {
      "text/plain": [
       "Text(0.5, 1.0, 'Длительность звонков по месяцам на тарифах Ultra и Smart')"
      ]
     },
     "execution_count": 21,
     "metadata": {},
     "output_type": "execute_result"
    },
    {
     "data": {
      "image/png": "[encoded data removed]",
      "text/plain": [
       "<Figure size 1008x504 with 1 Axes>"
      ]
     },
     "metadata": {
      "needs_background": "light"
     },
     "output_type": "display_data"
    }
   ],
   "source": [
    "#поведение пользователей относительно звонков на обоих тарифах по месяцам\n",
    "sns.catplot(x='month', y=\"duration\", kind=\"box\", data=df_calls, palette='husl', height=7, aspect=2)\n",
    "plt.title('Длительность звонков по месяцам на тарифах Ultra и Smart')"
   ]
  },
  {
   "cell_type": "markdown",
   "id": "6fea7725-16a7-43ec-b0fe-877981cc4643",
   "metadata": {},
   "source": [
    "Длительность звонков в январе и феврале скошена \"вправо\".\n",
    "При этом, исходя из значений медианы, месяцами более \"высокого\" общения являются январь, февраль, март, июль, сентябрь, октябрь и декабрь.\n",
    "Налицо имеется некая сезонность.\n",
    "\n",
    "Для её анализа в текущем задании недостаточно ифнормации, но Мегалайну можно посоветовать изучить это направление."
   ]
  },
  {
   "cell_type": "markdown",
   "id": "33d6050c-0396-48af-a9bf-bde8c5c053ae",
   "metadata": {},
   "source": [
    "#### 3.4.2 Анализ интернет-сессий"
   ]
  },
  {
   "cell_type": "code",
   "execution_count": 22,
   "id": "932940bc-06dd-492c-9342-0dcddda06b45",
   "metadata": {},
   "outputs": [
    {
     "data": {
      "text/plain": [
       "Text(0.5, 1.0, 'Гистограмма длительности интернет-сессий по тарифам Smart и Ultra')"
      ]
     },
     "execution_count": 22,
     "metadata": {},
     "output_type": "execute_result"
    },
    {
     "data": {
      "image/png": "[encoded data removed]",
      "text/plain": [
       "<Figure size 1080x720 with 1 Axes>"
      ]
     },
     "metadata": {
      "needs_background": "light"
     },
     "output_type": "display_data"
    }
   ],
   "source": [
    "#гистограммы по тарифам\n",
    "colors = {'ultra':'C0', 'smart':'C1'}\n",
    "plt.figure(figsize=(15,10))\n",
    "for tariff in ['ultra', 'smart']:\n",
    "    sns.histplot(df_grouped_data.query('tariff == @tariff')['mb_used'], kde=False, label=tariff, color=colors[tariff], element=\"step\")\n",
    "_ = plt.legend(['ultra', 'smart'])\n",
    "plt.title('Гистограмма длительности интернет-сессий по тарифам Smart и Ultra')"
   ]
  },
  {
   "cell_type": "markdown",
   "id": "7aa02737-2388-42e7-ae5d-25114c7fed8c",
   "metadata": {},
   "source": [
    "Распределения похожи на распределения звонков: на \"Ультре\" пользователи себя меньше ограничивают, но часто не добирают до лимитов тарифа.\n",
    "\n",
    "В этом тарифе есть отдельная категория \"тяжеловесов\", стабильно выбирающая траффик сверх предоплаченного и дающая перекос распределения вправо.\n",
    "\n",
    "На тарифе \"Смарт\" пользователям в стреднем не хватает предложенного объёма (17 ГБ против 15 ГБ) и они доплачивают за использование интернета."
   ]
  },
  {
   "cell_type": "code",
   "execution_count": 23,
   "id": "faa6cff2-e9cc-49b2-8628-0e73bce1516e",
   "metadata": {},
   "outputs": [
    {
     "data": {
      "text/plain": [
       "Text(0.5, 1.0, 'Длительность интернет-сессий по месяцам на тарифах Ultra и Smart')"
      ]
     },
     "execution_count": 23,
     "metadata": {},
     "output_type": "execute_result"
    },
    {
     "data": {
      "image/png": "[encoded data removed]",
      "text/plain": [
       "<Figure size 1008x504 with 1 Axes>"
      ]
     },
     "metadata": {
      "needs_background": "light"
     },
     "output_type": "display_data"
    }
   ],
   "source": [
    "#поведение пользователей относительно звонков на обоих тарифах по месяцам\n",
    "sns.catplot(x='month', y=\"mb_used\", kind=\"box\", data=df_internet, palette='husl', height=7, aspect=2)\n",
    "plt.title('Длительность интернет-сессий по месяцам на тарифах Ultra и Smart')"
   ]
  },
  {
   "cell_type": "markdown",
   "id": "c095dfac-2ad4-46f9-9e15-6d0f9092c36d",
   "metadata": {},
   "source": [
    "Использование интернета пользователями по месяцам в среднем является равномерным. В отличие от звонков, здесь пользователям могут быть интересны какие-то стабильные пакетные предложения."
   ]
  },
  {
   "cell_type": "markdown",
   "id": "1f3cb13b-5572-429b-9954-21ff188eb501",
   "metadata": {
    "tags": []
   },
   "source": [
    "#### 3.4.3 Анализ sms-сообщений"
   ]
  },
  {
   "cell_type": "code",
   "execution_count": 24,
   "id": "0e95b80c-bd98-4fef-9ba8-84cfe0d7f17c",
   "metadata": {},
   "outputs": [
    {
     "data": {
      "text/plain": [
       "Text(0.5, 1.0, 'Гистограмма смс-активности пользователей по тарифам Smart и Ultra')"
      ]
     },
     "execution_count": 24,
     "metadata": {},
     "output_type": "execute_result"
    },
    {
     "data": {
      "image/png": "[encoded data removed]",
      "text/plain": [
       "<Figure size 1080x720 with 1 Axes>"
      ]
     },
     "metadata": {
      "needs_background": "light"
     },
     "output_type": "display_data"
    }
   ],
   "source": [
    "#гистограммы по тарифам\n",
    "colors = {'ultra':'C0', 'smart':'C1'}\n",
    "plt.figure(figsize=(15,10))\n",
    "for tariff in ['ultra', 'smart']:\n",
    "    sns.histplot(df_grouped_data.query('tariff == @tariff')['messages'], kde=False, label=tariff, color=colors[tariff], element=\"step\")\n",
    "_ = plt.legend(['ultra', 'smart'])\n",
    "plt.title('Гистограмма смс-активности пользователей по тарифам Smart и Ultra')"
   ]
  },
  {
   "cell_type": "markdown",
   "id": "53257692-063c-4ffa-bc78-c8ad3c078b47",
   "metadata": {},
   "source": [
    "Стандартное убывающее \"геометрическое\" распределение. Иногда СМС - это просто СМС.\n",
    "\n",
    "Пользователи \"Смарта\" порой также выходят за лимит в 50 сообщений.\n",
    "\n",
    "Пользователи \"Ультры\" активно пользуются СМС-сообщениями, при этом даже не приближаясь к лимиту."
   ]
  },
  {
   "cell_type": "markdown",
   "id": "8b0e5925-c2fd-4a25-93fb-4a89e08c1346",
   "metadata": {},
   "source": [
    "## Выводы по шагу 3\n",
    "\n",
    "<div class=\"alert alert-block alert-info\">\n",
    "</div>\n",
    "\n",
    "По каждому из тарифов:\n",
    "* Построена гистрграмма дохода на пользователя\n",
    "* Построены гистограммы распределения длительности звонков за месяц и боксплот активности пользователей по месяцам.\n",
    "* Построены гистограммы распределения объёма интернет-траффика за месяц и боксплот интернет-активности пользователей по месяцам.\n",
    "\n",
    "Выводы:\n",
    "* Дисперсия на тарифе \"Смарт\" ограничена лимитом тарифа, при этом пользователи по всем параметрам выходят за эти пределы. Тариф \"подстригает\" тех, кто любит экономить и порой не может уложиться в лимит.\n",
    "* Пользователи тарифа \"Ультра\", наоборот, склонны к размеренности и готовы платить за предсказуемое использование сразу большую сумму;"
   ]
  },
  {
   "cell_type": "code",
   "execution_count": 25,
   "id": "ec6121c8",
   "metadata": {},
   "outputs": [],
   "source": [
    "#ревьюер_код_ит\n",
    "ultra = df_grouped_data.query('tariff == \"ultra\"')\n",
    "smart = df_grouped_data.query('tariff == \"smart\"')"
   ]
  },
  {
   "cell_type": "code",
   "execution_count": 26,
   "id": "3ef0b813",
   "metadata": {
    "scrolled": false
   },
   "outputs": [
    {
     "data": {
      "image/png": "[encoded data removed]",
      "text/plain": [
       "<Figure size 864x576 with 1 Axes>"
      ]
     },
     "metadata": {
      "needs_background": "light"
     },
     "output_type": "display_data"
    }
   ],
   "source": [
    "#ревьюер_код_ит\n",
    "import matplotlib.pyplot as plt\n",
    "plt.figure(figsize=(12,8))\n",
    "plt.hist(ultra.revenue, bins=10, color='salmon', edgecolor='grey', alpha=0.6, label = 'ultra', density = False)\n",
    "plt.hist(smart.revenue, bins=30, color='dodgerblue', edgecolor='grey', alpha=0.5,label = 'smart', density = False)\n",
    "\n",
    "plt.axvline(smart.revenue.mean(), color='blue', linestyle='dashed', linewidth=3\n",
    "                , label='Mean smart: {:.0f}'.format(smart.revenue.mean()))\n",
    "plt.axvline(ultra.revenue.mean(), color='r', linestyle='dashed', linewidth=3\n",
    "            , label='Mean ultra: {:.0f}'.format(ultra.revenue.mean()))\n",
    "plt.axvline(np.quantile(ultra.revenue, 0.95), color='r', linestyle='solid', linewidth=2, \n",
    "            label='95 quantile Ultra : {:.0f}'.format(np.quantile(ultra.revenue, 0.95)))\n",
    "plt.axvline(np.quantile(smart.revenue, 0.95), color='blue', linestyle='solid', linewidth=2, \n",
    "            label='95 quantile Smart: {:.0f}'.format(np.quantile(smart.revenue, 0.95)))\n",
    "plt.axvline(np.quantile(ultra.revenue, 0.05), color='r', linestyle='solid', linewidth=1, \n",
    "            label='5 quantile Ultra : {:.0f}'.format(np.quantile(ultra.revenue, 0.05)))\n",
    "plt.axvline(np.quantile(smart.revenue, 0.05), color='blue', linestyle='solid', linewidth=1, \n",
    "            label='5 quantile Smart: {:.0f}'.format(np.quantile(smart.revenue, 0.05)))\n",
    "plt.legend()\n",
    "plt.title('Revenue histogram')\n",
    "plt.show()"
   ]
  },
  {
   "cell_type": "markdown",
   "id": "f8dcde1c-e561-46fa-bce9-0d1183ba859c",
   "metadata": {},
   "source": [
    "## Шаг 4. Проверка гипотез\n",
    "* средняя выручка пользователей тарифов «Ультра» и «Смарт» различаются;\n",
    "* средняя выручка пользователей из Москвы отличается от выручки пользователей из других регионов."
   ]
  },
  {
   "cell_type": "markdown",
   "id": "f8a55989-8483-4fbe-b185-f41f0ba80925",
   "metadata": {},
   "source": [
    "### 4.1 Гипотеза о равенстве средних двух генеральных совокупностей: размер средней выручки от пользователей разных тарифов\n",
    "\n",
    "* H1: выручка пользователей тарифов «Ультра» и «Смарт» различается\n",
    "* H0: выручка пользователей тарифов «Ультра» и «Смарт» не различается"
   ]
  },
  {
   "cell_type": "code",
   "execution_count": 27,
   "id": "f65acfd3-bf22-4956-843b-04a64df99852",
   "metadata": {},
   "outputs": [
    {
     "name": "stdout",
     "output_type": "stream",
     "text": [
      "p-значение: 1.4229814360764067e-160\n",
      "Нулевая гипотеза отвергается\n"
     ]
    }
   ],
   "source": [
    "t_ultra = df_grouped_data.query('tariff == \"ultra\"')['revenue']\n",
    "t_smart = df_grouped_data.query('tariff == \"smart\"')['revenue']\n",
    "\n",
    "alpha = .05\n",
    "\n",
    "result = st.ttest_ind(\n",
    "    t_ultra, \n",
    "    t_smart)\n",
    "\n",
    "print('p-значение:', result.pvalue)\n",
    "\n",
    "if (result.pvalue < alpha):\n",
    "    print(\"Нулевая гипотеза отвергается\")\n",
    "else:\n",
    "    print(\"Не получилось отвергнуть нулевую гипотезу\")"
   ]
  },
  {
   "cell_type": "code",
   "execution_count": 28,
   "id": "6b156448-d163-4486-b563-4ff21b0e2b8a",
   "metadata": {},
   "outputs": [
    {
     "data": {
      "text/html": [
       "<div>\n",
       "<style scoped>\n",
       "    .dataframe tbody tr th:only-of-type {\n",
       "        vertical-align: middle;\n",
       "    }\n",
       "\n",
       "    .dataframe tbody tr th {\n",
       "        vertical-align: top;\n",
       "    }\n",
       "\n",
       "    .dataframe thead th {\n",
       "        text-align: right;\n",
       "    }\n",
       "</style>\n",
       "<table border=\"1\" class=\"dataframe\">\n",
       "  <thead>\n",
       "    <tr style=\"text-align: right;\">\n",
       "      <th></th>\n",
       "      <th>revenue</th>\n",
       "    </tr>\n",
       "    <tr>\n",
       "      <th>tariff</th>\n",
       "      <th></th>\n",
       "    </tr>\n",
       "  </thead>\n",
       "  <tbody>\n",
       "    <tr>\n",
       "      <th>smart</th>\n",
       "      <td>1,023.00</td>\n",
       "    </tr>\n",
       "    <tr>\n",
       "      <th>ultra</th>\n",
       "      <td>1,950.00</td>\n",
       "    </tr>\n",
       "  </tbody>\n",
       "</table>\n",
       "</div>"
      ],
      "text/plain": [
       "        revenue\n",
       "tariff         \n",
       "smart  1,023.00\n",
       "ultra  1,950.00"
      ]
     },
     "metadata": {},
     "output_type": "display_data"
    },
    {
     "data": {
      "text/html": [
       "<div>\n",
       "<style scoped>\n",
       "    .dataframe tbody tr th:only-of-type {\n",
       "        vertical-align: middle;\n",
       "    }\n",
       "\n",
       "    .dataframe tbody tr th {\n",
       "        vertical-align: top;\n",
       "    }\n",
       "\n",
       "    .dataframe thead th {\n",
       "        text-align: right;\n",
       "    }\n",
       "</style>\n",
       "<table border=\"1\" class=\"dataframe\">\n",
       "  <thead>\n",
       "    <tr style=\"text-align: right;\">\n",
       "      <th></th>\n",
       "      <th>revenue</th>\n",
       "    </tr>\n",
       "    <tr>\n",
       "      <th>tariff</th>\n",
       "      <th></th>\n",
       "    </tr>\n",
       "  </thead>\n",
       "  <tbody>\n",
       "    <tr>\n",
       "      <th>smart</th>\n",
       "      <td>2,875,351.00</td>\n",
       "    </tr>\n",
       "    <tr>\n",
       "      <th>ultra</th>\n",
       "      <td>2,039,100.00</td>\n",
       "    </tr>\n",
       "  </tbody>\n",
       "</table>\n",
       "</div>"
      ],
      "text/plain": [
       "            revenue\n",
       "tariff             \n",
       "smart  2,875,351.00\n",
       "ultra  2,039,100.00"
      ]
     },
     "metadata": {},
     "output_type": "display_data"
    },
    {
     "data": {
      "text/html": [
       "<div>\n",
       "<style scoped>\n",
       "    .dataframe tbody tr th:only-of-type {\n",
       "        vertical-align: middle;\n",
       "    }\n",
       "\n",
       "    .dataframe tbody tr th {\n",
       "        vertical-align: top;\n",
       "    }\n",
       "\n",
       "    .dataframe thead th {\n",
       "        text-align: right;\n",
       "    }\n",
       "</style>\n",
       "<table border=\"1\" class=\"dataframe\">\n",
       "  <thead>\n",
       "    <tr style=\"text-align: right;\">\n",
       "      <th></th>\n",
       "      <th>revenue</th>\n",
       "    </tr>\n",
       "    <tr>\n",
       "      <th>tariff</th>\n",
       "      <th></th>\n",
       "    </tr>\n",
       "  </thead>\n",
       "  <tbody>\n",
       "    <tr>\n",
       "      <th>smart</th>\n",
       "      <td>2229</td>\n",
       "    </tr>\n",
       "    <tr>\n",
       "      <th>ultra</th>\n",
       "      <td>985</td>\n",
       "    </tr>\n",
       "  </tbody>\n",
       "</table>\n",
       "</div>"
      ],
      "text/plain": [
       "        revenue\n",
       "tariff         \n",
       "smart      2229\n",
       "ultra       985"
      ]
     },
     "metadata": {},
     "output_type": "display_data"
    },
    {
     "data": {
      "image/png": "[encoded data removed]",
      "text/plain": [
       "<Figure size 648x432 with 1 Axes>"
      ]
     },
     "metadata": {
      "needs_background": "light"
     },
     "output_type": "display_data"
    }
   ],
   "source": [
    "display(df_grouped_data.pivot_table(index='tariff', values='revenue', aggfunc='median'))\n",
    "display(df_grouped_data.pivot_table(index='tariff', values='revenue', aggfunc='sum'))\n",
    "display(df_grouped_data.pivot_table(index='tariff', values='revenue', aggfunc='count'))\n",
    "\n",
    "_ = sns.catplot(x=\"tariff\", y='revenue', kind=\"box\", data=df_grouped_data, orient='v', height=6, aspect=1.5)"
   ]
  },
  {
   "cell_type": "markdown",
   "id": "375b64f1-cd5a-4ec2-b9e5-300906629cea",
   "metadata": {},
   "source": [
    "Разница по доходам на тарифах составляет практически два раза.\n",
    "* Пользователи тарифа \"Смарт\" очевидно платят существенно больше тарифа потому что склонны экономить, но не планируют \"вдолгую\".\n",
    "* Пользователи \"Ультры\" покупают пакетное предложение чтобы спокойно пользоваться тарифом и не отвлекаться на детали.\n",
    "* Конечно же, пользователей тарифа \"Ультра\" будет существенно меньше. Оценка баланса между \"бутиковой\" и \"розничной\" стратегиями в данное задание не входит."
   ]
  },
  {
   "cell_type": "markdown",
   "id": "5e09dd14-dda1-4120-a01c-6c27fc1fd9b0",
   "metadata": {},
   "source": [
    "### 4.2 Гипотеза о равенстве средних двух генеральных совокупностей: размер средней выручки в Москве и регионах\n",
    "\n",
    "* H1: средняя выручка пользователей из Москвы отличается от выручки пользователей из других регионов\n",
    "* H0: средняя выручка пользователей из Москвы не отличается от выручки пользователей из других регионов"
   ]
  },
  {
   "cell_type": "code",
   "execution_count": 29,
   "id": "bf8b8260-ceaf-4393-9fe8-62ba315728d9",
   "metadata": {},
   "outputs": [
    {
     "data": {
      "text/html": [
       "<div>\n",
       "<style scoped>\n",
       "    .dataframe tbody tr th:only-of-type {\n",
       "        vertical-align: middle;\n",
       "    }\n",
       "\n",
       "    .dataframe tbody tr th {\n",
       "        vertical-align: top;\n",
       "    }\n",
       "\n",
       "    .dataframe thead th {\n",
       "        text-align: right;\n",
       "    }\n",
       "</style>\n",
       "<table border=\"1\" class=\"dataframe\">\n",
       "  <thead>\n",
       "    <tr style=\"text-align: right;\">\n",
       "      <th></th>\n",
       "      <th></th>\n",
       "      <th>duration</th>\n",
       "      <th>calls</th>\n",
       "      <th>messages</th>\n",
       "      <th>mb_used</th>\n",
       "      <th>tariff</th>\n",
       "      <th>city</th>\n",
       "      <th>revenue</th>\n",
       "    </tr>\n",
       "    <tr>\n",
       "      <th>user_id</th>\n",
       "      <th>month</th>\n",
       "      <th></th>\n",
       "      <th></th>\n",
       "      <th></th>\n",
       "      <th></th>\n",
       "      <th></th>\n",
       "      <th></th>\n",
       "      <th></th>\n",
       "    </tr>\n",
       "  </thead>\n",
       "  <tbody>\n",
       "    <tr>\n",
       "      <th rowspan=\"8\" valign=\"top\">1000</th>\n",
       "      <th>5</th>\n",
       "      <td>159.00</td>\n",
       "      <td>22.00</td>\n",
       "      <td>22.00</td>\n",
       "      <td>3,072.00</td>\n",
       "      <td>ultra</td>\n",
       "      <td>Краснодар</td>\n",
       "      <td>1,950.00</td>\n",
       "    </tr>\n",
       "    <tr>\n",
       "      <th>6</th>\n",
       "      <td>172.00</td>\n",
       "      <td>43.00</td>\n",
       "      <td>60.00</td>\n",
       "      <td>23,552.00</td>\n",
       "      <td>ultra</td>\n",
       "      <td>Краснодар</td>\n",
       "      <td>1,950.00</td>\n",
       "    </tr>\n",
       "    <tr>\n",
       "      <th>7</th>\n",
       "      <td>340.00</td>\n",
       "      <td>47.00</td>\n",
       "      <td>75.00</td>\n",
       "      <td>14,336.00</td>\n",
       "      <td>ultra</td>\n",
       "      <td>Краснодар</td>\n",
       "      <td>1,950.00</td>\n",
       "    </tr>\n",
       "    <tr>\n",
       "      <th>8</th>\n",
       "      <td>408.00</td>\n",
       "      <td>52.00</td>\n",
       "      <td>81.00</td>\n",
       "      <td>14,336.00</td>\n",
       "      <td>ultra</td>\n",
       "      <td>Краснодар</td>\n",
       "      <td>1,950.00</td>\n",
       "    </tr>\n",
       "    <tr>\n",
       "      <th>9</th>\n",
       "      <td>466.00</td>\n",
       "      <td>58.00</td>\n",
       "      <td>57.00</td>\n",
       "      <td>15,360.00</td>\n",
       "      <td>ultra</td>\n",
       "      <td>Краснодар</td>\n",
       "      <td>1,950.00</td>\n",
       "    </tr>\n",
       "    <tr>\n",
       "      <th>10</th>\n",
       "      <td>350.00</td>\n",
       "      <td>57.00</td>\n",
       "      <td>73.00</td>\n",
       "      <td>15,360.00</td>\n",
       "      <td>ultra</td>\n",
       "      <td>Краснодар</td>\n",
       "      <td>1,950.00</td>\n",
       "    </tr>\n",
       "    <tr>\n",
       "      <th>11</th>\n",
       "      <td>338.00</td>\n",
       "      <td>43.00</td>\n",
       "      <td>58.00</td>\n",
       "      <td>15,360.00</td>\n",
       "      <td>ultra</td>\n",
       "      <td>Краснодар</td>\n",
       "      <td>1,950.00</td>\n",
       "    </tr>\n",
       "    <tr>\n",
       "      <th>12</th>\n",
       "      <td>333.00</td>\n",
       "      <td>46.00</td>\n",
       "      <td>70.00</td>\n",
       "      <td>10,240.00</td>\n",
       "      <td>ultra</td>\n",
       "      <td>Краснодар</td>\n",
       "      <td>1,950.00</td>\n",
       "    </tr>\n",
       "    <tr>\n",
       "      <th rowspan=\"2\" valign=\"top\">1001</th>\n",
       "      <th>11</th>\n",
       "      <td>430.00</td>\n",
       "      <td>59.00</td>\n",
       "      <td>0.00</td>\n",
       "      <td>18,432.00</td>\n",
       "      <td>smart</td>\n",
       "      <td>Москва</td>\n",
       "      <td>1,150.00</td>\n",
       "    </tr>\n",
       "    <tr>\n",
       "      <th>12</th>\n",
       "      <td>414.00</td>\n",
       "      <td>63.00</td>\n",
       "      <td>0.00</td>\n",
       "      <td>14,336.00</td>\n",
       "      <td>smart</td>\n",
       "      <td>Москва</td>\n",
       "      <td>550.00</td>\n",
       "    </tr>\n",
       "  </tbody>\n",
       "</table>\n",
       "</div>"
      ],
      "text/plain": [
       "               duration  calls  messages   mb_used tariff       city  revenue\n",
       "user_id month                                                                \n",
       "1000    5        159.00  22.00     22.00  3,072.00  ultra  Краснодар 1,950.00\n",
       "        6        172.00  43.00     60.00 23,552.00  ultra  Краснодар 1,950.00\n",
       "        7        340.00  47.00     75.00 14,336.00  ultra  Краснодар 1,950.00\n",
       "        8        408.00  52.00     81.00 14,336.00  ultra  Краснодар 1,950.00\n",
       "        9        466.00  58.00     57.00 15,360.00  ultra  Краснодар 1,950.00\n",
       "        10       350.00  57.00     73.00 15,360.00  ultra  Краснодар 1,950.00\n",
       "        11       338.00  43.00     58.00 15,360.00  ultra  Краснодар 1,950.00\n",
       "        12       333.00  46.00     70.00 10,240.00  ultra  Краснодар 1,950.00\n",
       "1001    11       430.00  59.00      0.00 18,432.00  smart     Москва 1,150.00\n",
       "        12       414.00  63.00      0.00 14,336.00  smart     Москва   550.00"
      ]
     },
     "metadata": {},
     "output_type": "display_data"
    }
   ],
   "source": [
    "#добавим в сгрупированную таблицу название населенного пункта для каждого пользователя\n",
    "###for user in df_grouped_data.index:\n",
    "###    df_grouped_data.loc[user, 'city'] = df_users.loc[user[0]-1000, 'city']\n",
    "display(df_grouped_data.head(10))"
   ]
  },
  {
   "cell_type": "code",
   "execution_count": 30,
   "id": "18418ae0-242b-420c-8e6c-db2eff8fc67f",
   "metadata": {},
   "outputs": [
    {
     "name": "stdout",
     "output_type": "stream",
     "text": [
      "p-значение: 0.5257376663729298\n",
      "Не получилось отвергнуть нулевую гипотезу\n"
     ]
    }
   ],
   "source": [
    "t_moscow = df_grouped_data.query('city == \"Москва\"')['revenue']\n",
    "t_regions = df_grouped_data.query('city != \"Москва\"')['revenue']\n",
    "\n",
    "alpha = .05\n",
    "\n",
    "result = st.ttest_ind(\n",
    "    t_moscow, \n",
    "    t_regions, \n",
    "    equal_var=False)\n",
    "\n",
    "print('p-значение:', result.pvalue)\n",
    "\n",
    "if (result.pvalue < alpha):\n",
    "    print(\"Нулевая гипотеза отвергается\")\n",
    "else:\n",
    "    print(\"Не получилось отвергнуть нулевую гипотезу\")"
   ]
  },
  {
   "cell_type": "code",
   "execution_count": 31,
   "id": "7ff6c5c2-d0aa-48f3-8755-cb512ecea3ab",
   "metadata": {},
   "outputs": [
    {
     "data": {
      "text/html": [
       "<div>\n",
       "<style scoped>\n",
       "    .dataframe tbody tr th:only-of-type {\n",
       "        vertical-align: middle;\n",
       "    }\n",
       "\n",
       "    .dataframe tbody tr th {\n",
       "        vertical-align: top;\n",
       "    }\n",
       "\n",
       "    .dataframe thead th {\n",
       "        text-align: right;\n",
       "    }\n",
       "</style>\n",
       "<table border=\"1\" class=\"dataframe\">\n",
       "  <thead>\n",
       "    <tr style=\"text-align: right;\">\n",
       "      <th></th>\n",
       "      <th>revenue</th>\n",
       "    </tr>\n",
       "    <tr>\n",
       "      <th>region</th>\n",
       "      <th></th>\n",
       "    </tr>\n",
       "  </thead>\n",
       "  <tbody>\n",
       "    <tr>\n",
       "      <th>Москва</th>\n",
       "      <td>1,750.00</td>\n",
       "    </tr>\n",
       "    <tr>\n",
       "      <th>Регионы</th>\n",
       "      <td>1,583.00</td>\n",
       "    </tr>\n",
       "  </tbody>\n",
       "</table>\n",
       "</div>"
      ],
      "text/plain": [
       "         revenue\n",
       "region          \n",
       "Москва  1,750.00\n",
       "Регионы 1,583.00"
      ]
     },
     "metadata": {},
     "output_type": "display_data"
    },
    {
     "data": {
      "text/html": [
       "<div>\n",
       "<style scoped>\n",
       "    .dataframe tbody tr th:only-of-type {\n",
       "        vertical-align: middle;\n",
       "    }\n",
       "\n",
       "    .dataframe tbody tr th {\n",
       "        vertical-align: top;\n",
       "    }\n",
       "\n",
       "    .dataframe thead th {\n",
       "        text-align: right;\n",
       "    }\n",
       "</style>\n",
       "<table border=\"1\" class=\"dataframe\">\n",
       "  <thead>\n",
       "    <tr style=\"text-align: right;\">\n",
       "      <th></th>\n",
       "      <th>revenue</th>\n",
       "    </tr>\n",
       "    <tr>\n",
       "      <th>region</th>\n",
       "      <th></th>\n",
       "    </tr>\n",
       "  </thead>\n",
       "  <tbody>\n",
       "    <tr>\n",
       "      <th>Москва</th>\n",
       "      <td>945,042.00</td>\n",
       "    </tr>\n",
       "    <tr>\n",
       "      <th>Регионы</th>\n",
       "      <td>3,969,409.00</td>\n",
       "    </tr>\n",
       "  </tbody>\n",
       "</table>\n",
       "</div>"
      ],
      "text/plain": [
       "             revenue\n",
       "region              \n",
       "Москва    945,042.00\n",
       "Регионы 3,969,409.00"
      ]
     },
     "metadata": {},
     "output_type": "display_data"
    },
    {
     "data": {
      "text/html": [
       "<div>\n",
       "<style scoped>\n",
       "    .dataframe tbody tr th:only-of-type {\n",
       "        vertical-align: middle;\n",
       "    }\n",
       "\n",
       "    .dataframe tbody tr th {\n",
       "        vertical-align: top;\n",
       "    }\n",
       "\n",
       "    .dataframe thead th {\n",
       "        text-align: right;\n",
       "    }\n",
       "</style>\n",
       "<table border=\"1\" class=\"dataframe\">\n",
       "  <thead>\n",
       "    <tr style=\"text-align: right;\">\n",
       "      <th></th>\n",
       "      <th>revenue</th>\n",
       "    </tr>\n",
       "    <tr>\n",
       "      <th>region</th>\n",
       "      <th></th>\n",
       "    </tr>\n",
       "  </thead>\n",
       "  <tbody>\n",
       "    <tr>\n",
       "      <th>Москва</th>\n",
       "      <td>611</td>\n",
       "    </tr>\n",
       "    <tr>\n",
       "      <th>Регионы</th>\n",
       "      <td>2603</td>\n",
       "    </tr>\n",
       "  </tbody>\n",
       "</table>\n",
       "</div>"
      ],
      "text/plain": [
       "         revenue\n",
       "region          \n",
       "Москва       611\n",
       "Регионы     2603"
      ]
     },
     "metadata": {},
     "output_type": "display_data"
    },
    {
     "data": {
      "image/png": "[encoded data removed]",
      "text/plain": [
       "<Figure size 648x432 with 1 Axes>"
      ]
     },
     "metadata": {
      "needs_background": "light"
     },
     "output_type": "display_data"
    }
   ],
   "source": [
    "#напишем функцию для категоризаии населенных пунктов на категории столица - Москва и регионы \n",
    "def set_region(city):\n",
    "    if city == 'Москва': return 'Москва'\n",
    "    else: return 'Регионы'\n",
    "\n",
    "df_grouped_data['region'] = df_grouped_data['city'].apply(set_region)\n",
    "\n",
    "display(df_grouped_data.pivot_table(index='region', values='revenue', aggfunc='median'))\n",
    "display(df_grouped_data.pivot_table(index='region', values='revenue', aggfunc='sum'))\n",
    "display(df_grouped_data.pivot_table(index='region', values='revenue', aggfunc='count'))\n",
    "    \n",
    "_ = sns.catplot(x=\"region\", y='revenue', kind=\"box\", data=df_grouped_data, orient='v', height=6, aspect=1.5)"
   ]
  },
  {
   "cell_type": "markdown",
   "id": "39f4f6ec-a03b-46de-882c-4ceb7ee5ea3f",
   "metadata": {},
   "source": [
    "Гипотеза о различии средней выручки по тарифу в москве и регионах отвергается.\n",
    "* Да, в Москве медианное значение выше примерно на 160 рублей, но это различие статистически не значимо."
   ]
  },
  {
   "cell_type": "markdown",
   "id": "e8ad63b6-f96e-41ea-85d8-f008abdc2880",
   "metadata": {},
   "source": [
    "## Общий вывод\n",
    "\n",
    "<div class=\"alert alert-block alert-info\">\n",
    "</div>\n",
    "\n",
    "* Все таблицы были успешно загружены, в данных нет пропусков и искажений\n",
    "* Данные по пропущенным звонкам и нулевым сессиям данных соответсвуют методической сути явления и не требуют дополнительной обработки.\n",
    "* В таблицы с данными по звонкам и интернет-траффику добавлена колонка с месяцем - требуется на последующих этапах.\n",
    "* Проведено округление длительности звонков и интернет-траффика в большую сторону по логике тарифов.\n",
    "* Для каждого пользователя вычислены:\n",
    "    * количество сделанных звонков и израсходованных минут разговора по месяцам;\n",
    "    * количество отправленных сообщений по месяцам;\n",
    "    * объем израсходованного интернет-трафика по месяцам;\n",
    "    * помесячная выручка с каждого пользователя.\n",
    "* По каждому из тарифов:\n",
    "    * Построена гистрграмма дохода на пользователя\n",
    "    * Построены гистограммы распределения длительности звонков за месяц и боксплот активности пользователей по месяцам.\n",
    "    * Построены гистограммы распределения объёма интернет-траффика за месяц и боксплот интернет-активности пользователей по месяцам.\n",
    "* Проверены статистические гипотезы о равенстве средней выручки между тарифами и между москвой и регионами.\n",
    "\n",
    "Выводы:\n",
    "* Разница по доходам на тарифах составляет практически два раза.\n",
    "* Разница между средней выручкой по тарифам в Москве и регионах не выявлена.\n",
    "\n",
    "В целом можно сказать следующее:\n",
    "* Тариф \"Смарт\" привлекает более суетных и экономных людей, которые в итоге плятят больше ожидаемого. Эта категория пользователей эмоциональна, более склонна к смене тарифов и операторов, её необъодимо постянно привлекать и удерживать разными \"фишками\".\n",
    "* Тариф \"Ультра\" привлекает платёжеспособных пользователей, предпочитающих предсказуемость и стабильность. Они не высчитывают копеечные выгоды. Данную категорию пользователей важно удерживать и не создавать для них стрессовые ситуации.\n",
    "* Пользователей тарифа \"Ультра\" в два раза меньше, но они менее суетны и приносят соизмеримый объём выручки.\n",
    "* Оценка баланса между \"бутиковой\" и \"розничной\" стратегиями в данное задание не входит, но в целом можно дать рекомендацию по сохранению баланса тарифов. Отказ от любого из тарифов нежелателен."
   ]
  }
 ],
 "metadata": {
  "ExecuteTimeLog": [
   {
    "duration": 1953,
    "start_time": "2022-05-05T19:54:32.683Z"
   },
   {
    "duration": 276,
    "start_time": "2022-05-05T19:54:34.639Z"
   },
   {
    "duration": 202,
    "start_time": "2022-05-05T19:54:34.924Z"
   },
   {
    "duration": 80,
    "start_time": "2022-05-05T19:54:35.129Z"
   },
   {
    "duration": 107,
    "start_time": "2022-05-05T19:54:35.211Z"
   },
   {
    "duration": 199,
    "start_time": "2022-05-05T19:54:59.922Z"
   },
   {
    "duration": 14,
    "start_time": "2022-05-05T19:55:05.013Z"
   },
   {
    "duration": 721,
    "start_time": "2022-05-05T19:55:06.742Z"
   },
   {
    "duration": 70,
    "start_time": "2022-05-05T19:55:49.869Z"
   },
   {
    "duration": 19,
    "start_time": "2022-05-05T19:55:55.834Z"
   },
   {
    "duration": 9,
    "start_time": "2022-05-05T19:56:25.289Z"
   },
   {
    "duration": 642,
    "start_time": "2022-05-05T19:56:25.713Z"
   },
   {
    "duration": 8,
    "start_time": "2022-05-05T19:56:26.562Z"
   },
   {
    "duration": 704,
    "start_time": "2022-05-05T19:56:27.742Z"
   },
   {
    "duration": 7,
    "start_time": "2022-05-05T19:56:28.717Z"
   },
   {
    "duration": 555,
    "start_time": "2022-05-05T19:56:29.737Z"
   },
   {
    "duration": 6,
    "start_time": "2022-05-05T19:57:20.858Z"
   },
   {
    "duration": 22,
    "start_time": "2022-05-05T19:57:24.135Z"
   },
   {
    "duration": 345,
    "start_time": "2022-05-05T19:57:46.081Z"
   },
   {
    "duration": 365,
    "start_time": "2022-05-05T19:57:46.502Z"
   },
   {
    "duration": 240,
    "start_time": "2022-05-05T19:57:46.871Z"
   },
   {
    "duration": 80,
    "start_time": "2022-05-05T19:57:47.114Z"
   },
   {
    "duration": 118,
    "start_time": "2022-05-05T19:57:47.340Z"
   },
   {
    "duration": 201,
    "start_time": "2022-05-05T19:57:48.664Z"
   },
   {
    "duration": 10,
    "start_time": "2022-05-05T19:57:49.804Z"
   },
   {
    "duration": 829,
    "start_time": "2022-05-05T19:57:50.419Z"
   },
   {
    "duration": 7,
    "start_time": "2022-05-05T19:57:51.264Z"
   },
   {
    "duration": 5,
    "start_time": "2022-05-05T19:58:27.792Z"
   },
   {
    "duration": 737,
    "start_time": "2022-05-05T19:58:30.608Z"
   },
   {
    "duration": 7,
    "start_time": "2022-05-05T19:58:31.348Z"
   },
   {
    "duration": 537,
    "start_time": "2022-05-05T19:59:29.652Z"
   },
   {
    "duration": 2384,
    "start_time": "2022-05-05T20:03:22.131Z"
   },
   {
    "duration": 31,
    "start_time": "2022-05-05T20:03:51.331Z"
   },
   {
    "duration": 2511,
    "start_time": "2022-05-05T20:06:44.652Z"
   },
   {
    "duration": 3009,
    "start_time": "2022-05-05T20:07:04.768Z"
   },
   {
    "duration": 2518,
    "start_time": "2022-05-05T20:07:16.981Z"
   },
   {
    "duration": 102,
    "start_time": "2022-05-05T20:08:09.794Z"
   },
   {
    "duration": 369,
    "start_time": "2022-05-05T20:08:19.355Z"
   },
   {
    "duration": 280,
    "start_time": "2022-05-05T20:08:43.539Z"
   },
   {
    "duration": 52,
    "start_time": "2022-05-05T20:09:41.683Z"
   },
   {
    "duration": 566,
    "start_time": "2022-05-05T20:09:47.174Z"
   },
   {
    "duration": 567,
    "start_time": "2022-05-05T20:11:11.542Z"
   },
   {
    "duration": 11,
    "start_time": "2022-05-05T20:11:48.910Z"
   },
   {
    "duration": 426,
    "start_time": "2022-05-05T20:11:49.505Z"
   },
   {
    "duration": 1930,
    "start_time": "2022-05-05T20:11:51.465Z"
   },
   {
    "duration": 119,
    "start_time": "2022-05-05T20:17:25.457Z"
   },
   {
    "duration": 530,
    "start_time": "2022-05-05T20:17:35.501Z"
   },
   {
    "duration": 97,
    "start_time": "2022-05-05T20:18:29.791Z"
   },
   {
    "duration": 16,
    "start_time": "2022-05-05T20:25:01.574Z"
   },
   {
    "duration": 610,
    "start_time": "2022-05-05T20:25:21.141Z"
   },
   {
    "duration": 2141,
    "start_time": "2022-05-05T20:27:47.000Z"
   },
   {
    "duration": 105,
    "start_time": "2022-05-05T20:28:27.693Z"
   },
   {
    "duration": 17,
    "start_time": "2022-05-05T20:28:55.280Z"
   },
   {
    "duration": 486,
    "start_time": "2022-05-05T20:29:00.144Z"
   },
   {
    "duration": 109,
    "start_time": "2022-05-05T20:29:28.888Z"
   },
   {
    "duration": 234,
    "start_time": "2022-05-05T23:36:17.713Z"
   },
   {
    "duration": 2215,
    "start_time": "2022-05-05T23:40:43.455Z"
   },
   {
    "duration": 405,
    "start_time": "2022-05-05T23:40:45.673Z"
   },
   {
    "duration": 265,
    "start_time": "2022-05-05T23:40:46.080Z"
   },
   {
    "duration": 143,
    "start_time": "2022-05-05T23:40:46.348Z"
   },
   {
    "duration": 167,
    "start_time": "2022-05-05T23:40:46.493Z"
   },
   {
    "duration": 228,
    "start_time": "2022-05-05T23:40:46.662Z"
   },
   {
    "duration": 0,
    "start_time": "2022-05-05T23:40:46.894Z"
   },
   {
    "duration": 0,
    "start_time": "2022-05-05T23:40:46.896Z"
   },
   {
    "duration": 0,
    "start_time": "2022-05-05T23:40:46.898Z"
   },
   {
    "duration": 0,
    "start_time": "2022-05-05T23:40:46.900Z"
   },
   {
    "duration": 0,
    "start_time": "2022-05-05T23:40:46.902Z"
   },
   {
    "duration": 0,
    "start_time": "2022-05-05T23:40:46.904Z"
   },
   {
    "duration": 0,
    "start_time": "2022-05-05T23:40:46.907Z"
   },
   {
    "duration": 0,
    "start_time": "2022-05-05T23:40:46.909Z"
   },
   {
    "duration": 0,
    "start_time": "2022-05-05T23:40:46.911Z"
   },
   {
    "duration": 0,
    "start_time": "2022-05-05T23:40:46.913Z"
   },
   {
    "duration": 0,
    "start_time": "2022-05-05T23:40:46.915Z"
   },
   {
    "duration": 0,
    "start_time": "2022-05-05T23:40:46.917Z"
   },
   {
    "duration": 0,
    "start_time": "2022-05-05T23:40:46.919Z"
   },
   {
    "duration": 0,
    "start_time": "2022-05-05T23:40:46.921Z"
   },
   {
    "duration": 0,
    "start_time": "2022-05-05T23:40:46.923Z"
   },
   {
    "duration": 0,
    "start_time": "2022-05-05T23:40:46.925Z"
   },
   {
    "duration": 0,
    "start_time": "2022-05-05T23:40:46.927Z"
   },
   {
    "duration": 0,
    "start_time": "2022-05-05T23:40:46.930Z"
   },
   {
    "duration": 0,
    "start_time": "2022-05-05T23:40:46.932Z"
   },
   {
    "duration": 0,
    "start_time": "2022-05-05T23:40:46.994Z"
   },
   {
    "duration": 0,
    "start_time": "2022-05-05T23:40:46.996Z"
   },
   {
    "duration": 1,
    "start_time": "2022-05-05T23:40:46.998Z"
   },
   {
    "duration": 232,
    "start_time": "2022-05-05T23:41:39.876Z"
   },
   {
    "duration": 140,
    "start_time": "2022-05-05T23:56:01.170Z"
   },
   {
    "duration": 124,
    "start_time": "2022-05-05T23:56:13.243Z"
   },
   {
    "duration": 192,
    "start_time": "2022-05-05T23:56:51.977Z"
   },
   {
    "duration": 154,
    "start_time": "2022-05-05T23:57:06.361Z"
   },
   {
    "duration": 142,
    "start_time": "2022-05-05T23:58:15.866Z"
   },
   {
    "duration": 216,
    "start_time": "2022-05-06T00:00:42.755Z"
   },
   {
    "duration": 161,
    "start_time": "2022-05-06T00:02:09.383Z"
   },
   {
    "duration": 159,
    "start_time": "2022-05-06T00:02:29.401Z"
   },
   {
    "duration": 227,
    "start_time": "2022-05-06T00:02:41.970Z"
   },
   {
    "duration": 160,
    "start_time": "2022-05-06T00:04:05.563Z"
   },
   {
    "duration": 175,
    "start_time": "2022-05-06T00:07:02.418Z"
   },
   {
    "duration": 225,
    "start_time": "2022-05-06T00:07:35.596Z"
   },
   {
    "duration": 153,
    "start_time": "2022-05-06T00:07:43.932Z"
   },
   {
    "duration": 152,
    "start_time": "2022-05-06T00:09:22.233Z"
   },
   {
    "duration": 211,
    "start_time": "2022-05-06T00:09:40.610Z"
   },
   {
    "duration": 3480,
    "start_time": "2022-05-06T00:10:03.221Z"
   },
   {
    "duration": 3362,
    "start_time": "2022-05-06T00:10:26.912Z"
   },
   {
    "duration": 413,
    "start_time": "2022-05-06T00:11:05.558Z"
   },
   {
    "duration": 332,
    "start_time": "2022-05-06T00:11:05.974Z"
   },
   {
    "duration": 299,
    "start_time": "2022-05-06T00:11:06.308Z"
   },
   {
    "duration": 131,
    "start_time": "2022-05-06T00:11:06.610Z"
   },
   {
    "duration": 169,
    "start_time": "2022-05-06T00:11:06.744Z"
   },
   {
    "duration": 296,
    "start_time": "2022-05-06T00:11:06.916Z"
   },
   {
    "duration": 9,
    "start_time": "2022-05-06T00:11:07.214Z"
   },
   {
    "duration": 703,
    "start_time": "2022-05-06T00:11:07.225Z"
   },
   {
    "duration": 4,
    "start_time": "2022-05-06T00:11:07.930Z"
   },
   {
    "duration": 33,
    "start_time": "2022-05-06T00:11:07.938Z"
   },
   {
    "duration": 0,
    "start_time": "2022-05-06T00:11:07.994Z"
   },
   {
    "duration": 0,
    "start_time": "2022-05-06T00:11:07.996Z"
   },
   {
    "duration": 0,
    "start_time": "2022-05-06T00:11:07.999Z"
   },
   {
    "duration": 0,
    "start_time": "2022-05-06T00:11:08.001Z"
   },
   {
    "duration": 0,
    "start_time": "2022-05-06T00:11:08.003Z"
   },
   {
    "duration": 0,
    "start_time": "2022-05-06T00:11:08.005Z"
   },
   {
    "duration": 0,
    "start_time": "2022-05-06T00:11:08.007Z"
   },
   {
    "duration": 0,
    "start_time": "2022-05-06T00:11:08.010Z"
   },
   {
    "duration": 0,
    "start_time": "2022-05-06T00:11:08.012Z"
   },
   {
    "duration": 0,
    "start_time": "2022-05-06T00:11:08.014Z"
   },
   {
    "duration": 0,
    "start_time": "2022-05-06T00:11:08.016Z"
   },
   {
    "duration": 0,
    "start_time": "2022-05-06T00:11:08.018Z"
   },
   {
    "duration": 0,
    "start_time": "2022-05-06T00:11:08.020Z"
   },
   {
    "duration": 0,
    "start_time": "2022-05-06T00:11:08.023Z"
   },
   {
    "duration": 0,
    "start_time": "2022-05-06T00:11:08.025Z"
   },
   {
    "duration": 0,
    "start_time": "2022-05-06T00:11:08.027Z"
   },
   {
    "duration": 0,
    "start_time": "2022-05-06T00:11:08.029Z"
   },
   {
    "duration": 0,
    "start_time": "2022-05-06T00:11:08.031Z"
   },
   {
    "duration": 3268,
    "start_time": "2022-05-06T00:13:01.380Z"
   },
   {
    "duration": 367,
    "start_time": "2022-05-06T00:13:21.008Z"
   },
   {
    "duration": 316,
    "start_time": "2022-05-06T00:13:21.378Z"
   },
   {
    "duration": 258,
    "start_time": "2022-05-06T00:13:21.696Z"
   },
   {
    "duration": 125,
    "start_time": "2022-05-06T00:13:21.957Z"
   },
   {
    "duration": 162,
    "start_time": "2022-05-06T00:13:22.085Z"
   },
   {
    "duration": 296,
    "start_time": "2022-05-06T00:13:22.250Z"
   },
   {
    "duration": 8,
    "start_time": "2022-05-06T00:13:22.549Z"
   },
   {
    "duration": 638,
    "start_time": "2022-05-06T00:13:22.560Z"
   },
   {
    "duration": 4,
    "start_time": "2022-05-06T00:13:23.200Z"
   },
   {
    "duration": 569,
    "start_time": "2022-05-06T00:13:23.206Z"
   },
   {
    "duration": 4,
    "start_time": "2022-05-06T00:13:23.777Z"
   },
   {
    "duration": 505,
    "start_time": "2022-05-06T00:13:23.783Z"
   },
   {
    "duration": 3453,
    "start_time": "2022-05-06T00:13:24.293Z"
   },
   {
    "duration": 416,
    "start_time": "2022-05-06T00:13:27.752Z"
   },
   {
    "duration": 327,
    "start_time": "2022-05-06T00:13:28.171Z"
   },
   {
    "duration": 53,
    "start_time": "2022-05-06T00:13:28.501Z"
   },
   {
    "duration": 429,
    "start_time": "2022-05-06T00:13:28.557Z"
   },
   {
    "duration": 11,
    "start_time": "2022-05-06T00:13:28.988Z"
   },
   {
    "duration": 615,
    "start_time": "2022-05-06T00:13:29.003Z"
   },
   {
    "duration": 2693,
    "start_time": "2022-05-06T00:13:29.621Z"
   },
   {
    "duration": 726,
    "start_time": "2022-05-06T00:13:32.317Z"
   },
   {
    "duration": 2372,
    "start_time": "2022-05-06T00:13:33.047Z"
   },
   {
    "duration": 439,
    "start_time": "2022-05-06T00:13:35.421Z"
   },
   {
    "duration": 15,
    "start_time": "2022-05-06T00:13:35.862Z"
   },
   {
    "duration": 618,
    "start_time": "2022-05-06T00:13:35.879Z"
   },
   {
    "duration": 2111,
    "start_time": "2022-05-06T00:13:36.499Z"
   },
   {
    "duration": 15,
    "start_time": "2022-05-06T00:13:38.613Z"
   },
   {
    "duration": 543,
    "start_time": "2022-05-06T00:13:38.630Z"
   },
   {
    "duration": 470,
    "start_time": "2022-05-06T00:14:42.061Z"
   },
   {
    "duration": 468,
    "start_time": "2022-05-06T00:16:39.380Z"
   },
   {
    "duration": 167,
    "start_time": "2022-05-06T00:17:52.878Z"
   },
   {
    "duration": 158,
    "start_time": "2022-05-06T00:18:35.194Z"
   },
   {
    "duration": 212,
    "start_time": "2022-05-06T00:19:14.830Z"
   },
   {
    "duration": 355,
    "start_time": "2022-05-06T00:19:43.980Z"
   },
   {
    "duration": 326,
    "start_time": "2022-05-06T00:19:44.339Z"
   },
   {
    "duration": 236,
    "start_time": "2022-05-06T00:19:44.667Z"
   },
   {
    "duration": 125,
    "start_time": "2022-05-06T00:19:44.907Z"
   },
   {
    "duration": 162,
    "start_time": "2022-05-06T00:19:45.034Z"
   },
   {
    "duration": 284,
    "start_time": "2022-05-06T00:19:45.198Z"
   },
   {
    "duration": 13,
    "start_time": "2022-05-06T00:19:45.484Z"
   },
   {
    "duration": 604,
    "start_time": "2022-05-06T00:19:45.499Z"
   },
   {
    "duration": 3,
    "start_time": "2022-05-06T00:19:46.105Z"
   },
   {
    "duration": 574,
    "start_time": "2022-05-06T00:19:46.112Z"
   },
   {
    "duration": 3,
    "start_time": "2022-05-06T00:19:46.693Z"
   },
   {
    "duration": 480,
    "start_time": "2022-05-06T00:19:46.698Z"
   },
   {
    "duration": 2247,
    "start_time": "2022-05-06T00:19:47.181Z"
   },
   {
    "duration": 289,
    "start_time": "2022-05-06T00:19:49.431Z"
   },
   {
    "duration": 207,
    "start_time": "2022-05-06T00:19:49.723Z"
   },
   {
    "duration": 67,
    "start_time": "2022-05-06T00:19:49.933Z"
   },
   {
    "duration": 437,
    "start_time": "2022-05-06T00:19:50.002Z"
   },
   {
    "duration": 12,
    "start_time": "2022-05-06T00:19:50.441Z"
   },
   {
    "duration": 444,
    "start_time": "2022-05-06T00:19:50.455Z"
   },
   {
    "duration": 1809,
    "start_time": "2022-05-06T00:19:50.901Z"
   },
   {
    "duration": 528,
    "start_time": "2022-05-06T00:19:52.712Z"
   },
   {
    "duration": 1461,
    "start_time": "2022-05-06T00:19:53.242Z"
   },
   {
    "duration": 420,
    "start_time": "2022-05-06T00:19:54.706Z"
   },
   {
    "duration": 15,
    "start_time": "2022-05-06T00:19:55.128Z"
   },
   {
    "duration": 617,
    "start_time": "2022-05-06T00:19:55.145Z"
   },
   {
    "duration": 1967,
    "start_time": "2022-05-06T00:19:55.764Z"
   },
   {
    "duration": 19,
    "start_time": "2022-05-06T00:19:57.733Z"
   },
   {
    "duration": 523,
    "start_time": "2022-05-06T00:19:57.758Z"
   },
   {
    "duration": 165,
    "start_time": "2022-05-06T00:20:56.258Z"
   },
   {
    "duration": 145,
    "start_time": "2022-05-06T00:21:02.611Z"
   },
   {
    "duration": 3905,
    "start_time": "2022-05-06T00:29:25.143Z"
   },
   {
    "duration": 219,
    "start_time": "2022-05-06T00:31:23.967Z"
   },
   {
    "duration": 214,
    "start_time": "2022-05-06T00:32:38.190Z"
   },
   {
    "duration": 211,
    "start_time": "2022-05-06T00:33:46.173Z"
   },
   {
    "duration": 207,
    "start_time": "2022-05-06T00:34:17.433Z"
   },
   {
    "duration": 200,
    "start_time": "2022-05-06T00:34:24.257Z"
   },
   {
    "duration": 8,
    "start_time": "2022-05-06T00:34:49.714Z"
   },
   {
    "duration": 211,
    "start_time": "2022-05-06T00:34:58.491Z"
   },
   {
    "duration": 553,
    "start_time": "2022-05-06T00:36:08.573Z"
   },
   {
    "duration": 42,
    "start_time": "2022-05-06T00:37:07.681Z"
   },
   {
    "duration": 30,
    "start_time": "2022-05-06T00:37:54.034Z"
   },
   {
    "duration": 396,
    "start_time": "2022-05-06T00:38:08.201Z"
   },
   {
    "duration": 332,
    "start_time": "2022-05-06T00:38:08.599Z"
   },
   {
    "duration": 268,
    "start_time": "2022-05-06T00:38:08.934Z"
   },
   {
    "duration": 132,
    "start_time": "2022-05-06T00:38:09.205Z"
   },
   {
    "duration": 182,
    "start_time": "2022-05-06T00:38:09.340Z"
   },
   {
    "duration": 295,
    "start_time": "2022-05-06T00:38:09.524Z"
   },
   {
    "duration": 8,
    "start_time": "2022-05-06T00:38:09.821Z"
   },
   {
    "duration": 855,
    "start_time": "2022-05-06T00:38:09.831Z"
   },
   {
    "duration": 5,
    "start_time": "2022-05-06T00:38:10.689Z"
   },
   {
    "duration": 946,
    "start_time": "2022-05-06T00:38:10.697Z"
   },
   {
    "duration": 4,
    "start_time": "2022-05-06T00:38:11.646Z"
   },
   {
    "duration": 885,
    "start_time": "2022-05-06T00:38:11.652Z"
   },
   {
    "duration": 1127,
    "start_time": "2022-05-06T00:38:12.540Z"
   },
   {
    "duration": 420,
    "start_time": "2022-05-06T00:38:13.673Z"
   },
   {
    "duration": 346,
    "start_time": "2022-05-06T00:38:14.095Z"
   },
   {
    "duration": 88,
    "start_time": "2022-05-06T00:38:14.444Z"
   },
   {
    "duration": 577,
    "start_time": "2022-05-06T00:38:14.535Z"
   },
   {
    "duration": 13,
    "start_time": "2022-05-06T00:38:15.115Z"
   },
   {
    "duration": 618,
    "start_time": "2022-05-06T00:38:15.130Z"
   },
   {
    "duration": 2937,
    "start_time": "2022-05-06T00:38:15.751Z"
   },
   {
    "duration": 641,
    "start_time": "2022-05-06T00:38:18.694Z"
   },
   {
    "duration": 2472,
    "start_time": "2022-05-06T00:38:19.338Z"
   },
   {
    "duration": 624,
    "start_time": "2022-05-06T00:38:21.814Z"
   },
   {
    "duration": 20,
    "start_time": "2022-05-06T00:38:22.441Z"
   },
   {
    "duration": 713,
    "start_time": "2022-05-06T00:38:22.464Z"
   },
   {
    "duration": 22,
    "start_time": "2022-05-06T00:38:23.180Z"
   },
   {
    "duration": 0,
    "start_time": "2022-05-06T00:38:23.205Z"
   },
   {
    "duration": 0,
    "start_time": "2022-05-06T00:38:23.207Z"
   },
   {
    "duration": 222,
    "start_time": "2022-05-06T00:50:04.990Z"
   },
   {
    "duration": 200,
    "start_time": "2022-05-06T00:52:00.548Z"
   },
   {
    "duration": 55,
    "start_time": "2022-05-06T00:58:20.473Z"
   },
   {
    "duration": 52,
    "start_time": "2022-05-06T00:58:49.733Z"
   },
   {
    "duration": 32,
    "start_time": "2022-05-06T00:59:12.056Z"
   },
   {
    "duration": 21,
    "start_time": "2022-05-06T01:16:40.563Z"
   },
   {
    "duration": 361,
    "start_time": "2022-05-06T01:17:18.315Z"
   },
   {
    "duration": 326,
    "start_time": "2022-05-06T01:17:18.679Z"
   },
   {
    "duration": 251,
    "start_time": "2022-05-06T01:17:19.008Z"
   },
   {
    "duration": 119,
    "start_time": "2022-05-06T01:17:19.262Z"
   },
   {
    "duration": 172,
    "start_time": "2022-05-06T01:17:19.383Z"
   },
   {
    "duration": 268,
    "start_time": "2022-05-06T01:17:19.557Z"
   },
   {
    "duration": 9,
    "start_time": "2022-05-06T01:17:19.827Z"
   },
   {
    "duration": 558,
    "start_time": "2022-05-06T01:17:19.838Z"
   },
   {
    "duration": 3,
    "start_time": "2022-05-06T01:17:20.398Z"
   },
   {
    "duration": 570,
    "start_time": "2022-05-06T01:17:20.405Z"
   },
   {
    "duration": 3,
    "start_time": "2022-05-06T01:17:20.977Z"
   },
   {
    "duration": 485,
    "start_time": "2022-05-06T01:17:20.983Z"
   },
   {
    "duration": 39,
    "start_time": "2022-05-06T01:17:21.471Z"
   },
   {
    "duration": 0,
    "start_time": "2022-05-06T01:17:21.512Z"
   },
   {
    "duration": 0,
    "start_time": "2022-05-06T01:17:21.514Z"
   },
   {
    "duration": 0,
    "start_time": "2022-05-06T01:17:21.515Z"
   },
   {
    "duration": 0,
    "start_time": "2022-05-06T01:17:21.517Z"
   },
   {
    "duration": 0,
    "start_time": "2022-05-06T01:17:21.518Z"
   },
   {
    "duration": 0,
    "start_time": "2022-05-06T01:17:21.520Z"
   },
   {
    "duration": 0,
    "start_time": "2022-05-06T01:17:21.521Z"
   },
   {
    "duration": 0,
    "start_time": "2022-05-06T01:17:21.522Z"
   },
   {
    "duration": 0,
    "start_time": "2022-05-06T01:17:21.524Z"
   },
   {
    "duration": 0,
    "start_time": "2022-05-06T01:17:21.525Z"
   },
   {
    "duration": 0,
    "start_time": "2022-05-06T01:17:21.527Z"
   },
   {
    "duration": 0,
    "start_time": "2022-05-06T01:17:21.529Z"
   },
   {
    "duration": 0,
    "start_time": "2022-05-06T01:17:21.530Z"
   },
   {
    "duration": 0,
    "start_time": "2022-05-06T01:17:21.532Z"
   },
   {
    "duration": 0,
    "start_time": "2022-05-06T01:17:21.533Z"
   },
   {
    "duration": 27,
    "start_time": "2022-05-06T01:17:58.779Z"
   },
   {
    "duration": 33,
    "start_time": "2022-05-06T01:18:50.441Z"
   },
   {
    "duration": 11,
    "start_time": "2022-05-06T01:22:26.404Z"
   },
   {
    "duration": 31,
    "start_time": "2022-05-06T01:22:38.149Z"
   },
   {
    "duration": 29,
    "start_time": "2022-05-06T01:22:55.734Z"
   },
   {
    "duration": 28,
    "start_time": "2022-05-06T01:23:08.911Z"
   },
   {
    "duration": 13,
    "start_time": "2022-05-06T01:23:25.739Z"
   },
   {
    "duration": 31,
    "start_time": "2022-05-06T01:23:35.532Z"
   },
   {
    "duration": 31,
    "start_time": "2022-05-06T01:24:25.769Z"
   },
   {
    "duration": 15626,
    "start_time": "2022-05-06T01:26:44.250Z"
   },
   {
    "duration": 9265,
    "start_time": "2022-05-06T01:27:16.716Z"
   },
   {
    "duration": 348,
    "start_time": "2022-05-06T01:28:07.827Z"
   },
   {
    "duration": 353,
    "start_time": "2022-05-06T01:28:08.178Z"
   },
   {
    "duration": 239,
    "start_time": "2022-05-06T01:28:08.533Z"
   },
   {
    "duration": 136,
    "start_time": "2022-05-06T01:28:08.775Z"
   },
   {
    "duration": 171,
    "start_time": "2022-05-06T01:28:08.915Z"
   },
   {
    "duration": 273,
    "start_time": "2022-05-06T01:28:09.089Z"
   },
   {
    "duration": 7,
    "start_time": "2022-05-06T01:28:09.365Z"
   },
   {
    "duration": 598,
    "start_time": "2022-05-06T01:28:09.375Z"
   },
   {
    "duration": 4,
    "start_time": "2022-05-06T01:28:09.975Z"
   },
   {
    "duration": 557,
    "start_time": "2022-05-06T01:28:09.993Z"
   },
   {
    "duration": 4,
    "start_time": "2022-05-06T01:28:10.552Z"
   },
   {
    "duration": 475,
    "start_time": "2022-05-06T01:28:10.558Z"
   },
   {
    "duration": 9211,
    "start_time": "2022-05-06T01:28:11.036Z"
   },
   {
    "duration": 295,
    "start_time": "2022-05-06T01:28:20.251Z"
   },
   {
    "duration": 224,
    "start_time": "2022-05-06T01:28:20.549Z"
   },
   {
    "duration": 61,
    "start_time": "2022-05-06T01:28:20.775Z"
   },
   {
    "duration": 431,
    "start_time": "2022-05-06T01:28:20.839Z"
   },
   {
    "duration": 21,
    "start_time": "2022-05-06T01:28:21.272Z"
   },
   {
    "duration": 434,
    "start_time": "2022-05-06T01:28:21.295Z"
   },
   {
    "duration": 1946,
    "start_time": "2022-05-06T01:28:21.731Z"
   },
   {
    "duration": 427,
    "start_time": "2022-05-06T01:28:23.679Z"
   },
   {
    "duration": 1647,
    "start_time": "2022-05-06T01:28:24.108Z"
   },
   {
    "duration": 423,
    "start_time": "2022-05-06T01:28:25.758Z"
   },
   {
    "duration": 21,
    "start_time": "2022-05-06T01:28:26.184Z"
   },
   {
    "duration": 499,
    "start_time": "2022-05-06T01:28:26.208Z"
   },
   {
    "duration": 1966,
    "start_time": "2022-05-06T01:28:26.710Z"
   },
   {
    "duration": 27,
    "start_time": "2022-05-06T01:28:28.678Z"
   },
   {
    "duration": 495,
    "start_time": "2022-05-06T01:28:28.707Z"
   },
   {
    "duration": 18,
    "start_time": "2022-05-06T01:28:55.944Z"
   },
   {
    "duration": 267,
    "start_time": "2022-05-06T01:30:19.882Z"
   },
   {
    "duration": 9501,
    "start_time": "2022-05-06T01:36:05.021Z"
   },
   {
    "duration": 457,
    "start_time": "2022-05-06T01:37:42.662Z"
   },
   {
    "duration": 440,
    "start_time": "2022-05-06T01:37:51.639Z"
   },
   {
    "duration": 378,
    "start_time": "2022-05-06T01:38:13.944Z"
   },
   {
    "duration": 322,
    "start_time": "2022-05-06T01:38:14.324Z"
   },
   {
    "duration": 250,
    "start_time": "2022-05-06T01:38:14.648Z"
   },
   {
    "duration": 129,
    "start_time": "2022-05-06T01:38:14.901Z"
   },
   {
    "duration": 168,
    "start_time": "2022-05-06T01:38:15.032Z"
   },
   {
    "duration": 272,
    "start_time": "2022-05-06T01:38:15.202Z"
   },
   {
    "duration": 17,
    "start_time": "2022-05-06T01:38:15.476Z"
   },
   {
    "duration": 573,
    "start_time": "2022-05-06T01:38:15.495Z"
   },
   {
    "duration": 4,
    "start_time": "2022-05-06T01:38:16.070Z"
   },
   {
    "duration": 557,
    "start_time": "2022-05-06T01:38:16.092Z"
   },
   {
    "duration": 3,
    "start_time": "2022-05-06T01:38:16.652Z"
   },
   {
    "duration": 480,
    "start_time": "2022-05-06T01:38:16.657Z"
   },
   {
    "duration": 9271,
    "start_time": "2022-05-06T01:38:17.139Z"
   },
   {
    "duration": 286,
    "start_time": "2022-05-06T01:38:26.413Z"
   },
   {
    "duration": 478,
    "start_time": "2022-05-06T01:38:26.701Z"
   },
   {
    "duration": 53,
    "start_time": "2022-05-06T01:38:27.181Z"
   },
   {
    "duration": 375,
    "start_time": "2022-05-06T01:38:27.236Z"
   },
   {
    "duration": 11,
    "start_time": "2022-05-06T01:38:27.613Z"
   },
   {
    "duration": 398,
    "start_time": "2022-05-06T01:38:27.626Z"
   },
   {
    "duration": 2043,
    "start_time": "2022-05-06T01:38:28.026Z"
   },
   {
    "duration": 410,
    "start_time": "2022-05-06T01:38:30.071Z"
   },
   {
    "duration": 1597,
    "start_time": "2022-05-06T01:38:30.483Z"
   },
   {
    "duration": 412,
    "start_time": "2022-05-06T01:38:32.082Z"
   },
   {
    "duration": 16,
    "start_time": "2022-05-06T01:38:32.496Z"
   },
   {
    "duration": 475,
    "start_time": "2022-05-06T01:38:32.515Z"
   },
   {
    "duration": 17,
    "start_time": "2022-05-06T01:38:32.993Z"
   },
   {
    "duration": 22,
    "start_time": "2022-05-06T01:38:33.013Z"
   },
   {
    "duration": 648,
    "start_time": "2022-05-06T01:38:33.040Z"
   },
   {
    "duration": 1635,
    "start_time": "2022-05-07T08:27:10.769Z"
   },
   {
    "duration": 250,
    "start_time": "2022-05-07T08:27:12.406Z"
   },
   {
    "duration": 205,
    "start_time": "2022-05-07T08:27:12.658Z"
   },
   {
    "duration": 107,
    "start_time": "2022-05-07T08:27:12.865Z"
   },
   {
    "duration": 139,
    "start_time": "2022-05-07T08:27:12.973Z"
   },
   {
    "duration": 204,
    "start_time": "2022-05-07T08:27:13.114Z"
   },
   {
    "duration": 7,
    "start_time": "2022-05-07T08:27:13.343Z"
   },
   {
    "duration": 428,
    "start_time": "2022-05-07T08:27:13.551Z"
   },
   {
    "duration": 2,
    "start_time": "2022-05-07T08:27:13.981Z"
   },
   {
    "duration": 331,
    "start_time": "2022-05-07T08:27:18.491Z"
   },
   {
    "duration": 3,
    "start_time": "2022-05-07T08:27:18.889Z"
   },
   {
    "duration": 259,
    "start_time": "2022-05-07T08:27:22.090Z"
   },
   {
    "duration": 4960,
    "start_time": "2022-05-07T08:27:22.665Z"
   },
   {
    "duration": 15,
    "start_time": "2022-05-07T08:29:27.659Z"
   },
   {
    "duration": 87,
    "start_time": "2022-05-07T08:29:36.920Z"
   },
   {
    "duration": 4,
    "start_time": "2022-05-07T08:29:42.881Z"
   },
   {
    "duration": 20,
    "start_time": "2022-05-07T08:30:57.892Z"
   },
   {
    "duration": 275,
    "start_time": "2022-05-07T08:31:12.579Z"
   },
   {
    "duration": 264,
    "start_time": "2022-05-07T08:31:12.856Z"
   },
   {
    "duration": 2148,
    "start_time": "2022-05-07T08:31:13.121Z"
   },
   {
    "duration": 114,
    "start_time": "2022-05-07T08:31:15.271Z"
   },
   {
    "duration": 171,
    "start_time": "2022-05-07T08:31:15.386Z"
   },
   {
    "duration": 178,
    "start_time": "2022-05-07T08:31:15.560Z"
   },
   {
    "duration": 5,
    "start_time": "2022-05-07T08:31:15.740Z"
   },
   {
    "duration": 411,
    "start_time": "2022-05-07T08:31:15.747Z"
   },
   {
    "duration": 2,
    "start_time": "2022-05-07T08:31:16.198Z"
   },
   {
    "duration": 382,
    "start_time": "2022-05-07T08:31:17.128Z"
   },
   {
    "duration": 2,
    "start_time": "2022-05-07T08:31:17.597Z"
   },
   {
    "duration": 372,
    "start_time": "2022-05-07T08:31:18.908Z"
   },
   {
    "duration": 13,
    "start_time": "2022-05-07T08:31:30.219Z"
   },
   {
    "duration": 13,
    "start_time": "2022-05-07T08:31:38.721Z"
   },
   {
    "duration": 21,
    "start_time": "2022-05-07T08:31:59.529Z"
   },
   {
    "duration": 328,
    "start_time": "2022-05-07T08:33:17.899Z"
   },
   {
    "duration": 320,
    "start_time": "2022-05-07T08:33:18.229Z"
   },
   {
    "duration": 199,
    "start_time": "2022-05-07T08:33:18.551Z"
   },
   {
    "duration": 117,
    "start_time": "2022-05-07T08:33:18.751Z"
   },
   {
    "duration": 156,
    "start_time": "2022-05-07T08:33:18.870Z"
   },
   {
    "duration": 185,
    "start_time": "2022-05-07T08:33:19.333Z"
   },
   {
    "duration": 6,
    "start_time": "2022-05-07T08:33:19.830Z"
   },
   {
    "duration": 506,
    "start_time": "2022-05-07T08:33:20.016Z"
   },
   {
    "duration": 2,
    "start_time": "2022-05-07T08:33:20.524Z"
   },
   {
    "duration": 347,
    "start_time": "2022-05-07T08:33:21.104Z"
   },
   {
    "duration": 2,
    "start_time": "2022-05-07T08:33:21.845Z"
   },
   {
    "duration": 252,
    "start_time": "2022-05-07T08:33:23.073Z"
   },
   {
    "duration": 5726,
    "start_time": "2022-05-07T08:33:26.902Z"
   },
   {
    "duration": 200,
    "start_time": "2022-05-07T08:33:35.637Z"
   },
   {
    "duration": 291,
    "start_time": "2022-05-07T08:33:35.994Z"
   },
   {
    "duration": 187,
    "start_time": "2022-05-07T08:34:41.593Z"
   },
   {
    "duration": 31,
    "start_time": "2022-05-07T08:34:44.534Z"
   },
   {
    "duration": 1537,
    "start_time": "2022-05-07T08:35:03.935Z"
   },
   {
    "duration": 506,
    "start_time": "2022-05-07T08:35:05.474Z"
   },
   {
    "duration": 277,
    "start_time": "2022-05-07T08:35:05.982Z"
   },
   {
    "duration": 1854,
    "start_time": "2022-05-07T08:35:06.261Z"
   },
   {
    "duration": 1148,
    "start_time": "2022-05-07T08:35:08.117Z"
   },
   {
    "duration": 193,
    "start_time": "2022-05-07T08:35:09.267Z"
   },
   {
    "duration": 5,
    "start_time": "2022-05-07T08:35:09.462Z"
   },
   {
    "duration": 397,
    "start_time": "2022-05-07T08:35:09.468Z"
   },
   {
    "duration": 2,
    "start_time": "2022-05-07T08:35:09.867Z"
   },
   {
    "duration": 374,
    "start_time": "2022-05-07T08:35:09.872Z"
   },
   {
    "duration": 2,
    "start_time": "2022-05-07T08:35:10.248Z"
   },
   {
    "duration": 254,
    "start_time": "2022-05-07T08:35:10.252Z"
   },
   {
    "duration": 5393,
    "start_time": "2022-05-07T08:35:10.508Z"
   },
   {
    "duration": 2,
    "start_time": "2022-05-07T08:35:15.903Z"
   },
   {
    "duration": 167,
    "start_time": "2022-05-07T08:35:15.907Z"
   },
   {
    "duration": 281,
    "start_time": "2022-05-07T08:35:16.076Z"
   },
   {
    "duration": 216,
    "start_time": "2022-05-07T08:35:16.386Z"
   },
   {
    "duration": 7,
    "start_time": "2022-05-07T08:35:16.603Z"
   },
   {
    "duration": 233,
    "start_time": "2022-05-07T08:35:16.611Z"
   },
   {
    "duration": 1462,
    "start_time": "2022-05-07T08:35:16.846Z"
   },
   {
    "duration": 327,
    "start_time": "2022-05-07T08:35:18.310Z"
   },
   {
    "duration": 1057,
    "start_time": "2022-05-07T08:35:18.639Z"
   },
   {
    "duration": 225,
    "start_time": "2022-05-07T08:35:19.697Z"
   },
   {
    "duration": 9,
    "start_time": "2022-05-07T08:35:19.924Z"
   },
   {
    "duration": 435,
    "start_time": "2022-05-07T08:35:19.934Z"
   },
   {
    "duration": 10,
    "start_time": "2022-05-07T08:35:20.371Z"
   },
   {
    "duration": 13,
    "start_time": "2022-05-07T08:35:20.399Z"
   },
   {
    "duration": 386,
    "start_time": "2022-05-07T08:35:20.414Z"
   },
   {
    "duration": 41,
    "start_time": "2022-05-07T08:35:20.802Z"
   },
   {
    "duration": 407,
    "start_time": "2022-05-07T08:36:05.645Z"
   },
   {
    "duration": 286,
    "start_time": "2022-05-07T08:36:06.054Z"
   },
   {
    "duration": 225,
    "start_time": "2022-05-07T08:36:06.342Z"
   },
   {
    "duration": 122,
    "start_time": "2022-05-07T08:36:06.649Z"
   },
   {
    "duration": 397,
    "start_time": "2022-05-07T08:36:06.949Z"
   },
   {
    "duration": 183,
    "start_time": "2022-05-07T08:36:07.679Z"
   },
   {
    "duration": 6,
    "start_time": "2022-05-07T08:36:08.316Z"
   },
   {
    "duration": 409,
    "start_time": "2022-05-07T08:36:08.627Z"
   },
   {
    "duration": 2,
    "start_time": "2022-05-07T08:36:09.227Z"
   },
   {
    "duration": 363,
    "start_time": "2022-05-07T08:36:10.391Z"
   },
   {
    "duration": 2,
    "start_time": "2022-05-07T08:36:11.406Z"
   },
   {
    "duration": 236,
    "start_time": "2022-05-07T08:36:12.560Z"
   },
   {
    "duration": 6445,
    "start_time": "2022-05-07T08:36:13.350Z"
   },
   {
    "duration": 3,
    "start_time": "2022-05-07T08:36:19.799Z"
   },
   {
    "duration": 153,
    "start_time": "2022-05-07T08:36:19.803Z"
   },
   {
    "duration": 280,
    "start_time": "2022-05-07T08:36:19.958Z"
   },
   {
    "duration": 27,
    "start_time": "2022-05-07T08:36:20.240Z"
   },
   {
    "duration": 197,
    "start_time": "2022-05-07T08:36:21.889Z"
   },
   {
    "duration": 210,
    "start_time": "2022-05-07T08:37:01.202Z"
   },
   {
    "duration": 31,
    "start_time": "2022-05-07T08:37:17.735Z"
   },
   {
    "duration": 210,
    "start_time": "2022-05-07T08:37:32.722Z"
   },
   {
    "duration": 230,
    "start_time": "2022-05-07T08:37:35.072Z"
   },
   {
    "duration": 312,
    "start_time": "2022-05-07T08:37:44.147Z"
   },
   {
    "duration": 198,
    "start_time": "2022-05-07T08:37:53.336Z"
   },
   {
    "duration": 7,
    "start_time": "2022-05-07T08:38:57.244Z"
   },
   {
    "duration": 98,
    "start_time": "2022-05-07T08:39:04.277Z"
   },
   {
    "duration": 16,
    "start_time": "2022-05-07T08:39:07.004Z"
   },
   {
    "duration": 23,
    "start_time": "2022-05-07T08:39:13.733Z"
   },
   {
    "duration": 467,
    "start_time": "2022-05-07T08:39:33.795Z"
   },
   {
    "duration": 9,
    "start_time": "2022-05-07T08:40:42.456Z"
   },
   {
    "duration": 591,
    "start_time": "2022-05-07T08:40:43.870Z"
   },
   {
    "duration": 367,
    "start_time": "2022-05-07T08:41:05.504Z"
   },
   {
    "duration": 351,
    "start_time": "2022-05-07T08:41:21.014Z"
   },
   {
    "duration": 362,
    "start_time": "2022-05-07T08:41:31.511Z"
   },
   {
    "duration": 9,
    "start_time": "2022-05-07T08:41:45.251Z"
   },
   {
    "duration": 382,
    "start_time": "2022-05-07T08:41:46.653Z"
   },
   {
    "duration": 11,
    "start_time": "2022-05-07T08:41:47.712Z"
   },
   {
    "duration": 10,
    "start_time": "2022-05-07T08:41:51.283Z"
   },
   {
    "duration": 376,
    "start_time": "2022-05-07T08:41:51.567Z"
   },
   {
    "duration": 181,
    "start_time": "2022-05-07T08:42:10.796Z"
   },
   {
    "duration": 10,
    "start_time": "2022-05-07T08:42:16.667Z"
   },
   {
    "duration": 315,
    "start_time": "2022-05-07T08:42:16.915Z"
   },
   {
    "duration": 2461,
    "start_time": "2022-05-08T10:17:24.480Z"
   },
   {
    "duration": 286,
    "start_time": "2022-05-08T10:17:26.953Z"
   },
   {
    "duration": 274,
    "start_time": "2022-05-08T10:17:27.242Z"
   },
   {
    "duration": 84,
    "start_time": "2022-05-08T10:17:27.519Z"
   },
   {
    "duration": 98,
    "start_time": "2022-05-08T10:17:27.605Z"
   },
   {
    "duration": 305,
    "start_time": "2022-05-08T10:17:27.706Z"
   },
   {
    "duration": 8,
    "start_time": "2022-05-08T10:17:28.014Z"
   },
   {
    "duration": 669,
    "start_time": "2022-05-08T10:17:28.025Z"
   },
   {
    "duration": 3,
    "start_time": "2022-05-08T10:17:28.696Z"
   },
   {
    "duration": 574,
    "start_time": "2022-05-08T10:17:28.703Z"
   },
   {
    "duration": 3,
    "start_time": "2022-05-08T10:17:29.279Z"
   },
   {
    "duration": 516,
    "start_time": "2022-05-08T10:17:29.284Z"
   },
   {
    "duration": 9368,
    "start_time": "2022-05-08T10:17:29.802Z"
   },
   {
    "duration": 4,
    "start_time": "2022-05-08T10:17:39.172Z"
   },
   {
    "duration": 338,
    "start_time": "2022-05-08T10:17:39.178Z"
   },
   {
    "duration": 653,
    "start_time": "2022-05-08T10:17:39.518Z"
   },
   {
    "duration": 82,
    "start_time": "2022-05-08T10:17:40.173Z"
   },
   {
    "duration": 582,
    "start_time": "2022-05-08T10:17:40.258Z"
   },
   {
    "duration": 17,
    "start_time": "2022-05-08T10:17:40.843Z"
   },
   {
    "duration": 463,
    "start_time": "2022-05-08T10:17:40.862Z"
   },
   {
    "duration": 1891,
    "start_time": "2022-05-08T10:17:41.327Z"
   },
   {
    "duration": 433,
    "start_time": "2022-05-08T10:17:43.221Z"
   },
   {
    "duration": 1536,
    "start_time": "2022-05-08T10:17:43.657Z"
   },
   {
    "duration": 413,
    "start_time": "2022-05-08T10:17:45.195Z"
   },
   {
    "duration": 12,
    "start_time": "2022-05-08T10:17:45.610Z"
   },
   {
    "duration": 928,
    "start_time": "2022-05-08T10:17:45.624Z"
   },
   {
    "duration": 18,
    "start_time": "2022-05-08T10:17:46.555Z"
   },
   {
    "duration": 689,
    "start_time": "2022-05-08T10:17:46.579Z"
   },
   {
    "duration": 22,
    "start_time": "2022-05-08T10:17:47.271Z"
   },
   {
    "duration": 14,
    "start_time": "2022-05-08T10:17:47.295Z"
   },
   {
    "duration": 563,
    "start_time": "2022-05-08T10:17:47.311Z"
   },
   {
    "duration": 9877,
    "start_time": "2022-05-08T10:23:35.794Z"
   },
   {
    "duration": 9731,
    "start_time": "2022-05-08T10:23:55.164Z"
   },
   {
    "duration": 445,
    "start_time": "2022-05-08T16:57:37.184Z"
   },
   {
    "duration": 1716,
    "start_time": "2022-05-08T16:57:42.650Z"
   },
   {
    "duration": 295,
    "start_time": "2022-05-08T16:57:44.369Z"
   },
   {
    "duration": 201,
    "start_time": "2022-05-08T16:57:44.666Z"
   },
   {
    "duration": 60,
    "start_time": "2022-05-08T16:57:44.870Z"
   },
   {
    "duration": 113,
    "start_time": "2022-05-08T16:57:44.933Z"
   },
   {
    "duration": 305,
    "start_time": "2022-05-08T16:57:45.049Z"
   },
   {
    "duration": 9,
    "start_time": "2022-05-08T16:57:45.357Z"
   },
   {
    "duration": 575,
    "start_time": "2022-05-08T16:57:45.368Z"
   },
   {
    "duration": 5,
    "start_time": "2022-05-08T16:57:45.947Z"
   },
   {
    "duration": 556,
    "start_time": "2022-05-08T16:57:45.958Z"
   },
   {
    "duration": 3,
    "start_time": "2022-05-08T16:57:46.518Z"
   },
   {
    "duration": 504,
    "start_time": "2022-05-08T16:57:46.524Z"
   },
   {
    "duration": 9196,
    "start_time": "2022-05-08T16:57:47.031Z"
   },
   {
    "duration": 4,
    "start_time": "2022-05-08T16:57:56.229Z"
   },
   {
    "duration": 308,
    "start_time": "2022-05-08T16:57:56.235Z"
   },
   {
    "duration": 514,
    "start_time": "2022-05-08T16:57:56.552Z"
   },
   {
    "duration": 52,
    "start_time": "2022-05-08T16:57:57.068Z"
   },
   {
    "duration": 439,
    "start_time": "2022-05-08T16:57:57.122Z"
   },
   {
    "duration": 10,
    "start_time": "2022-05-08T16:57:57.564Z"
   },
   {
    "duration": 469,
    "start_time": "2022-05-08T16:57:57.577Z"
   },
   {
    "duration": 1861,
    "start_time": "2022-05-08T16:57:58.052Z"
   },
   {
    "duration": 443,
    "start_time": "2022-05-08T16:57:59.915Z"
   },
   {
    "duration": 1586,
    "start_time": "2022-05-08T16:58:00.361Z"
   },
   {
    "duration": 401,
    "start_time": "2022-05-08T16:58:01.953Z"
   },
   {
    "duration": 11,
    "start_time": "2022-05-08T16:58:02.357Z"
   },
   {
    "duration": 762,
    "start_time": "2022-05-08T16:58:02.370Z"
   },
   {
    "duration": 23,
    "start_time": "2022-05-08T16:58:03.135Z"
   },
   {
    "duration": 507,
    "start_time": "2022-05-08T16:58:03.162Z"
   },
   {
    "duration": 15,
    "start_time": "2022-05-08T16:58:03.672Z"
   },
   {
    "duration": 16,
    "start_time": "2022-05-08T16:58:03.689Z"
   },
   {
    "duration": 551,
    "start_time": "2022-05-08T16:58:03.708Z"
   }
  ],
  "kernelspec": {
   "display_name": "Python 3 (ipykernel)",
   "language": "python",
   "name": "python3"
  },
  "language_info": {
   "codemirror_mode": {
    "name": "ipython",
    "version": 3
   },
   "file_extension": ".py",
   "mimetype": "text/x-python",
   "name": "python",
   "nbconvert_exporter": "python",
   "pygments_lexer": "ipython3",
   "version": "3.9.13"
  },
  "toc": {
   "base_numbering": 1,
   "nav_menu": {},
   "number_sections": true,
   "sideBar": true,
   "skip_h1_title": true,
   "title_cell": "Table of Contents",
   "title_sidebar": "Contents",
   "toc_cell": false,
   "toc_position": {},
   "toc_section_display": true,
   "toc_window_display": false
  }
 },
 "nbformat": 4,
 "nbformat_minor": 5
}
