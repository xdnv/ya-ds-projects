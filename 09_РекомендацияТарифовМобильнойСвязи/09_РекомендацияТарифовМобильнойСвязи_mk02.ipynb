{
 "cells": [
  {
   "cell_type": "markdown",
   "metadata": {},
   "source": [
    "# Рекомендация тарифов"
   ]
  },
  {
   "cell_type": "markdown",
   "metadata": {},
   "source": [
    "Заказчик: федеральный телеком-оператор.\n",
    "\n",
    "Заказчиком предоставлены данные о поведении клиентов, которые уже перешли на исследуемые тарифы.\n",
    "\n",
    "Нужно построить модель для задачи классификации, которая выберет подходящий тариф.\n",
    "\n",
    "Предобработка данных уже сделана.\n",
    "\n",
    "Цель: построить модель с максимально большим значением *accuracy* (в рамках проекта >= 0.75)."
   ]
  },
  {
   "cell_type": "markdown",
   "metadata": {},
   "source": [
    "## Описание тарифов\n",
    "\n",
    "Тариф «Смарт»\n",
    "* Ежемесячная плата: 550 рублей\n",
    "* Включено 500 минут разговора, 50 сообщений и 15 Гб интернет-трафика\n",
    "* Стоимость услуг сверх тарифного пакета: \n",
    "    *\tминута разговора: 3 рубля\n",
    "    *\tсообщение: 3 рубля\n",
    "    *\t1 Гб интернет-трафика: 200 рублей\n",
    "    \n",
    "Тариф «Ультра»\n",
    "* Ежемесячная плата: 1950 рублей\n",
    "* Включено 3000 минут разговора, 1000 сообщений и 30 Гб интернет-трафика\n",
    "* Стоимость услуг сверх тарифного пакета: \n",
    "    *\tминута разговора: 1 рубль\n",
    "    *\tсообщение: 1 рубль\n",
    "    *\t1 Гб интернет-трафика: 150 рублей\n",
    "    \n",
    "Примечание: \n",
    "* Тарифы предполагают округление секунд до минут, а мегабайтов — до гигабайт.\n",
    "* Каждый звонок округляется отдельно, даже если он длился всего 1 секунду, будет засчитан как 1 минута.\n",
    "* Для веб-трафика отдельные сессии не считаются. Вместо этого общая сумма за месяц округляется в бо́льшую сторону. Если абонент использует 1025 мегабайт в этом месяце, с него возьмут плату за 2 гигабайта."
   ]
  },
  {
   "cell_type": "markdown",
   "metadata": {},
   "source": [
    "## Описание данных\n",
    "Каждый объект в наборе данных — это информация о поведении одного пользователя за месяц. Известно:\n",
    "* сalls — количество звонков,\n",
    "* minutes — суммарная длительность звонков в минутах,\n",
    "* messages — количество sms-сообщений,\n",
    "* mb_used — израсходованный интернет-трафик в Мб,\n",
    "* is_ultra — каким тарифом пользовался в течение месяца («Ультра» — 1, «Смарт» — 0)."
   ]
  },
  {
   "cell_type": "markdown",
   "metadata": {},
   "source": [
    "## Загрузка и изучение файла"
   ]
  },
  {
   "cell_type": "code",
   "execution_count": 147,
   "metadata": {},
   "outputs": [],
   "source": [
    "# загружаем необходимые библиотеки и определяем пространства имён\n",
    "import pandas as pd\n",
    "#import math\n",
    "import seaborn as sns\n",
    "sns.set(color_codes=True)\n",
    "sns.set_style('darkgrid')\n",
    "\n",
    "import random\n",
    "\n",
    "%matplotlib inline\n",
    "import matplotlib.pyplot as plt\n",
    "#import matplotlib.ticker as plticker\n",
    "import numpy as np\n",
    "#import scipy.stats as st\n",
    "#from functools import reduce\n",
    "#idx = pd.IndexSlice\n",
    "\n",
    "# sklearn\n",
    "from sklearn.model_selection import train_test_split\n",
    "from sklearn.dummy import DummyClassifier\n",
    "from sklearn.tree import DecisionTreeClassifier\n",
    "from sklearn.ensemble import RandomForestClassifier\n",
    "from sklearn.linear_model import LogisticRegression\n",
    "from sklearn.neighbors import KNeighborsClassifier\n",
    "from sklearn.metrics import accuracy_score\n",
    "from sklearn.metrics import mean_squared_error\n",
    "\n",
    "#включим отображение всех столбцов таблиц и округлим числа до сотых\n",
    "pd.set_option('display.max_columns', None)\n",
    "#pd.options.display.float_format = '{:,.2f}'.format"
   ]
  },
  {
   "cell_type": "code",
   "execution_count": 148,
   "metadata": {},
   "outputs": [
    {
     "name": "stdout",
     "output_type": "stream",
     "text": [
      "<class 'pandas.core.frame.DataFrame'>\n",
      "RangeIndex: 3214 entries, 0 to 3213\n",
      "Data columns (total 5 columns):\n",
      " #   Column    Non-Null Count  Dtype  \n",
      "---  ------    --------------  -----  \n",
      " 0   calls     3214 non-null   float64\n",
      " 1   minutes   3214 non-null   float64\n",
      " 2   messages  3214 non-null   float64\n",
      " 3   mb_used   3214 non-null   float64\n",
      " 4   is_ultra  3214 non-null   int64  \n",
      "dtypes: float64(4), int64(1)\n",
      "memory usage: 125.7 KB\n",
      "\n",
      "Число пропусков в данных:\n",
      " calls       0\n",
      "minutes     0\n",
      "messages    0\n",
      "mb_used     0\n",
      "is_ultra    0\n",
      "dtype: int64\n"
     ]
    },
    {
     "data": {
      "text/html": [
       "<div>\n",
       "<style scoped>\n",
       "    .dataframe tbody tr th:only-of-type {\n",
       "        vertical-align: middle;\n",
       "    }\n",
       "\n",
       "    .dataframe tbody tr th {\n",
       "        vertical-align: top;\n",
       "    }\n",
       "\n",
       "    .dataframe thead th {\n",
       "        text-align: right;\n",
       "    }\n",
       "</style>\n",
       "<table border=\"1\" class=\"dataframe\">\n",
       "  <thead>\n",
       "    <tr style=\"text-align: right;\">\n",
       "      <th></th>\n",
       "      <th>calls</th>\n",
       "      <th>minutes</th>\n",
       "      <th>messages</th>\n",
       "      <th>mb_used</th>\n",
       "      <th>is_ultra</th>\n",
       "    </tr>\n",
       "  </thead>\n",
       "  <tbody>\n",
       "    <tr>\n",
       "      <th>count</th>\n",
       "      <td>3214.000000</td>\n",
       "      <td>3214.000000</td>\n",
       "      <td>3214.000000</td>\n",
       "      <td>3214.000000</td>\n",
       "      <td>3214.000000</td>\n",
       "    </tr>\n",
       "    <tr>\n",
       "      <th>mean</th>\n",
       "      <td>63.038892</td>\n",
       "      <td>438.208787</td>\n",
       "      <td>38.281269</td>\n",
       "      <td>17207.673836</td>\n",
       "      <td>0.306472</td>\n",
       "    </tr>\n",
       "    <tr>\n",
       "      <th>std</th>\n",
       "      <td>33.236368</td>\n",
       "      <td>234.569872</td>\n",
       "      <td>36.148326</td>\n",
       "      <td>7570.968246</td>\n",
       "      <td>0.461100</td>\n",
       "    </tr>\n",
       "    <tr>\n",
       "      <th>min</th>\n",
       "      <td>0.000000</td>\n",
       "      <td>0.000000</td>\n",
       "      <td>0.000000</td>\n",
       "      <td>0.000000</td>\n",
       "      <td>0.000000</td>\n",
       "    </tr>\n",
       "    <tr>\n",
       "      <th>25%</th>\n",
       "      <td>40.000000</td>\n",
       "      <td>274.575000</td>\n",
       "      <td>9.000000</td>\n",
       "      <td>12491.902500</td>\n",
       "      <td>0.000000</td>\n",
       "    </tr>\n",
       "    <tr>\n",
       "      <th>50%</th>\n",
       "      <td>62.000000</td>\n",
       "      <td>430.600000</td>\n",
       "      <td>30.000000</td>\n",
       "      <td>16943.235000</td>\n",
       "      <td>0.000000</td>\n",
       "    </tr>\n",
       "    <tr>\n",
       "      <th>75%</th>\n",
       "      <td>82.000000</td>\n",
       "      <td>571.927500</td>\n",
       "      <td>57.000000</td>\n",
       "      <td>21424.700000</td>\n",
       "      <td>1.000000</td>\n",
       "    </tr>\n",
       "    <tr>\n",
       "      <th>max</th>\n",
       "      <td>244.000000</td>\n",
       "      <td>1632.060000</td>\n",
       "      <td>224.000000</td>\n",
       "      <td>49745.730000</td>\n",
       "      <td>1.000000</td>\n",
       "    </tr>\n",
       "  </tbody>\n",
       "</table>\n",
       "</div>"
      ],
      "text/plain": [
       "             calls      minutes     messages       mb_used     is_ultra\n",
       "count  3214.000000  3214.000000  3214.000000   3214.000000  3214.000000\n",
       "mean     63.038892   438.208787    38.281269  17207.673836     0.306472\n",
       "std      33.236368   234.569872    36.148326   7570.968246     0.461100\n",
       "min       0.000000     0.000000     0.000000      0.000000     0.000000\n",
       "25%      40.000000   274.575000     9.000000  12491.902500     0.000000\n",
       "50%      62.000000   430.600000    30.000000  16943.235000     0.000000\n",
       "75%      82.000000   571.927500    57.000000  21424.700000     1.000000\n",
       "max     244.000000  1632.060000   224.000000  49745.730000     1.000000"
      ]
     },
     "metadata": {},
     "output_type": "display_data"
    },
    {
     "data": {
      "text/html": [
       "<div>\n",
       "<style scoped>\n",
       "    .dataframe tbody tr th:only-of-type {\n",
       "        vertical-align: middle;\n",
       "    }\n",
       "\n",
       "    .dataframe tbody tr th {\n",
       "        vertical-align: top;\n",
       "    }\n",
       "\n",
       "    .dataframe thead th {\n",
       "        text-align: right;\n",
       "    }\n",
       "</style>\n",
       "<table border=\"1\" class=\"dataframe\">\n",
       "  <thead>\n",
       "    <tr style=\"text-align: right;\">\n",
       "      <th></th>\n",
       "      <th>calls</th>\n",
       "      <th>minutes</th>\n",
       "      <th>messages</th>\n",
       "      <th>mb_used</th>\n",
       "      <th>is_ultra</th>\n",
       "    </tr>\n",
       "  </thead>\n",
       "  <tbody>\n",
       "    <tr>\n",
       "      <th>40</th>\n",
       "      <td>34.0</td>\n",
       "      <td>183.28</td>\n",
       "      <td>0.0</td>\n",
       "      <td>18631.66</td>\n",
       "      <td>0</td>\n",
       "    </tr>\n",
       "    <tr>\n",
       "      <th>730</th>\n",
       "      <td>36.0</td>\n",
       "      <td>259.50</td>\n",
       "      <td>8.0</td>\n",
       "      <td>7417.14</td>\n",
       "      <td>0</td>\n",
       "    </tr>\n",
       "    <tr>\n",
       "      <th>694</th>\n",
       "      <td>40.0</td>\n",
       "      <td>289.22</td>\n",
       "      <td>22.0</td>\n",
       "      <td>19352.50</td>\n",
       "      <td>1</td>\n",
       "    </tr>\n",
       "    <tr>\n",
       "      <th>3174</th>\n",
       "      <td>79.0</td>\n",
       "      <td>537.10</td>\n",
       "      <td>25.0</td>\n",
       "      <td>21223.37</td>\n",
       "      <td>0</td>\n",
       "    </tr>\n",
       "    <tr>\n",
       "      <th>184</th>\n",
       "      <td>73.0</td>\n",
       "      <td>576.62</td>\n",
       "      <td>42.0</td>\n",
       "      <td>7865.58</td>\n",
       "      <td>0</td>\n",
       "    </tr>\n",
       "    <tr>\n",
       "      <th>1431</th>\n",
       "      <td>43.0</td>\n",
       "      <td>314.37</td>\n",
       "      <td>43.0</td>\n",
       "      <td>10015.52</td>\n",
       "      <td>1</td>\n",
       "    </tr>\n",
       "    <tr>\n",
       "      <th>197</th>\n",
       "      <td>12.0</td>\n",
       "      <td>107.25</td>\n",
       "      <td>5.0</td>\n",
       "      <td>2016.72</td>\n",
       "      <td>0</td>\n",
       "    </tr>\n",
       "    <tr>\n",
       "      <th>2876</th>\n",
       "      <td>59.0</td>\n",
       "      <td>388.81</td>\n",
       "      <td>27.0</td>\n",
       "      <td>19021.86</td>\n",
       "      <td>1</td>\n",
       "    </tr>\n",
       "    <tr>\n",
       "      <th>2838</th>\n",
       "      <td>41.0</td>\n",
       "      <td>276.03</td>\n",
       "      <td>72.0</td>\n",
       "      <td>2621.83</td>\n",
       "      <td>1</td>\n",
       "    </tr>\n",
       "    <tr>\n",
       "      <th>215</th>\n",
       "      <td>35.0</td>\n",
       "      <td>267.67</td>\n",
       "      <td>25.0</td>\n",
       "      <td>18231.83</td>\n",
       "      <td>0</td>\n",
       "    </tr>\n",
       "  </tbody>\n",
       "</table>\n",
       "</div>"
      ],
      "text/plain": [
       "      calls  minutes  messages   mb_used  is_ultra\n",
       "40     34.0   183.28       0.0  18631.66         0\n",
       "730    36.0   259.50       8.0   7417.14         0\n",
       "694    40.0   289.22      22.0  19352.50         1\n",
       "3174   79.0   537.10      25.0  21223.37         0\n",
       "184    73.0   576.62      42.0   7865.58         0\n",
       "1431   43.0   314.37      43.0  10015.52         1\n",
       "197    12.0   107.25       5.0   2016.72         0\n",
       "2876   59.0   388.81      27.0  19021.86         1\n",
       "2838   41.0   276.03      72.0   2621.83         1\n",
       "215    35.0   267.67      25.0  18231.83         0"
      ]
     },
     "metadata": {},
     "output_type": "display_data"
    },
    {
     "name": "stdout",
     "output_type": "stream",
     "text": [
      "\n",
      "Проверка сбалансированности таргетов:\n",
      " 0    2229\n",
      "1     985\n",
      "Name: is_ultra, dtype: int64\n"
     ]
    }
   ],
   "source": [
    "# загружаем файл с данными\n",
    "try:\n",
    "    df = pd.read_csv('datasets/data_09/users_behavior.csv') # locally hosted datafile ## , sep='\\t'\n",
    "except:\n",
    "    df = pd.read_csv('/datasets/users_behavior.csv') # Yandex-hosted datafile  ## , sep='\\t'\n",
    "\n",
    "# общий анализ структуры и состава загруженного файла\n",
    "df.info()\n",
    "print(\"\\nЧисло пропусков в данных:\\n\", df.isna().sum())\n",
    "display(df.describe())\n",
    "display(df.sample(10))\n",
    "\n",
    "print('\\nПроверка сбалансированности таргетов:\\n',df['is_ultra'].value_counts())"
   ]
  },
  {
   "cell_type": "markdown",
   "metadata": {},
   "source": [
    "## Выводы по шагу 1\n",
    "\n",
    "<div class=\"alert alert-block alert-info\">\n",
    "    <b class=\"alert-heading\"></b>\n",
    "</div>\n",
    "\n",
    "* Имена колонок не требуют вмешательств\n",
    "* Пропусков в данных нет\n",
    "* Число звонков и сообщений можно преобразовать в целые числа, при явной необходимости это будет сделано\n",
    "* Исходя из описания задачи допустим, что дублей в строках нет"
   ]
  },
  {
   "cell_type": "markdown",
   "metadata": {},
   "source": [
    "## Получение выборок для обучения модели"
   ]
  },
  {
   "cell_type": "code",
   "execution_count": 149,
   "metadata": {},
   "outputs": [
    {
     "name": "stdout",
     "output_type": "stream",
     "text": [
      "Размер обучающей выборки (объектов): 1928\n",
      "Размер валидационной выборки (объектов): 643\n",
      "Размер тестовой выборки (объектов): 643\n",
      "Размер объединённой тестовой выборки (объектов): 1286\n",
      "\n",
      "Проверка сбалансированности таргетов:\n",
      "df_train:\n",
      " 0    1337\n",
      "1     591\n",
      "Name: is_ultra, dtype: int64\n",
      "df_valid:\n",
      " 0    446\n",
      "1    197\n",
      "Name: is_ultra, dtype: int64\n",
      "df_test:\n",
      " 0    446\n",
      "1    197\n",
      "Name: is_ultra, dtype: int64\n",
      "df_combined:\n",
      " 0    892\n",
      "1    394\n",
      "Name: is_ultra, dtype: int64\n"
     ]
    }
   ],
   "source": [
    "#Разделяем датасет на стандартный набор выборок\n",
    "###df_train, df_valid = train_test_split(df, test_size=0.25, random_state=12345)\n",
    "###df_valid, df_test = train_test_split(df_valid, test_size=0.5, random_state=12345)\n",
    "\n",
    "# правки v1\n",
    "# df_combined будет использоваться в обучении модели для проверки адекватности\n",
    "df_train, df_combined = train_test_split(df, test_size=0.4, random_state=12345, stratify=df[['is_ultra']])\n",
    "df_valid, df_test = train_test_split(df_combined, test_size=0.5, random_state=12345, stratify=df_combined[['is_ultra']])\n",
    "\n",
    "print('Размер обучающей выборки (объектов):', df_train.shape[0])\n",
    "print('Размер валидационной выборки (объектов):', df_valid.shape[0])\n",
    "print('Размер тестовой выборки (объектов):',df_test.shape[0])\n",
    "print('Размер объединённой тестовой выборки (объектов):',df_combined.shape[0])\n",
    "\n",
    "print('\\nПроверка сбалансированности таргетов:')\n",
    "print('df_train:\\n', df_train['is_ultra'].value_counts())\n",
    "print('df_valid:\\n', df_valid['is_ultra'].value_counts())\n",
    "print('df_test:\\n', df_test['is_ultra'].value_counts())\n",
    "print('df_combined:\\n', df_combined['is_ultra'].value_counts())"
   ]
  },
  {
   "cell_type": "markdown",
   "metadata": {},
   "source": [
    "## Выводы по шагу 2\n",
    "\n",
    "<div class=\"alert alert-block alert-info\">\n",
    "    <b class=\"alert-heading\"></b>\n",
    "</div>\n",
    "\n",
    "* Данные разбиты на три выборки: обучающую, валидационную и тестовую"
   ]
  },
  {
   "cell_type": "markdown",
   "metadata": {},
   "source": [
    "## Исследование различных моделей"
   ]
  },
  {
   "cell_type": "code",
   "execution_count": 150,
   "metadata": {},
   "outputs": [],
   "source": [
    "#Создадим стандартный набор параметров модели\n",
    "features = df.drop(['is_ultra'], axis=1)\n",
    "target = df['is_ultra']\n",
    "\n",
    "#Выборка для валидации\n",
    "features_valid = df_valid.drop(['is_ultra'], axis=1)\n",
    "target_valid = df_valid['is_ultra']\n",
    "\n",
    "#Выборка для валидации - расширенная\n",
    "features_combined = df_combined.drop(['is_ultra'], axis=1)\n",
    "target_combined = df_combined['is_ultra']\n",
    "\n",
    "#Обучающая выборка\n",
    "features_train = df_train.drop(['is_ultra'], axis=1)\n",
    "target_train = df_train['is_ultra']\n",
    "\n",
    "#Тестовая выборка\n",
    "features_test = df_test.drop(['is_ultra'], axis=1)\n",
    "target_test = df_test['is_ultra']"
   ]
  },
  {
   "cell_type": "markdown",
   "metadata": {},
   "source": [
    "### Модель логистической регрессии"
   ]
  },
  {
   "cell_type": "code",
   "execution_count": 151,
   "metadata": {},
   "outputs": [
    {
     "name": "stdout",
     "output_type": "stream",
     "text": [
      "accuracy:[ 0.7387247278382582 ]\n",
      "accuracy:[ 0.71850699844479 ]\n",
      "accuracy:[ 0.7122861586314152 ]\n",
      "accuracy:[ 0.7107309486780715 ]\n",
      "\n",
      "\n"
     ]
    },
    {
     "data": {
      "image/png": "[encoded data removed]",
      "text/plain": [
       "<Figure size 1152x576 with 1 Axes>"
      ]
     },
     "metadata": {
      "needs_background": "light"
     },
     "output_type": "display_data"
    },
    {
     "name": "stdout",
     "output_type": "stream",
     "text": [
      "\n",
      "\n",
      "\n"
     ]
    }
   ],
   "source": [
    "#Исследуем обучение модели без гиперпараметров :)\n",
    "lr_accuracy = {}\n",
    "lr_predictions = {}\n",
    "lr_solvers = ['newton-cg', 'lbfgs', 'liblinear', 'sag', 'saga']\n",
    "#list(dict.keys()) list(dict.values())  #end=''\n",
    "\n",
    "plt.figure(figsize=(16, 8))\n",
    "\n",
    "for solver in range(1,len(lr_solvers)):\n",
    "    model = LogisticRegression(random_state=12345, solver=lr_solvers[solver], max_iter=4000)\n",
    "    model.fit(features_train, target_train)\n",
    "    predictions = model.predict(features_valid)\n",
    "    score = accuracy_score(target_valid, predictions)\n",
    "    lr_accuracy[lr_solvers[solver]] = score\n",
    "    lr_predictions[lr_solvers[solver]] = predictions\n",
    "    print('accuracy:[', score, ']')\n",
    "\n",
    "print('\\n')\n",
    "sns.lineplot(data=pd.DataFrame(data=list(lr_accuracy.values()), index=list(lr_accuracy.keys())), markers=True)\n",
    "plt.legend('')\n",
    "plt.title(\"Качество модели логистической регрессии\", fontsize=15) \n",
    "plt.ylabel(\"Качество (accuracy)\") \n",
    "plt.xlabel(\"Алгоритмы решения\")\n",
    "plt.show()\n",
    "print('\\n\\n')"
   ]
  },
  {
   "cell_type": "markdown",
   "metadata": {},
   "source": [
    "### Модель \"Дерево решений\""
   ]
  },
  {
   "cell_type": "code",
   "execution_count": 152,
   "metadata": {},
   "outputs": [
    {
     "name": "stdout",
     "output_type": "stream",
     "text": [
      "depth: [ 1 ]\taccuracy:[ 0.7402799377916018 ]\n",
      "depth: [ 2 ]\taccuracy:[ 0.7729393468118196 ]\n",
      "depth: [ 3 ]\taccuracy:[ 0.7776049766718507 ]\n",
      "depth: [ 4 ]\taccuracy:[ 0.7542768273716952 ]\n",
      "depth: [ 5 ]\taccuracy:[ 0.7853810264385692 ]\n",
      "depth: [ 6 ]\taccuracy:[ 0.7744945567651633 ]\n",
      "depth: [ 7 ]\taccuracy:[ 0.7869362363919129 ]\n",
      "depth: [ 8 ]\taccuracy:[ 0.80248833592535 ]\n",
      "depth: [ 9 ]\taccuracy:[ 0.7822706065318819 ]\n",
      "\n",
      "\n"
     ]
    },
    {
     "data": {
      "image/png": "[encoded data removed]",
      "text/plain": [
       "<Figure size 1152x576 with 1 Axes>"
      ]
     },
     "metadata": {
      "needs_background": "light"
     },
     "output_type": "display_data"
    },
    {
     "name": "stdout",
     "output_type": "stream",
     "text": [
      "\n",
      "\n",
      "\n"
     ]
    }
   ],
   "source": [
    "#Исследуем обучение модели с разными гиперпараметрами\n",
    "dtc_accuracy = {}\n",
    "dtc_predictions = {}\n",
    "\n",
    "plt.figure(figsize=(16, 8))\n",
    "\n",
    "for depth in range(1,10):\n",
    "    model = DecisionTreeClassifier(random_state=12345, max_depth=depth)\n",
    "    model.fit(features_train, target_train)\n",
    "    predictions = model.predict(features_valid)\n",
    "    score = accuracy_score(target_valid, predictions)\n",
    "    dtc_accuracy[depth] = score\n",
    "    dtc_predictions[depth] = predictions\n",
    "    print('depth: [', depth, ']\\taccuracy:[', score, ']')\n",
    "\n",
    "print('\\n')\n",
    "sns.lineplot(data=pd.DataFrame(data=list(dtc_accuracy.values()), index=list(dtc_accuracy.keys())),dashes=False, markers=True)\n",
    "plt.legend('')\n",
    "plt.title(\"Качество модели для разной максимальной глубины обученного дерева\", fontsize=15) \n",
    "plt.ylabel(\"Качество (accuracy)\") \n",
    "plt.xlabel(\"Глубина обученного дерева\")\n",
    "plt.show()\n",
    "print('\\n\\n')"
   ]
  },
  {
   "cell_type": "markdown",
   "metadata": {},
   "source": [
    "### Модель \"Случайный лес\""
   ]
  },
  {
   "cell_type": "code",
   "execution_count": 153,
   "metadata": {
    "scrolled": true
   },
   "outputs": [
    {
     "name": "stdout",
     "output_type": "stream",
     "text": [
      "estimator: [ 10 ]\taccuracy:[ 0.7869362363919129 ]\n",
      "estimator: [ 15 ]\taccuracy:[ 0.7884914463452566 ]\n",
      "estimator: [ 20 ]\taccuracy:[ 0.7916018662519441 ]\n",
      "estimator: [ 25 ]\taccuracy:[ 0.7947122861586314 ]\n",
      "estimator: [ 30 ]\taccuracy:[ 0.7931570762052877 ]\n",
      "estimator: [ 35 ]\taccuracy:[ 0.7931570762052877 ]\n",
      "estimator: [ 40 ]\taccuracy:[ 0.7931570762052877 ]\n",
      "estimator: [ 45 ]\taccuracy:[ 0.8009331259720062 ]\n",
      "estimator: [ 50 ]\taccuracy:[ 0.8055987558320373 ]\n",
      "estimator: [ 55 ]\taccuracy:[ 0.8009331259720062 ]\n",
      "estimator: [ 60 ]\taccuracy:[ 0.8102643856920684 ]\n",
      "estimator: [ 65 ]\taccuracy:[ 0.8055987558320373 ]\n",
      "estimator: [ 70 ]\taccuracy:[ 0.8009331259720062 ]\n",
      "\n",
      "\n"
     ]
    },
    {
     "data": {
      "image/png": "[encoded data removed]",
      "text/plain": [
       "<Figure size 1152x576 with 1 Axes>"
      ]
     },
     "metadata": {
      "needs_background": "light"
     },
     "output_type": "display_data"
    }
   ],
   "source": [
    "#Исследуем обучение модели с разными гиперпараметрами\n",
    "rfc_accuracy = {}\n",
    "rfc_predictions = {}\n",
    "\n",
    "plt.figure(figsize=(16, 8))\n",
    "\n",
    "for estimator in range(10,71,5):\n",
    "    model = RandomForestClassifier(random_state=12345, n_estimators=estimator)\n",
    "    model.fit(features_train, target_train)\n",
    "    predictions = model.predict(features_valid)\n",
    "    score = accuracy_score(target_valid, predictions)\n",
    "    rfc_accuracy[estimator] = score\n",
    "    rfc_predictions[estimator] = predictions\n",
    "    print('estimator: [', estimator, ']\\taccuracy:[', score, ']')\n",
    "\n",
    "print('\\n')\n",
    "sns.lineplot(data=pd.DataFrame(data=list(rfc_accuracy.values()), index=list(rfc_accuracy.keys())),dashes=False, markers=True)\n",
    "plt.legend('')\n",
    "plt.title(\"Качество модели для разного количества деревьев\", fontsize=15) \n",
    "plt.ylabel(\"Качество (accuracy)\") \n",
    "plt.xlabel(\"Количество деревьев\")\n",
    "plt.show()"
   ]
  },
  {
   "cell_type": "markdown",
   "metadata": {},
   "source": [
    "### Модель \"Ближайших соседей\""
   ]
  },
  {
   "cell_type": "code",
   "execution_count": 154,
   "metadata": {},
   "outputs": [
    {
     "name": "stdout",
     "output_type": "stream",
     "text": [
      "neighbours: [ 1 ]\taccuracy:[ 0.7045101088646968 ]\n",
      "neighbours: [ 4 ]\taccuracy:[ 0.7511664074650077 ]\n",
      "neighbours: [ 7 ]\taccuracy:[ 0.776049766718507 ]\n",
      "neighbours: [ 10 ]\taccuracy:[ 0.7636080870917574 ]\n",
      "neighbours: [ 13 ]\taccuracy:[ 0.744945567651633 ]\n",
      "neighbours: [ 16 ]\taccuracy:[ 0.7480559875583204 ]\n",
      "neighbours: [ 19 ]\taccuracy:[ 0.7527216174183515 ]\n",
      "neighbours: [ 22 ]\taccuracy:[ 0.7465007776049767 ]\n",
      "neighbours: [ 25 ]\taccuracy:[ 0.7402799377916018 ]\n",
      "\n",
      "\n"
     ]
    },
    {
     "data": {
      "image/png": "[encoded data removed]",
      "text/plain": [
       "<Figure size 1152x576 with 1 Axes>"
      ]
     },
     "metadata": {
      "needs_background": "light"
     },
     "output_type": "display_data"
    },
    {
     "name": "stdout",
     "output_type": "stream",
     "text": [
      "\n",
      "\n",
      "\n"
     ]
    }
   ],
   "source": [
    "#Исследуем обучение модели с разными гиперпараметрами\n",
    "knc_accuracy = {}\n",
    "knc_predictions = {}\n",
    "\n",
    "plt.figure(figsize=(16, 8))\n",
    "\n",
    "for neighbours in range(1,28,3):\n",
    "    model = KNeighborsClassifier(n_neighbors=neighbours)\n",
    "    model.fit(features_train, target_train)\n",
    "    predictions = model.predict(features_valid)\n",
    "    score = accuracy_score(target_valid, predictions)\n",
    "    knc_accuracy[neighbours] = score\n",
    "    knc_predictions[neighbours] = predictions\n",
    "    print('neighbours: [', neighbours, ']\\taccuracy:[', score, ']')\n",
    "\n",
    "print('\\n')\n",
    "sns.lineplot(data=pd.DataFrame(data=list(knc_accuracy.values()), index=list(knc_accuracy.keys())),dashes=False, markers=True)\n",
    "plt.legend('')\n",
    "plt.title(\"Качество модели для разного количества соседей\", fontsize=15) \n",
    "plt.ylabel(\"Качество (accuracy)\") \n",
    "plt.xlabel(\"Количество соседей\")\n",
    "plt.show()\n",
    "print('\\n\\n')"
   ]
  },
  {
   "cell_type": "markdown",
   "metadata": {},
   "source": [
    "### Выбор модели с лучшим качеством"
   ]
  },
  {
   "cell_type": "code",
   "execution_count": 155,
   "metadata": {},
   "outputs": [
    {
     "data": {
      "text/html": [
       "<div>\n",
       "<style scoped>\n",
       "    .dataframe tbody tr th:only-of-type {\n",
       "        vertical-align: middle;\n",
       "    }\n",
       "\n",
       "    .dataframe tbody tr th {\n",
       "        vertical-align: top;\n",
       "    }\n",
       "\n",
       "    .dataframe thead th {\n",
       "        text-align: right;\n",
       "    }\n",
       "</style>\n",
       "<table border=\"1\" class=\"dataframe\">\n",
       "  <thead>\n",
       "    <tr style=\"text-align: right;\">\n",
       "      <th></th>\n",
       "      <th>DecisionTreeClassifier</th>\n",
       "      <th>RandomForestClassifier</th>\n",
       "      <th>KNeighborsClassifier</th>\n",
       "      <th>LogisticRegression</th>\n",
       "    </tr>\n",
       "  </thead>\n",
       "  <tbody>\n",
       "    <tr>\n",
       "      <th>0</th>\n",
       "      <td>0.740280</td>\n",
       "      <td>0.786936</td>\n",
       "      <td>0.704510</td>\n",
       "      <td>0.738725</td>\n",
       "    </tr>\n",
       "    <tr>\n",
       "      <th>1</th>\n",
       "      <td>0.772939</td>\n",
       "      <td>0.788491</td>\n",
       "      <td>0.751166</td>\n",
       "      <td>0.718507</td>\n",
       "    </tr>\n",
       "    <tr>\n",
       "      <th>2</th>\n",
       "      <td>0.777605</td>\n",
       "      <td>0.791602</td>\n",
       "      <td>0.776050</td>\n",
       "      <td>0.712286</td>\n",
       "    </tr>\n",
       "    <tr>\n",
       "      <th>3</th>\n",
       "      <td>0.754277</td>\n",
       "      <td>0.794712</td>\n",
       "      <td>0.763608</td>\n",
       "      <td>0.710731</td>\n",
       "    </tr>\n",
       "    <tr>\n",
       "      <th>4</th>\n",
       "      <td>0.785381</td>\n",
       "      <td>0.793157</td>\n",
       "      <td>0.744946</td>\n",
       "      <td>NaN</td>\n",
       "    </tr>\n",
       "    <tr>\n",
       "      <th>5</th>\n",
       "      <td>0.774495</td>\n",
       "      <td>0.793157</td>\n",
       "      <td>0.748056</td>\n",
       "      <td>NaN</td>\n",
       "    </tr>\n",
       "    <tr>\n",
       "      <th>6</th>\n",
       "      <td>0.786936</td>\n",
       "      <td>0.793157</td>\n",
       "      <td>0.752722</td>\n",
       "      <td>NaN</td>\n",
       "    </tr>\n",
       "    <tr>\n",
       "      <th>7</th>\n",
       "      <td>0.802488</td>\n",
       "      <td>0.800933</td>\n",
       "      <td>0.746501</td>\n",
       "      <td>NaN</td>\n",
       "    </tr>\n",
       "    <tr>\n",
       "      <th>8</th>\n",
       "      <td>0.782271</td>\n",
       "      <td>0.805599</td>\n",
       "      <td>0.740280</td>\n",
       "      <td>NaN</td>\n",
       "    </tr>\n",
       "    <tr>\n",
       "      <th>9</th>\n",
       "      <td>NaN</td>\n",
       "      <td>0.800933</td>\n",
       "      <td>NaN</td>\n",
       "      <td>NaN</td>\n",
       "    </tr>\n",
       "    <tr>\n",
       "      <th>10</th>\n",
       "      <td>NaN</td>\n",
       "      <td>0.810264</td>\n",
       "      <td>NaN</td>\n",
       "      <td>NaN</td>\n",
       "    </tr>\n",
       "    <tr>\n",
       "      <th>11</th>\n",
       "      <td>NaN</td>\n",
       "      <td>0.805599</td>\n",
       "      <td>NaN</td>\n",
       "      <td>NaN</td>\n",
       "    </tr>\n",
       "    <tr>\n",
       "      <th>12</th>\n",
       "      <td>NaN</td>\n",
       "      <td>0.800933</td>\n",
       "      <td>NaN</td>\n",
       "      <td>NaN</td>\n",
       "    </tr>\n",
       "  </tbody>\n",
       "</table>\n",
       "</div>"
      ],
      "text/plain": [
       "    DecisionTreeClassifier  RandomForestClassifier  KNeighborsClassifier  \\\n",
       "0                 0.740280                0.786936              0.704510   \n",
       "1                 0.772939                0.788491              0.751166   \n",
       "2                 0.777605                0.791602              0.776050   \n",
       "3                 0.754277                0.794712              0.763608   \n",
       "4                 0.785381                0.793157              0.744946   \n",
       "5                 0.774495                0.793157              0.748056   \n",
       "6                 0.786936                0.793157              0.752722   \n",
       "7                 0.802488                0.800933              0.746501   \n",
       "8                 0.782271                0.805599              0.740280   \n",
       "9                      NaN                0.800933                   NaN   \n",
       "10                     NaN                0.810264                   NaN   \n",
       "11                     NaN                0.805599                   NaN   \n",
       "12                     NaN                0.800933                   NaN   \n",
       "\n",
       "    LogisticRegression  \n",
       "0             0.738725  \n",
       "1             0.718507  \n",
       "2             0.712286  \n",
       "3             0.710731  \n",
       "4                  NaN  \n",
       "5                  NaN  \n",
       "6                  NaN  \n",
       "7                  NaN  \n",
       "8                  NaN  \n",
       "9                  NaN  \n",
       "10                 NaN  \n",
       "11                 NaN  \n",
       "12                 NaN  "
      ]
     },
     "metadata": {},
     "output_type": "display_data"
    },
    {
     "name": "stdout",
     "output_type": "stream",
     "text": [
      "<class 'pandas.core.frame.DataFrame'>\n",
      "Int64Index: 13 entries, 0 to 12\n",
      "Data columns (total 4 columns):\n",
      " #   Column                  Non-Null Count  Dtype  \n",
      "---  ------                  --------------  -----  \n",
      " 0   DecisionTreeClassifier  9 non-null      float64\n",
      " 1   RandomForestClassifier  13 non-null     float64\n",
      " 2   KNeighborsClassifier    9 non-null      float64\n",
      " 3   LogisticRegression      4 non-null      float64\n",
      "dtypes: float64(4)\n",
      "memory usage: 520.0 bytes\n"
     ]
    }
   ],
   "source": [
    "#Создадим таблицу качества всех изученных моделей\n",
    "models = ['DecisionTreeClassifier','RandomForestClassifier','KNeighborsClassifier', 'LogisticRegression']\n",
    "\n",
    "rfc_values = list(rfc_accuracy.values())\n",
    "dtc_values = list(dtc_accuracy.values())\n",
    "knc_values = list(knc_accuracy.values())\n",
    "lr_values = list(lr_accuracy.values())\n",
    "\n",
    "max_len = max(len(rfc_values), len(dtc_values), len(knc_values), len(lr_values))\n",
    "\n",
    "model_quality = pd.DataFrame(columns=models, index=np.arange(max_len))\n",
    "#model_quality.info()\n",
    "#model_quality = pd.DataFrame(columns=models)\n",
    "\n",
    "model_quality['DecisionTreeClassifier'][:len(dtc_values)] = dtc_values\n",
    "model_quality['KNeighborsClassifier'][:len(knc_values)] = knc_values\n",
    "model_quality['LogisticRegression'][:len(lr_values)] = lr_values\n",
    "model_quality['RandomForestClassifier'][:len(rfc_values)] = rfc_values\n",
    "\n",
    "#строки - запретить!\n",
    "model_quality = model_quality.astype('float64')\n",
    "\n",
    "display(model_quality)\n",
    "model_quality.info()"
   ]
  },
  {
   "cell_type": "code",
   "execution_count": 156,
   "metadata": {},
   "outputs": [
    {
     "data": {
      "text/plain": [
       "<AxesSubplot:title={'center':'Сравнение моделей по качеству'}, ylabel='Качество'>"
      ]
     },
     "execution_count": 156,
     "metadata": {},
     "output_type": "execute_result"
    },
    {
     "data": {
      "image/png": "[encoded data removed]",
      "text/plain": [
       "<Figure size 1152x576 with 1 Axes>"
      ]
     },
     "metadata": {
      "needs_background": "light"
     },
     "output_type": "display_data"
    }
   ],
   "source": [
    "#Отразим качество моделей на графике\n",
    "plt.figure(figsize=(16,8))\n",
    "\n",
    "plt.title('Сравнение моделей по качеству', fontsize=15)\n",
    "plt.xlabel('')\n",
    "plt.ylabel('Качество')\n",
    "sns.lineplot(data=model_quality, dashes=False, markers=True)"
   ]
  },
  {
   "cell_type": "markdown",
   "metadata": {},
   "source": [
    "## Выводы по шагу 3\n",
    "\n",
    "<div class=\"alert alert-block alert-info\">\n",
    "    <b class=\"alert-heading\"></b>\n",
    "</div>\n",
    "\n",
    "* Исследованы четыре модели: \n",
    "    * логистической регрессии,\n",
    "    * \"Дерева решений\",\n",
    "    * \"случайного леса\",\n",
    "    * \"Ближайших соседей\".\n",
    "* Максимальное качество моделей:\n",
    "    * логистическая регрессия в данном задании обладает слабой предсказательной ценностью. Максимальное качество (0.7387247278382582) даёт солвер 'newton-cg'.\n",
    "    * \"Дерево решений\" при глубине 8 даёт качество 0.80248833592535\n",
    "    * \"Случайный лес\" при числе деревьев 60 даёт качество 0.8102643856920684\n",
    "    * Метод \"Ближайших соседей\" при их числе равном 7 даёт качество neighbours: 0.776049766718507\n",
    "* Таким образом, по качеству лидирует модель \"Случайного леса\" с 60 деревьями решений"
   ]
  },
  {
   "cell_type": "markdown",
   "metadata": {},
   "source": [
    "## Проверка моделей с оптимальными гиперпараметрами на тестовой выборке"
   ]
  },
  {
   "cell_type": "code",
   "execution_count": 157,
   "metadata": {},
   "outputs": [
    {
     "name": "stdout",
     "output_type": "stream",
     "text": [
      "Качество модели при числе деревьев 60: 0.7978227060653188\n",
      "Качество модели при числе деревьев 50: 0.8040435458786936\n",
      "Качество модели по объединённым выборкам (50): 0.8040435458786936\n",
      "Качество модели по объединённым выборкам (60): 0.8040435458786936\n"
     ]
    }
   ],
   "source": [
    "#Проверим модель \"случайного леса\" на тестовой выборке при 50 деревьях\n",
    "model = RandomForestClassifier(random_state=12345, n_estimators=60)\n",
    "model.fit(features_train, target_train)\n",
    "predictions = model.predict(features_test)\n",
    "score = accuracy_score(target_test, predictions)\n",
    "print('Качество модели при числе деревьев 60:', score)\n",
    "\n",
    "model = RandomForestClassifier(random_state=12345, n_estimators=50)\n",
    "model.fit(features_train, target_train)\n",
    "predictions = model.predict(features_test)\n",
    "score = accuracy_score(target_test, predictions)\n",
    "print('Качество модели при числе деревьев 50:', score)\n",
    "\n",
    "# v1 - обучение модели на тренировочной + валидационной выборке\n",
    "model_combined = RandomForestClassifier(random_state=12345, n_estimators=50)\n",
    "model_combined.fit(features_combined, target_combined)\n",
    "predictions_ext = model_combined.predict(features_test)\n",
    "score_ext = accuracy_score(target_test, predictions)\n",
    "print('Качество модели по объединённым выборкам (50):', score_ext)\n",
    "\n",
    "# v1 - обучение модели на тренировочной + валидационной выборке\n",
    "model_combined = RandomForestClassifier(random_state=12345, n_estimators=60)\n",
    "model_combined.fit(features_combined, target_combined)\n",
    "predictions_ext = model_combined.predict(features_test)\n",
    "score_ext = accuracy_score(target_test, predictions)\n",
    "print('Качество модели по объединённым выборкам (60):', score_ext)"
   ]
  },
  {
   "cell_type": "markdown",
   "metadata": {},
   "source": [
    "## Выводы по шагу 4\n",
    "\n",
    "<div class=\"alert alert-block alert-info\">\n",
    "    <b class=\"alert-heading\"></b>\n",
    "</div>\n",
    "\n",
    "* Показатель качества выбранной модели \"случайного леса\" при 60 деревьях превышает пороговый показатель 0.75, задание можно считать выполненным успешно"
   ]
  },
  {
   "cell_type": "markdown",
   "metadata": {},
   "source": [
    "## Проверка модели на адекватность"
   ]
  },
  {
   "cell_type": "code",
   "execution_count": 158,
   "metadata": {
    "tags": []
   },
   "outputs": [
    {
     "name": "stdout",
     "output_type": "stream",
     "text": [
      "Accuracy Dummy-модели на тестовой выборке: 0.6936236391912908\n",
      "Accuracy списка из нулей на тестовой выборке: 0.6936236391912908\n",
      "Accuracy списка из единиц на тестовой выборке: 0.30637636080870917\n",
      "Accuracy списка случайных значений на тестовой выборке: 0.5085536547433903\n"
     ]
    }
   ],
   "source": [
    "dummy = DummyClassifier(strategy='most_frequent', random_state=12345).fit(features_train, target_train)\n",
    "print('Accuracy Dummy-модели на тестовой выборке:', dummy.score(features_test, target_test))\n",
    "\n",
    "dummy_zeroes = [0 for count in range(len(target_test))]\n",
    "dz_accuracy = accuracy_score(target_test, dummy_zeroes)\n",
    "print('Accuracy списка из нулей на тестовой выборке:', dz_accuracy)\n",
    "\n",
    "dummy_ones = [1 for count in range(len(target_test))]\n",
    "do_accuracy = accuracy_score(target_test, dummy_ones)\n",
    "print('Accuracy списка из единиц на тестовой выборке:', do_accuracy)\n",
    "\n",
    "dummy_random = [random.randint(0,1) for count in range(len(target_test))]\n",
    "dr_accuracy = accuracy_score(target_test, dummy_random)\n",
    "print('Accuracy списка случайных значений на тестовой выборке:', dr_accuracy)"
   ]
  },
  {
   "cell_type": "markdown",
   "metadata": {},
   "source": [
    "## Выводы по шагу 5\n",
    "\n",
    "<div class=\"alert alert-block alert-info\">\n",
    "    <b class=\"alert-heading\"></b>\n",
    "</div>\n",
    "\n",
    "* показатель качества выбранной модели равен 0.8040435458786936 против Dummy-модели с 0.6936236391912908.\n",
    "* можно считать, что выбранная модель адекватна и отличается от случайных / наиболее частых данных в тестовой выборке."
   ]
  },
  {
   "cell_type": "markdown",
   "metadata": {},
   "source": [
    "## Общий вывод\n",
    "\n",
    "<div class=\"alert alert-block alert-info\">\n",
    "    <b class=\"alert-heading\"></b>\n",
    "</div>\n",
    "\n",
    "* Предобработка данных не требуется\n",
    "* Данные разбиты на три выборки: обучающую, валидационную и тестовую\n",
    "* В данных наблюдается преобладание таргетов со значением 0 в соотношении 2:1\n",
    "* Исследованы четыре модели, их максимальное качество:\n",
    "    * логистическая регрессия в данном задании обладает слабой предсказательной ценностью. Максимальное качество (0.7387247278382582) даёт солвер 'newton-cg'.\n",
    "    * \"Дерево решений\" при глубине 8 даёт качество 0.80248833592535\n",
    "    * \"Случайный лес\" при числе деревьев 60 даёт качество 0.8102643856920684\n",
    "    * Метод \"Ближайших соседей\" при их числе равном 7 даёт качество neighbours: 0.776049766718507\n",
    "* Таким образом, по качеству лидирует модель \"Случайного леса\" с 60 деревьями решений\n",
    "* По показателю качества лидирует модель \"Случайного леса\" с 60 деревьями решений\n",
    "* Показатель выбраннйо модели превышает пороговый показатель 0.75, задание выполнено\n",
    "* Адекватность выбранной модели проверена с помощью Dummy-модели (accuracy=0.6936236391912908).\n",
    "* Выбранная модель адекватна и отличается от случайных / наиболее частых данных в тестовой выборке."
   ]
  }
 ],
 "metadata": {
  "ExecuteTimeLog": [
   {
    "duration": 111,
    "start_time": "2022-05-15T06:21:08.280Z"
   },
   {
    "duration": 4336,
    "start_time": "2022-05-15T06:48:01.508Z"
   },
   {
    "duration": 97,
    "start_time": "2022-05-15T06:48:05.847Z"
   },
   {
    "duration": 0,
    "start_time": "2022-05-15T06:48:05.947Z"
   },
   {
    "duration": 0,
    "start_time": "2022-05-15T06:48:05.948Z"
   },
   {
    "duration": 0,
    "start_time": "2022-05-15T06:48:05.950Z"
   },
   {
    "duration": 0,
    "start_time": "2022-05-15T06:48:05.952Z"
   },
   {
    "duration": 0,
    "start_time": "2022-05-15T06:48:05.953Z"
   },
   {
    "duration": 0,
    "start_time": "2022-05-15T06:48:05.955Z"
   },
   {
    "duration": 0,
    "start_time": "2022-05-15T06:48:05.956Z"
   },
   {
    "duration": 0,
    "start_time": "2022-05-15T06:48:05.958Z"
   },
   {
    "duration": 0,
    "start_time": "2022-05-15T06:48:05.960Z"
   },
   {
    "duration": 0,
    "start_time": "2022-05-15T06:48:05.961Z"
   },
   {
    "duration": 0,
    "start_time": "2022-05-15T06:48:05.963Z"
   },
   {
    "duration": 10,
    "start_time": "2022-05-15T06:48:15.059Z"
   },
   {
    "duration": 138,
    "start_time": "2022-05-15T06:48:15.091Z"
   },
   {
    "duration": 10,
    "start_time": "2022-05-15T06:48:15.231Z"
   },
   {
    "duration": 39,
    "start_time": "2022-05-15T06:48:15.243Z"
   },
   {
    "duration": 885,
    "start_time": "2022-05-15T06:48:15.285Z"
   },
   {
    "duration": 597,
    "start_time": "2022-05-15T06:48:16.172Z"
   },
   {
    "duration": 2300,
    "start_time": "2022-05-15T06:48:16.771Z"
   },
   {
    "duration": 779,
    "start_time": "2022-05-15T06:48:19.073Z"
   },
   {
    "duration": 27,
    "start_time": "2022-05-15T06:48:19.854Z"
   },
   {
    "duration": 511,
    "start_time": "2022-05-15T06:48:19.883Z"
   },
   {
    "duration": 347,
    "start_time": "2022-05-15T06:48:20.397Z"
   },
   {
    "duration": 7,
    "start_time": "2022-05-15T06:48:20.746Z"
   },
   {
    "duration": 74,
    "start_time": "2022-05-15T18:44:06.365Z"
   },
   {
    "duration": 2217,
    "start_time": "2022-05-15T18:44:27.394Z"
   },
   {
    "duration": 146,
    "start_time": "2022-05-15T18:44:30.147Z"
   },
   {
    "duration": 135,
    "start_time": "2022-05-15T18:45:48.605Z"
   },
   {
    "duration": 52,
    "start_time": "2022-05-15T18:58:55.786Z"
   },
   {
    "duration": 52,
    "start_time": "2022-05-15T19:00:15.851Z"
   },
   {
    "duration": 55,
    "start_time": "2022-05-15T19:00:43.389Z"
   },
   {
    "duration": 55,
    "start_time": "2022-05-15T19:01:42.644Z"
   },
   {
    "duration": 56,
    "start_time": "2022-05-15T19:02:34.164Z"
   },
   {
    "duration": 47,
    "start_time": "2022-05-15T19:03:13.238Z"
   },
   {
    "duration": 48,
    "start_time": "2022-05-15T19:03:30.696Z"
   },
   {
    "duration": 47,
    "start_time": "2022-05-15T19:03:59.644Z"
   },
   {
    "duration": 9,
    "start_time": "2022-05-15T19:08:56.820Z"
   },
   {
    "duration": 50,
    "start_time": "2022-05-15T19:21:05.482Z"
   },
   {
    "duration": 9,
    "start_time": "2022-05-15T19:23:25.798Z"
   },
   {
    "duration": 1050,
    "start_time": "2022-05-15T19:28:12.757Z"
   },
   {
    "duration": 2228,
    "start_time": "2022-05-15T19:29:45.951Z"
   },
   {
    "duration": 2239,
    "start_time": "2022-05-15T19:30:50.046Z"
   },
   {
    "duration": 2229,
    "start_time": "2022-05-15T19:31:22.937Z"
   },
   {
    "duration": 118,
    "start_time": "2022-05-15T19:35:53.354Z"
   },
   {
    "duration": 13,
    "start_time": "2022-05-15T19:36:02.055Z"
   },
   {
    "duration": 166,
    "start_time": "2022-05-15T19:36:02.072Z"
   },
   {
    "duration": 53,
    "start_time": "2022-05-15T19:36:02.241Z"
   },
   {
    "duration": 17,
    "start_time": "2022-05-15T19:36:02.298Z"
   },
   {
    "duration": 2238,
    "start_time": "2022-05-15T19:36:02.318Z"
   },
   {
    "duration": 538,
    "start_time": "2022-05-15T19:36:04.558Z"
   },
   {
    "duration": 2088,
    "start_time": "2022-05-15T19:36:05.099Z"
   },
   {
    "duration": 753,
    "start_time": "2022-05-15T19:36:07.189Z"
   },
   {
    "duration": 29,
    "start_time": "2022-05-15T19:36:07.944Z"
   },
   {
    "duration": 0,
    "start_time": "2022-05-15T19:36:07.976Z"
   },
   {
    "duration": 0,
    "start_time": "2022-05-15T19:36:07.977Z"
   },
   {
    "duration": 0,
    "start_time": "2022-05-15T19:36:07.978Z"
   },
   {
    "duration": 25,
    "start_time": "2022-05-15T19:38:10.453Z"
   },
   {
    "duration": 2649,
    "start_time": "2022-05-15T19:39:40.550Z"
   },
   {
    "duration": 3682,
    "start_time": "2022-05-15T19:39:51.475Z"
   },
   {
    "duration": 3397,
    "start_time": "2022-05-15T19:43:20.961Z"
   },
   {
    "duration": 3494,
    "start_time": "2022-05-15T19:43:30.201Z"
   },
   {
    "duration": 38,
    "start_time": "2022-05-15T19:49:01.358Z"
   },
   {
    "duration": 37,
    "start_time": "2022-05-15T19:50:37.794Z"
   },
   {
    "duration": 38,
    "start_time": "2022-05-15T19:50:56.455Z"
   },
   {
    "duration": 963,
    "start_time": "2022-05-15T19:51:37.073Z"
   },
   {
    "duration": 22,
    "start_time": "2022-05-15T19:51:46.157Z"
   },
   {
    "duration": 25,
    "start_time": "2022-05-15T19:52:18.391Z"
   },
   {
    "duration": 23,
    "start_time": "2022-05-15T19:52:51.620Z"
   },
   {
    "duration": 21,
    "start_time": "2022-05-15T19:53:14.078Z"
   },
   {
    "duration": 20,
    "start_time": "2022-05-15T19:53:21.962Z"
   },
   {
    "duration": 21,
    "start_time": "2022-05-15T19:53:39.296Z"
   },
   {
    "duration": 354,
    "start_time": "2022-05-15T19:53:57.001Z"
   },
   {
    "duration": 30,
    "start_time": "2022-05-15T19:55:10.998Z"
   },
   {
    "duration": 33,
    "start_time": "2022-05-15T19:56:51.233Z"
   },
   {
    "duration": 97,
    "start_time": "2022-05-15T19:57:13.105Z"
   },
   {
    "duration": 1334,
    "start_time": "2022-05-15T19:57:29.573Z"
   },
   {
    "duration": 34,
    "start_time": "2022-05-15T19:58:22.225Z"
   },
   {
    "duration": 344,
    "start_time": "2022-05-15T19:58:26.232Z"
   },
   {
    "duration": 44,
    "start_time": "2022-05-15T19:59:11.495Z"
   },
   {
    "duration": 44,
    "start_time": "2022-05-15T19:59:18.572Z"
   },
   {
    "duration": 43,
    "start_time": "2022-05-15T19:59:58.508Z"
   },
   {
    "duration": 24,
    "start_time": "2022-05-15T20:02:13.636Z"
   },
   {
    "duration": 1671,
    "start_time": "2022-05-15T20:02:18.636Z"
   },
   {
    "duration": 2216,
    "start_time": "2022-05-15T20:03:17.449Z"
   },
   {
    "duration": 773,
    "start_time": "2022-05-15T20:03:24.369Z"
   },
   {
    "duration": 3946,
    "start_time": "2022-05-15T20:03:28.253Z"
   },
   {
    "duration": 754,
    "start_time": "2022-05-15T20:03:37.281Z"
   },
   {
    "duration": 1575,
    "start_time": "2022-05-15T20:03:41.384Z"
   },
   {
    "duration": 40,
    "start_time": "2022-05-15T20:04:13.715Z"
   },
   {
    "duration": 312,
    "start_time": "2022-05-15T20:04:23.056Z"
   },
   {
    "duration": 36,
    "start_time": "2022-05-15T20:04:46.069Z"
   },
   {
    "duration": 44,
    "start_time": "2022-05-15T20:04:57.983Z"
   },
   {
    "duration": 531,
    "start_time": "2022-05-15T20:05:04.989Z"
   },
   {
    "duration": 727,
    "start_time": "2022-05-15T20:05:47.107Z"
   },
   {
    "duration": 35,
    "start_time": "2022-05-15T20:05:50.867Z"
   },
   {
    "duration": 485,
    "start_time": "2022-05-15T20:05:54.778Z"
   },
   {
    "duration": 3303,
    "start_time": "2022-05-15T20:06:18.791Z"
   },
   {
    "duration": 524,
    "start_time": "2022-05-15T20:06:24.027Z"
   },
   {
    "duration": 2351,
    "start_time": "2022-05-15T20:06:30.268Z"
   },
   {
    "duration": 10,
    "start_time": "2022-05-15T20:06:37.702Z"
   },
   {
    "duration": 119,
    "start_time": "2022-05-15T20:06:37.715Z"
   },
   {
    "duration": 50,
    "start_time": "2022-05-15T20:06:37.836Z"
   },
   {
    "duration": 9,
    "start_time": "2022-05-15T20:06:37.889Z"
   },
   {
    "duration": 2177,
    "start_time": "2022-05-15T20:06:37.900Z"
   },
   {
    "duration": 507,
    "start_time": "2022-05-15T20:06:40.079Z"
   },
   {
    "duration": 3324,
    "start_time": "2022-05-15T20:06:40.589Z"
   },
   {
    "duration": 713,
    "start_time": "2022-05-15T20:06:43.915Z"
   },
   {
    "duration": 44,
    "start_time": "2022-05-15T20:06:44.630Z"
   },
   {
    "duration": 502,
    "start_time": "2022-05-15T20:06:44.677Z"
   },
   {
    "duration": 277,
    "start_time": "2022-05-15T20:06:45.181Z"
   },
   {
    "duration": 7,
    "start_time": "2022-05-15T20:06:45.460Z"
   },
   {
    "duration": 33,
    "start_time": "2022-05-15T20:09:28.296Z"
   },
   {
    "duration": 97,
    "start_time": "2022-05-15T20:15:28.798Z"
   },
   {
    "duration": 270,
    "start_time": "2022-05-15T20:19:02.285Z"
   },
   {
    "duration": 53,
    "start_time": "2022-05-15T20:21:05.103Z"
   },
   {
    "duration": 11,
    "start_time": "2022-05-15T20:23:37.961Z"
   },
   {
    "duration": 473,
    "start_time": "2022-05-15T20:24:16.539Z"
   },
   {
    "duration": 515,
    "start_time": "2022-05-15T20:24:34.870Z"
   },
   {
    "duration": 475,
    "start_time": "2022-05-15T20:25:02.545Z"
   },
   {
    "duration": 563,
    "start_time": "2022-05-15T20:25:52.115Z"
   },
   {
    "duration": 475,
    "start_time": "2022-05-15T20:26:04.482Z"
   },
   {
    "duration": 394,
    "start_time": "2022-05-15T20:26:21.993Z"
   },
   {
    "duration": 474,
    "start_time": "2022-05-15T20:26:29.466Z"
   },
   {
    "duration": 770,
    "start_time": "2022-05-15T20:28:53.123Z"
   },
   {
    "duration": 10,
    "start_time": "2022-05-15T20:29:33.261Z"
   },
   {
    "duration": 126,
    "start_time": "2022-05-15T20:29:33.273Z"
   },
   {
    "duration": 70,
    "start_time": "2022-05-15T20:29:33.401Z"
   },
   {
    "duration": 10,
    "start_time": "2022-05-15T20:29:33.474Z"
   },
   {
    "duration": 2140,
    "start_time": "2022-05-15T20:29:33.486Z"
   },
   {
    "duration": 526,
    "start_time": "2022-05-15T20:29:35.628Z"
   },
   {
    "duration": 3090,
    "start_time": "2022-05-15T20:29:36.156Z"
   },
   {
    "duration": 679,
    "start_time": "2022-05-15T20:29:39.252Z"
   },
   {
    "duration": 41,
    "start_time": "2022-05-15T20:29:39.933Z"
   },
   {
    "duration": 480,
    "start_time": "2022-05-15T20:29:39.977Z"
   },
   {
    "duration": 796,
    "start_time": "2022-05-15T20:29:40.459Z"
   },
   {
    "duration": 7,
    "start_time": "2022-05-15T20:29:41.257Z"
   },
   {
    "duration": 54,
    "start_time": "2022-05-15T20:30:53.457Z"
   },
   {
    "duration": 11,
    "start_time": "2022-05-15T20:31:51.649Z"
   },
   {
    "duration": 844,
    "start_time": "2022-05-15T20:32:56.031Z"
   },
   {
    "duration": 13,
    "start_time": "2022-05-15T20:34:13.389Z"
   },
   {
    "duration": 117,
    "start_time": "2022-05-15T20:34:13.405Z"
   },
   {
    "duration": 62,
    "start_time": "2022-05-15T20:34:13.525Z"
   },
   {
    "duration": 11,
    "start_time": "2022-05-15T20:34:13.591Z"
   },
   {
    "duration": 2237,
    "start_time": "2022-05-15T20:34:13.606Z"
   },
   {
    "duration": 538,
    "start_time": "2022-05-15T20:34:15.852Z"
   },
   {
    "duration": 3258,
    "start_time": "2022-05-15T20:34:16.393Z"
   },
   {
    "duration": 839,
    "start_time": "2022-05-15T20:34:19.654Z"
   },
   {
    "duration": 33,
    "start_time": "2022-05-15T20:34:20.495Z"
   },
   {
    "duration": 514,
    "start_time": "2022-05-15T20:34:20.532Z"
   },
   {
    "duration": 868,
    "start_time": "2022-05-15T20:34:21.051Z"
   },
   {
    "duration": 8,
    "start_time": "2022-05-15T20:34:21.921Z"
   },
   {
    "duration": 841,
    "start_time": "2022-05-15T20:37:08.567Z"
   },
   {
    "duration": 1046,
    "start_time": "2022-05-15T20:37:39.249Z"
   },
   {
    "duration": 21,
    "start_time": "2022-05-15T20:49:15.083Z"
   },
   {
    "duration": 12,
    "start_time": "2022-05-15T20:49:24.757Z"
   },
   {
    "duration": 14,
    "start_time": "2022-05-15T20:50:09.634Z"
   },
   {
    "duration": 11,
    "start_time": "2022-05-15T20:50:13.131Z"
   },
   {
    "duration": 29,
    "start_time": "2022-05-15T20:51:29.285Z"
   },
   {
    "duration": 11,
    "start_time": "2022-05-15T20:52:06.472Z"
   },
   {
    "duration": 40,
    "start_time": "2022-05-15T20:52:13.322Z"
   },
   {
    "duration": 14,
    "start_time": "2022-05-15T20:52:21.791Z"
   },
   {
    "duration": 11,
    "start_time": "2022-05-15T20:55:51.063Z"
   },
   {
    "duration": 131,
    "start_time": "2022-05-15T20:55:51.077Z"
   },
   {
    "duration": 70,
    "start_time": "2022-05-15T20:55:51.211Z"
   },
   {
    "duration": 11,
    "start_time": "2022-05-15T20:55:51.286Z"
   },
   {
    "duration": 2266,
    "start_time": "2022-05-15T20:55:51.300Z"
   },
   {
    "duration": 525,
    "start_time": "2022-05-15T20:55:53.569Z"
   },
   {
    "duration": 3329,
    "start_time": "2022-05-15T20:55:54.097Z"
   },
   {
    "duration": 709,
    "start_time": "2022-05-15T20:55:57.429Z"
   },
   {
    "duration": 34,
    "start_time": "2022-05-15T20:55:58.153Z"
   },
   {
    "duration": 510,
    "start_time": "2022-05-15T20:55:58.189Z"
   },
   {
    "duration": 1089,
    "start_time": "2022-05-15T20:55:58.701Z"
   },
   {
    "duration": 15,
    "start_time": "2022-05-15T20:55:59.792Z"
   },
   {
    "duration": 11,
    "start_time": "2022-05-15T21:01:39.552Z"
   },
   {
    "duration": 111,
    "start_time": "2022-05-15T21:01:39.566Z"
   },
   {
    "duration": 73,
    "start_time": "2022-05-15T21:01:39.680Z"
   },
   {
    "duration": 11,
    "start_time": "2022-05-15T21:01:39.756Z"
   },
   {
    "duration": 2222,
    "start_time": "2022-05-15T21:01:39.769Z"
   },
   {
    "duration": 530,
    "start_time": "2022-05-15T21:01:41.993Z"
   },
   {
    "duration": 3268,
    "start_time": "2022-05-15T21:01:42.526Z"
   },
   {
    "duration": 723,
    "start_time": "2022-05-15T21:01:45.797Z"
   },
   {
    "duration": 42,
    "start_time": "2022-05-15T21:01:46.522Z"
   },
   {
    "duration": 498,
    "start_time": "2022-05-15T21:01:46.567Z"
   },
   {
    "duration": 1188,
    "start_time": "2022-05-15T21:01:47.068Z"
   },
   {
    "duration": 16,
    "start_time": "2022-05-15T21:01:48.258Z"
   }
  ],
  "kernelspec": {
   "display_name": "Python 3 (ipykernel)",
   "language": "python",
   "name": "python3"
  },
  "language_info": {
   "codemirror_mode": {
    "name": "ipython",
    "version": 3
   },
   "file_extension": ".py",
   "mimetype": "text/x-python",
   "name": "python",
   "nbconvert_exporter": "python",
   "pygments_lexer": "ipython3",
   "version": "3.9.13"
  },
  "toc": {
   "base_numbering": 1,
   "nav_menu": {},
   "number_sections": true,
   "sideBar": true,
   "skip_h1_title": true,
   "title_cell": "Table of Contents",
   "title_sidebar": "Contents",
   "toc_cell": false,
   "toc_position": {},
   "toc_section_display": true,
   "toc_window_display": false
  }
 },
 "nbformat": 4,
 "nbformat_minor": 4
}
